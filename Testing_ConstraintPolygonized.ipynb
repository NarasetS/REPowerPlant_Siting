{
 "cells": [
  {
   "cell_type": "code",
   "execution_count": 26,
   "metadata": {},
   "outputs": [],
   "source": [
    "import xarray as xr\n",
    "import geopandas as gpd\n",
    "import pandas as pd\n",
    "import numpy as np\n",
    "import shapely.geometry\n",
    "import shapely\n",
    "import rasterio\n",
    "import rioxarray\n",
    "from rasterio.features import shapes\n",
    "from shapely.geometry import shape\n",
    "import matplotlib.pyplot as plt\n",
    "from pathlib import Path"
   ]
  },
  {
   "cell_type": "code",
   "execution_count": 27,
   "metadata": {},
   "outputs": [],
   "source": [
    "mwperkm2_wind = 4.5 ## originally 9 MW/km2 but deduct by 50% of the technically available from IEA's Thailand CET\n",
    "mwperkm2_solar = 15 ## originally 30 MW/km2 but deduct by 50% of the technically available from IEA's Thailand CET\n",
    "\n",
    "lccs_resoultion = (300/1000) ** 2 ## meters\n",
    "## max capacity of spp 90 MW\n",
    "maxcapacityinpolygon = 90\n",
    "\n",
    "maxnoofgrid_solar = round((maxcapacityinpolygon/(mwperkm2_solar * (lccs_resoultion**2))),0) + 9\n",
    "maxnoofgrid_wind = round((maxcapacityinpolygon/(mwperkm2_wind * (lccs_resoultion**2))),0) + 9"
   ]
  },
  {
   "cell_type": "code",
   "execution_count": 28,
   "metadata": {},
   "outputs": [],
   "source": [
    "mask = None\n",
    "with rasterio.Env():\n",
    "    with rasterio.open('Output_SolarWind\\\\xr_AVA_Solar.nc') as src:\n",
    "        image = src.read(1) # first band\n",
    "        results = (\n",
    "        {'properties': {'raster_val': v}, 'geometry': s}\n",
    "        for i, (s, v) \n",
    "        in enumerate(\n",
    "            shapes(image, mask=mask, transform=src.transform,connectivity=8)))\n",
    "\n",
    "\n",
    "geoms = list(results)"
   ]
  },
  {
   "cell_type": "code",
   "execution_count": 29,
   "metadata": {},
   "outputs": [
    {
     "name": "stdout",
     "output_type": "stream",
     "text": [
      "23781\n"
     ]
    }
   ],
   "source": [
    "print(len(geoms))"
   ]
  },
  {
   "cell_type": "code",
   "execution_count": 30,
   "metadata": {},
   "outputs": [
    {
     "name": "stderr",
     "output_type": "stream",
     "text": [
      "C:\\Users\\basna\\AppData\\Roaming\\Python\\Python311\\site-packages\\pyproj\\crs\\crs.py:141: FutureWarning: '+init=<authority>:<code>' syntax is deprecated. '<authority>:<code>' is the preferred initialization method. When making the change, be mindful of axis order changes: https://pyproj4.github.io/pyproj/stable/gotchas.html#axis-order-changes-in-proj-6\n",
      "  in_crs_string = _prepare_from_proj_string(in_crs_string)\n",
      "C:\\Users\\basna\\AppData\\Roaming\\Python\\Python311\\site-packages\\pyproj\\crs\\crs.py:141: FutureWarning: '+init=<authority>:<code>' syntax is deprecated. '<authority>:<code>' is the preferred initialization method. When making the change, be mindful of axis order changes: https://pyproj4.github.io/pyproj/stable/gotchas.html#axis-order-changes-in-proj-6\n",
      "  in_crs_string = _prepare_from_proj_string(in_crs_string)\n"
     ]
    },
    {
     "name": "stdout",
     "output_type": "stream",
     "text": [
      "6742\n"
     ]
    }
   ],
   "source": [
    "gpd_polygonized_raster_solar  = gpd.GeoDataFrame.from_features(geoms)\n",
    "gpd_polygonized_raster_solar.crs = {'init': 'epsg:4326'}\n",
    "gpd_polygonized_raster_solar= gpd_polygonized_raster_solar.to_crs({'init': 'epsg:3857'})\n",
    "gpd_polygonized_raster_solar['area'] = gpd_polygonized_raster_solar['geometry'].area / (10**6)\n",
    "gpd_polygonized_raster_solar = gpd_polygonized_raster_solar.loc[gpd_polygonized_raster_solar['raster_val'] != 0]\n",
    "print(len(gpd_polygonized_raster_solar.loc[gpd_polygonized_raster_solar['area'] < 0.4]))"
   ]
  },
  {
   "cell_type": "code",
   "execution_count": 31,
   "metadata": {},
   "outputs": [
    {
     "name": "stdout",
     "output_type": "stream",
     "text": [
      "4.728085502987531\n",
      "1755.926127605849\n"
     ]
    }
   ],
   "source": [
    "print(gpd_polygonized_raster_solar['area'].mean())\n",
    "print(gpd_polygonized_raster_solar['area'].max())\n"
   ]
  },
  {
   "cell_type": "code",
   "execution_count": 32,
   "metadata": {},
   "outputs": [],
   "source": [
    "df_final_SI_Wind = pd.read_csv('Output_SolarWind\\\\df_final_SI_Solar.csv')"
   ]
  },
  {
   "cell_type": "code",
   "execution_count": 33,
   "metadata": {},
   "outputs": [
    {
     "name": "stdout",
     "output_type": "stream",
     "text": [
      "6.468036598139861\n",
      "1755.727782529546\n"
     ]
    }
   ],
   "source": [
    "print(df_final_SI_Wind['area'].mean())\n",
    "print(df_final_SI_Wind['area'].max())"
   ]
  }
 ],
 "metadata": {
  "kernelspec": {
   "display_name": "Python 3",
   "language": "python",
   "name": "python3"
  },
  "language_info": {
   "codemirror_mode": {
    "name": "ipython",
    "version": 3
   },
   "file_extension": ".py",
   "mimetype": "text/x-python",
   "name": "python",
   "nbconvert_exporter": "python",
   "pygments_lexer": "ipython3",
   "version": "3.11.5"
  }
 },
 "nbformat": 4,
 "nbformat_minor": 2
}
