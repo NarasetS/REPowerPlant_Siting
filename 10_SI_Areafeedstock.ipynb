{
 "cells": [
  {
   "cell_type": "code",
   "execution_count": 1,
   "metadata": {},
   "outputs": [],
   "source": [
    "import xarray as xr\n",
    "import geopandas as gpd\n",
    "import pandas as pd\n",
    "import numpy as np\n",
    "import shapely.geometry\n",
    "import shapely\n",
    "import rasterio\n",
    "import rioxarray\n",
    "from rasterio.features import shapes\n",
    "from shapely.geometry import shape\n",
    "import matplotlib.pyplot as plt\n",
    "from pathlib import Path"
   ]
  },
  {
   "cell_type": "code",
   "execution_count": 2,
   "metadata": {},
   "outputs": [],
   "source": [
    "xr_final_SI = xr.open_dataset('Output\\\\xr_SI_Landcover.nc')\n",
    "\n",
    "df_landuse_suitability_index = xr_final_SI.to_dataframe()\n",
    "df_landuse_suitability_index.reset_index(inplace=True)\n",
    "df_landuse_suitability_index = gpd.GeoDataFrame(df_landuse_suitability_index, geometry =gpd.points_from_xy(df_landuse_suitability_index['lon'],df_landuse_suitability_index['lat']))\n",
    "df_landuse_suitability_index.crs = {'init': 'epsg:4326'}\n",
    "\n",
    "## Acquire polygon containing boudary of Thailand\n",
    "world_filepath = gpd.datasets.get_path('naturalearth_lowres')\n",
    "world = gpd.read_file(world_filepath)\n",
    "th = world.loc[world['name'] == 'Thailand'] # get Thailand row\n",
    "boundaries = th['geometry'] # get Thailand geometry\n",
    "boundaries.crs = {'init': 'epsg:4326'}\n",
    "boundaries = boundaries.geometry.unary_union\n",
    "\n",
    "df_landuse_suitability_index['lccs_class'].loc[~df_landuse_suitability_index.within(boundaries)] = 0\n",
    "\n",
    "print(df_landuse_suitability_index)"
   ]
  },
  {
   "cell_type": "code",
   "execution_count": null,
   "metadata": {},
   "outputs": [
    {
     "name": "stdout",
     "output_type": "stream",
     "text": [
      "    Shape_Leng  Shape_Area                   ADM1_EN          ADM1_TH  \\\n",
      "0     2.417227    0.131339                   Bangkok    กรุงเทพมหานคร   \n",
      "1     1.695100    0.079262              Samut Prakan      สมุทรปราการ   \n",
      "2     1.251111    0.053238                Nonthaburi          นนทบุรี   \n",
      "3     1.884945    0.126983              Pathum Thani         ปทุมธานี   \n",
      "4     3.041716    0.213938  Phra Nakhon Si Ayutthaya  พระนครศรีอยุธยา   \n",
      "..         ...         ...                       ...              ...   \n",
      "72    5.192570    0.385879                     Trang             ตรัง   \n",
      "73    3.257829    0.316268               Phatthalung           พัทลุง   \n",
      "74    2.820830    0.160825                   Pattani          ปัตตานี   \n",
      "75    4.839230    0.365448                      Yala             ยะลา   \n",
      "76    3.456840    0.366648                Narathiwat         นราธิวาส   \n",
      "\n",
      "   ADM1_PCODE  ADM1_REF  ADM1ALT1EN  ADM1ALT2EN  ADM1ALT1TH  ADM1ALT2TH  \\\n",
      "0        TH10       NaN         NaN         NaN         NaN         NaN   \n",
      "1        TH11       NaN         NaN         NaN         NaN         NaN   \n",
      "2        TH12       NaN         NaN         NaN         NaN         NaN   \n",
      "3        TH13       NaN         NaN         NaN         NaN         NaN   \n",
      "4        TH14       NaN         NaN         NaN         NaN         NaN   \n",
      "..        ...       ...         ...         ...         ...         ...   \n",
      "72       TH92       NaN         NaN         NaN         NaN         NaN   \n",
      "73       TH93       NaN         NaN         NaN         NaN         NaN   \n",
      "74       TH94       NaN         NaN         NaN         NaN         NaN   \n",
      "75       TH95       NaN         NaN         NaN         NaN         NaN   \n",
      "76       TH96       NaN         NaN         NaN         NaN         NaN   \n",
      "\n",
      "     ADM0_EN    ADM0_TH ADM0_PCODE        date     validOn  validTo  \\\n",
      "0   Thailand  ประเทศไทย         TH  2019-02-18  2022-01-22      NaN   \n",
      "1   Thailand  ประเทศไทย         TH  2019-02-18  2022-01-22      NaN   \n",
      "2   Thailand  ประเทศไทย         TH  2019-02-18  2022-01-22      NaN   \n",
      "3   Thailand  ประเทศไทย         TH  2019-02-18  2022-01-22      NaN   \n",
      "4   Thailand  ประเทศไทย         TH  2019-02-18  2022-01-22      NaN   \n",
      "..       ...        ...        ...         ...         ...      ...   \n",
      "72  Thailand  ประเทศไทย         TH  2019-02-18  2022-01-22      NaN   \n",
      "73  Thailand  ประเทศไทย         TH  2019-02-18  2022-01-22      NaN   \n",
      "74  Thailand  ประเทศไทย         TH  2019-02-18  2022-01-22      NaN   \n",
      "75  Thailand  ประเทศไทย         TH  2019-02-18  2022-01-22      NaN   \n",
      "76  Thailand  ประเทศไทย         TH  2019-02-18  2022-01-22      NaN   \n",
      "\n",
      "                        center  \n",
      "0   POINT (100.62353 13.77183)  \n",
      "1   POINT (100.71024 13.59651)  \n",
      "2   POINT (100.39282 13.92416)  \n",
      "3   POINT (100.68241 14.06513)  \n",
      "4   POINT (100.52662 14.34535)  \n",
      "..                         ...  \n",
      "72    POINT (99.59447 7.54462)  \n",
      "73   POINT (100.06948 7.51586)  \n",
      "74   POINT (101.34978 6.73053)  \n",
      "75   POINT (101.22851 6.19086)  \n",
      "76   POINT (101.71888 6.17754)  \n",
      "\n",
      "[77 rows x 17 columns]\n"
     ]
    },
    {
     "name": "stderr",
     "output_type": "stream",
     "text": [
      "c:\\Users\\EGAT\\AppData\\Local\\Programs\\Python\\Python311\\Lib\\site-packages\\pyproj\\crs\\crs.py:141: FutureWarning: '+init=<authority>:<code>' syntax is deprecated. '<authority>:<code>' is the preferred initialization method. When making the change, be mindful of axis order changes: https://pyproj4.github.io/pyproj/stable/gotchas.html#axis-order-changes-in-proj-6\n",
      "  in_crs_string = _prepare_from_proj_string(in_crs_string)\n",
      "C:\\Users\\EGAT\\AppData\\Local\\Temp\\ipykernel_11296\\2495709284.py:4: UserWarning: Geometry is in a geographic CRS. Results from 'centroid' are likely incorrect. Use 'GeoSeries.to_crs()' to re-project geometries to a projected CRS before this operation.\n",
      "\n",
      "  thailandmap['center'] = thailandmap['geometry'].centroid\n",
      "c:\\Users\\EGAT\\AppData\\Local\\Programs\\Python\\Python311\\Lib\\site-packages\\pyproj\\crs\\crs.py:141: FutureWarning: '+init=<authority>:<code>' syntax is deprecated. '<authority>:<code>' is the preferred initialization method. When making the change, be mindful of axis order changes: https://pyproj4.github.io/pyproj/stable/gotchas.html#axis-order-changes-in-proj-6\n",
      "  in_crs_string = _prepare_from_proj_string(in_crs_string)\n"
     ]
    }
   ],
   "source": [
    "## First, I try to create a bouadary of THialand for acquiring data##\n",
    "thailandmap = gpd.read_file('Data\\\\tha_admbnda_adm1_rtsd_20220121\\\\tha_admbnda_adm1_rtsd_20220121.shp')\n",
    "thailandmap.crs = {'init': 'epsg:4326'}\n",
    "thailandmap['center'] = thailandmap['geometry'].centroid\n",
    "thailandmap = thailandmap.drop(columns = 'geometry')\n",
    "thailandmap = thailandmap.set_geometry('center')\n",
    "thailandmap.crs = {'init': 'epsg:4326'}\n",
    "print(thailandmap)"
   ]
  },
  {
   "cell_type": "code",
   "execution_count": null,
   "metadata": {},
   "outputs": [
    {
     "name": "stderr",
     "output_type": "stream",
     "text": [
      "c:\\Users\\EGAT\\AppData\\Local\\Programs\\Python\\Python311\\Lib\\site-packages\\geopandas\\array.py:364: UserWarning: Geometry is in a geographic CRS. Results from 'sjoin_nearest' are likely incorrect. Use 'GeoSeries.to_crs()' to re-project geometries to a projected CRS before this operation.\n",
      "\n",
      "  warnings.warn(\n"
     ]
    },
    {
     "name": "stdout",
     "output_type": "stream",
     "text": [
      "Index(['lat', 'lon', 'lccs_class', 'SI_BGEC', 'SI_Biomass', 'SI_BGWW',\n",
      "       'SI_MSW', 'SI_IEW', 'geometry', 'index_right', 'Shape_Leng',\n",
      "       'Shape_Area', 'ADM1_EN', 'ADM1_TH', 'ADM1_PCODE', 'ADM1_REF',\n",
      "       'ADM1ALT1EN', 'ADM1ALT2EN', 'ADM1ALT1TH', 'ADM1ALT2TH', 'ADM0_EN',\n",
      "       'ADM0_TH', 'ADM0_PCODE', 'date', 'validOn', 'validTo'],\n",
      "      dtype='object')\n"
     ]
    }
   ],
   "source": [
    "df_landuse_suitability_index_2 = gpd.sjoin_nearest(df_landuse_suitability_index,thailandmap,how='left')\n",
    "print(df_landuse_suitability_index_2.columns)"
   ]
  },
  {
   "cell_type": "code",
   "execution_count": null,
   "metadata": {},
   "outputs": [
    {
     "name": "stdout",
     "output_type": "stream",
     "text": [
      "10\n",
      "Index(['lat', 'lon', 'lccs_class', 'SI_BGEC', 'SI_Biomass', 'SI_BGWW',\n",
      "       'SI_MSW', 'SI_IEW', 'ADM1_EN', 'ADM1_TH'],\n",
      "      dtype='object')\n"
     ]
    }
   ],
   "source": [
    "for i in df_landuse_suitability_index_2.columns:\n",
    "    if i not in (['lat', 'lon', 'lccs_class','SI_Solar','SI_Wind', 'SI_BGEC', 'SI_Biomass', 'SI_BGWW',\n",
    "       'SI_MSW', 'SI_IEW', 'ADM1_EN', 'ADM1_TH']):\n",
    "        df_landuse_suitability_index_2 = df_landuse_suitability_index_2.drop(columns=i)\n",
    "\n",
    "print(df_landuse_suitability_index_2.columns)"
   ]
  },
  {
   "cell_type": "code",
   "execution_count": null,
   "metadata": {},
   "outputs": [
    {
     "name": "stdout",
     "output_type": "stream",
     "text": [
      "15957810\n",
      "                lat         lon  lccs_class  SI_BGEC  SI_Biomass  SI_BGWW  \\\n",
      "0          5.615278   97.345833           0        0           0        0   \n",
      "1          5.615278   97.348611           0        0           0        0   \n",
      "2          5.615278   97.351389           0        0           0        0   \n",
      "3          5.615278   97.354167           0        0           0        0   \n",
      "4          5.615278   97.356944           0        0           0        0   \n",
      "...             ...         ...         ...      ...         ...      ...   \n",
      "15957805  20.462500  105.623611           0        0           0        0   \n",
      "15957806  20.462500  105.626389           0        0           0        0   \n",
      "15957807  20.462500  105.629167           0        0           0        0   \n",
      "15957808  20.462500  105.631944           0        0           0        0   \n",
      "15957809  20.462500  105.634722           0        0           0        0   \n",
      "\n",
      "          SI_MSW  SI_IEW    ADM1_EN ADM1_TH  \n",
      "0              0       0     Phuket  ภูเก็ต  \n",
      "1              0       0     Phuket  ภูเก็ต  \n",
      "2              0       0     Phuket  ภูเก็ต  \n",
      "3              0       0     Phuket  ภูเก็ต  \n",
      "4              0       0     Phuket  ภูเก็ต  \n",
      "...          ...     ...        ...     ...  \n",
      "15957805       0       0  Bueng Kan  บึงกาฬ  \n",
      "15957806       0       0  Bueng Kan  บึงกาฬ  \n",
      "15957807       0       0  Bueng Kan  บึงกาฬ  \n",
      "15957808       0       0  Bueng Kan  บึงกาฬ  \n",
      "15957809       0       0  Bueng Kan  บึงกาฬ  \n",
      "\n",
      "[15957810 rows x 10 columns]\n"
     ]
    }
   ],
   "source": [
    "print(len(df_landuse_suitability_index_2))\n",
    "print(df_landuse_suitability_index_2)"
   ]
  },
  {
   "cell_type": "code",
   "execution_count": null,
   "metadata": {},
   "outputs": [
    {
     "name": "stdout",
     "output_type": "stream",
     "text": [
      "77\n"
     ]
    }
   ],
   "source": [
    "print(len(df_landuse_suitability_index_2['ADM1_TH'].unique()))"
   ]
  },
  {
   "cell_type": "code",
   "execution_count": null,
   "metadata": {},
   "outputs": [
    {
     "name": "stderr",
     "output_type": "stream",
     "text": [
      "C:\\Users\\EGAT\\AppData\\Local\\Temp\\ipykernel_11296\\3737605198.py:5: SettingWithCopyWarning: \n",
      "A value is trying to be set on a copy of a slice from a DataFrame\n",
      "\n",
      "See the caveats in the documentation: https://pandas.pydata.org/pandas-docs/stable/user_guide/indexing.html#returning-a-view-versus-a-copy\n",
      "  df_landuse_suitability_index_2['A_BGEC'].loc[df_landuse_suitability_index_2['lccs_class'].isin([10,11,12,20,30,40])] = 1\n",
      "C:\\Users\\EGAT\\AppData\\Local\\Temp\\ipykernel_11296\\3737605198.py:10: SettingWithCopyWarning: \n",
      "A value is trying to be set on a copy of a slice from a DataFrame\n",
      "\n",
      "See the caveats in the documentation: https://pandas.pydata.org/pandas-docs/stable/user_guide/indexing.html#returning-a-view-versus-a-copy\n",
      "  df_landuse_suitability_index_2['A_Biomass'].loc[df_landuse_suitability_index_2['lccs_class'].isin([110,130,120,121,122,200,201,202,140,150,151,152,153,10,11,12,20,30,40,180])] = 1\n",
      "C:\\Users\\EGAT\\AppData\\Local\\Temp\\ipykernel_11296\\3737605198.py:14: SettingWithCopyWarning: \n",
      "A value is trying to be set on a copy of a slice from a DataFrame\n",
      "\n",
      "See the caveats in the documentation: https://pandas.pydata.org/pandas-docs/stable/user_guide/indexing.html#returning-a-view-versus-a-copy\n",
      "  df_landuse_suitability_index_2['A_BGWW'].loc[df_landuse_suitability_index_2['lccs_class'].isin([190])] = 1\n",
      "C:\\Users\\EGAT\\AppData\\Local\\Temp\\ipykernel_11296\\3737605198.py:18: SettingWithCopyWarning: \n",
      "A value is trying to be set on a copy of a slice from a DataFrame\n",
      "\n",
      "See the caveats in the documentation: https://pandas.pydata.org/pandas-docs/stable/user_guide/indexing.html#returning-a-view-versus-a-copy\n",
      "  df_landuse_suitability_index_2['A_MSW'].loc[df_landuse_suitability_index_2['lccs_class'].isin([190])] = 1\n",
      "C:\\Users\\EGAT\\AppData\\Local\\Temp\\ipykernel_11296\\3737605198.py:22: SettingWithCopyWarning: \n",
      "A value is trying to be set on a copy of a slice from a DataFrame\n",
      "\n",
      "See the caveats in the documentation: https://pandas.pydata.org/pandas-docs/stable/user_guide/indexing.html#returning-a-view-versus-a-copy\n",
      "  df_landuse_suitability_index_2['A_IEW'].loc[df_landuse_suitability_index_2['lccs_class'].isin([190])] = 1\n"
     ]
    },
    {
     "name": "stdout",
     "output_type": "stream",
     "text": [
      "                lat         lon  lccs_class  SI_BGEC  SI_Biomass  SI_BGWW  \\\n",
      "0          5.615278   97.345833           0        0           0        0   \n",
      "1          5.615278   97.348611           0        0           0        0   \n",
      "2          5.615278   97.351389           0        0           0        0   \n",
      "3          5.615278   97.354167           0        0           0        0   \n",
      "4          5.615278   97.356944           0        0           0        0   \n",
      "...             ...         ...         ...      ...         ...      ...   \n",
      "15957805  20.462500  105.623611           0        0           0        0   \n",
      "15957806  20.462500  105.626389           0        0           0        0   \n",
      "15957807  20.462500  105.629167           0        0           0        0   \n",
      "15957808  20.462500  105.631944           0        0           0        0   \n",
      "15957809  20.462500  105.634722           0        0           0        0   \n",
      "\n",
      "          SI_MSW  SI_IEW    ADM1_EN ADM1_TH  A_BGEC  A_Biomass  A_BGWW  A_MSW  \\\n",
      "0              0       0     Phuket  ภูเก็ต     0.0        0.0     0.0    0.0   \n",
      "1              0       0     Phuket  ภูเก็ต     0.0        0.0     0.0    0.0   \n",
      "2              0       0     Phuket  ภูเก็ต     0.0        0.0     0.0    0.0   \n",
      "3              0       0     Phuket  ภูเก็ต     0.0        0.0     0.0    0.0   \n",
      "4              0       0     Phuket  ภูเก็ต     0.0        0.0     0.0    0.0   \n",
      "...          ...     ...        ...     ...     ...        ...     ...    ...   \n",
      "15957805       0       0  Bueng Kan  บึงกาฬ     0.0        0.0     0.0    0.0   \n",
      "15957806       0       0  Bueng Kan  บึงกาฬ     0.0        0.0     0.0    0.0   \n",
      "15957807       0       0  Bueng Kan  บึงกาฬ     0.0        0.0     0.0    0.0   \n",
      "15957808       0       0  Bueng Kan  บึงกาฬ     0.0        0.0     0.0    0.0   \n",
      "15957809       0       0  Bueng Kan  บึงกาฬ     0.0        0.0     0.0    0.0   \n",
      "\n",
      "          A_IEW  \n",
      "0           0.0  \n",
      "1           0.0  \n",
      "2           0.0  \n",
      "3           0.0  \n",
      "4           0.0  \n",
      "...         ...  \n",
      "15957805    0.0  \n",
      "15957806    0.0  \n",
      "15957807    0.0  \n",
      "15957808    0.0  \n",
      "15957809    0.0  \n",
      "\n",
      "[15957810 rows x 15 columns]\n",
      "     ปี พ.ศ.        จังหวัด แหล่งพลังงานหลัก  ศักยภาพพลังงานทดแทน (ktoe)\n",
      "0       2565         กระบี่           ชีวมวล                     1245.47\n",
      "1       2565         กระบี่       ก๊าซชีวภาพ                       77.42\n",
      "2       2565         กระบี่              ขยะ                       41.25\n",
      "3       2565  กรุงเทพมหานคร           ชีวมวล                       49.13\n",
      "4       2565  กรุงเทพมหานคร       ก๊าซชีวภาพ                        1.20\n",
      "..       ...            ...              ...                         ...\n",
      "226     2565      อุทัยธานี       ก๊าซชีวภาพ                       16.39\n",
      "227     2565      อุทัยธานี              ขยะ                       21.49\n",
      "228     2565    อุบลราชธานี           ชีวมวล                      295.10\n",
      "229     2565    อุบลราชธานี       ก๊าซชีวภาพ                       50.29\n",
      "230     2565    อุบลราชธานี              ขยะ                      142.80\n",
      "\n",
      "[231 rows x 4 columns]\n",
      "77\n",
      "['ภูเก็ต' 'สตูล' 'ยะลา' 'นราธิวาส' 'สงขลา' 'ปัตตานี' 'ตรัง' 'พัทลุง'\n",
      " 'กระบี่' 'นครศรีธรรมราช' 'พังงา' 'สุราษฎร์ธานี' 'ตราด' 'ระนอง' 'ชุมพร'\n",
      " 'ประจวบคีรีขันธ์' 'ระยอง' 'ศรีสะเกษ' 'จันทบุรี' 'เพชรบุรี' 'ชลบุรี'\n",
      " 'สมุทรสงคราม' 'สมุทรปราการ' 'สมุทรสาคร' 'อุบลราชธานี' 'กาญจนบุรี'\n",
      " 'ราชบุรี' 'สระแก้ว' 'สุรินทร์' 'ฉะเชิงเทรา' 'กรุงเทพมหานคร' 'ปราจีนบุรี'\n",
      " 'นครปฐม' 'นนทบุรี' 'นครนายก' 'บุรีรัมย์' 'ปทุมธานี' 'สุพรรณบุรี'\n",
      " 'พระนครศรีอยุธยา' 'อ่างทอง' 'สระบุรี' 'นครราชสีมา' 'สิงห์บุรี' 'ลพบุรี'\n",
      " 'ชัยนาท' 'อุทัยธานี' 'นครสวรรค์' 'ร้อยเอ็ด' 'อำนาจเจริญ' 'ยโสธร'\n",
      " 'มหาสารคาม' 'ชัยภูมิ' 'ตาก' 'เพชรบูรณ์' 'ขอนแก่น' 'พิจิตร' 'กำแพงเพชร'\n",
      " 'มุกดาหาร' 'กาฬสินธุ์' 'พิษณุโลก' 'หนองบัวลำภู' 'เลย' 'สุโขทัย'\n",
      " 'อุดรธานี' 'สกลนคร' 'นครพนม' 'อุตรดิตถ์' 'แม่ฮ่องสอน' 'ลำพูน' 'หนองคาย'\n",
      " 'แพร่' 'บึงกาฬ' 'ลำปาง' 'น่าน' 'เชียงใหม่' 'พะเยา' 'เชียงราย']\n",
      "['ชีวมวล' 'ก๊าซชีวภาพ' 'ขยะ']\n"
     ]
    }
   ],
   "source": [
    "lccs_resolution = 300 ## meters\n",
    "\n",
    "## Agriculture ###\n",
    "df_landuse_suitability_index_2['A_BGEC'] = 0\n",
    "df_landuse_suitability_index_2['A_BGEC'].loc[df_landuse_suitability_index_2['lccs_class'].isin([10,11,12,20,30,40])] = 1\n",
    "df_landuse_suitability_index_2['A_BGEC']= df_landuse_suitability_index_2['A_BGEC'].astype('float64')\n",
    "\n",
    "## Shrubs and Grassland ## Short vegetation and agriculture ## Natural Reserve\n",
    "df_landuse_suitability_index_2['A_Biomass'] = 0\n",
    "df_landuse_suitability_index_2['A_Biomass'].loc[df_landuse_suitability_index_2['lccs_class'].isin([110,130,120,121,122,200,201,202,140,150,151,152,153,10,11,12,20,30,40,180])] = 1\n",
    "df_landuse_suitability_index_2['A_Biomass']= df_landuse_suitability_index_2['A_BGEC'].astype('float64')\n",
    "\n",
    "df_landuse_suitability_index_2['A_BGWW'] = 0\n",
    "df_landuse_suitability_index_2['A_BGWW'].loc[df_landuse_suitability_index_2['lccs_class'].isin([190])] = 1\n",
    "df_landuse_suitability_index_2['A_BGWW']= df_landuse_suitability_index_2['A_BGEC'].astype('float64')\n",
    "\n",
    "df_landuse_suitability_index_2['A_MSW'] = 0\n",
    "df_landuse_suitability_index_2['A_MSW'].loc[df_landuse_suitability_index_2['lccs_class'].isin([190])] = 1\n",
    "df_landuse_suitability_index_2['A_MSW']= df_landuse_suitability_index_2['A_BGEC'].astype('float64')\n",
    "\n",
    "df_landuse_suitability_index_2['A_IEW'] = 0\n",
    "df_landuse_suitability_index_2['A_IEW'].loc[df_landuse_suitability_index_2['lccs_class'].isin([190])] = 1\n",
    "df_landuse_suitability_index_2['A_IEW']= df_landuse_suitability_index_2['A_BGEC'].astype('float64')\n",
    "\n",
    "print(df_landuse_suitability_index_2)\n",
    "\n",
    "feedstock = pd.read_excel('Data\\\\สรุปข้อมูลพลังงาน -  ฐานข้อมูลพลังงานประเทศไทย.xlsx',sheet_name='สรุปข้อมูลพลังงาน -  ฐานข้อมูลพ')\n",
    "feedstock = feedstock.loc[feedstock['แหล่งพลังงานหลัก'].isin(['ชีวมวล','ก๊าซชีวภาพ','ขยะ'])]\n",
    "feedstock.reset_index(inplace=True,drop=True)\n",
    "print(feedstock)\n",
    "print(len(feedstock['จังหวัด'].unique()))\n",
    "\n",
    "list_province = df_landuse_suitability_index_2['ADM1_TH'].unique()\n",
    "list_fueltype = feedstock['แหล่งพลังงานหลัก'].unique()\n",
    "print(list_province)\n",
    "print(list_fueltype)\n"
   ]
  },
  {
   "cell_type": "code",
   "execution_count": null,
   "metadata": {},
   "outputs": [
    {
     "name": "stderr",
     "output_type": "stream",
     "text": [
      "C:\\Users\\EGAT\\AppData\\Local\\Temp\\ipykernel_11296\\3107014047.py:5: SettingWithCopyWarning: \n",
      "A value is trying to be set on a copy of a slice from a DataFrame\n",
      "\n",
      "See the caveats in the documentation: https://pandas.pydata.org/pandas-docs/stable/user_guide/indexing.html#returning-a-view-versus-a-copy\n",
      "  df_landuse_suitability_index_2['A_BGEC'].loc[(df_landuse_suitability_index_2['A_BGEC'] > 0) & (df_landuse_suitability_index_2['ADM1_TH'] == i)] = feedstockpergrid\n"
     ]
    },
    {
     "name": "stdout",
     "output_type": "stream",
     "text": [
      "ภูเก็ต 4816.0 0.00012250830564784052\n",
      "สตูล 19551.0 0.0004521507851260805\n",
      "ยะลา 16429.0 9.251932558281089e-05\n",
      "นราธิวาส 23691.0 0.00019627706724072435\n",
      "สงขลา 48867.0 0.00039965620971207564\n",
      "ปัตตานี 28017.0 0.00015133668843916195\n",
      "ตรัง 38067.0 0.0006034097774975701\n",
      "พัทลุง 40072.0 0.00035011978438810143\n",
      "กระบี่ 46710.0 0.0016574609291372298\n",
      "นครศรีธรรมราช 65831.0 0.00041469824246935337\n",
      "พังงา 23298.0 0.000388016138724354\n",
      "สุราษฎร์ธานี 72244.0 0.0005914678035546204\n",
      "ตราด 10966.0 0.0005772387379171986\n",
      "ระนอง 24863.0 0.00044121787394924185\n",
      "ชุมพร 48382.0 0.0015770327807862429\n",
      "ประจวบคีรีขันธ์ 33665.0 0.0009434130402495173\n",
      "ระยอง 35658.0 0.0006096808570306803\n",
      "ศรีสะเกษ 88292.0 0.00033547773297694014\n",
      "จันทบุรี 42009.0 0.001386369587469352\n",
      "เพชรบุรี 32723.0 0.00019680347156434314\n",
      "ชลบุรี 31464.0 0.001533816425120773\n",
      "สมุทรสงคราม 13418.0 2.981070204203309e-06\n",
      "สมุทรปราการ 10247.0 2.2445593832341173e-05\n",
      "สมุทรสาคร 7199.0 2.3614390887623283e-05\n",
      "อุบลราชธานี 103736.0 0.0004847883087838359\n",
      "กาญจนบุรี 40315.0 0.00141411385340444\n",
      "ราชบุรี 51280.0 0.0008229329173166927\n",
      "สระแก้ว 59017.0 0.0008158666147042378\n",
      "สุรินทร์ 90230.0 0.00027042003768148066\n",
      "ฉะเชิงเทรา 42801.0 0.0011298801429873134\n",
      "กรุงเทพมหานคร 4470.0 0.00026845637583892615\n",
      "ปราจีนบุรี 38661.0 0.0006813067432296112\n",
      "นครปฐม 36191.0 0.00042496753336464867\n",
      "นนทบุรี 11033.0 4.3505846098069426e-05\n",
      "นครนายก 24432.0 0.00016576620825147346\n",
      "บุรีรัมย์ 111620.0 1.7380397778175954e-05\n",
      "ปทุมธานี 17095.0 0.00037905820415326123\n",
      "สุพรรณบุรี 55691.0 0.0007660124616185738\n",
      "พระนครศรีอยุธยา 22444.0 7.930850115843878e-05\n",
      "อ่างทอง 21907.0 5.066873602045009e-05\n",
      "สระบุรี 37825.0 0.0011228023793787177\n",
      "นครราชสีมา 124911.0 0.0026647773214528744\n",
      "สิงห์บุรี 28950.0 1.5544041450777204e-05\n",
      "ลพบุรี 80887.0 0.00045409027408607066\n",
      "ชัยนาท 35478.0 0.00012853035684085913\n",
      "อุทัยธานี 40626.0 0.0004034362231083543\n",
      "นครสวรรค์ 63513.0 0.00022247413915261444\n",
      "ร้อยเอ็ด 66395.0 0.00038888470517358233\n",
      "อำนาจเจริญ 60612.0 0.00028608196396753116\n",
      "ยโสธร 51110.0 0.00017393856388182353\n",
      "มหาสารคาม 95055.0 0.00018021145652516964\n",
      "ชัยภูมิ 96979.0 0.0007200527949349859\n",
      "ตาก 36555.0 0.00041690603200656546\n",
      "เพชรบูรณ์ 65296.0 0.00016448174467042392\n",
      "ขอนแก่น 88649.0 0.0006282078760053695\n",
      "พิจิตร 72077.0 1.983989344728554e-05\n",
      "กำแพงเพชร 76048.0 0.0008808910162002944\n",
      "มุกดาหาร 50132.0 0.000256921726641666\n",
      "กาฬสินธุ์ 77541.0 0.0010228137372486814\n",
      "พิษณุโลก 60682.0 5.5865001153554596e-05\n",
      "หนองบัวลำภู 74692.0 2.7713811385422802e-05\n",
      "เลย 84012.0 7.332285863924201e-05\n",
      "สุโขทัย 77791.0 3.972181871938913e-05\n",
      "อุดรธานี 70863.0 0.0005465475636086532\n",
      "สกลนคร 65908.0 0.000358530072221885\n",
      "นครพนม 51600.0 0.0001069767441860465\n",
      "อุตรดิตถ์ 31620.0 0.00020461733080328904\n",
      "แม่ฮ่องสอน 12675.0 0.0002595660749506903\n",
      "ลำพูน 42360.0 0.00010292728989612844\n",
      "หนองคาย 43192.0 8.265419522133728e-05\n",
      "แพร่ 22046.0 6.803955366052799e-05\n",
      "บึงกาฬ 51229.0 0.0004087528548283199\n",
      "ลำปาง 28722.0 0.00018209038367801686\n",
      "น่าน 37605.0 5.6641404068607894e-05\n",
      "เชียงใหม่ 39700.0 0.00039319899244332493\n",
      "พะเยา 45381.0 3.0188845552103306e-05\n",
      "เชียงราย 77645.0 3.9925301049649044e-05\n",
      "total bgec =  1873.8299999999986\n"
     ]
    }
   ],
   "source": [
    "## BGEC ###\n",
    "for i in list_province:\n",
    "    totalareaprovince = df_landuse_suitability_index_2['A_BGEC'].loc[(df_landuse_suitability_index_2['A_BGEC'] > 0) &(df_landuse_suitability_index_2['ADM1_TH'] == i)].sum()\n",
    "    feedstockpergrid = (feedstock['ศักยภาพพลังงานทดแทน (ktoe)'].loc[(feedstock['จังหวัด'] == i) & (feedstock['แหล่งพลังงานหลัก'] == 'ก๊าซชีวภาพ')].values[0]) / totalareaprovince\n",
    "    df_landuse_suitability_index_2['A_BGEC'].loc[(df_landuse_suitability_index_2['A_BGEC'] > 0) & (df_landuse_suitability_index_2['ADM1_TH'] == i)] = feedstockpergrid\n",
    "    print(i, totalareaprovince, feedstockpergrid)\n",
    "\n",
    "print(\"total bgec = \", df_landuse_suitability_index_2['A_BGEC'].sum())"
   ]
  },
  {
   "cell_type": "code",
   "execution_count": null,
   "metadata": {},
   "outputs": [
    {
     "name": "stderr",
     "output_type": "stream",
     "text": [
      "C:\\Users\\EGAT\\AppData\\Local\\Temp\\ipykernel_11296\\1998804626.py:5: SettingWithCopyWarning: \n",
      "A value is trying to be set on a copy of a slice from a DataFrame\n",
      "\n",
      "See the caveats in the documentation: https://pandas.pydata.org/pandas-docs/stable/user_guide/indexing.html#returning-a-view-versus-a-copy\n",
      "  df_landuse_suitability_index_2['A_Biomass'].loc[(df_landuse_suitability_index_2['A_Biomass'] > 0) & (df_landuse_suitability_index_2['ADM1_TH'] == i)] = feedstockpergrid\n"
     ]
    },
    {
     "name": "stdout",
     "output_type": "stream",
     "text": [
      "ภูเก็ต 4816.0 0.0015490033222591362\n",
      "สตูล 19551.0 0.007383765536289705\n",
      "ยะลา 16429.0 0.005575506725911498\n",
      "นราธิวาส 23691.0 0.0057730783841965306\n",
      "สงขลา 48867.0 0.005437616387337058\n",
      "ปัตตานี 28017.0 0.002990327301281365\n",
      "ตรัง 38067.0 0.009559198255707042\n",
      "พัทลุง 40072.0 0.004758684368137353\n",
      "กระบี่ 46710.0 0.026663883536715907\n",
      "นครศรีธรรมราช 65831.0 0.01341313363005271\n",
      "พังงา 23298.0 0.012634990127907975\n",
      "สุราษฎร์ธานี 72244.0 0.022167930900836054\n",
      "ตราด 10966.0 0.007981032281597664\n",
      "ระนอง 24863.0 0.00703414712625186\n",
      "ชุมพร 48382.0 0.0227258071183498\n",
      "ประจวบคีรีขันธ์ 33665.0 0.013819396999851479\n",
      "ระยอง 35658.0 0.003030736440630433\n",
      "ศรีสะเกษ 88292.0 0.010298668055996012\n",
      "จันทบุรี 42009.0 0.0014273131947915923\n",
      "เพชรบุรี 32723.0 0.005853375301775509\n",
      "ชลบุรี 31464.0 0.01060863208746504\n",
      "สมุทรสงคราม 13418.0 0.001679087792517514\n",
      "สมุทรปราการ 10247.0 0.0011583878208256074\n",
      "สมุทรสาคร 7199.0 0.00041533546325878595\n",
      "อุบลราชธานี 103736.0 0.0028447212153929207\n",
      "กาญจนบุรี 40315.0 0.02371350613915416\n",
      "ราชบุรี 51280.0 0.005676872074882996\n",
      "สระแก้ว 59017.0 0.010606943761966891\n",
      "สุรินทร์ 90230.0 0.006578521556023496\n",
      "ฉะเชิงเทรา 42801.0 0.009391602999929909\n",
      "กรุงเทพมหานคร 4470.0 0.010991051454138702\n",
      "ปราจีนบุรี 38661.0 0.005155583145805851\n",
      "นครปฐม 36191.0 0.006774888784504435\n",
      "นนทบุรี 11033.0 0.00493610078854346\n",
      "นครนายก 24432.0 0.0059098722986247534\n",
      "บุรีรัมย์ 111620.0 0.0065533058591650244\n",
      "ปทุมธานี 17095.0 0.010588476162620649\n",
      "สุพรรณบุรี 55691.0 0.019625074069418758\n",
      "พระนครศรีอยุธยา 22444.0 0.018676260916057744\n",
      "อ่างทอง 21907.0 0.00612543935728306\n",
      "สระบุรี 37825.0 0.0071066754791804364\n",
      "นครราชสีมา 124911.0 0.013886447150371064\n",
      "สิงห์บุรี 28950.0 0.004924352331606218\n",
      "ลพบุรี 80887.0 0.010544339634304647\n",
      "ชัยนาท 35478.0 0.011724167089463894\n",
      "อุทัยธานี 40626.0 0.012933343179244817\n",
      "นครสวรรค์ 63513.0 0.023309086328783084\n",
      "ร้อยเอ็ด 66395.0 0.010356803976203028\n",
      "อำนาจเจริญ 60612.0 0.005929188939483931\n",
      "ยโสธร 51110.0 0.006524750538055175\n",
      "มหาสารคาม 95055.0 0.0057349955289043185\n",
      "ชัยภูมิ 96979.0 0.009581455779086194\n",
      "ตาก 36555.0 0.008179182054438518\n",
      "เพชรบูรณ์ 65296.0 0.016308655966674836\n",
      "ขอนแก่น 88649.0 0.010926575595889406\n",
      "พิจิตร 72077.0 0.009547844666120953\n",
      "กำแพงเพชร 76048.0 0.01675191984010099\n",
      "มุกดาหาร 50132.0 0.006175696162131972\n",
      "กาฬสินธุ์ 77541.0 0.010291587676197108\n",
      "พิษณุโลก 60682.0 0.013347780231370093\n",
      "หนองบัวลำภู 74692.0 0.006145638087077598\n",
      "เลย 84012.0 0.007427748416892825\n",
      "สุโขทัย 77791.0 0.007965188775051098\n",
      "อุดรธานี 70863.0 0.016160478670109932\n",
      "สกลนคร 65908.0 0.002537628209018632\n",
      "นครพนม 51600.0 0.010151744186046512\n",
      "อุตรดิตถ์ 31620.0 0.012201771030993042\n",
      "แม่ฮ่องสอน 12675.0 0.007326232741617357\n",
      "ลำพูน 42360.0 0.001427289896128423\n",
      "หนองคาย 43192.0 0.005504954621226153\n",
      "แพร่ 22046.0 0.008343917263902748\n",
      "บึงกาฬ 51229.0 0.013965722539967597\n",
      "ลำปาง 28722.0 0.0076610263909198525\n",
      "น่าน 37605.0 0.00757080175508576\n",
      "เชียงใหม่ 39700.0 0.0069901763224181354\n",
      "พะเยา 45381.0 0.004794737885899385\n",
      "เชียงราย 77645.0 0.007285208319917573\n",
      "total Biomass =  36459.31000000002\n"
     ]
    }
   ],
   "source": [
    "## Biomass ###\n",
    "for i in list_province:\n",
    "    totalareaprovince = df_landuse_suitability_index_2['A_Biomass'].loc[(df_landuse_suitability_index_2['A_Biomass'] > 0) &(df_landuse_suitability_index_2['ADM1_TH'] == i)].sum()\n",
    "    feedstockpergrid = (feedstock['ศักยภาพพลังงานทดแทน (ktoe)'].loc[(feedstock['จังหวัด'] == i) & (feedstock['แหล่งพลังงานหลัก'] == 'ชีวมวล')].values[0]) / totalareaprovince\n",
    "    df_landuse_suitability_index_2['A_Biomass'].loc[(df_landuse_suitability_index_2['A_Biomass'] > 0) & (df_landuse_suitability_index_2['ADM1_TH'] == i)] = feedstockpergrid\n",
    "    print(i,(feedstock['ศักยภาพพลังงานทดแทน (ktoe)'].loc[(feedstock['จังหวัด'] == i) & (feedstock['แหล่งพลังงานหลัก'] == 'ชีวมวล')].values[0]), totalareaprovince, feedstockpergrid)\n",
    "\n",
    "print(\"total Biomass = \", df_landuse_suitability_index_2['A_Biomass'].sum())"
   ]
  },
  {
   "cell_type": "code",
   "execution_count": null,
   "metadata": {},
   "outputs": [
    {
     "name": "stderr",
     "output_type": "stream",
     "text": [
      "C:\\Users\\EGAT\\AppData\\Local\\Temp\\ipykernel_11296\\3945860369.py:5: SettingWithCopyWarning: \n",
      "A value is trying to be set on a copy of a slice from a DataFrame\n",
      "\n",
      "See the caveats in the documentation: https://pandas.pydata.org/pandas-docs/stable/user_guide/indexing.html#returning-a-view-versus-a-copy\n",
      "  df_landuse_suitability_index_2['A_BGWW'].loc[(df_landuse_suitability_index_2['A_BGWW'] > 0) & (df_landuse_suitability_index_2['ADM1_TH'] == i)] = feedstockpergrid\n"
     ]
    },
    {
     "name": "stdout",
     "output_type": "stream",
     "text": [
      "total A_BGWW =  6477.519999999995\n"
     ]
    },
    {
     "name": "stderr",
     "output_type": "stream",
     "text": [
      "C:\\Users\\EGAT\\AppData\\Local\\Temp\\ipykernel_11296\\3945860369.py:14: SettingWithCopyWarning: \n",
      "A value is trying to be set on a copy of a slice from a DataFrame\n",
      "\n",
      "See the caveats in the documentation: https://pandas.pydata.org/pandas-docs/stable/user_guide/indexing.html#returning-a-view-versus-a-copy\n",
      "  df_landuse_suitability_index_2['A_MSW'].loc[(df_landuse_suitability_index_2['A_MSW'] > 0) & (df_landuse_suitability_index_2['ADM1_TH'] == i)] = feedstockpergrid\n"
     ]
    },
    {
     "name": "stdout",
     "output_type": "stream",
     "text": [
      "total A_MSW =  6477.519999999995\n"
     ]
    },
    {
     "name": "stderr",
     "output_type": "stream",
     "text": [
      "C:\\Users\\EGAT\\AppData\\Local\\Temp\\ipykernel_11296\\3945860369.py:23: SettingWithCopyWarning: \n",
      "A value is trying to be set on a copy of a slice from a DataFrame\n",
      "\n",
      "See the caveats in the documentation: https://pandas.pydata.org/pandas-docs/stable/user_guide/indexing.html#returning-a-view-versus-a-copy\n",
      "  df_landuse_suitability_index_2['A_IEW'].loc[(df_landuse_suitability_index_2['A_IEW'] > 0) & (df_landuse_suitability_index_2['ADM1_TH'] == i)] = feedstockpergrid\n"
     ]
    },
    {
     "name": "stdout",
     "output_type": "stream",
     "text": [
      "total A_IEW =  6477.519999999995\n"
     ]
    }
   ],
   "source": [
    "## A_BGWW ###\n",
    "for i in list_province:\n",
    "    totalareaprovince = df_landuse_suitability_index_2['A_BGWW'].loc[(df_landuse_suitability_index_2['A_BGWW'] > 0) &(df_landuse_suitability_index_2['ADM1_TH'] == i)].sum()\n",
    "    feedstockpergrid = (feedstock['ศักยภาพพลังงานทดแทน (ktoe)'].loc[(feedstock['จังหวัด'] == i) & (feedstock['แหล่งพลังงานหลัก'] == 'ขยะ')].values[0]) / totalareaprovince\n",
    "    df_landuse_suitability_index_2['A_BGWW'].loc[(df_landuse_suitability_index_2['A_BGWW'] > 0) & (df_landuse_suitability_index_2['ADM1_TH'] == i)] = feedstockpergrid\n",
    "    # print(i, totalareaprovince, feedstockpergrid)\n",
    "\n",
    "print(\"total A_BGWW = \", df_landuse_suitability_index_2['A_BGWW'].sum())\n",
    "\n",
    "## A_MSW ###\n",
    "for i in list_province:\n",
    "    totalareaprovince = df_landuse_suitability_index_2['A_MSW'].loc[(df_landuse_suitability_index_2['A_MSW'] > 0) &(df_landuse_suitability_index_2['ADM1_TH'] == i)].sum()\n",
    "    feedstockpergrid = (feedstock['ศักยภาพพลังงานทดแทน (ktoe)'].loc[(feedstock['จังหวัด'] == i) & (feedstock['แหล่งพลังงานหลัก'] == 'ขยะ')].values[0]) / totalareaprovince\n",
    "    df_landuse_suitability_index_2['A_MSW'].loc[(df_landuse_suitability_index_2['A_MSW'] > 0) & (df_landuse_suitability_index_2['ADM1_TH'] == i)] = feedstockpergrid\n",
    "    # print(i, totalareaprovince, feedstockpergrid)\n",
    "\n",
    "print(\"total A_MSW = \", df_landuse_suitability_index_2['A_MSW'].sum())\n",
    "\n",
    "## A_IEW ###\n",
    "for i in list_province:\n",
    "    totalareaprovince = df_landuse_suitability_index_2['A_IEW'].loc[(df_landuse_suitability_index_2['A_IEW'] > 0) &(df_landuse_suitability_index_2['ADM1_TH'] == i)].sum()\n",
    "    feedstockpergrid = (feedstock['ศักยภาพพลังงานทดแทน (ktoe)'].loc[(feedstock['จังหวัด'] == i) & (feedstock['แหล่งพลังงานหลัก'] == 'ขยะ')].values[0]) / totalareaprovince\n",
    "    df_landuse_suitability_index_2['A_IEW'].loc[(df_landuse_suitability_index_2['A_IEW'] > 0) & (df_landuse_suitability_index_2['ADM1_TH'] == i)] = feedstockpergrid\n",
    "    # print(i, totalareaprovince, feedstockpergrid)\n",
    "\n",
    "print(\"total A_IEW = \", df_landuse_suitability_index_2['A_IEW'].sum())"
   ]
  },
  {
   "cell_type": "code",
   "execution_count": null,
   "metadata": {},
   "outputs": [
    {
     "name": "stdout",
     "output_type": "stream",
     "text": [
      "                lat         lon  lccs_class  SI_BGEC  SI_Biomass  SI_BGWW  \\\n",
      "0          5.615278   97.345833           0        0           0        0   \n",
      "1          5.615278   97.348611           0        0           0        0   \n",
      "2          5.615278   97.351389           0        0           0        0   \n",
      "3          5.615278   97.354167           0        0           0        0   \n",
      "4          5.615278   97.356944           0        0           0        0   \n",
      "...             ...         ...         ...      ...         ...      ...   \n",
      "15957805  20.462500  105.623611           0        0           0        0   \n",
      "15957806  20.462500  105.626389           0        0           0        0   \n",
      "15957807  20.462500  105.629167           0        0           0        0   \n",
      "15957808  20.462500  105.631944           0        0           0        0   \n",
      "15957809  20.462500  105.634722           0        0           0        0   \n",
      "\n",
      "          SI_MSW  SI_IEW    ADM1_EN ADM1_TH  A_BGEC  A_Biomass  A_BGWW  A_MSW  \\\n",
      "0              0       0     Phuket  ภูเก็ต     0.0        0.0     0.0    0.0   \n",
      "1              0       0     Phuket  ภูเก็ต     0.0        0.0     0.0    0.0   \n",
      "2              0       0     Phuket  ภูเก็ต     0.0        0.0     0.0    0.0   \n",
      "3              0       0     Phuket  ภูเก็ต     0.0        0.0     0.0    0.0   \n",
      "4              0       0     Phuket  ภูเก็ต     0.0        0.0     0.0    0.0   \n",
      "...          ...     ...        ...     ...     ...        ...     ...    ...   \n",
      "15957805       0       0  Bueng Kan  บึงกาฬ     0.0        0.0     0.0    0.0   \n",
      "15957806       0       0  Bueng Kan  บึงกาฬ     0.0        0.0     0.0    0.0   \n",
      "15957807       0       0  Bueng Kan  บึงกาฬ     0.0        0.0     0.0    0.0   \n",
      "15957808       0       0  Bueng Kan  บึงกาฬ     0.0        0.0     0.0    0.0   \n",
      "15957809       0       0  Bueng Kan  บึงกาฬ     0.0        0.0     0.0    0.0   \n",
      "\n",
      "          A_IEW  \n",
      "0           0.0  \n",
      "1           0.0  \n",
      "2           0.0  \n",
      "3           0.0  \n",
      "4           0.0  \n",
      "...         ...  \n",
      "15957805    0.0  \n",
      "15957806    0.0  \n",
      "15957807    0.0  \n",
      "15957808    0.0  \n",
      "15957809    0.0  \n",
      "\n",
      "[15957810 rows x 15 columns]\n"
     ]
    }
   ],
   "source": [
    "print(df_landuse_suitability_index_2)"
   ]
  },
  {
   "cell_type": "code",
   "execution_count": null,
   "metadata": {},
   "outputs": [
    {
     "name": "stdout",
     "output_type": "stream",
     "text": [
      "<xarray.Dataset>\n",
      "Dimensions:     (lat: 5346, lon: 2985)\n",
      "Coordinates:\n",
      "  * lat         (lat) float64 5.615 5.618 5.621 5.624 ... 20.46 20.46 20.46\n",
      "  * lon         (lon) float64 97.35 97.35 97.35 97.35 ... 105.6 105.6 105.6\n",
      "Data variables: (12/13)\n",
      "    lccs_class  (lat, lon) uint8 0 0 0 0 0 0 0 0 0 0 0 ... 0 0 0 0 0 0 0 0 0 0 0\n",
      "    SI_BGEC     (lat, lon) int64 0 0 0 0 0 0 0 0 0 0 0 ... 0 0 0 0 0 0 0 0 0 0 0\n",
      "    SI_Biomass  (lat, lon) int64 0 0 0 0 0 0 0 0 0 0 0 ... 0 0 0 0 0 0 0 0 0 0 0\n",
      "    SI_BGWW     (lat, lon) int64 0 0 0 0 0 0 0 0 0 0 0 ... 0 0 0 0 0 0 0 0 0 0 0\n",
      "    SI_MSW      (lat, lon) int64 0 0 0 0 0 0 0 0 0 0 0 ... 0 0 0 0 0 0 0 0 0 0 0\n",
      "    SI_IEW      (lat, lon) int64 0 0 0 0 0 0 0 0 0 0 0 ... 0 0 0 0 0 0 0 0 0 0 0\n",
      "    ...          ...\n",
      "    ADM1_TH     (lat, lon) object 'ภูเก็ต' 'ภูเก็ต' ... 'บึงกาฬ' 'บึงกาฬ'\n",
      "    A_BGEC      (lat, lon) float64 0.0 0.0 0.0 0.0 0.0 ... 0.0 0.0 0.0 0.0 0.0\n",
      "    A_Biomass   (lat, lon) float64 0.0 0.0 0.0 0.0 0.0 ... 0.0 0.0 0.0 0.0 0.0\n",
      "    A_BGWW      (lat, lon) float64 0.0 0.0 0.0 0.0 0.0 ... 0.0 0.0 0.0 0.0 0.0\n",
      "    A_MSW       (lat, lon) float64 0.0 0.0 0.0 0.0 0.0 ... 0.0 0.0 0.0 0.0 0.0\n",
      "    A_IEW       (lat, lon) float64 0.0 0.0 0.0 0.0 0.0 ... 0.0 0.0 0.0 0.0 0.0\n"
     ]
    }
   ],
   "source": [
    "df_landuse_suitability_index_2 = df_landuse_suitability_index_2.set_index(['lat', 'lon'])\n",
    "xr_areafeedstock = xr.Dataset.from_dataframe(df_landuse_suitability_index_2)\n",
    "print(xr_areafeedstock)"
   ]
  }
 ],
 "metadata": {
  "kernelspec": {
   "display_name": "Python 3",
   "language": "python",
   "name": "python3"
  },
  "language_info": {
   "codemirror_mode": {
    "name": "ipython",
    "version": 3
   },
   "file_extension": ".py",
   "mimetype": "text/x-python",
   "name": "python",
   "nbconvert_exporter": "python",
   "pygments_lexer": "ipython3",
   "version": "3.11.5"
  }
 },
 "nbformat": 4,
 "nbformat_minor": 2
}
