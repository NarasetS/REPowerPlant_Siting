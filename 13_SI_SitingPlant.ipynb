{
 "cells": [
  {
   "cell_type": "code",
   "execution_count": 3,
   "metadata": {},
   "outputs": [],
   "source": [
    "import linopy\n",
    "import pandas as pd\n",
    "import xarray as xr\n",
    "import geopandas as gpd\n",
    "import matplotlib.pyplot as plt\n",
    "from pathlib import Path\n",
    "from shapely import wkt"
   ]
  },
  {
   "cell_type": "code",
   "execution_count": 4,
   "metadata": {},
   "outputs": [
    {
     "name": "stdout",
     "output_type": "stream",
     "text": [
      "       pol_id                                           geometry    area  \\\n",
      "0           0  POLYGON ((100.10833333333338 20.41666666666667...  4.9990   \n",
      "1           1  POLYGON ((100.07500000000003 20.40277777777778...  2.3463   \n",
      "2           2  POLYGON ((99.9916666666667 20.369444444444447,...  5.0993   \n",
      "3           3  POLYGON ((100.10833333333338 20.37500000000000...  2.5497   \n",
      "4           4  POLYGON ((99.95833333333337 20.355555555555558...  2.9574   \n",
      "...       ...                                                ...     ...   \n",
      "15385   15385  POLYGON ((101.83611111111115 5.930555555555556...  0.0961   \n",
      "15386   15386  POLYGON ((101.89722222222224 5.919444444444445...  0.0961   \n",
      "15387   15387  POLYGON ((101.8388888888889 5.92777777777778, ...  2.1149   \n",
      "15388   15388  POLYGON ((101.89166666666668 5.916666666666669...  0.5768   \n",
      "15389   15389  POLYGON ((101.87500000000003 5.908333333333333...  1.5380   \n",
      "\n",
      "       from_pol_id_wind list_pol_id_wind   SI_Wind  area_wind  \\\n",
      "0                     0              NaN  0.000000     0.0000   \n",
      "1                     0              NaN  0.000000     0.0000   \n",
      "2                     1                1  1.872087     5.0993   \n",
      "3                     0              NaN  0.000000     0.0000   \n",
      "4                     0              NaN  0.000000     0.0000   \n",
      "...                 ...              ...       ...        ...   \n",
      "15385                 0              NaN  0.000000     0.0000   \n",
      "15386                 0              NaN  0.000000     0.0000   \n",
      "15387                 0              NaN  0.000000     0.0000   \n",
      "15388                 0              NaN  0.000000     0.0000   \n",
      "15389                 0              NaN  0.000000     0.0000   \n",
      "\n",
      "                                              coord_wind  from_pol_id_solar  \\\n",
      "0                                                    NaN                  1   \n",
      "1                                                    NaN                  1   \n",
      "2      POLYGON ((99.9916666666667 20.369444444444447,...                  0   \n",
      "3                                                    NaN                  1   \n",
      "4                                                    NaN                  1   \n",
      "...                                                  ...                ...   \n",
      "15385                                                NaN                  0   \n",
      "15386                                                NaN                  0   \n",
      "15387                                                NaN                  0   \n",
      "15388                                                NaN                  0   \n",
      "15389                                                NaN                  1   \n",
      "\n",
      "      list_pol_id_solar  ...  area_SPP_wind  area_VSPP_wind area_SPP_solar  \\\n",
      "0                     0  ...         0.0000             0.0         0.0000   \n",
      "1                     1  ...         0.0000             0.0         0.0000   \n",
      "2                   NaN  ...         5.0993             0.0         0.0000   \n",
      "3                     2  ...         0.0000             0.0         2.5497   \n",
      "4                     3  ...         0.0000             0.0         2.9574   \n",
      "...                 ...  ...            ...             ...            ...   \n",
      "15385               NaN  ...         0.0000             0.0         0.0000   \n",
      "15386               NaN  ...         0.0000             0.0         0.0000   \n",
      "15387               NaN  ...         0.0000             0.0         0.0000   \n",
      "15388               NaN  ...         0.0000             0.0         0.0000   \n",
      "15389             11369  ...         0.0000             0.0         1.5380   \n",
      "\n",
      "      area_VSPP_solar capacity_wind capacity_vspp_wind  capacity_spp_wind  \\\n",
      "0              3.8767       0.00000                0.0            0.00000   \n",
      "1              2.2443       0.00000                0.0            0.00000   \n",
      "2              0.0000      22.94685                0.0           22.94685   \n",
      "3              0.0000       0.00000                0.0            0.00000   \n",
      "4              0.0000       0.00000                0.0            0.00000   \n",
      "...               ...           ...                ...                ...   \n",
      "15385          0.0000       0.00000                0.0            0.00000   \n",
      "15386          0.0000       0.00000                0.0            0.00000   \n",
      "15387          0.0000       0.00000                0.0            0.00000   \n",
      "15388          0.0000       0.00000                0.0            0.00000   \n",
      "15389          0.0000       0.00000                0.0            0.00000   \n",
      "\n",
      "       capacity_solar  capacity_vspp_solar  capacity_spp_solar  \n",
      "0             58.1505              58.1505              0.0000  \n",
      "1             33.6645              33.6645              0.0000  \n",
      "2              0.0000               0.0000              0.0000  \n",
      "3             38.2455               0.0000             38.2455  \n",
      "4             44.3610               0.0000             44.3610  \n",
      "...               ...                  ...                 ...  \n",
      "15385          0.0000               0.0000              0.0000  \n",
      "15386          0.0000               0.0000              0.0000  \n",
      "15387          0.0000               0.0000              0.0000  \n",
      "15388          0.0000               0.0000              0.0000  \n",
      "15389         23.0700               0.0000             23.0700  \n",
      "\n",
      "[15390 rows x 30 columns]\n"
     ]
    }
   ],
   "source": [
    "df_sol = pd.read_csv('Output_SolarWind\\\\InvestmentMap_SolarWind.csv')\n",
    "print(df_sol)"
   ]
  }
 ],
 "metadata": {
  "kernelspec": {
   "display_name": "Python 3",
   "language": "python",
   "name": "python3"
  },
  "language_info": {
   "codemirror_mode": {
    "name": "ipython",
    "version": 3
   },
   "file_extension": ".py",
   "mimetype": "text/x-python",
   "name": "python",
   "nbconvert_exporter": "python",
   "pygments_lexer": "ipython3",
   "version": "3.11.5"
  }
 },
 "nbformat": 4,
 "nbformat_minor": 2
}
