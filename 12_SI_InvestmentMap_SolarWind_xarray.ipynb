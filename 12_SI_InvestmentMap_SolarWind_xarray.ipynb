{
 "cells": [
  {
   "cell_type": "code",
   "execution_count": 2,
   "metadata": {},
   "outputs": [],
   "source": [
    "import linopy\n",
    "import pandas as pd\n",
    "import xarray as xr\n",
    "import geopandas as gpd\n",
    "import matplotlib.pyplot as plt\n",
    "from pathlib import Path\n",
    "from shapely import wkt\n",
    "import numpy as np"
   ]
  },
  {
   "cell_type": "code",
   "execution_count": 3,
   "metadata": {},
   "outputs": [
    {
     "name": "stdout",
     "output_type": "stream",
     "text": [
      "<xarray.Dataset>\n",
      "Dimensions:    (lat: 5346, lon: 2985)\n",
      "Coordinates:\n",
      "  * lat        (lat) float64 5.615 5.618 5.621 5.624 ... 20.45 20.46 20.46 20.46\n",
      "  * lon        (lon) float64 97.35 97.35 97.35 97.35 ... 105.6 105.6 105.6 105.6\n",
      "Data variables:\n",
      "    SI_Solar   (lat, lon) float32 ...\n",
      "    SI_Wind    (lat, lon) float32 ...\n",
      "    AVA_Wind   (lat, lon) float32 ...\n",
      "    AVA_Solar  (lat, lon) float32 ...\n",
      "    ADM1_EN    (lat, lon) object ...\n"
     ]
    }
   ],
   "source": [
    "xr_ref = xr.open_dataset('Output\\\\xr_final_SI_preped.nc')\n",
    "print(xr_ref)"
   ]
  },
  {
   "cell_type": "code",
   "execution_count": 7,
   "metadata": {},
   "outputs": [
    {
     "name": "stdout",
     "output_type": "stream",
     "text": [
      "areapergrid =  2.25\n",
      "mwpergrid_wind =  10.12\n",
      "mwpergrid_solar =  33.75\n",
      "rollingwindow_spp_wind =  3  *  3  =  91.08\n",
      "rollingwindow_vspp_wind =  1  *  1  =  10.12\n",
      "rollingwindow_spp_solar =  3  *  3  =  303.75\n",
      "rollingwindow_vspp_solar =  1  *  1  =  33.75\n"
     ]
    }
   ],
   "source": [
    "coarsenscale = 5\n",
    "lccs_resolution = 300 * coarsenscale #m\n",
    "areapergrid = (lccs_resolution/1000) ** 2 ## km2\n",
    "\n",
    "mwperkm2_wind = 4.5 ## originally 9 MW/km2 but deduct by 50% of the technically available from IEA's Thailand CET\n",
    "mwperkm2_solar = 15 ## originally 30 MW/km2 but deduct by 50% of the technically available from IEA's Thailand CET\n",
    "\n",
    "mwpergrid_wind = np.round(areapergrid * mwperkm2_wind,2)\n",
    "mwpergrid_solar =  np.round(areapergrid * mwperkm2_solar,2)\n",
    "\n",
    "print('areapergrid = ',areapergrid)\n",
    "print('mwpergrid_wind = ',mwpergrid_wind)\n",
    "print('mwpergrid_solar = ',mwpergrid_solar)\n",
    "\n",
    "maxcapacityfor_spp = 90\n",
    "maxcapacityfor_vspp = 10\n",
    "\n",
    "rollingwindow_spp_wind = int(np.ceil(np.sqrt(maxcapacityfor_spp/mwpergrid_wind)))\n",
    "if ( rollingwindow_spp_wind % 2 == 0 ) : rollingwindow_spp_wind += 1\n",
    "rollingwindow_vspp_wind = int(np.ceil(np.sqrt(maxcapacityfor_vspp/mwpergrid_wind)))\n",
    "if ( rollingwindow_vspp_wind % 2 == 0 ) : rollingwindow_vspp_wind += 1\n",
    "\n",
    "print('rollingwindow_spp_wind = ',rollingwindow_spp_wind,' * ',rollingwindow_spp_wind,' = ', mwpergrid_wind * (rollingwindow_spp_wind**2))\n",
    "print('rollingwindow_vspp_wind = ',rollingwindow_vspp_wind,' * ',rollingwindow_vspp_wind,' = ', mwpergrid_wind * (rollingwindow_vspp_wind**2))\n",
    "\n",
    "rollingwindow_spp_solar = int(np.ceil(np.sqrt(maxcapacityfor_spp/mwpergrid_solar)))\n",
    "if ( rollingwindow_spp_solar % 2 == 0 ) : rollingwindow_spp_solar += 1\n",
    "rollingwindow_vspp_solar = int(np.ceil(np.sqrt(maxcapacityfor_vspp/mwpergrid_solar)))\n",
    "if ( rollingwindow_vspp_solar % 2 == 0 ) : rollingwindow_vspp_solar += 1\n",
    "\n",
    "print('rollingwindow_spp_solar = ',rollingwindow_spp_solar,' * ',rollingwindow_spp_solar,' = ', mwpergrid_solar * (rollingwindow_spp_solar**2))\n",
    "print('rollingwindow_vspp_solar = ',rollingwindow_vspp_solar,' * ',rollingwindow_vspp_solar,' = ', mwpergrid_solar * (rollingwindow_vspp_solar**2))\n"
   ]
  },
  {
   "cell_type": "code",
   "execution_count": null,
   "metadata": {},
   "outputs": [],
   "source": [
    "######################## model #####################################################\n",
    "m = linopy.Model()\n",
    "\n",
    "SPP_built_wind = m.add_variables(integer=True,upper=300,lower=0, coords=xr_ref.coords, name='built_SPP_wind')\n",
    "VSPP_built_wind = m.add_variables(integer=True,upper=300,lower=0, coords=xr_ref.coords, name='built_VSPP_wind')\n",
    "SPP_built_solar = m.add_variables(integer=True,upper=300,lower=0, coords=xr_ref.coords, name='built_SPP_solar')\n",
    "VSPP_built_solar = m.add_variables(binary=, coords=xr_ref.coords, name='built_VSPP_solar')\n",
    "\n"
   ]
  }
 ],
 "metadata": {
  "kernelspec": {
   "display_name": "Python 3",
   "language": "python",
   "name": "python3"
  },
  "language_info": {
   "codemirror_mode": {
    "name": "ipython",
    "version": 3
   },
   "file_extension": ".py",
   "mimetype": "text/x-python",
   "name": "python",
   "nbconvert_exporter": "python",
   "pygments_lexer": "ipython3",
   "version": "3.11.1"
  }
 },
 "nbformat": 4,
 "nbformat_minor": 2
}
