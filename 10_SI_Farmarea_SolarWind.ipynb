{
 "cells": [
  {
   "cell_type": "code",
   "execution_count": 1,
   "metadata": {},
   "outputs": [],
   "source": [
    "import xarray as xr\n",
    "import geopandas as gpd\n",
    "import pandas as pd\n",
    "import numpy as np\n",
    "import shapely.geometry\n",
    "import shapely\n",
    "import rasterio\n",
    "import rioxarray\n",
    "from rasterio.features import shapes\n",
    "from shapely.geometry import shape\n",
    "import matplotlib.pyplot as plt\n",
    "from pathlib import Path"
   ]
  },
  {
   "cell_type": "code",
   "execution_count": 2,
   "metadata": {},
   "outputs": [
    {
     "name": "stdout",
     "output_type": "stream",
     "text": [
      "0.999\n",
      "0.998\n"
     ]
    }
   ],
   "source": [
    "weight_wind = [\n",
    "    0.057, #landuse\n",
    "    0.044, #slope\n",
    "    0.088, #elevation\n",
    "    0.071, #d to settlement\n",
    "    0.044, #d to wetland\n",
    "    0.055, #d to forest\n",
    "    0.044, #prox to road\n",
    "    0.088, #prox to sub\n",
    "    0.261, #Resource quality\n",
    "    0.247 #Farm Required area\n",
    "    ]\n",
    "print(sum(weight_wind))\n",
    "\n",
    "weight_solar = [\n",
    "    0.140, #landuse\n",
    "    0.126, #slope\n",
    "    0.063, #elevation\n",
    "    0.057, #d to settlement\n",
    "    0.0495, #d to wetland\n",
    "    0.0275, #d to forest\n",
    "    0.047, #prox to road\n",
    "    0.099, #prox to sub\n",
    "    0.254, #Resource quality\n",
    "    0.135 #Farm Required area\n",
    "    ]\n",
    "print(sum(weight_solar))"
   ]
  },
  {
   "cell_type": "code",
   "execution_count": null,
   "metadata": {},
   "outputs": [],
   "source": []
  }
 ],
 "metadata": {
  "kernelspec": {
   "display_name": "Python 3",
   "language": "python",
   "name": "python3"
  },
  "language_info": {
   "codemirror_mode": {
    "name": "ipython",
    "version": 3
   },
   "file_extension": ".py",
   "mimetype": "text/x-python",
   "name": "python",
   "nbconvert_exporter": "python",
   "pygments_lexer": "ipython3",
   "version": "3.11.5"
  }
 },
 "nbformat": 4,
 "nbformat_minor": 2
}
