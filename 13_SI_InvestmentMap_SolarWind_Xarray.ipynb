{
 "cells": [
  {
   "cell_type": "code",
   "execution_count": 32,
   "metadata": {},
   "outputs": [],
   "source": [
    "import linopy\n",
    "import pandas as pd\n",
    "import xarray as xr\n",
    "import geopandas as gpd\n",
    "import matplotlib.pyplot as plt\n",
    "import numpy as np\n",
    "from pathlib import Path\n",
    "from shapely import wkt"
   ]
  },
  {
   "cell_type": "code",
   "execution_count": 33,
   "metadata": {},
   "outputs": [
    {
     "name": "stdout",
     "output_type": "stream",
     "text": [
      "<xarray.Dataset>\n",
      "Dimensions:    (lat: 1782, lon: 995)\n",
      "Coordinates:\n",
      "  * lat        (lat) float64 5.618 5.626 5.635 5.643 ... 20.43 20.44 20.45 20.46\n",
      "  * lon        (lon) float64 97.35 97.36 97.37 97.37 ... 105.6 105.6 105.6 105.6\n",
      "Data variables:\n",
      "    SI_Solar   (lat, lon) float32 ...\n",
      "    SI_Wind    (lat, lon) float32 ...\n",
      "    AVA_Wind   (lat, lon) float32 ...\n",
      "    AVA_Solar  (lat, lon) float32 ...\n",
      "    ADM1_EN    (lat, lon) object ...\n",
      "    region     (lat, lon) object ...\n"
     ]
    }
   ],
   "source": [
    "xr_ref = xr.open_dataset('Output\\\\xr_final_SI_exc_r.nc')\n",
    "print(xr_ref)"
   ]
  },
  {
   "cell_type": "code",
   "execution_count": 34,
   "metadata": {},
   "outputs": [
    {
     "name": "stdout",
     "output_type": "stream",
     "text": [
      "0.81\n",
      "maxnoofgrid_SPP_wind =  25.0 sqrt =  5\n",
      "maxnoofgrid_SPP_solar =  8.0 sqrt =  3\n",
      "maxnoofgrid_VSPP_wind =  3.0 sqrt =  3\n",
      "maxnoofgrid_VSPP_solar =  1.0 sqrt =  3\n"
     ]
    }
   ],
   "source": [
    "mwperkm2_wind = 4.5  ## originally 9 MW/km2 but deduct by 50% of the technically available from IEA's Thailand CET\n",
    "mwperkm2_solar = 15 ## originally 30 MW/km2 but deduct by 50% of the technically available from IEA's Thailand CET\n",
    "coarsenscale = 3\n",
    "lccs_resoultion = (300 * coarsenscale /1000) ** 2 ## meters\n",
    "print(lccs_resoultion)\n",
    "## max capacity of spp 90 MW\n",
    "maxcapacityinpolygon_SPP = 90\n",
    "maxcapacityinpolygon_VSPP = 10\n",
    "\n",
    "maxnoofgrid_SPP_wind = np.ceil((maxcapacityinpolygon_SPP/(mwperkm2_wind * lccs_resoultion)))\n",
    "maxnoofgrid_SPP_solar = np.ceil((maxcapacityinpolygon_SPP/(mwperkm2_solar * lccs_resoultion)))\n",
    "\n",
    "rolling_latlon_SPP_wind = np.ceil(np.sqrt(maxnoofgrid_SPP_wind)).astype('int16')\n",
    "rolling_latlon_SPP_solar = np.ceil(np.sqrt(maxnoofgrid_SPP_solar)).astype('int16')\n",
    "\n",
    "if (rolling_latlon_SPP_wind < 3): rolling_latlon_SPP_wind=3\n",
    "if (rolling_latlon_SPP_solar < 3): rolling_latlon_SPP_solar=3\n",
    "\n",
    "maxnoofgrid_VSPP_wind = np.ceil((maxcapacityinpolygon_VSPP/(mwperkm2_wind * lccs_resoultion)))\n",
    "maxnoofgrid_VSPP_solar = np.ceil((maxcapacityinpolygon_VSPP/(mwperkm2_solar * lccs_resoultion)))\n",
    "\n",
    "rolling_latlon_VSPP_wind = np.ceil(np.sqrt(maxnoofgrid_VSPP_wind)).astype('int16')\n",
    "rolling_latlon_VSPP_solar = np.ceil(np.sqrt(maxnoofgrid_VSPP_solar)).astype('int16')\n",
    "\n",
    "if (rolling_latlon_VSPP_wind < 3): rolling_latlon_VSPP_wind=3\n",
    "if (rolling_latlon_VSPP_solar < 3): rolling_latlon_VSPP_solar=3\n",
    "\n",
    "print(\"maxnoofgrid_SPP_wind = \",maxnoofgrid_SPP_wind,\"sqrt = \",rolling_latlon_SPP_wind)\n",
    "print(\"maxnoofgrid_SPP_solar = \",maxnoofgrid_SPP_solar,\"sqrt = \",rolling_latlon_SPP_solar)\n",
    "\n",
    "print(\"maxnoofgrid_VSPP_wind = \",maxnoofgrid_VSPP_wind,\"sqrt = \",rolling_latlon_VSPP_wind)\n",
    "print(\"maxnoofgrid_VSPP_solar = \",maxnoofgrid_VSPP_solar,\"sqrt = \",rolling_latlon_VSPP_solar)"
   ]
  },
  {
   "cell_type": "code",
   "execution_count": 35,
   "metadata": {},
   "outputs": [],
   "source": [
    "######################## model #####################################################\n",
    "m = linopy.Model()\n",
    "\n",
    "built_solar = m.add_variables(integer=True,upper=1,lower=0, coords=xr_ref.coords, name='built_solar')\n",
    "built_wind = m.add_variables(integer=True,upper=1,lower=0, coords=xr_ref.coords, name='built_wind')"
   ]
  },
  {
   "cell_type": "code",
   "execution_count": 36,
   "metadata": {},
   "outputs": [],
   "source": [
    "# constr_built_logic = m.add_constraints(built_solar <= 1, name='built_logic')\n",
    "# print(constr_built_logic)"
   ]
  },
  {
   "cell_type": "code",
   "execution_count": 37,
   "metadata": {},
   "outputs": [],
   "source": [
    "constr_rolling = m.add_constraints(\n",
    "    (\n",
    "    built_solar.rolling(lat=rolling_latlon_SPP_solar,center=True).sum().rolling(lon=rolling_latlon_SPP_solar,center=True).sum()\n",
    "    +\n",
    "    built_wind.rolling(lat=rolling_latlon_SPP_wind,center=True).sum().rolling(lon=rolling_latlon_SPP_wind,center=True).sum()\n",
    "    ) <= 1 ,name='constr_rolling')\n"
   ]
  },
  {
   "cell_type": "code",
   "execution_count": 38,
   "metadata": {},
   "outputs": [
    {
     "data": {
      "text/plain": [
       "LinearExpression\n",
       "----------------\n",
       "+nan built_solar[5.618055555555557, 97.34861111111111] + nan built_solar[5.618055555555557, 97.35694444444447] + nan built_solar[5.618055555555557, 97.36527777777779] ... +nan built_wind[20.459722222222226, 105.61527777777779] + nan built_wind[20.459722222222226, 105.62361111111113] + nan built_wind[20.459722222222226, 105.63194444444446]"
      ]
     },
     "execution_count": 38,
     "metadata": {},
     "output_type": "execute_result"
    }
   ],
   "source": [
    "obj = (-1000) * (\n",
    "    (built_solar * (xr_ref['SI_Solar'].rolling(lat=rolling_latlon_SPP_solar,center=True).sum().rolling(lon=rolling_latlon_SPP_solar,center=True).sum())).sum()\n",
    "    +(built_wind * (xr_ref['SI_Wind'].rolling(lat=rolling_latlon_SPP_wind,center=True).sum().rolling(lon=rolling_latlon_SPP_wind,center=True).sum())).sum()\n",
    ")\n",
    "m.add_objective(obj)"
   ]
  },
  {
   "cell_type": "code",
   "execution_count": 39,
   "metadata": {},
   "outputs": [
    {
     "name": "stdout",
     "output_type": "stream",
     "text": [
      "presolve =  Linopy ILP model\n",
      "================\n",
      "\n",
      "Variables:\n",
      "----------\n",
      " * built_solar (lat, lon)\n",
      " * built_wind (lat, lon)\n",
      "\n",
      "Constraints:\n",
      "------------\n",
      " * constr_rolling (lat, lon)\n",
      "\n",
      "Status:\n",
      "-------\n",
      "initialized\n"
     ]
    },
    {
     "name": "stderr",
     "output_type": "stream",
     "text": [
      "Writing constraints.: 100%|\u001b[38;2;128;191;255m██████████\u001b[0m| 1/1 [03:05<00:00, 185.65s/it]\n",
      "Writing continuous variables.: 100%|\u001b[38;2;128;191;255m██████████\u001b[0m| 2/2 [00:09<00:00,  4.92s/it]\n",
      "Writing integer variables.: 100%|\u001b[38;2;128;191;255m██████████\u001b[0m| 2/2 [00:03<00:00,  1.95s/it]\n"
     ]
    }
   ],
   "source": [
    "print(\"presolve = \",m)\n",
    "m.solve(solver_name='highs',\n",
    "        mip_abs_gap = 0.0018,\n",
    "        mip_rel_gap = 0.0018,\n",
    "        )\n",
    "\n",
    "print('aftersolve = ',m)\n",
    "solution = m.solution\n",
    "solution = solution.fillna(0)"
   ]
  },
  {
   "cell_type": "code",
   "execution_count": null,
   "metadata": {},
   "outputs": [
    {
     "name": "stdout",
     "output_type": "stream",
     "text": [
      "<xarray.Dataset>\n",
      "Dimensions:      (lat: 1782, lon: 995)\n",
      "Coordinates:\n",
      "  * lat          (lat) float64 5.618 5.626 5.635 5.643 ... 20.44 20.45 20.46\n",
      "  * lon          (lon) float64 97.35 97.36 97.37 97.37 ... 105.6 105.6 105.6\n",
      "Data variables:\n",
      "    built_solar  (lat, lon) float64 0.0 0.0 0.0 0.0 0.0 ... 0.0 0.0 0.0 0.0 0.0\n",
      "    built_wind   (lat, lon) float64 0.0 0.0 0.0 0.0 0.0 ... 0.0 0.0 0.0 0.0 0.0\n"
     ]
    }
   ],
   "source": [
    "print(solution)"
   ]
  },
  {
   "cell_type": "code",
   "execution_count": null,
   "metadata": {},
   "outputs": [
    {
     "name": "stdout",
     "output_type": "stream",
     "text": [
      "<xarray.DataArray 'built_solar' ()>\n",
      "array(27391.)\n"
     ]
    }
   ],
   "source": [
    "print(solution['built_solar'].sum())"
   ]
  },
  {
   "cell_type": "code",
   "execution_count": null,
   "metadata": {},
   "outputs": [
    {
     "name": "stdout",
     "output_type": "stream",
     "text": [
      "(102.05513989400004, 17.593768951000072, 103.41287009700005, 18.305247632000032)\n"
     ]
    },
    {
     "name": "stderr",
     "output_type": "stream",
     "text": [
      "C:\\Users\\basna\\AppData\\Roaming\\Python\\Python311\\site-packages\\pyproj\\crs\\crs.py:141: FutureWarning: '+init=<authority>:<code>' syntax is deprecated. '<authority>:<code>' is the preferred initialization method. When making the change, be mindful of axis order changes: https://pyproj4.github.io/pyproj/stable/gotchas.html#axis-order-changes-in-proj-6\n",
      "  in_crs_string = _prepare_from_proj_string(in_crs_string)\n"
     ]
    }
   ],
   "source": [
    "## First, I try to create a bouadary of THialand for acquiring data##\n",
    "thailandmap = gpd.read_file('Data\\\\tha_admbnda_adm1_rtsd_20220121\\\\tha_admbnda_adm1_rtsd_20220121.shp')\n",
    "thailandmap.crs = {'init': 'epsg:4326'}\n",
    "province = \"หนองคาย\"\n",
    "thailandmap = thailandmap.loc[thailandmap['ADM1_TH'] == province]\n",
    "print(thailandmap.unary_union.bounds)\n",
    "min_lon = thailandmap.unary_union.bounds[0]\n",
    "max_lon = thailandmap.unary_union.bounds[2]\n",
    "max_lat = thailandmap.unary_union.bounds[1]\n",
    "min_lat = thailandmap.unary_union.bounds[3]"
   ]
  },
  {
   "cell_type": "code",
   "execution_count": null,
   "metadata": {},
   "outputs": [],
   "source": [
    "solution = solution.sel(lat=slice(max_lat,min_lat), lon=slice(min_lon,max_lon))"
   ]
  },
  {
   "cell_type": "code",
   "execution_count": null,
   "metadata": {},
   "outputs": [
    {
     "data": {
      "text/plain": [
       "<matplotlib.collections.QuadMesh at 0x1a55f7e4290>"
      ]
     },
     "execution_count": 13,
     "metadata": {},
     "output_type": "execute_result"
    },
    {
     "data": {
      "image/png": "[encoded data removed]",
      "text/plain": [
       "<Figure size 640x480 with 2 Axes>"
      ]
     },
     "metadata": {},
     "output_type": "display_data"
    }
   ],
   "source": [
    "solution['built_solar'].plot()"
   ]
  }
 ],
 "metadata": {
  "kernelspec": {
   "display_name": "Python 3",
   "language": "python",
   "name": "python3"
  },
  "language_info": {
   "codemirror_mode": {
    "name": "ipython",
    "version": 3
   },
   "file_extension": ".py",
   "mimetype": "text/x-python",
   "name": "python",
   "nbconvert_exporter": "python",
   "pygments_lexer": "ipython3",
   "version": "3.11.5"
  }
 },
 "nbformat": 4,
 "nbformat_minor": 2
}
