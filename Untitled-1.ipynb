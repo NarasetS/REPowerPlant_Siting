{
 "cells": [
  {
   "cell_type": "code",
   "execution_count": 1,
   "metadata": {},
   "outputs": [],
   "source": [
    "import geopandas as gpd\n",
    "import xarray as xr\n",
    "import numpy as np\n",
    "import matplotlib.pyplot as plt"
   ]
  },
  {
   "cell_type": "code",
   "execution_count": 2,
   "metadata": {},
   "outputs": [
    {
     "name": "stderr",
     "output_type": "stream",
     "text": [
      "C:\\Users\\basna\\AppData\\Roaming\\Python\\Python311\\site-packages\\pyproj\\crs\\crs.py:141: FutureWarning: '+init=<authority>:<code>' syntax is deprecated. '<authority>:<code>' is the preferred initialization method. When making the change, be mindful of axis order changes: https://pyproj4.github.io/pyproj/stable/gotchas.html#axis-order-changes-in-proj-6\n",
      "  in_crs_string = _prepare_from_proj_string(in_crs_string)\n"
     ]
    }
   ],
   "source": [
    "## Next, lets deal with a transportation network ##\n",
    "trans = gpd.read_file('Data\\\\trans\\\\Trans.shp')\n",
    "trans.crs = {'init': 'epsg:4326'}"
   ]
  },
  {
   "cell_type": "code",
   "execution_count": 7,
   "metadata": {},
   "outputs": [
    {
     "name": "stderr",
     "output_type": "stream",
     "text": [
      "C:\\Users\\basna\\AppData\\Local\\Temp\\ipykernel_17852\\2515357367.py:1: UserWarning: Geometry is in a geographic CRS. Results from 'buffer' are likely incorrect. Use 'GeoSeries.to_crs()' to re-project geometries to a projected CRS before this operation.\n",
      "\n",
      "  trans['area'] = trans['geometry'].buffer(0.005)\n"
     ]
    },
    {
     "name": "stdout",
     "output_type": "stream",
     "text": [
      "       FNODE_  TNODE_  LPOLY_  RPOLY_     LENGTH  TRANS_  TRANS_ID  TR_TYPE  \\\n",
      "0           5       1       1       1  2751.9930       1         6        6   \n",
      "1           5       4       3       1  1978.0460       2         5        5   \n",
      "2           2       6       2       1  3864.1380       3         5        5   \n",
      "3           6       3       1       1   385.0885       4         1        1   \n",
      "4           4       2       2       1  2279.2730       5         5        5   \n",
      "...       ...     ...     ...     ...        ...     ...       ...      ...   \n",
      "88119   61184   61189       1       1  3004.6210   88120         3        3   \n",
      "88120   61188   61190       1       1  1101.0260   88121         3        3   \n",
      "88121   61188   61191       1       1  2042.3270   88122         3        3   \n",
      "88122   61191   61191       1   27362  2708.9000   88123         3        3   \n",
      "88123   61193   61192       1       1   479.8682   88124         6        6   \n",
      "\n",
      "                                                geometry  \\\n",
      "0      LINESTRING (99.96024 20.43963, 99.96261 20.445...   \n",
      "1      LINESTRING (99.96024 20.43963, 99.95696 20.440...   \n",
      "2      LINESTRING (99.92213 20.44299, 99.92036 20.442...   \n",
      "3      LINESTRING (99.88591 20.43994, 99.88455 20.44318)   \n",
      "4      LINESTRING (99.94240 20.44044, 99.94044 20.439...   \n",
      "...                                                  ...   \n",
      "88119  LINESTRING (101.12921 5.72328, 101.12962 5.718...   \n",
      "88120  LINESTRING (101.10851 5.70357, 101.09981 5.69876)   \n",
      "88121  LINESTRING (101.10851 5.70357, 101.11231 5.701...   \n",
      "88122  LINESTRING (101.11691 5.68853, 101.12301 5.684...   \n",
      "88123  LINESTRING (101.21763 5.66055, 101.21573 5.66445)   \n",
      "\n",
      "                                                    area  \\\n",
      "0      POLYGON ((99.95798 20.44736, 99.95806 20.44754...   \n",
      "1      POLYGON ((99.95519 20.43631, 99.95074 20.43784...   \n",
      "2      POLYGON ((99.92191 20.43795, 99.92061 20.43720...   \n",
      "3      POLYGON ((99.87994 20.44123, 99.87977 20.44169...   \n",
      "4      POLYGON ((99.92908 20.43891, 99.92866 20.43880...   \n",
      "...                                                  ...   \n",
      "88119  POLYGON ((101.12770 5.71232, 101.12740 5.71256...   \n",
      "88120  POLYGON ((101.10223 5.69438, 101.10179 5.69417...   \n",
      "88121  POLYGON ((101.11075 5.69320, 101.11021 5.69365...   \n",
      "88122  POLYGON ((101.11203 5.67963, 101.11152 5.67984...   \n",
      "88123  POLYGON ((101.21123 5.66226, 101.21104 5.66271...   \n",
      "\n",
      "                        centroid  \n",
      "0      POINT (99.96236 20.45102)  \n",
      "1      POINT (99.95135 20.44164)  \n",
      "2      POINT (99.90419 20.44085)  \n",
      "3      POINT (99.88523 20.44156)  \n",
      "4      POINT (99.93240 20.44202)  \n",
      "...                          ...  \n",
      "88119  POINT (101.13492 5.71188)  \n",
      "88120  POINT (101.10416 5.70116)  \n",
      "88121  POINT (101.11376 5.69679)  \n",
      "88122  POINT (101.11791 5.68496)  \n",
      "88123  POINT (101.21668 5.66250)  \n",
      "\n",
      "[88124 rows x 11 columns]\n"
     ]
    },
    {
     "name": "stderr",
     "output_type": "stream",
     "text": [
      "C:\\Users\\basna\\AppData\\Local\\Temp\\ipykernel_17852\\2515357367.py:2: UserWarning: Geometry is in a geographic CRS. Results from 'centroid' are likely incorrect. Use 'GeoSeries.to_crs()' to re-project geometries to a projected CRS before this operation.\n",
      "\n",
      "  trans['centroid'] = trans.centroid\n"
     ]
    }
   ],
   "source": [
    "trans['area'] = trans['geometry'].buffer(0.005)\n",
    "trans['centroid'] = trans.centroid\n",
    "print(trans)"
   ]
  }
 ],
 "metadata": {
  "kernelspec": {
   "display_name": "Python 3",
   "language": "python",
   "name": "python3"
  },
  "language_info": {
   "codemirror_mode": {
    "name": "ipython",
    "version": 3
   },
   "file_extension": ".py",
   "mimetype": "text/x-python",
   "name": "python",
   "nbconvert_exporter": "python",
   "pygments_lexer": "ipython3",
   "version": "3.11.5"
  }
 },
 "nbformat": 4,
 "nbformat_minor": 2
}
