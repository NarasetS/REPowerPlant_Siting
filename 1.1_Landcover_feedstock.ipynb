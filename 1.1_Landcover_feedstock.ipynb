{
 "cells": [
  {
   "cell_type": "code",
   "execution_count": 7,
   "metadata": {},
   "outputs": [],
   "source": [
    "import xarray as xr\n",
    "import geopandas as gpd\n",
    "import pandas as pd\n",
    "import numpy as np\n",
    "import shapely.geometry\n",
    "import shapely\n",
    "import rasterio\n",
    "import rioxarray\n",
    "from rasterio.features import shapes\n",
    "from shapely.geometry import shape\n",
    "import matplotlib.pyplot as plt\n",
    "from pathlib import Path"
   ]
  },
  {
   "cell_type": "code",
   "execution_count": 8,
   "metadata": {},
   "outputs": [
    {
     "name": "stderr",
     "output_type": "stream",
     "text": [
      "C:\\Users\\basna\\AppData\\Roaming\\Python\\Python311\\site-packages\\pyproj\\crs\\crs.py:141: FutureWarning: '+init=<authority>:<code>' syntax is deprecated. '<authority>:<code>' is the preferred initialization method. When making the change, be mindful of axis order changes: https://pyproj4.github.io/pyproj/stable/gotchas.html#axis-order-changes-in-proj-6\n",
      "  in_crs_string = _prepare_from_proj_string(in_crs_string)\n",
      "C:\\Users\\basna\\AppData\\Local\\Temp\\ipykernel_19316\\933181435.py:9: FutureWarning: The geopandas.dataset module is deprecated and will be removed in GeoPandas 1.0. You can get the original 'naturalearth_lowres' data from https://www.naturalearthdata.com/downloads/110m-cultural-vectors/.\n",
      "  world_filepath = gpd.datasets.get_path('naturalearth_lowres')\n",
      "C:\\Users\\basna\\AppData\\Roaming\\Python\\Python311\\site-packages\\pyproj\\crs\\crs.py:141: FutureWarning: '+init=<authority>:<code>' syntax is deprecated. '<authority>:<code>' is the preferred initialization method. When making the change, be mindful of axis order changes: https://pyproj4.github.io/pyproj/stable/gotchas.html#axis-order-changes-in-proj-6\n",
      "  in_crs_string = _prepare_from_proj_string(in_crs_string)\n"
     ]
    },
    {
     "name": "stdout",
     "output_type": "stream",
     "text": [
      "                lat         lon  lccs_class  SI_BGEC  SI_Biomass  SI_Solar  \\\n",
      "0          5.615278   97.345833           0        0           0         0   \n",
      "1          5.615278   97.348611           0        0           0         0   \n",
      "2          5.615278   97.351389           0        0           0         0   \n",
      "3          5.615278   97.354167           0        0           0         0   \n",
      "4          5.615278   97.356944           0        0           0         0   \n",
      "...             ...         ...         ...      ...         ...       ...   \n",
      "15957805  20.462500  105.623611           0        0           0         0   \n",
      "15957806  20.462500  105.626389           0        0           0         0   \n",
      "15957807  20.462500  105.629167           0        0           0         0   \n",
      "15957808  20.462500  105.631944           0        0           0         0   \n",
      "15957809  20.462500  105.634722           0        0           0         0   \n",
      "\n",
      "          SI_Wind  SI_BGWW  SI_MSW  SI_IEW                    geometry  \n",
      "0               0        0       0       0    POINT (97.34583 5.61528)  \n",
      "1               0        0       0       0    POINT (97.34861 5.61528)  \n",
      "2               0        0       0       0    POINT (97.35139 5.61528)  \n",
      "3               0        0       0       0    POINT (97.35417 5.61528)  \n",
      "4               0        0       0       0    POINT (97.35694 5.61528)  \n",
      "...           ...      ...     ...     ...                         ...  \n",
      "15957805        0        0       0       0  POINT (105.62361 20.46250)  \n",
      "15957806        0        0       0       0  POINT (105.62639 20.46250)  \n",
      "15957807        0        0       0       0  POINT (105.62917 20.46250)  \n",
      "15957808        0        0       0       0  POINT (105.63194 20.46250)  \n",
      "15957809        0        0       0       0  POINT (105.63472 20.46250)  \n",
      "\n",
      "[15957810 rows x 11 columns]\n"
     ]
    },
    {
     "name": "stderr",
     "output_type": "stream",
     "text": [
      "C:\\Users\\basna\\AppData\\Local\\Temp\\ipykernel_19316\\933181435.py:16: SettingWithCopyWarning: \n",
      "A value is trying to be set on a copy of a slice from a DataFrame\n",
      "\n",
      "See the caveats in the documentation: https://pandas.pydata.org/pandas-docs/stable/user_guide/indexing.html#returning-a-view-versus-a-copy\n",
      "  df_landuse_suitability_index['lccs_class'].loc[~df_landuse_suitability_index.within(boundaries)] = 0\n"
     ]
    }
   ],
   "source": [
    "xr_final_SI = xr.open_dataset('Output\\\\xr_SI_Landcover_beforefeedstock.nc')\n",
    "\n",
    "df_landuse_suitability_index = xr_final_SI.to_dataframe()\n",
    "df_landuse_suitability_index.reset_index(inplace=True)\n",
    "df_landuse_suitability_index = gpd.GeoDataFrame(df_landuse_suitability_index, geometry =gpd.points_from_xy(df_landuse_suitability_index['lon'],df_landuse_suitability_index['lat']))\n",
    "df_landuse_suitability_index.crs = {'init': 'epsg:4326'}\n",
    "\n",
    "## Acquire polygon containing boudary of Thailand\n",
    "world_filepath = gpd.datasets.get_path('naturalearth_lowres')\n",
    "world = gpd.read_file(world_filepath)\n",
    "th = world.loc[world['name'] == 'Thailand'] # get Thailand row\n",
    "boundaries = th['geometry'] # get Thailand geometry\n",
    "boundaries.crs = {'init': 'epsg:4326'}\n",
    "boundaries = boundaries.geometry.unary_union\n",
    "\n",
    "df_landuse_suitability_index['lccs_class'].loc[~df_landuse_suitability_index.within(boundaries)] = 0\n",
    "\n",
    "print(df_landuse_suitability_index)"
   ]
  },
  {
   "cell_type": "code",
   "execution_count": 9,
   "metadata": {},
   "outputs": [
    {
     "name": "stdout",
     "output_type": "stream",
     "text": [
      "    Shape_Leng  Shape_Area                   ADM1_EN          ADM1_TH  \\\n",
      "0     2.417227    0.131339                   Bangkok    กรุงเทพมหานคร   \n",
      "1     1.695100    0.079262              Samut Prakan      สมุทรปราการ   \n",
      "2     1.251111    0.053238                Nonthaburi          นนทบุรี   \n",
      "3     1.884945    0.126983              Pathum Thani         ปทุมธานี   \n",
      "4     3.041716    0.213938  Phra Nakhon Si Ayutthaya  พระนครศรีอยุธยา   \n",
      "..         ...         ...                       ...              ...   \n",
      "72    5.192570    0.385879                     Trang             ตรัง   \n",
      "73    3.257829    0.316268               Phatthalung           พัทลุง   \n",
      "74    2.820830    0.160825                   Pattani          ปัตตานี   \n",
      "75    4.839230    0.365448                      Yala             ยะลา   \n",
      "76    3.456840    0.366648                Narathiwat         นราธิวาส   \n",
      "\n",
      "   ADM1_PCODE  ADM1_REF  ADM1ALT1EN  ADM1ALT2EN  ADM1ALT1TH  ADM1ALT2TH  \\\n",
      "0        TH10       NaN         NaN         NaN         NaN         NaN   \n",
      "1        TH11       NaN         NaN         NaN         NaN         NaN   \n",
      "2        TH12       NaN         NaN         NaN         NaN         NaN   \n",
      "3        TH13       NaN         NaN         NaN         NaN         NaN   \n",
      "4        TH14       NaN         NaN         NaN         NaN         NaN   \n",
      "..        ...       ...         ...         ...         ...         ...   \n",
      "72       TH92       NaN         NaN         NaN         NaN         NaN   \n",
      "73       TH93       NaN         NaN         NaN         NaN         NaN   \n",
      "74       TH94       NaN         NaN         NaN         NaN         NaN   \n",
      "75       TH95       NaN         NaN         NaN         NaN         NaN   \n",
      "76       TH96       NaN         NaN         NaN         NaN         NaN   \n",
      "\n",
      "     ADM0_EN    ADM0_TH ADM0_PCODE        date     validOn  validTo  \\\n",
      "0   Thailand  ประเทศไทย         TH  2019-02-18  2022-01-22      NaN   \n",
      "1   Thailand  ประเทศไทย         TH  2019-02-18  2022-01-22      NaN   \n",
      "2   Thailand  ประเทศไทย         TH  2019-02-18  2022-01-22      NaN   \n",
      "3   Thailand  ประเทศไทย         TH  2019-02-18  2022-01-22      NaN   \n",
      "4   Thailand  ประเทศไทย         TH  2019-02-18  2022-01-22      NaN   \n",
      "..       ...        ...        ...         ...         ...      ...   \n",
      "72  Thailand  ประเทศไทย         TH  2019-02-18  2022-01-22      NaN   \n",
      "73  Thailand  ประเทศไทย         TH  2019-02-18  2022-01-22      NaN   \n",
      "74  Thailand  ประเทศไทย         TH  2019-02-18  2022-01-22      NaN   \n",
      "75  Thailand  ประเทศไทย         TH  2019-02-18  2022-01-22      NaN   \n",
      "76  Thailand  ประเทศไทย         TH  2019-02-18  2022-01-22      NaN   \n",
      "\n",
      "                        center  \n",
      "0   POINT (100.62353 13.77183)  \n",
      "1   POINT (100.71024 13.59651)  \n",
      "2   POINT (100.39282 13.92416)  \n",
      "3   POINT (100.68241 14.06513)  \n",
      "4   POINT (100.52662 14.34535)  \n",
      "..                         ...  \n",
      "72    POINT (99.59447 7.54462)  \n",
      "73   POINT (100.06948 7.51586)  \n",
      "74   POINT (101.34978 6.73053)  \n",
      "75   POINT (101.22851 6.19086)  \n",
      "76   POINT (101.71888 6.17754)  \n",
      "\n",
      "[77 rows x 17 columns]\n"
     ]
    },
    {
     "name": "stderr",
     "output_type": "stream",
     "text": [
      "C:\\Users\\basna\\AppData\\Roaming\\Python\\Python311\\site-packages\\pyproj\\crs\\crs.py:141: FutureWarning: '+init=<authority>:<code>' syntax is deprecated. '<authority>:<code>' is the preferred initialization method. When making the change, be mindful of axis order changes: https://pyproj4.github.io/pyproj/stable/gotchas.html#axis-order-changes-in-proj-6\n",
      "  in_crs_string = _prepare_from_proj_string(in_crs_string)\n",
      "C:\\Users\\basna\\AppData\\Local\\Temp\\ipykernel_19316\\2495709284.py:4: UserWarning: Geometry is in a geographic CRS. Results from 'centroid' are likely incorrect. Use 'GeoSeries.to_crs()' to re-project geometries to a projected CRS before this operation.\n",
      "\n",
      "  thailandmap['center'] = thailandmap['geometry'].centroid\n",
      "C:\\Users\\basna\\AppData\\Roaming\\Python\\Python311\\site-packages\\pyproj\\crs\\crs.py:141: FutureWarning: '+init=<authority>:<code>' syntax is deprecated. '<authority>:<code>' is the preferred initialization method. When making the change, be mindful of axis order changes: https://pyproj4.github.io/pyproj/stable/gotchas.html#axis-order-changes-in-proj-6\n",
      "  in_crs_string = _prepare_from_proj_string(in_crs_string)\n"
     ]
    }
   ],
   "source": [
    "## First, I try to create a bouadary of THialand for acquiring data##\n",
    "thailandmap = gpd.read_file('Data\\\\tha_admbnda_adm1_rtsd_20220121\\\\tha_admbnda_adm1_rtsd_20220121.shp')\n",
    "thailandmap.crs = {'init': 'epsg:4326'}\n",
    "thailandmap['center'] = thailandmap['geometry'].centroid\n",
    "thailandmap = thailandmap.drop(columns = 'geometry')\n",
    "thailandmap = thailandmap.set_geometry('center')\n",
    "thailandmap.crs = {'init': 'epsg:4326'}\n",
    "print(thailandmap)"
   ]
  },
  {
   "cell_type": "code",
   "execution_count": 10,
   "metadata": {},
   "outputs": [
    {
     "name": "stderr",
     "output_type": "stream",
     "text": [
      "C:\\Users\\basna\\AppData\\Roaming\\Python\\Python311\\site-packages\\geopandas\\array.py:364: UserWarning: Geometry is in a geographic CRS. Results from 'sjoin_nearest' are likely incorrect. Use 'GeoSeries.to_crs()' to re-project geometries to a projected CRS before this operation.\n",
      "\n",
      "  warnings.warn(\n"
     ]
    },
    {
     "name": "stdout",
     "output_type": "stream",
     "text": [
      "columns before drop =  Index(['lat', 'lon', 'lccs_class', 'SI_BGEC', 'SI_Biomass', 'SI_Solar',\n",
      "       'SI_Wind', 'SI_BGWW', 'SI_MSW', 'SI_IEW', 'geometry', 'index_right',\n",
      "       'Shape_Leng', 'Shape_Area', 'ADM1_EN', 'ADM1_TH', 'ADM1_PCODE',\n",
      "       'ADM1_REF', 'ADM1ALT1EN', 'ADM1ALT2EN', 'ADM1ALT1TH', 'ADM1ALT2TH',\n",
      "       'ADM0_EN', 'ADM0_TH', 'ADM0_PCODE', 'date', 'validOn', 'validTo'],\n",
      "      dtype='object')\n",
      "columns after drop =  Index(['lat', 'lon', 'lccs_class', 'SI_BGEC', 'SI_Biomass', 'SI_Solar',\n",
      "       'SI_Wind', 'SI_BGWW', 'SI_MSW', 'SI_IEW', 'ADM1_EN', 'ADM1_TH'],\n",
      "      dtype='object')\n",
      "15957810\n",
      "                lat         lon  lccs_class  SI_BGEC  SI_Biomass  SI_Solar  \\\n",
      "0          5.615278   97.345833           0        0           0         0   \n",
      "1          5.615278   97.348611           0        0           0         0   \n",
      "2          5.615278   97.351389           0        0           0         0   \n",
      "3          5.615278   97.354167           0        0           0         0   \n",
      "4          5.615278   97.356944           0        0           0         0   \n",
      "...             ...         ...         ...      ...         ...       ...   \n",
      "15957805  20.462500  105.623611           0        0           0         0   \n",
      "15957806  20.462500  105.626389           0        0           0         0   \n",
      "15957807  20.462500  105.629167           0        0           0         0   \n",
      "15957808  20.462500  105.631944           0        0           0         0   \n",
      "15957809  20.462500  105.634722           0        0           0         0   \n",
      "\n",
      "          SI_Wind  SI_BGWW  SI_MSW  SI_IEW    ADM1_EN ADM1_TH  \n",
      "0               0        0       0       0     Phuket  ภูเก็ต  \n",
      "1               0        0       0       0     Phuket  ภูเก็ต  \n",
      "2               0        0       0       0     Phuket  ภูเก็ต  \n",
      "3               0        0       0       0     Phuket  ภูเก็ต  \n",
      "4               0        0       0       0     Phuket  ภูเก็ต  \n",
      "...           ...      ...     ...     ...        ...     ...  \n",
      "15957805        0        0       0       0  Bueng Kan  บึงกาฬ  \n",
      "15957806        0        0       0       0  Bueng Kan  บึงกาฬ  \n",
      "15957807        0        0       0       0  Bueng Kan  บึงกาฬ  \n",
      "15957808        0        0       0       0  Bueng Kan  บึงกาฬ  \n",
      "15957809        0        0       0       0  Bueng Kan  บึงกาฬ  \n",
      "\n",
      "[15957810 rows x 12 columns]\n"
     ]
    }
   ],
   "source": [
    "df_landuse_suitability_index_2 = gpd.sjoin_nearest(df_landuse_suitability_index,thailandmap,how='left')\n",
    "print('columns before drop = ',df_landuse_suitability_index_2.columns)\n",
    "\n",
    "for i in df_landuse_suitability_index_2.columns:\n",
    "    if i not in (['lat', 'lon', 'lccs_class','SI_Solar','SI_Wind', 'SI_BGEC', 'SI_Biomass', 'SI_BGWW',\n",
    "       'SI_MSW', 'SI_IEW', 'ADM1_EN', 'ADM1_TH']):\n",
    "        df_landuse_suitability_index_2 = df_landuse_suitability_index_2.drop(columns=i)\n",
    "\n",
    "print('columns after drop = ',df_landuse_suitability_index_2.columns)\n",
    "print(len(df_landuse_suitability_index_2))\n",
    "print(df_landuse_suitability_index_2)"
   ]
  },
  {
   "cell_type": "code",
   "execution_count": 11,
   "metadata": {},
   "outputs": [
    {
     "name": "stdout",
     "output_type": "stream",
     "text": [
      "no of province =  77\n"
     ]
    }
   ],
   "source": [
    "print('no of province = ',len(df_landuse_suitability_index_2['ADM1_TH'].unique()))"
   ]
  },
  {
   "cell_type": "code",
   "execution_count": 12,
   "metadata": {},
   "outputs": [
    {
     "name": "stderr",
     "output_type": "stream",
     "text": [
      "C:\\Users\\basna\\AppData\\Local\\Temp\\ipykernel_19316\\1621553096.py:5: SettingWithCopyWarning: \n",
      "A value is trying to be set on a copy of a slice from a DataFrame\n",
      "\n",
      "See the caveats in the documentation: https://pandas.pydata.org/pandas-docs/stable/user_guide/indexing.html#returning-a-view-versus-a-copy\n",
      "  df_landuse_suitability_index_2['A_BGEC'].loc[df_landuse_suitability_index_2['lccs_class'].isin([10,11,12,20,30,40])] = 1\n",
      "C:\\Users\\basna\\AppData\\Local\\Temp\\ipykernel_19316\\1621553096.py:10: SettingWithCopyWarning: \n",
      "A value is trying to be set on a copy of a slice from a DataFrame\n",
      "\n",
      "See the caveats in the documentation: https://pandas.pydata.org/pandas-docs/stable/user_guide/indexing.html#returning-a-view-versus-a-copy\n",
      "  df_landuse_suitability_index_2['A_Biomass'].loc[df_landuse_suitability_index_2['lccs_class'].isin([110,130,120,121,122,200,201,202,140,150,151,152,153,10,11,12,20,30,40,180])] = 1\n",
      "C:\\Users\\basna\\AppData\\Local\\Temp\\ipykernel_19316\\1621553096.py:14: SettingWithCopyWarning: \n",
      "A value is trying to be set on a copy of a slice from a DataFrame\n",
      "\n",
      "See the caveats in the documentation: https://pandas.pydata.org/pandas-docs/stable/user_guide/indexing.html#returning-a-view-versus-a-copy\n",
      "  df_landuse_suitability_index_2['A_BGWW'].loc[df_landuse_suitability_index_2['lccs_class'].isin([[10,11,12,20,30,40]])] = 1\n",
      "C:\\Users\\basna\\AppData\\Local\\Temp\\ipykernel_19316\\1621553096.py:18: SettingWithCopyWarning: \n",
      "A value is trying to be set on a copy of a slice from a DataFrame\n",
      "\n",
      "See the caveats in the documentation: https://pandas.pydata.org/pandas-docs/stable/user_guide/indexing.html#returning-a-view-versus-a-copy\n",
      "  df_landuse_suitability_index_2['A_MSW'].loc[df_landuse_suitability_index_2['lccs_class'].isin([190])] = 1\n",
      "C:\\Users\\basna\\AppData\\Local\\Temp\\ipykernel_19316\\1621553096.py:22: SettingWithCopyWarning: \n",
      "A value is trying to be set on a copy of a slice from a DataFrame\n",
      "\n",
      "See the caveats in the documentation: https://pandas.pydata.org/pandas-docs/stable/user_guide/indexing.html#returning-a-view-versus-a-copy\n",
      "  df_landuse_suitability_index_2['A_IEW'].loc[df_landuse_suitability_index_2['lccs_class'].isin([190])] = 1\n"
     ]
    },
    {
     "name": "stdout",
     "output_type": "stream",
     "text": [
      "                lat         lon  lccs_class  SI_BGEC  SI_Biomass  SI_Solar  \\\n",
      "0          5.615278   97.345833           0        0           0         0   \n",
      "1          5.615278   97.348611           0        0           0         0   \n",
      "2          5.615278   97.351389           0        0           0         0   \n",
      "3          5.615278   97.354167           0        0           0         0   \n",
      "4          5.615278   97.356944           0        0           0         0   \n",
      "...             ...         ...         ...      ...         ...       ...   \n",
      "15957805  20.462500  105.623611           0        0           0         0   \n",
      "15957806  20.462500  105.626389           0        0           0         0   \n",
      "15957807  20.462500  105.629167           0        0           0         0   \n",
      "15957808  20.462500  105.631944           0        0           0         0   \n",
      "15957809  20.462500  105.634722           0        0           0         0   \n",
      "\n",
      "          SI_Wind  SI_BGWW  SI_MSW  SI_IEW    ADM1_EN ADM1_TH  A_BGEC  \\\n",
      "0               0        0       0       0     Phuket  ภูเก็ต     0.0   \n",
      "1               0        0       0       0     Phuket  ภูเก็ต     0.0   \n",
      "2               0        0       0       0     Phuket  ภูเก็ต     0.0   \n",
      "3               0        0       0       0     Phuket  ภูเก็ต     0.0   \n",
      "4               0        0       0       0     Phuket  ภูเก็ต     0.0   \n",
      "...           ...      ...     ...     ...        ...     ...     ...   \n",
      "15957805        0        0       0       0  Bueng Kan  บึงกาฬ     0.0   \n",
      "15957806        0        0       0       0  Bueng Kan  บึงกาฬ     0.0   \n",
      "15957807        0        0       0       0  Bueng Kan  บึงกาฬ     0.0   \n",
      "15957808        0        0       0       0  Bueng Kan  บึงกาฬ     0.0   \n",
      "15957809        0        0       0       0  Bueng Kan  บึงกาฬ     0.0   \n",
      "\n",
      "          A_Biomass  A_BGWW  A_MSW  A_IEW  \n",
      "0               0.0     0.0    0.0    0.0  \n",
      "1               0.0     0.0    0.0    0.0  \n",
      "2               0.0     0.0    0.0    0.0  \n",
      "3               0.0     0.0    0.0    0.0  \n",
      "4               0.0     0.0    0.0    0.0  \n",
      "...             ...     ...    ...    ...  \n",
      "15957805        0.0     0.0    0.0    0.0  \n",
      "15957806        0.0     0.0    0.0    0.0  \n",
      "15957807        0.0     0.0    0.0    0.0  \n",
      "15957808        0.0     0.0    0.0    0.0  \n",
      "15957809        0.0     0.0    0.0    0.0  \n",
      "\n",
      "[15957810 rows x 17 columns]\n",
      "     ปี พ.ศ.        จังหวัด แหล่งพลังงานหลัก  ศักยภาพพลังงานทดแทน (ktoe)\n",
      "0       2565         กระบี่           ชีวมวล                     1245.47\n",
      "1       2565         กระบี่       ก๊าซชีวภาพ                       77.42\n",
      "2       2565         กระบี่              ขยะ                       41.25\n",
      "3       2565  กรุงเทพมหานคร           ชีวมวล                       49.13\n",
      "4       2565  กรุงเทพมหานคร       ก๊าซชีวภาพ                        1.20\n",
      "..       ...            ...              ...                         ...\n",
      "226     2565      อุทัยธานี       ก๊าซชีวภาพ                       16.39\n",
      "227     2565      อุทัยธานี              ขยะ                       21.49\n",
      "228     2565    อุบลราชธานี           ชีวมวล                      295.10\n",
      "229     2565    อุบลราชธานี       ก๊าซชีวภาพ                       50.29\n",
      "230     2565    อุบลราชธานี              ขยะ                      142.80\n",
      "\n",
      "[231 rows x 4 columns]\n",
      "77\n",
      "['ภูเก็ต' 'สตูล' 'ยะลา' 'นราธิวาส' 'สงขลา' 'ปัตตานี' 'ตรัง' 'พัทลุง'\n",
      " 'กระบี่' 'นครศรีธรรมราช' 'พังงา' 'สุราษฎร์ธานี' 'ตราด' 'ระนอง' 'ชุมพร'\n",
      " 'ประจวบคีรีขันธ์' 'ระยอง' 'ศรีสะเกษ' 'จันทบุรี' 'เพชรบุรี' 'ชลบุรี'\n",
      " 'สมุทรสงคราม' 'สมุทรปราการ' 'สมุทรสาคร' 'อุบลราชธานี' 'กาญจนบุรี'\n",
      " 'ราชบุรี' 'สระแก้ว' 'สุรินทร์' 'ฉะเชิงเทรา' 'กรุงเทพมหานคร' 'ปราจีนบุรี'\n",
      " 'นครปฐม' 'นนทบุรี' 'นครนายก' 'บุรีรัมย์' 'ปทุมธานี' 'สุพรรณบุรี'\n",
      " 'พระนครศรีอยุธยา' 'อ่างทอง' 'สระบุรี' 'นครราชสีมา' 'สิงห์บุรี' 'ลพบุรี'\n",
      " 'ชัยนาท' 'อุทัยธานี' 'นครสวรรค์' 'ร้อยเอ็ด' 'อำนาจเจริญ' 'ยโสธร'\n",
      " 'มหาสารคาม' 'ชัยภูมิ' 'ตาก' 'เพชรบูรณ์' 'ขอนแก่น' 'พิจิตร' 'กำแพงเพชร'\n",
      " 'มุกดาหาร' 'กาฬสินธุ์' 'พิษณุโลก' 'หนองบัวลำภู' 'เลย' 'สุโขทัย'\n",
      " 'อุดรธานี' 'สกลนคร' 'นครพนม' 'อุตรดิตถ์' 'แม่ฮ่องสอน' 'ลำพูน' 'หนองคาย'\n",
      " 'แพร่' 'บึงกาฬ' 'ลำปาง' 'น่าน' 'เชียงใหม่' 'พะเยา' 'เชียงราย']\n",
      "['ชีวมวล' 'ก๊าซชีวภาพ' 'ขยะ']\n"
     ]
    }
   ],
   "source": [
    "lccs_resolution = 300 ## meters\n",
    "\n",
    "## Agriculture ###\n",
    "df_landuse_suitability_index_2['A_BGEC'] = 0\n",
    "df_landuse_suitability_index_2['A_BGEC'].loc[df_landuse_suitability_index_2['lccs_class'].isin([10,11,12,20,30,40])] = 1\n",
    "df_landuse_suitability_index_2['A_BGEC']= df_landuse_suitability_index_2['A_BGEC'].astype('float64')\n",
    "\n",
    "## Shrubs and Grassland ## Short vegetation and agriculture ## Natural Reserve\n",
    "df_landuse_suitability_index_2['A_Biomass'] = 0\n",
    "df_landuse_suitability_index_2['A_Biomass'].loc[df_landuse_suitability_index_2['lccs_class'].isin([110,130,120,121,122,200,201,202,140,150,151,152,153,10,11,12,20,30,40,180])] = 1\n",
    "df_landuse_suitability_index_2['A_Biomass']= df_landuse_suitability_index_2['A_Biomass'].astype('float64')\n",
    "\n",
    "df_landuse_suitability_index_2['A_BGWW'] = 0\n",
    "df_landuse_suitability_index_2['A_BGWW'].loc[df_landuse_suitability_index_2['lccs_class'].isin([[10,11,12,20,30,40]])] = 1\n",
    "df_landuse_suitability_index_2['A_BGWW']= df_landuse_suitability_index_2['A_BGWW'].astype('float64')\n",
    "\n",
    "df_landuse_suitability_index_2['A_MSW'] = 0\n",
    "df_landuse_suitability_index_2['A_MSW'].loc[df_landuse_suitability_index_2['lccs_class'].isin([190])] = 1\n",
    "df_landuse_suitability_index_2['A_MSW']= df_landuse_suitability_index_2['A_MSW'].astype('float64')\n",
    "\n",
    "df_landuse_suitability_index_2['A_IEW'] = 0\n",
    "df_landuse_suitability_index_2['A_IEW'].loc[df_landuse_suitability_index_2['lccs_class'].isin([190])] = 1\n",
    "df_landuse_suitability_index_2['A_IEW']= df_landuse_suitability_index_2['A_IEW'].astype('float64')\n",
    "\n",
    "print(df_landuse_suitability_index_2)\n",
    "\n",
    "feedstock = pd.read_excel('Data\\\\สรุปข้อมูลพลังงาน -  ฐานข้อมูลพลังงานประเทศไทย.xlsx',sheet_name='สรุปข้อมูลพลังงาน -  ฐานข้อมูลพ')\n",
    "feedstock = feedstock.loc[feedstock['แหล่งพลังงานหลัก'].isin(['ชีวมวล','ก๊าซชีวภาพ','ขยะ'])]\n",
    "feedstock.reset_index(inplace=True,drop=True)\n",
    "print(feedstock)\n",
    "print(len(feedstock['จังหวัด'].unique()))\n",
    "\n",
    "list_province = df_landuse_suitability_index_2['ADM1_TH'].unique()\n",
    "list_fueltype = feedstock['แหล่งพลังงานหลัก'].unique()\n",
    "print(list_province)\n",
    "print(list_fueltype)\n"
   ]
  },
  {
   "cell_type": "code",
   "execution_count": 13,
   "metadata": {},
   "outputs": [
    {
     "name": "stderr",
     "output_type": "stream",
     "text": [
      "C:\\Users\\basna\\AppData\\Local\\Temp\\ipykernel_19316\\3107014047.py:5: SettingWithCopyWarning: \n",
      "A value is trying to be set on a copy of a slice from a DataFrame\n",
      "\n",
      "See the caveats in the documentation: https://pandas.pydata.org/pandas-docs/stable/user_guide/indexing.html#returning-a-view-versus-a-copy\n",
      "  df_landuse_suitability_index_2['A_BGEC'].loc[(df_landuse_suitability_index_2['A_BGEC'] > 0) & (df_landuse_suitability_index_2['ADM1_TH'] == i)] = feedstockpergrid\n"
     ]
    },
    {
     "name": "stdout",
     "output_type": "stream",
     "text": [
      "ภูเก็ต 4669.0 0.00012636538873420433\n"
     ]
    },
    {
     "name": "stderr",
     "output_type": "stream",
     "text": [
      "C:\\Users\\basna\\AppData\\Local\\Temp\\ipykernel_19316\\3107014047.py:5: SettingWithCopyWarning: \n",
      "A value is trying to be set on a copy of a slice from a DataFrame\n",
      "\n",
      "See the caveats in the documentation: https://pandas.pydata.org/pandas-docs/stable/user_guide/indexing.html#returning-a-view-versus-a-copy\n",
      "  df_landuse_suitability_index_2['A_BGEC'].loc[(df_landuse_suitability_index_2['A_BGEC'] > 0) & (df_landuse_suitability_index_2['ADM1_TH'] == i)] = feedstockpergrid\n"
     ]
    },
    {
     "name": "stdout",
     "output_type": "stream",
     "text": [
      "สตูล 19581.0 0.0004514580460650631\n"
     ]
    },
    {
     "name": "stderr",
     "output_type": "stream",
     "text": [
      "C:\\Users\\basna\\AppData\\Local\\Temp\\ipykernel_19316\\3107014047.py:5: SettingWithCopyWarning: \n",
      "A value is trying to be set on a copy of a slice from a DataFrame\n",
      "\n",
      "See the caveats in the documentation: https://pandas.pydata.org/pandas-docs/stable/user_guide/indexing.html#returning-a-view-versus-a-copy\n",
      "  df_landuse_suitability_index_2['A_BGEC'].loc[(df_landuse_suitability_index_2['A_BGEC'] > 0) & (df_landuse_suitability_index_2['ADM1_TH'] == i)] = feedstockpergrid\n"
     ]
    },
    {
     "name": "stdout",
     "output_type": "stream",
     "text": [
      "ยะลา 16491.0 9.217148747801832e-05\n"
     ]
    },
    {
     "name": "stderr",
     "output_type": "stream",
     "text": [
      "C:\\Users\\basna\\AppData\\Local\\Temp\\ipykernel_19316\\3107014047.py:5: SettingWithCopyWarning: \n",
      "A value is trying to be set on a copy of a slice from a DataFrame\n",
      "\n",
      "See the caveats in the documentation: https://pandas.pydata.org/pandas-docs/stable/user_guide/indexing.html#returning-a-view-versus-a-copy\n",
      "  df_landuse_suitability_index_2['A_BGEC'].loc[(df_landuse_suitability_index_2['A_BGEC'] > 0) & (df_landuse_suitability_index_2['ADM1_TH'] == i)] = feedstockpergrid\n"
     ]
    },
    {
     "name": "stdout",
     "output_type": "stream",
     "text": [
      "นราธิวาส 23705.0 0.00019616114743724954\n"
     ]
    },
    {
     "name": "stderr",
     "output_type": "stream",
     "text": [
      "C:\\Users\\basna\\AppData\\Local\\Temp\\ipykernel_19316\\3107014047.py:5: SettingWithCopyWarning: \n",
      "A value is trying to be set on a copy of a slice from a DataFrame\n",
      "\n",
      "See the caveats in the documentation: https://pandas.pydata.org/pandas-docs/stable/user_guide/indexing.html#returning-a-view-versus-a-copy\n",
      "  df_landuse_suitability_index_2['A_BGEC'].loc[(df_landuse_suitability_index_2['A_BGEC'] > 0) & (df_landuse_suitability_index_2['ADM1_TH'] == i)] = feedstockpergrid\n"
     ]
    },
    {
     "name": "stdout",
     "output_type": "stream",
     "text": [
      "สงขลา 48829.0 0.00039996723258719206\n"
     ]
    },
    {
     "name": "stderr",
     "output_type": "stream",
     "text": [
      "C:\\Users\\basna\\AppData\\Local\\Temp\\ipykernel_19316\\3107014047.py:5: SettingWithCopyWarning: \n",
      "A value is trying to be set on a copy of a slice from a DataFrame\n",
      "\n",
      "See the caveats in the documentation: https://pandas.pydata.org/pandas-docs/stable/user_guide/indexing.html#returning-a-view-versus-a-copy\n",
      "  df_landuse_suitability_index_2['A_BGEC'].loc[(df_landuse_suitability_index_2['A_BGEC'] > 0) & (df_landuse_suitability_index_2['ADM1_TH'] == i)] = feedstockpergrid\n"
     ]
    },
    {
     "name": "stdout",
     "output_type": "stream",
     "text": [
      "ปัตตานี 28005.0 0.00015140153544009998\n"
     ]
    },
    {
     "name": "stderr",
     "output_type": "stream",
     "text": [
      "C:\\Users\\basna\\AppData\\Local\\Temp\\ipykernel_19316\\3107014047.py:5: SettingWithCopyWarning: \n",
      "A value is trying to be set on a copy of a slice from a DataFrame\n",
      "\n",
      "See the caveats in the documentation: https://pandas.pydata.org/pandas-docs/stable/user_guide/indexing.html#returning-a-view-versus-a-copy\n",
      "  df_landuse_suitability_index_2['A_BGEC'].loc[(df_landuse_suitability_index_2['A_BGEC'] > 0) & (df_landuse_suitability_index_2['ADM1_TH'] == i)] = feedstockpergrid\n"
     ]
    },
    {
     "name": "stdout",
     "output_type": "stream",
     "text": [
      "ตรัง 38007.0 0.0006043623543031546\n"
     ]
    },
    {
     "name": "stderr",
     "output_type": "stream",
     "text": [
      "C:\\Users\\basna\\AppData\\Local\\Temp\\ipykernel_19316\\3107014047.py:5: SettingWithCopyWarning: \n",
      "A value is trying to be set on a copy of a slice from a DataFrame\n",
      "\n",
      "See the caveats in the documentation: https://pandas.pydata.org/pandas-docs/stable/user_guide/indexing.html#returning-a-view-versus-a-copy\n",
      "  df_landuse_suitability_index_2['A_BGEC'].loc[(df_landuse_suitability_index_2['A_BGEC'] > 0) & (df_landuse_suitability_index_2['ADM1_TH'] == i)] = feedstockpergrid\n"
     ]
    },
    {
     "name": "stdout",
     "output_type": "stream",
     "text": [
      "พัทลุง 39919.0 0.0003514617099626744\n"
     ]
    },
    {
     "name": "stderr",
     "output_type": "stream",
     "text": [
      "C:\\Users\\basna\\AppData\\Local\\Temp\\ipykernel_19316\\3107014047.py:5: SettingWithCopyWarning: \n",
      "A value is trying to be set on a copy of a slice from a DataFrame\n",
      "\n",
      "See the caveats in the documentation: https://pandas.pydata.org/pandas-docs/stable/user_guide/indexing.html#returning-a-view-versus-a-copy\n",
      "  df_landuse_suitability_index_2['A_BGEC'].loc[(df_landuse_suitability_index_2['A_BGEC'] > 0) & (df_landuse_suitability_index_2['ADM1_TH'] == i)] = feedstockpergrid\n"
     ]
    },
    {
     "name": "stdout",
     "output_type": "stream",
     "text": [
      "กระบี่ 46753.0 0.001655936517442731\n"
     ]
    },
    {
     "name": "stderr",
     "output_type": "stream",
     "text": [
      "C:\\Users\\basna\\AppData\\Local\\Temp\\ipykernel_19316\\3107014047.py:5: SettingWithCopyWarning: \n",
      "A value is trying to be set on a copy of a slice from a DataFrame\n",
      "\n",
      "See the caveats in the documentation: https://pandas.pydata.org/pandas-docs/stable/user_guide/indexing.html#returning-a-view-versus-a-copy\n",
      "  df_landuse_suitability_index_2['A_BGEC'].loc[(df_landuse_suitability_index_2['A_BGEC'] > 0) & (df_landuse_suitability_index_2['ADM1_TH'] == i)] = feedstockpergrid\n"
     ]
    },
    {
     "name": "stdout",
     "output_type": "stream",
     "text": [
      "นครศรีธรรมราช 65863.0 0.0004144967584227867\n"
     ]
    },
    {
     "name": "stderr",
     "output_type": "stream",
     "text": [
      "C:\\Users\\basna\\AppData\\Local\\Temp\\ipykernel_19316\\3107014047.py:5: SettingWithCopyWarning: \n",
      "A value is trying to be set on a copy of a slice from a DataFrame\n",
      "\n",
      "See the caveats in the documentation: https://pandas.pydata.org/pandas-docs/stable/user_guide/indexing.html#returning-a-view-versus-a-copy\n",
      "  df_landuse_suitability_index_2['A_BGEC'].loc[(df_landuse_suitability_index_2['A_BGEC'] > 0) & (df_landuse_suitability_index_2['ADM1_TH'] == i)] = feedstockpergrid\n"
     ]
    },
    {
     "name": "stdout",
     "output_type": "stream",
     "text": [
      "พังงา 23444.0 0.0003855997270090428\n"
     ]
    },
    {
     "name": "stderr",
     "output_type": "stream",
     "text": [
      "C:\\Users\\basna\\AppData\\Local\\Temp\\ipykernel_19316\\3107014047.py:5: SettingWithCopyWarning: \n",
      "A value is trying to be set on a copy of a slice from a DataFrame\n",
      "\n",
      "See the caveats in the documentation: https://pandas.pydata.org/pandas-docs/stable/user_guide/indexing.html#returning-a-view-versus-a-copy\n",
      "  df_landuse_suitability_index_2['A_BGEC'].loc[(df_landuse_suitability_index_2['A_BGEC'] > 0) & (df_landuse_suitability_index_2['ADM1_TH'] == i)] = feedstockpergrid\n"
     ]
    },
    {
     "name": "stdout",
     "output_type": "stream",
     "text": [
      "สุราษฎร์ธานี 72160.0 0.0005921563192904656\n"
     ]
    },
    {
     "name": "stderr",
     "output_type": "stream",
     "text": [
      "C:\\Users\\basna\\AppData\\Local\\Temp\\ipykernel_19316\\3107014047.py:5: SettingWithCopyWarning: \n",
      "A value is trying to be set on a copy of a slice from a DataFrame\n",
      "\n",
      "See the caveats in the documentation: https://pandas.pydata.org/pandas-docs/stable/user_guide/indexing.html#returning-a-view-versus-a-copy\n",
      "  df_landuse_suitability_index_2['A_BGEC'].loc[(df_landuse_suitability_index_2['A_BGEC'] > 0) & (df_landuse_suitability_index_2['ADM1_TH'] == i)] = feedstockpergrid\n"
     ]
    },
    {
     "name": "stdout",
     "output_type": "stream",
     "text": [
      "ตราด 10963.0 0.0005773966979841285\n"
     ]
    },
    {
     "name": "stderr",
     "output_type": "stream",
     "text": [
      "C:\\Users\\basna\\AppData\\Local\\Temp\\ipykernel_19316\\3107014047.py:5: SettingWithCopyWarning: \n",
      "A value is trying to be set on a copy of a slice from a DataFrame\n",
      "\n",
      "See the caveats in the documentation: https://pandas.pydata.org/pandas-docs/stable/user_guide/indexing.html#returning-a-view-versus-a-copy\n",
      "  df_landuse_suitability_index_2['A_BGEC'].loc[(df_landuse_suitability_index_2['A_BGEC'] > 0) & (df_landuse_suitability_index_2['ADM1_TH'] == i)] = feedstockpergrid\n"
     ]
    },
    {
     "name": "stdout",
     "output_type": "stream",
     "text": [
      "ระนอง 24787.0 0.0004425707023843144\n"
     ]
    },
    {
     "name": "stderr",
     "output_type": "stream",
     "text": [
      "C:\\Users\\basna\\AppData\\Local\\Temp\\ipykernel_19316\\3107014047.py:5: SettingWithCopyWarning: \n",
      "A value is trying to be set on a copy of a slice from a DataFrame\n",
      "\n",
      "See the caveats in the documentation: https://pandas.pydata.org/pandas-docs/stable/user_guide/indexing.html#returning-a-view-versus-a-copy\n",
      "  df_landuse_suitability_index_2['A_BGEC'].loc[(df_landuse_suitability_index_2['A_BGEC'] > 0) & (df_landuse_suitability_index_2['ADM1_TH'] == i)] = feedstockpergrid\n"
     ]
    },
    {
     "name": "stdout",
     "output_type": "stream",
     "text": [
      "ชุมพร 48190.0 0.0015833160406723385\n"
     ]
    },
    {
     "name": "stderr",
     "output_type": "stream",
     "text": [
      "C:\\Users\\basna\\AppData\\Local\\Temp\\ipykernel_19316\\3107014047.py:5: SettingWithCopyWarning: \n",
      "A value is trying to be set on a copy of a slice from a DataFrame\n",
      "\n",
      "See the caveats in the documentation: https://pandas.pydata.org/pandas-docs/stable/user_guide/indexing.html#returning-a-view-versus-a-copy\n",
      "  df_landuse_suitability_index_2['A_BGEC'].loc[(df_landuse_suitability_index_2['A_BGEC'] > 0) & (df_landuse_suitability_index_2['ADM1_TH'] == i)] = feedstockpergrid\n"
     ]
    },
    {
     "name": "stdout",
     "output_type": "stream",
     "text": [
      "ประจวบคีรีขันธ์ 33585.0 0.0009456602649992557\n"
     ]
    },
    {
     "name": "stderr",
     "output_type": "stream",
     "text": [
      "C:\\Users\\basna\\AppData\\Local\\Temp\\ipykernel_19316\\3107014047.py:5: SettingWithCopyWarning: \n",
      "A value is trying to be set on a copy of a slice from a DataFrame\n",
      "\n",
      "See the caveats in the documentation: https://pandas.pydata.org/pandas-docs/stable/user_guide/indexing.html#returning-a-view-versus-a-copy\n",
      "  df_landuse_suitability_index_2['A_BGEC'].loc[(df_landuse_suitability_index_2['A_BGEC'] > 0) & (df_landuse_suitability_index_2['ADM1_TH'] == i)] = feedstockpergrid\n"
     ]
    },
    {
     "name": "stdout",
     "output_type": "stream",
     "text": [
      "ระยอง 35442.0 0.0006133965351842447\n"
     ]
    },
    {
     "name": "stderr",
     "output_type": "stream",
     "text": [
      "C:\\Users\\basna\\AppData\\Local\\Temp\\ipykernel_19316\\3107014047.py:5: SettingWithCopyWarning: \n",
      "A value is trying to be set on a copy of a slice from a DataFrame\n",
      "\n",
      "See the caveats in the documentation: https://pandas.pydata.org/pandas-docs/stable/user_guide/indexing.html#returning-a-view-versus-a-copy\n",
      "  df_landuse_suitability_index_2['A_BGEC'].loc[(df_landuse_suitability_index_2['A_BGEC'] > 0) & (df_landuse_suitability_index_2['ADM1_TH'] == i)] = feedstockpergrid\n"
     ]
    },
    {
     "name": "stdout",
     "output_type": "stream",
     "text": [
      "ศรีสะเกษ 88048.0 0.0003364074141377431\n"
     ]
    },
    {
     "name": "stderr",
     "output_type": "stream",
     "text": [
      "C:\\Users\\basna\\AppData\\Local\\Temp\\ipykernel_19316\\3107014047.py:5: SettingWithCopyWarning: \n",
      "A value is trying to be set on a copy of a slice from a DataFrame\n",
      "\n",
      "See the caveats in the documentation: https://pandas.pydata.org/pandas-docs/stable/user_guide/indexing.html#returning-a-view-versus-a-copy\n",
      "  df_landuse_suitability_index_2['A_BGEC'].loc[(df_landuse_suitability_index_2['A_BGEC'] > 0) & (df_landuse_suitability_index_2['ADM1_TH'] == i)] = feedstockpergrid\n"
     ]
    },
    {
     "name": "stdout",
     "output_type": "stream",
     "text": [
      "จันทบุรี 41820.0 0.0013926351028216166\n"
     ]
    },
    {
     "name": "stderr",
     "output_type": "stream",
     "text": [
      "C:\\Users\\basna\\AppData\\Local\\Temp\\ipykernel_19316\\3107014047.py:5: SettingWithCopyWarning: \n",
      "A value is trying to be set on a copy of a slice from a DataFrame\n",
      "\n",
      "See the caveats in the documentation: https://pandas.pydata.org/pandas-docs/stable/user_guide/indexing.html#returning-a-view-versus-a-copy\n",
      "  df_landuse_suitability_index_2['A_BGEC'].loc[(df_landuse_suitability_index_2['A_BGEC'] > 0) & (df_landuse_suitability_index_2['ADM1_TH'] == i)] = feedstockpergrid\n"
     ]
    },
    {
     "name": "stdout",
     "output_type": "stream",
     "text": [
      "เพชรบุรี 32663.0 0.00019716498790680586\n"
     ]
    },
    {
     "name": "stderr",
     "output_type": "stream",
     "text": [
      "C:\\Users\\basna\\AppData\\Local\\Temp\\ipykernel_19316\\3107014047.py:5: SettingWithCopyWarning: \n",
      "A value is trying to be set on a copy of a slice from a DataFrame\n",
      "\n",
      "See the caveats in the documentation: https://pandas.pydata.org/pandas-docs/stable/user_guide/indexing.html#returning-a-view-versus-a-copy\n",
      "  df_landuse_suitability_index_2['A_BGEC'].loc[(df_landuse_suitability_index_2['A_BGEC'] > 0) & (df_landuse_suitability_index_2['ADM1_TH'] == i)] = feedstockpergrid\n"
     ]
    },
    {
     "name": "stdout",
     "output_type": "stream",
     "text": [
      "ชลบุรี 30505.0 0.001582035731847238\n"
     ]
    },
    {
     "name": "stderr",
     "output_type": "stream",
     "text": [
      "C:\\Users\\basna\\AppData\\Local\\Temp\\ipykernel_19316\\3107014047.py:5: SettingWithCopyWarning: \n",
      "A value is trying to be set on a copy of a slice from a DataFrame\n",
      "\n",
      "See the caveats in the documentation: https://pandas.pydata.org/pandas-docs/stable/user_guide/indexing.html#returning-a-view-versus-a-copy\n",
      "  df_landuse_suitability_index_2['A_BGEC'].loc[(df_landuse_suitability_index_2['A_BGEC'] > 0) & (df_landuse_suitability_index_2['ADM1_TH'] == i)] = feedstockpergrid\n"
     ]
    },
    {
     "name": "stdout",
     "output_type": "stream",
     "text": [
      "สมุทรสงคราม 13361.0 2.9937878901279845e-06\n"
     ]
    },
    {
     "name": "stderr",
     "output_type": "stream",
     "text": [
      "C:\\Users\\basna\\AppData\\Local\\Temp\\ipykernel_19316\\3107014047.py:5: SettingWithCopyWarning: \n",
      "A value is trying to be set on a copy of a slice from a DataFrame\n",
      "\n",
      "See the caveats in the documentation: https://pandas.pydata.org/pandas-docs/stable/user_guide/indexing.html#returning-a-view-versus-a-copy\n",
      "  df_landuse_suitability_index_2['A_BGEC'].loc[(df_landuse_suitability_index_2['A_BGEC'] > 0) & (df_landuse_suitability_index_2['ADM1_TH'] == i)] = feedstockpergrid\n"
     ]
    },
    {
     "name": "stdout",
     "output_type": "stream",
     "text": [
      "สมุทรปราการ 9564.0 2.4048515265579255e-05\n"
     ]
    },
    {
     "name": "stderr",
     "output_type": "stream",
     "text": [
      "C:\\Users\\basna\\AppData\\Local\\Temp\\ipykernel_19316\\3107014047.py:5: SettingWithCopyWarning: \n",
      "A value is trying to be set on a copy of a slice from a DataFrame\n",
      "\n",
      "See the caveats in the documentation: https://pandas.pydata.org/pandas-docs/stable/user_guide/indexing.html#returning-a-view-versus-a-copy\n",
      "  df_landuse_suitability_index_2['A_BGEC'].loc[(df_landuse_suitability_index_2['A_BGEC'] > 0) & (df_landuse_suitability_index_2['ADM1_TH'] == i)] = feedstockpergrid\n"
     ]
    },
    {
     "name": "stdout",
     "output_type": "stream",
     "text": [
      "สมุทรสาคร 6866.0 2.4759685406350133e-05\n"
     ]
    },
    {
     "name": "stderr",
     "output_type": "stream",
     "text": [
      "C:\\Users\\basna\\AppData\\Local\\Temp\\ipykernel_19316\\3107014047.py:5: SettingWithCopyWarning: \n",
      "A value is trying to be set on a copy of a slice from a DataFrame\n",
      "\n",
      "See the caveats in the documentation: https://pandas.pydata.org/pandas-docs/stable/user_guide/indexing.html#returning-a-view-versus-a-copy\n",
      "  df_landuse_suitability_index_2['A_BGEC'].loc[(df_landuse_suitability_index_2['A_BGEC'] > 0) & (df_landuse_suitability_index_2['ADM1_TH'] == i)] = feedstockpergrid\n"
     ]
    },
    {
     "name": "stdout",
     "output_type": "stream",
     "text": [
      "อุบลราชธานี 103099.0 0.000487783586649725\n"
     ]
    },
    {
     "name": "stderr",
     "output_type": "stream",
     "text": [
      "C:\\Users\\basna\\AppData\\Local\\Temp\\ipykernel_19316\\3107014047.py:5: SettingWithCopyWarning: \n",
      "A value is trying to be set on a copy of a slice from a DataFrame\n",
      "\n",
      "See the caveats in the documentation: https://pandas.pydata.org/pandas-docs/stable/user_guide/indexing.html#returning-a-view-versus-a-copy\n",
      "  df_landuse_suitability_index_2['A_BGEC'].loc[(df_landuse_suitability_index_2['A_BGEC'] > 0) & (df_landuse_suitability_index_2['ADM1_TH'] == i)] = feedstockpergrid\n"
     ]
    },
    {
     "name": "stdout",
     "output_type": "stream",
     "text": [
      "กาญจนบุรี 39025.0 0.0014608584240871235\n"
     ]
    },
    {
     "name": "stderr",
     "output_type": "stream",
     "text": [
      "C:\\Users\\basna\\AppData\\Local\\Temp\\ipykernel_19316\\3107014047.py:5: SettingWithCopyWarning: \n",
      "A value is trying to be set on a copy of a slice from a DataFrame\n",
      "\n",
      "See the caveats in the documentation: https://pandas.pydata.org/pandas-docs/stable/user_guide/indexing.html#returning-a-view-versus-a-copy\n",
      "  df_landuse_suitability_index_2['A_BGEC'].loc[(df_landuse_suitability_index_2['A_BGEC'] > 0) & (df_landuse_suitability_index_2['ADM1_TH'] == i)] = feedstockpergrid\n"
     ]
    },
    {
     "name": "stdout",
     "output_type": "stream",
     "text": [
      "ราชบุรี 50559.0 0.0008346684072074211\n"
     ]
    },
    {
     "name": "stderr",
     "output_type": "stream",
     "text": [
      "C:\\Users\\basna\\AppData\\Local\\Temp\\ipykernel_19316\\3107014047.py:5: SettingWithCopyWarning: \n",
      "A value is trying to be set on a copy of a slice from a DataFrame\n",
      "\n",
      "See the caveats in the documentation: https://pandas.pydata.org/pandas-docs/stable/user_guide/indexing.html#returning-a-view-versus-a-copy\n",
      "  df_landuse_suitability_index_2['A_BGEC'].loc[(df_landuse_suitability_index_2['A_BGEC'] > 0) & (df_landuse_suitability_index_2['ADM1_TH'] == i)] = feedstockpergrid\n"
     ]
    },
    {
     "name": "stdout",
     "output_type": "stream",
     "text": [
      "สระแก้ว 58851.0 0.0008181679155834225\n"
     ]
    },
    {
     "name": "stderr",
     "output_type": "stream",
     "text": [
      "C:\\Users\\basna\\AppData\\Local\\Temp\\ipykernel_19316\\3107014047.py:5: SettingWithCopyWarning: \n",
      "A value is trying to be set on a copy of a slice from a DataFrame\n",
      "\n",
      "See the caveats in the documentation: https://pandas.pydata.org/pandas-docs/stable/user_guide/indexing.html#returning-a-view-versus-a-copy\n",
      "  df_landuse_suitability_index_2['A_BGEC'].loc[(df_landuse_suitability_index_2['A_BGEC'] > 0) & (df_landuse_suitability_index_2['ADM1_TH'] == i)] = feedstockpergrid\n"
     ]
    },
    {
     "name": "stdout",
     "output_type": "stream",
     "text": [
      "สุรินทร์ 89913.0 0.00027137343876858737\n"
     ]
    },
    {
     "name": "stderr",
     "output_type": "stream",
     "text": [
      "C:\\Users\\basna\\AppData\\Local\\Temp\\ipykernel_19316\\3107014047.py:5: SettingWithCopyWarning: \n",
      "A value is trying to be set on a copy of a slice from a DataFrame\n",
      "\n",
      "See the caveats in the documentation: https://pandas.pydata.org/pandas-docs/stable/user_guide/indexing.html#returning-a-view-versus-a-copy\n",
      "  df_landuse_suitability_index_2['A_BGEC'].loc[(df_landuse_suitability_index_2['A_BGEC'] > 0) & (df_landuse_suitability_index_2['ADM1_TH'] == i)] = feedstockpergrid\n"
     ]
    },
    {
     "name": "stdout",
     "output_type": "stream",
     "text": [
      "ฉะเชิงเทรา 42550.0 0.0011365452408930669\n"
     ]
    },
    {
     "name": "stderr",
     "output_type": "stream",
     "text": [
      "C:\\Users\\basna\\AppData\\Local\\Temp\\ipykernel_19316\\3107014047.py:5: SettingWithCopyWarning: \n",
      "A value is trying to be set on a copy of a slice from a DataFrame\n",
      "\n",
      "See the caveats in the documentation: https://pandas.pydata.org/pandas-docs/stable/user_guide/indexing.html#returning-a-view-versus-a-copy\n",
      "  df_landuse_suitability_index_2['A_BGEC'].loc[(df_landuse_suitability_index_2['A_BGEC'] > 0) & (df_landuse_suitability_index_2['ADM1_TH'] == i)] = feedstockpergrid\n"
     ]
    },
    {
     "name": "stdout",
     "output_type": "stream",
     "text": [
      "กรุงเทพมหานคร 3929.0 0.00030542122677526084\n"
     ]
    },
    {
     "name": "stderr",
     "output_type": "stream",
     "text": [
      "C:\\Users\\basna\\AppData\\Local\\Temp\\ipykernel_19316\\3107014047.py:5: SettingWithCopyWarning: \n",
      "A value is trying to be set on a copy of a slice from a DataFrame\n",
      "\n",
      "See the caveats in the documentation: https://pandas.pydata.org/pandas-docs/stable/user_guide/indexing.html#returning-a-view-versus-a-copy\n",
      "  df_landuse_suitability_index_2['A_BGEC'].loc[(df_landuse_suitability_index_2['A_BGEC'] > 0) & (df_landuse_suitability_index_2['ADM1_TH'] == i)] = feedstockpergrid\n"
     ]
    },
    {
     "name": "stdout",
     "output_type": "stream",
     "text": [
      "ปราจีนบุรี 38302.0 0.0006876925486919743\n"
     ]
    },
    {
     "name": "stderr",
     "output_type": "stream",
     "text": [
      "C:\\Users\\basna\\AppData\\Local\\Temp\\ipykernel_19316\\3107014047.py:5: SettingWithCopyWarning: \n",
      "A value is trying to be set on a copy of a slice from a DataFrame\n",
      "\n",
      "See the caveats in the documentation: https://pandas.pydata.org/pandas-docs/stable/user_guide/indexing.html#returning-a-view-versus-a-copy\n",
      "  df_landuse_suitability_index_2['A_BGEC'].loc[(df_landuse_suitability_index_2['A_BGEC'] > 0) & (df_landuse_suitability_index_2['ADM1_TH'] == i)] = feedstockpergrid\n"
     ]
    },
    {
     "name": "stdout",
     "output_type": "stream",
     "text": [
      "นครปฐม 35982.0 0.0004274359401923184\n"
     ]
    },
    {
     "name": "stderr",
     "output_type": "stream",
     "text": [
      "C:\\Users\\basna\\AppData\\Local\\Temp\\ipykernel_19316\\3107014047.py:5: SettingWithCopyWarning: \n",
      "A value is trying to be set on a copy of a slice from a DataFrame\n",
      "\n",
      "See the caveats in the documentation: https://pandas.pydata.org/pandas-docs/stable/user_guide/indexing.html#returning-a-view-versus-a-copy\n",
      "  df_landuse_suitability_index_2['A_BGEC'].loc[(df_landuse_suitability_index_2['A_BGEC'] > 0) & (df_landuse_suitability_index_2['ADM1_TH'] == i)] = feedstockpergrid\n"
     ]
    },
    {
     "name": "stdout",
     "output_type": "stream",
     "text": [
      "นนทบุรี 10593.0 4.531294250920419e-05\n"
     ]
    },
    {
     "name": "stderr",
     "output_type": "stream",
     "text": [
      "C:\\Users\\basna\\AppData\\Local\\Temp\\ipykernel_19316\\3107014047.py:5: SettingWithCopyWarning: \n",
      "A value is trying to be set on a copy of a slice from a DataFrame\n",
      "\n",
      "See the caveats in the documentation: https://pandas.pydata.org/pandas-docs/stable/user_guide/indexing.html#returning-a-view-versus-a-copy\n",
      "  df_landuse_suitability_index_2['A_BGEC'].loc[(df_landuse_suitability_index_2['A_BGEC'] > 0) & (df_landuse_suitability_index_2['ADM1_TH'] == i)] = feedstockpergrid\n"
     ]
    },
    {
     "name": "stdout",
     "output_type": "stream",
     "text": [
      "นครนายก 24212.0 0.00016727242689575417\n"
     ]
    },
    {
     "name": "stderr",
     "output_type": "stream",
     "text": [
      "C:\\Users\\basna\\AppData\\Local\\Temp\\ipykernel_19316\\3107014047.py:5: SettingWithCopyWarning: \n",
      "A value is trying to be set on a copy of a slice from a DataFrame\n",
      "\n",
      "See the caveats in the documentation: https://pandas.pydata.org/pandas-docs/stable/user_guide/indexing.html#returning-a-view-versus-a-copy\n",
      "  df_landuse_suitability_index_2['A_BGEC'].loc[(df_landuse_suitability_index_2['A_BGEC'] > 0) & (df_landuse_suitability_index_2['ADM1_TH'] == i)] = feedstockpergrid\n"
     ]
    },
    {
     "name": "stdout",
     "output_type": "stream",
     "text": [
      "บุรีรัมย์ 111255.0 1.743741854298683e-05\n"
     ]
    },
    {
     "name": "stderr",
     "output_type": "stream",
     "text": [
      "C:\\Users\\basna\\AppData\\Local\\Temp\\ipykernel_19316\\3107014047.py:5: SettingWithCopyWarning: \n",
      "A value is trying to be set on a copy of a slice from a DataFrame\n",
      "\n",
      "See the caveats in the documentation: https://pandas.pydata.org/pandas-docs/stable/user_guide/indexing.html#returning-a-view-versus-a-copy\n",
      "  df_landuse_suitability_index_2['A_BGEC'].loc[(df_landuse_suitability_index_2['A_BGEC'] > 0) & (df_landuse_suitability_index_2['ADM1_TH'] == i)] = feedstockpergrid\n"
     ]
    },
    {
     "name": "stdout",
     "output_type": "stream",
     "text": [
      "ปทุมธานี 16747.0 0.0003869349734280767\n"
     ]
    },
    {
     "name": "stderr",
     "output_type": "stream",
     "text": [
      "C:\\Users\\basna\\AppData\\Local\\Temp\\ipykernel_19316\\3107014047.py:5: SettingWithCopyWarning: \n",
      "A value is trying to be set on a copy of a slice from a DataFrame\n",
      "\n",
      "See the caveats in the documentation: https://pandas.pydata.org/pandas-docs/stable/user_guide/indexing.html#returning-a-view-versus-a-copy\n",
      "  df_landuse_suitability_index_2['A_BGEC'].loc[(df_landuse_suitability_index_2['A_BGEC'] > 0) & (df_landuse_suitability_index_2['ADM1_TH'] == i)] = feedstockpergrid\n"
     ]
    },
    {
     "name": "stdout",
     "output_type": "stream",
     "text": [
      "สุพรรณบุรี 55441.0 0.0007694666402121174\n"
     ]
    },
    {
     "name": "stderr",
     "output_type": "stream",
     "text": [
      "C:\\Users\\basna\\AppData\\Local\\Temp\\ipykernel_19316\\3107014047.py:5: SettingWithCopyWarning: \n",
      "A value is trying to be set on a copy of a slice from a DataFrame\n",
      "\n",
      "See the caveats in the documentation: https://pandas.pydata.org/pandas-docs/stable/user_guide/indexing.html#returning-a-view-versus-a-copy\n",
      "  df_landuse_suitability_index_2['A_BGEC'].loc[(df_landuse_suitability_index_2['A_BGEC'] > 0) & (df_landuse_suitability_index_2['ADM1_TH'] == i)] = feedstockpergrid\n"
     ]
    },
    {
     "name": "stdout",
     "output_type": "stream",
     "text": [
      "พระนครศรีอยุธยา 22355.0 7.962424513531649e-05\n"
     ]
    },
    {
     "name": "stderr",
     "output_type": "stream",
     "text": [
      "C:\\Users\\basna\\AppData\\Local\\Temp\\ipykernel_19316\\3107014047.py:5: SettingWithCopyWarning: \n",
      "A value is trying to be set on a copy of a slice from a DataFrame\n",
      "\n",
      "See the caveats in the documentation: https://pandas.pydata.org/pandas-docs/stable/user_guide/indexing.html#returning-a-view-versus-a-copy\n",
      "  df_landuse_suitability_index_2['A_BGEC'].loc[(df_landuse_suitability_index_2['A_BGEC'] > 0) & (df_landuse_suitability_index_2['ADM1_TH'] == i)] = feedstockpergrid\n"
     ]
    },
    {
     "name": "stdout",
     "output_type": "stream",
     "text": [
      "อ่างทอง 21888.0 5.071271929824562e-05\n"
     ]
    },
    {
     "name": "stderr",
     "output_type": "stream",
     "text": [
      "C:\\Users\\basna\\AppData\\Local\\Temp\\ipykernel_19316\\3107014047.py:5: SettingWithCopyWarning: \n",
      "A value is trying to be set on a copy of a slice from a DataFrame\n",
      "\n",
      "See the caveats in the documentation: https://pandas.pydata.org/pandas-docs/stable/user_guide/indexing.html#returning-a-view-versus-a-copy\n",
      "  df_landuse_suitability_index_2['A_BGEC'].loc[(df_landuse_suitability_index_2['A_BGEC'] > 0) & (df_landuse_suitability_index_2['ADM1_TH'] == i)] = feedstockpergrid\n"
     ]
    },
    {
     "name": "stdout",
     "output_type": "stream",
     "text": [
      "สระบุรี 37018.0 0.001147279701766708\n"
     ]
    },
    {
     "name": "stderr",
     "output_type": "stream",
     "text": [
      "C:\\Users\\basna\\AppData\\Local\\Temp\\ipykernel_19316\\3107014047.py:5: SettingWithCopyWarning: \n",
      "A value is trying to be set on a copy of a slice from a DataFrame\n",
      "\n",
      "See the caveats in the documentation: https://pandas.pydata.org/pandas-docs/stable/user_guide/indexing.html#returning-a-view-versus-a-copy\n",
      "  df_landuse_suitability_index_2['A_BGEC'].loc[(df_landuse_suitability_index_2['A_BGEC'] > 0) & (df_landuse_suitability_index_2['ADM1_TH'] == i)] = feedstockpergrid\n"
     ]
    },
    {
     "name": "stdout",
     "output_type": "stream",
     "text": [
      "นครราชสีมา 124145.0 0.0026812195416649888\n"
     ]
    },
    {
     "name": "stderr",
     "output_type": "stream",
     "text": [
      "C:\\Users\\basna\\AppData\\Local\\Temp\\ipykernel_19316\\3107014047.py:5: SettingWithCopyWarning: \n",
      "A value is trying to be set on a copy of a slice from a DataFrame\n",
      "\n",
      "See the caveats in the documentation: https://pandas.pydata.org/pandas-docs/stable/user_guide/indexing.html#returning-a-view-versus-a-copy\n",
      "  df_landuse_suitability_index_2['A_BGEC'].loc[(df_landuse_suitability_index_2['A_BGEC'] > 0) & (df_landuse_suitability_index_2['ADM1_TH'] == i)] = feedstockpergrid\n"
     ]
    },
    {
     "name": "stdout",
     "output_type": "stream",
     "text": [
      "สิงห์บุรี 28905.0 1.5568240788790867e-05\n"
     ]
    },
    {
     "name": "stderr",
     "output_type": "stream",
     "text": [
      "C:\\Users\\basna\\AppData\\Local\\Temp\\ipykernel_19316\\3107014047.py:5: SettingWithCopyWarning: \n",
      "A value is trying to be set on a copy of a slice from a DataFrame\n",
      "\n",
      "See the caveats in the documentation: https://pandas.pydata.org/pandas-docs/stable/user_guide/indexing.html#returning-a-view-versus-a-copy\n",
      "  df_landuse_suitability_index_2['A_BGEC'].loc[(df_landuse_suitability_index_2['A_BGEC'] > 0) & (df_landuse_suitability_index_2['ADM1_TH'] == i)] = feedstockpergrid\n"
     ]
    },
    {
     "name": "stdout",
     "output_type": "stream",
     "text": [
      "ลพบุรี 80434.0 0.0004566476863018126\n"
     ]
    },
    {
     "name": "stderr",
     "output_type": "stream",
     "text": [
      "C:\\Users\\basna\\AppData\\Local\\Temp\\ipykernel_19316\\3107014047.py:5: SettingWithCopyWarning: \n",
      "A value is trying to be set on a copy of a slice from a DataFrame\n",
      "\n",
      "See the caveats in the documentation: https://pandas.pydata.org/pandas-docs/stable/user_guide/indexing.html#returning-a-view-versus-a-copy\n",
      "  df_landuse_suitability_index_2['A_BGEC'].loc[(df_landuse_suitability_index_2['A_BGEC'] > 0) & (df_landuse_suitability_index_2['ADM1_TH'] == i)] = feedstockpergrid\n"
     ]
    },
    {
     "name": "stdout",
     "output_type": "stream",
     "text": [
      "ชัยนาท 35459.0 0.00012859922727657293\n"
     ]
    },
    {
     "name": "stderr",
     "output_type": "stream",
     "text": [
      "C:\\Users\\basna\\AppData\\Local\\Temp\\ipykernel_19316\\3107014047.py:5: SettingWithCopyWarning: \n",
      "A value is trying to be set on a copy of a slice from a DataFrame\n",
      "\n",
      "See the caveats in the documentation: https://pandas.pydata.org/pandas-docs/stable/user_guide/indexing.html#returning-a-view-versus-a-copy\n",
      "  df_landuse_suitability_index_2['A_BGEC'].loc[(df_landuse_suitability_index_2['A_BGEC'] > 0) & (df_landuse_suitability_index_2['ADM1_TH'] == i)] = feedstockpergrid\n"
     ]
    },
    {
     "name": "stdout",
     "output_type": "stream",
     "text": [
      "อุทัยธานี 40094.0 0.000408789345039158\n"
     ]
    },
    {
     "name": "stderr",
     "output_type": "stream",
     "text": [
      "C:\\Users\\basna\\AppData\\Local\\Temp\\ipykernel_19316\\3107014047.py:5: SettingWithCopyWarning: \n",
      "A value is trying to be set on a copy of a slice from a DataFrame\n",
      "\n",
      "See the caveats in the documentation: https://pandas.pydata.org/pandas-docs/stable/user_guide/indexing.html#returning-a-view-versus-a-copy\n",
      "  df_landuse_suitability_index_2['A_BGEC'].loc[(df_landuse_suitability_index_2['A_BGEC'] > 0) & (df_landuse_suitability_index_2['ADM1_TH'] == i)] = feedstockpergrid\n"
     ]
    },
    {
     "name": "stdout",
     "output_type": "stream",
     "text": [
      "นครสวรรค์ 63372.0 0.00022296913463359214\n"
     ]
    },
    {
     "name": "stderr",
     "output_type": "stream",
     "text": [
      "C:\\Users\\basna\\AppData\\Local\\Temp\\ipykernel_19316\\3107014047.py:5: SettingWithCopyWarning: \n",
      "A value is trying to be set on a copy of a slice from a DataFrame\n",
      "\n",
      "See the caveats in the documentation: https://pandas.pydata.org/pandas-docs/stable/user_guide/indexing.html#returning-a-view-versus-a-copy\n",
      "  df_landuse_suitability_index_2['A_BGEC'].loc[(df_landuse_suitability_index_2['A_BGEC'] > 0) & (df_landuse_suitability_index_2['ADM1_TH'] == i)] = feedstockpergrid\n"
     ]
    },
    {
     "name": "stdout",
     "output_type": "stream",
     "text": [
      "ร้อยเอ็ด 66275.0 0.0003895888344021124\n"
     ]
    },
    {
     "name": "stderr",
     "output_type": "stream",
     "text": [
      "C:\\Users\\basna\\AppData\\Local\\Temp\\ipykernel_19316\\3107014047.py:5: SettingWithCopyWarning: \n",
      "A value is trying to be set on a copy of a slice from a DataFrame\n",
      "\n",
      "See the caveats in the documentation: https://pandas.pydata.org/pandas-docs/stable/user_guide/indexing.html#returning-a-view-versus-a-copy\n",
      "  df_landuse_suitability_index_2['A_BGEC'].loc[(df_landuse_suitability_index_2['A_BGEC'] > 0) & (df_landuse_suitability_index_2['ADM1_TH'] == i)] = feedstockpergrid\n"
     ]
    },
    {
     "name": "stdout",
     "output_type": "stream",
     "text": [
      "อำนาจเจริญ 60508.0 0.00028657367620810474\n"
     ]
    },
    {
     "name": "stderr",
     "output_type": "stream",
     "text": [
      "C:\\Users\\basna\\AppData\\Local\\Temp\\ipykernel_19316\\3107014047.py:5: SettingWithCopyWarning: \n",
      "A value is trying to be set on a copy of a slice from a DataFrame\n",
      "\n",
      "See the caveats in the documentation: https://pandas.pydata.org/pandas-docs/stable/user_guide/indexing.html#returning-a-view-versus-a-copy\n",
      "  df_landuse_suitability_index_2['A_BGEC'].loc[(df_landuse_suitability_index_2['A_BGEC'] > 0) & (df_landuse_suitability_index_2['ADM1_TH'] == i)] = feedstockpergrid\n"
     ]
    },
    {
     "name": "stdout",
     "output_type": "stream",
     "text": [
      "ยโสธร 51084.0 0.0001740270926317438\n"
     ]
    },
    {
     "name": "stderr",
     "output_type": "stream",
     "text": [
      "C:\\Users\\basna\\AppData\\Local\\Temp\\ipykernel_19316\\3107014047.py:5: SettingWithCopyWarning: \n",
      "A value is trying to be set on a copy of a slice from a DataFrame\n",
      "\n",
      "See the caveats in the documentation: https://pandas.pydata.org/pandas-docs/stable/user_guide/indexing.html#returning-a-view-versus-a-copy\n",
      "  df_landuse_suitability_index_2['A_BGEC'].loc[(df_landuse_suitability_index_2['A_BGEC'] > 0) & (df_landuse_suitability_index_2['ADM1_TH'] == i)] = feedstockpergrid\n"
     ]
    },
    {
     "name": "stdout",
     "output_type": "stream",
     "text": [
      "มหาสารคาม 94960.0 0.0001803917438921651\n"
     ]
    },
    {
     "name": "stderr",
     "output_type": "stream",
     "text": [
      "C:\\Users\\basna\\AppData\\Local\\Temp\\ipykernel_19316\\3107014047.py:5: SettingWithCopyWarning: \n",
      "A value is trying to be set on a copy of a slice from a DataFrame\n",
      "\n",
      "See the caveats in the documentation: https://pandas.pydata.org/pandas-docs/stable/user_guide/indexing.html#returning-a-view-versus-a-copy\n",
      "  df_landuse_suitability_index_2['A_BGEC'].loc[(df_landuse_suitability_index_2['A_BGEC'] > 0) & (df_landuse_suitability_index_2['ADM1_TH'] == i)] = feedstockpergrid\n"
     ]
    },
    {
     "name": "stdout",
     "output_type": "stream",
     "text": [
      "ชัยภูมิ 96668.0 0.0007223693466297017\n"
     ]
    },
    {
     "name": "stderr",
     "output_type": "stream",
     "text": [
      "C:\\Users\\basna\\AppData\\Local\\Temp\\ipykernel_19316\\3107014047.py:5: SettingWithCopyWarning: \n",
      "A value is trying to be set on a copy of a slice from a DataFrame\n",
      "\n",
      "See the caveats in the documentation: https://pandas.pydata.org/pandas-docs/stable/user_guide/indexing.html#returning-a-view-versus-a-copy\n",
      "  df_landuse_suitability_index_2['A_BGEC'].loc[(df_landuse_suitability_index_2['A_BGEC'] > 0) & (df_landuse_suitability_index_2['ADM1_TH'] == i)] = feedstockpergrid\n"
     ]
    },
    {
     "name": "stdout",
     "output_type": "stream",
     "text": [
      "ตาก 36285.0 0.000420008267879289\n"
     ]
    },
    {
     "name": "stderr",
     "output_type": "stream",
     "text": [
      "C:\\Users\\basna\\AppData\\Local\\Temp\\ipykernel_19316\\3107014047.py:5: SettingWithCopyWarning: \n",
      "A value is trying to be set on a copy of a slice from a DataFrame\n",
      "\n",
      "See the caveats in the documentation: https://pandas.pydata.org/pandas-docs/stable/user_guide/indexing.html#returning-a-view-versus-a-copy\n",
      "  df_landuse_suitability_index_2['A_BGEC'].loc[(df_landuse_suitability_index_2['A_BGEC'] > 0) & (df_landuse_suitability_index_2['ADM1_TH'] == i)] = feedstockpergrid\n"
     ]
    },
    {
     "name": "stdout",
     "output_type": "stream",
     "text": [
      "เพชรบูรณ์ 65053.0 0.0001650961523680691\n"
     ]
    },
    {
     "name": "stderr",
     "output_type": "stream",
     "text": [
      "C:\\Users\\basna\\AppData\\Local\\Temp\\ipykernel_19316\\3107014047.py:5: SettingWithCopyWarning: \n",
      "A value is trying to be set on a copy of a slice from a DataFrame\n",
      "\n",
      "See the caveats in the documentation: https://pandas.pydata.org/pandas-docs/stable/user_guide/indexing.html#returning-a-view-versus-a-copy\n",
      "  df_landuse_suitability_index_2['A_BGEC'].loc[(df_landuse_suitability_index_2['A_BGEC'] > 0) & (df_landuse_suitability_index_2['ADM1_TH'] == i)] = feedstockpergrid\n"
     ]
    },
    {
     "name": "stdout",
     "output_type": "stream",
     "text": [
      "ขอนแก่น 88390.0 0.0006300486480371083\n"
     ]
    },
    {
     "name": "stderr",
     "output_type": "stream",
     "text": [
      "C:\\Users\\basna\\AppData\\Local\\Temp\\ipykernel_19316\\3107014047.py:5: SettingWithCopyWarning: \n",
      "A value is trying to be set on a copy of a slice from a DataFrame\n",
      "\n",
      "See the caveats in the documentation: https://pandas.pydata.org/pandas-docs/stable/user_guide/indexing.html#returning-a-view-versus-a-copy\n",
      "  df_landuse_suitability_index_2['A_BGEC'].loc[(df_landuse_suitability_index_2['A_BGEC'] > 0) & (df_landuse_suitability_index_2['ADM1_TH'] == i)] = feedstockpergrid\n"
     ]
    },
    {
     "name": "stdout",
     "output_type": "stream",
     "text": [
      "พิจิตร 72046.0 1.984843016961386e-05\n"
     ]
    },
    {
     "name": "stderr",
     "output_type": "stream",
     "text": [
      "C:\\Users\\basna\\AppData\\Local\\Temp\\ipykernel_19316\\3107014047.py:5: SettingWithCopyWarning: \n",
      "A value is trying to be set on a copy of a slice from a DataFrame\n",
      "\n",
      "See the caveats in the documentation: https://pandas.pydata.org/pandas-docs/stable/user_guide/indexing.html#returning-a-view-versus-a-copy\n",
      "  df_landuse_suitability_index_2['A_BGEC'].loc[(df_landuse_suitability_index_2['A_BGEC'] > 0) & (df_landuse_suitability_index_2['ADM1_TH'] == i)] = feedstockpergrid\n"
     ]
    },
    {
     "name": "stdout",
     "output_type": "stream",
     "text": [
      "กำแพงเพชร 75749.0 0.0008843681104701051\n"
     ]
    },
    {
     "name": "stderr",
     "output_type": "stream",
     "text": [
      "C:\\Users\\basna\\AppData\\Local\\Temp\\ipykernel_19316\\3107014047.py:5: SettingWithCopyWarning: \n",
      "A value is trying to be set on a copy of a slice from a DataFrame\n",
      "\n",
      "See the caveats in the documentation: https://pandas.pydata.org/pandas-docs/stable/user_guide/indexing.html#returning-a-view-versus-a-copy\n",
      "  df_landuse_suitability_index_2['A_BGEC'].loc[(df_landuse_suitability_index_2['A_BGEC'] > 0) & (df_landuse_suitability_index_2['ADM1_TH'] == i)] = feedstockpergrid\n"
     ]
    },
    {
     "name": "stdout",
     "output_type": "stream",
     "text": [
      "มุกดาหาร 49570.0 0.00025983457736534197\n"
     ]
    },
    {
     "name": "stderr",
     "output_type": "stream",
     "text": [
      "C:\\Users\\basna\\AppData\\Local\\Temp\\ipykernel_19316\\3107014047.py:5: SettingWithCopyWarning: \n",
      "A value is trying to be set on a copy of a slice from a DataFrame\n",
      "\n",
      "See the caveats in the documentation: https://pandas.pydata.org/pandas-docs/stable/user_guide/indexing.html#returning-a-view-versus-a-copy\n",
      "  df_landuse_suitability_index_2['A_BGEC'].loc[(df_landuse_suitability_index_2['A_BGEC'] > 0) & (df_landuse_suitability_index_2['ADM1_TH'] == i)] = feedstockpergrid\n"
     ]
    },
    {
     "name": "stdout",
     "output_type": "stream",
     "text": [
      "กาฬสินธุ์ 77428.0 0.0010243064524461435\n"
     ]
    },
    {
     "name": "stderr",
     "output_type": "stream",
     "text": [
      "C:\\Users\\basna\\AppData\\Local\\Temp\\ipykernel_19316\\3107014047.py:5: SettingWithCopyWarning: \n",
      "A value is trying to be set on a copy of a slice from a DataFrame\n",
      "\n",
      "See the caveats in the documentation: https://pandas.pydata.org/pandas-docs/stable/user_guide/indexing.html#returning-a-view-versus-a-copy\n",
      "  df_landuse_suitability_index_2['A_BGEC'].loc[(df_landuse_suitability_index_2['A_BGEC'] > 0) & (df_landuse_suitability_index_2['ADM1_TH'] == i)] = feedstockpergrid\n"
     ]
    },
    {
     "name": "stdout",
     "output_type": "stream",
     "text": [
      "พิษณุโลก 60291.0 5.622729760660795e-05\n"
     ]
    },
    {
     "name": "stderr",
     "output_type": "stream",
     "text": [
      "C:\\Users\\basna\\AppData\\Local\\Temp\\ipykernel_19316\\3107014047.py:5: SettingWithCopyWarning: \n",
      "A value is trying to be set on a copy of a slice from a DataFrame\n",
      "\n",
      "See the caveats in the documentation: https://pandas.pydata.org/pandas-docs/stable/user_guide/indexing.html#returning-a-view-versus-a-copy\n",
      "  df_landuse_suitability_index_2['A_BGEC'].loc[(df_landuse_suitability_index_2['A_BGEC'] > 0) & (df_landuse_suitability_index_2['ADM1_TH'] == i)] = feedstockpergrid\n"
     ]
    },
    {
     "name": "stdout",
     "output_type": "stream",
     "text": [
      "หนองบัวลำภู 74335.0 2.7846909262124165e-05\n"
     ]
    },
    {
     "name": "stderr",
     "output_type": "stream",
     "text": [
      "C:\\Users\\basna\\AppData\\Local\\Temp\\ipykernel_19316\\3107014047.py:5: SettingWithCopyWarning: \n",
      "A value is trying to be set on a copy of a slice from a DataFrame\n",
      "\n",
      "See the caveats in the documentation: https://pandas.pydata.org/pandas-docs/stable/user_guide/indexing.html#returning-a-view-versus-a-copy\n",
      "  df_landuse_suitability_index_2['A_BGEC'].loc[(df_landuse_suitability_index_2['A_BGEC'] > 0) & (df_landuse_suitability_index_2['ADM1_TH'] == i)] = feedstockpergrid\n"
     ]
    },
    {
     "name": "stdout",
     "output_type": "stream",
     "text": [
      "เลย 83197.0 7.404113129079173e-05\n"
     ]
    },
    {
     "name": "stderr",
     "output_type": "stream",
     "text": [
      "C:\\Users\\basna\\AppData\\Local\\Temp\\ipykernel_19316\\3107014047.py:5: SettingWithCopyWarning: \n",
      "A value is trying to be set on a copy of a slice from a DataFrame\n",
      "\n",
      "See the caveats in the documentation: https://pandas.pydata.org/pandas-docs/stable/user_guide/indexing.html#returning-a-view-versus-a-copy\n",
      "  df_landuse_suitability_index_2['A_BGEC'].loc[(df_landuse_suitability_index_2['A_BGEC'] > 0) & (df_landuse_suitability_index_2['ADM1_TH'] == i)] = feedstockpergrid\n"
     ]
    },
    {
     "name": "stdout",
     "output_type": "stream",
     "text": [
      "สุโขทัย 77748.0 3.974378762154653e-05\n"
     ]
    },
    {
     "name": "stderr",
     "output_type": "stream",
     "text": [
      "C:\\Users\\basna\\AppData\\Local\\Temp\\ipykernel_19316\\3107014047.py:5: SettingWithCopyWarning: \n",
      "A value is trying to be set on a copy of a slice from a DataFrame\n",
      "\n",
      "See the caveats in the documentation: https://pandas.pydata.org/pandas-docs/stable/user_guide/indexing.html#returning-a-view-versus-a-copy\n",
      "  df_landuse_suitability_index_2['A_BGEC'].loc[(df_landuse_suitability_index_2['A_BGEC'] > 0) & (df_landuse_suitability_index_2['ADM1_TH'] == i)] = feedstockpergrid\n"
     ]
    },
    {
     "name": "stdout",
     "output_type": "stream",
     "text": [
      "อุดรธานี 70765.0 0.0005473044584187098\n"
     ]
    },
    {
     "name": "stderr",
     "output_type": "stream",
     "text": [
      "C:\\Users\\basna\\AppData\\Local\\Temp\\ipykernel_19316\\3107014047.py:5: SettingWithCopyWarning: \n",
      "A value is trying to be set on a copy of a slice from a DataFrame\n",
      "\n",
      "See the caveats in the documentation: https://pandas.pydata.org/pandas-docs/stable/user_guide/indexing.html#returning-a-view-versus-a-copy\n",
      "  df_landuse_suitability_index_2['A_BGEC'].loc[(df_landuse_suitability_index_2['A_BGEC'] > 0) & (df_landuse_suitability_index_2['ADM1_TH'] == i)] = feedstockpergrid\n"
     ]
    },
    {
     "name": "stdout",
     "output_type": "stream",
     "text": [
      "สกลนคร 65691.0 0.00035971442054467126\n"
     ]
    },
    {
     "name": "stderr",
     "output_type": "stream",
     "text": [
      "C:\\Users\\basna\\AppData\\Local\\Temp\\ipykernel_19316\\3107014047.py:5: SettingWithCopyWarning: \n",
      "A value is trying to be set on a copy of a slice from a DataFrame\n",
      "\n",
      "See the caveats in the documentation: https://pandas.pydata.org/pandas-docs/stable/user_guide/indexing.html#returning-a-view-versus-a-copy\n",
      "  df_landuse_suitability_index_2['A_BGEC'].loc[(df_landuse_suitability_index_2['A_BGEC'] > 0) & (df_landuse_suitability_index_2['ADM1_TH'] == i)] = feedstockpergrid\n"
     ]
    },
    {
     "name": "stdout",
     "output_type": "stream",
     "text": [
      "นครพนม 51562.0 0.0001070555835692952\n"
     ]
    },
    {
     "name": "stderr",
     "output_type": "stream",
     "text": [
      "C:\\Users\\basna\\AppData\\Local\\Temp\\ipykernel_19316\\3107014047.py:5: SettingWithCopyWarning: \n",
      "A value is trying to be set on a copy of a slice from a DataFrame\n",
      "\n",
      "See the caveats in the documentation: https://pandas.pydata.org/pandas-docs/stable/user_guide/indexing.html#returning-a-view-versus-a-copy\n",
      "  df_landuse_suitability_index_2['A_BGEC'].loc[(df_landuse_suitability_index_2['A_BGEC'] > 0) & (df_landuse_suitability_index_2['ADM1_TH'] == i)] = feedstockpergrid\n"
     ]
    },
    {
     "name": "stdout",
     "output_type": "stream",
     "text": [
      "อุตรดิตถ์ 31400.0 0.00020605095541401274\n"
     ]
    },
    {
     "name": "stderr",
     "output_type": "stream",
     "text": [
      "C:\\Users\\basna\\AppData\\Local\\Temp\\ipykernel_19316\\3107014047.py:5: SettingWithCopyWarning: \n",
      "A value is trying to be set on a copy of a slice from a DataFrame\n",
      "\n",
      "See the caveats in the documentation: https://pandas.pydata.org/pandas-docs/stable/user_guide/indexing.html#returning-a-view-versus-a-copy\n",
      "  df_landuse_suitability_index_2['A_BGEC'].loc[(df_landuse_suitability_index_2['A_BGEC'] > 0) & (df_landuse_suitability_index_2['ADM1_TH'] == i)] = feedstockpergrid\n"
     ]
    },
    {
     "name": "stdout",
     "output_type": "stream",
     "text": [
      "แม่ฮ่องสอน 12589.0 0.0002613392644372071\n"
     ]
    },
    {
     "name": "stderr",
     "output_type": "stream",
     "text": [
      "C:\\Users\\basna\\AppData\\Local\\Temp\\ipykernel_19316\\3107014047.py:5: SettingWithCopyWarning: \n",
      "A value is trying to be set on a copy of a slice from a DataFrame\n",
      "\n",
      "See the caveats in the documentation: https://pandas.pydata.org/pandas-docs/stable/user_guide/indexing.html#returning-a-view-versus-a-copy\n",
      "  df_landuse_suitability_index_2['A_BGEC'].loc[(df_landuse_suitability_index_2['A_BGEC'] > 0) & (df_landuse_suitability_index_2['ADM1_TH'] == i)] = feedstockpergrid\n"
     ]
    },
    {
     "name": "stdout",
     "output_type": "stream",
     "text": [
      "ลำพูน 41694.0 0.0001045714011608385\n"
     ]
    },
    {
     "name": "stderr",
     "output_type": "stream",
     "text": [
      "C:\\Users\\basna\\AppData\\Local\\Temp\\ipykernel_19316\\3107014047.py:5: SettingWithCopyWarning: \n",
      "A value is trying to be set on a copy of a slice from a DataFrame\n",
      "\n",
      "See the caveats in the documentation: https://pandas.pydata.org/pandas-docs/stable/user_guide/indexing.html#returning-a-view-versus-a-copy\n",
      "  df_landuse_suitability_index_2['A_BGEC'].loc[(df_landuse_suitability_index_2['A_BGEC'] > 0) & (df_landuse_suitability_index_2['ADM1_TH'] == i)] = feedstockpergrid\n"
     ]
    },
    {
     "name": "stdout",
     "output_type": "stream",
     "text": [
      "หนองคาย 43132.0 8.276917369934155e-05\n"
     ]
    },
    {
     "name": "stderr",
     "output_type": "stream",
     "text": [
      "C:\\Users\\basna\\AppData\\Local\\Temp\\ipykernel_19316\\3107014047.py:5: SettingWithCopyWarning: \n",
      "A value is trying to be set on a copy of a slice from a DataFrame\n",
      "\n",
      "See the caveats in the documentation: https://pandas.pydata.org/pandas-docs/stable/user_guide/indexing.html#returning-a-view-versus-a-copy\n",
      "  df_landuse_suitability_index_2['A_BGEC'].loc[(df_landuse_suitability_index_2['A_BGEC'] > 0) & (df_landuse_suitability_index_2['ADM1_TH'] == i)] = feedstockpergrid\n"
     ]
    },
    {
     "name": "stdout",
     "output_type": "stream",
     "text": [
      "แพร่ 21948.0 6.83433570256971e-05\n"
     ]
    },
    {
     "name": "stderr",
     "output_type": "stream",
     "text": [
      "C:\\Users\\basna\\AppData\\Local\\Temp\\ipykernel_19316\\3107014047.py:5: SettingWithCopyWarning: \n",
      "A value is trying to be set on a copy of a slice from a DataFrame\n",
      "\n",
      "See the caveats in the documentation: https://pandas.pydata.org/pandas-docs/stable/user_guide/indexing.html#returning-a-view-versus-a-copy\n",
      "  df_landuse_suitability_index_2['A_BGEC'].loc[(df_landuse_suitability_index_2['A_BGEC'] > 0) & (df_landuse_suitability_index_2['ADM1_TH'] == i)] = feedstockpergrid\n"
     ]
    },
    {
     "name": "stdout",
     "output_type": "stream",
     "text": [
      "บึงกาฬ 51102.0 0.000409768697898321\n"
     ]
    },
    {
     "name": "stderr",
     "output_type": "stream",
     "text": [
      "C:\\Users\\basna\\AppData\\Local\\Temp\\ipykernel_19316\\3107014047.py:5: SettingWithCopyWarning: \n",
      "A value is trying to be set on a copy of a slice from a DataFrame\n",
      "\n",
      "See the caveats in the documentation: https://pandas.pydata.org/pandas-docs/stable/user_guide/indexing.html#returning-a-view-versus-a-copy\n",
      "  df_landuse_suitability_index_2['A_BGEC'].loc[(df_landuse_suitability_index_2['A_BGEC'] > 0) & (df_landuse_suitability_index_2['ADM1_TH'] == i)] = feedstockpergrid\n"
     ]
    },
    {
     "name": "stdout",
     "output_type": "stream",
     "text": [
      "ลำปาง 28507.0 0.00018346371066755535\n"
     ]
    },
    {
     "name": "stderr",
     "output_type": "stream",
     "text": [
      "C:\\Users\\basna\\AppData\\Local\\Temp\\ipykernel_19316\\3107014047.py:5: SettingWithCopyWarning: \n",
      "A value is trying to be set on a copy of a slice from a DataFrame\n",
      "\n",
      "See the caveats in the documentation: https://pandas.pydata.org/pandas-docs/stable/user_guide/indexing.html#returning-a-view-versus-a-copy\n",
      "  df_landuse_suitability_index_2['A_BGEC'].loc[(df_landuse_suitability_index_2['A_BGEC'] > 0) & (df_landuse_suitability_index_2['ADM1_TH'] == i)] = feedstockpergrid\n"
     ]
    },
    {
     "name": "stdout",
     "output_type": "stream",
     "text": [
      "น่าน 36486.0 5.8378556158526556e-05\n"
     ]
    },
    {
     "name": "stderr",
     "output_type": "stream",
     "text": [
      "C:\\Users\\basna\\AppData\\Local\\Temp\\ipykernel_19316\\3107014047.py:5: SettingWithCopyWarning: \n",
      "A value is trying to be set on a copy of a slice from a DataFrame\n",
      "\n",
      "See the caveats in the documentation: https://pandas.pydata.org/pandas-docs/stable/user_guide/indexing.html#returning-a-view-versus-a-copy\n",
      "  df_landuse_suitability_index_2['A_BGEC'].loc[(df_landuse_suitability_index_2['A_BGEC'] > 0) & (df_landuse_suitability_index_2['ADM1_TH'] == i)] = feedstockpergrid\n"
     ]
    },
    {
     "name": "stdout",
     "output_type": "stream",
     "text": [
      "เชียงใหม่ 39014.0 0.00040011278002768236\n"
     ]
    },
    {
     "name": "stderr",
     "output_type": "stream",
     "text": [
      "C:\\Users\\basna\\AppData\\Local\\Temp\\ipykernel_19316\\3107014047.py:5: SettingWithCopyWarning: \n",
      "A value is trying to be set on a copy of a slice from a DataFrame\n",
      "\n",
      "See the caveats in the documentation: https://pandas.pydata.org/pandas-docs/stable/user_guide/indexing.html#returning-a-view-versus-a-copy\n",
      "  df_landuse_suitability_index_2['A_BGEC'].loc[(df_landuse_suitability_index_2['A_BGEC'] > 0) & (df_landuse_suitability_index_2['ADM1_TH'] == i)] = feedstockpergrid\n"
     ]
    },
    {
     "name": "stdout",
     "output_type": "stream",
     "text": [
      "พะเยา 45058.0 3.0405255448533004e-05\n",
      "เชียงราย 77305.0 4.010089903628485e-05\n",
      "total bgec =  1873.8300000000015\n"
     ]
    },
    {
     "name": "stderr",
     "output_type": "stream",
     "text": [
      "C:\\Users\\basna\\AppData\\Local\\Temp\\ipykernel_19316\\3107014047.py:5: SettingWithCopyWarning: \n",
      "A value is trying to be set on a copy of a slice from a DataFrame\n",
      "\n",
      "See the caveats in the documentation: https://pandas.pydata.org/pandas-docs/stable/user_guide/indexing.html#returning-a-view-versus-a-copy\n",
      "  df_landuse_suitability_index_2['A_BGEC'].loc[(df_landuse_suitability_index_2['A_BGEC'] > 0) & (df_landuse_suitability_index_2['ADM1_TH'] == i)] = feedstockpergrid\n"
     ]
    }
   ],
   "source": [
    "## BGEC ###\n",
    "for i in list_province:\n",
    "    totalareaprovince = df_landuse_suitability_index_2['A_BGEC'].loc[(df_landuse_suitability_index_2['A_BGEC'] > 0) &(df_landuse_suitability_index_2['ADM1_TH'] == i)].sum()\n",
    "    feedstockpergrid = (feedstock['ศักยภาพพลังงานทดแทน (ktoe)'].loc[(feedstock['จังหวัด'] == i) & (feedstock['แหล่งพลังงานหลัก'] == 'ก๊าซชีวภาพ')].values[0]) / totalareaprovince\n",
    "    df_landuse_suitability_index_2['A_BGEC'].loc[(df_landuse_suitability_index_2['A_BGEC'] > 0) & (df_landuse_suitability_index_2['ADM1_TH'] == i)] = feedstockpergrid\n",
    "    print(i, totalareaprovince, feedstockpergrid)\n",
    "\n",
    "print(\"total bgec = \", df_landuse_suitability_index_2['A_BGEC'].sum())"
   ]
  },
  {
   "cell_type": "code",
   "execution_count": 14,
   "metadata": {},
   "outputs": [
    {
     "name": "stderr",
     "output_type": "stream",
     "text": [
      "C:\\Users\\basna\\AppData\\Local\\Temp\\ipykernel_19316\\1662189027.py:5: SettingWithCopyWarning: \n",
      "A value is trying to be set on a copy of a slice from a DataFrame\n",
      "\n",
      "See the caveats in the documentation: https://pandas.pydata.org/pandas-docs/stable/user_guide/indexing.html#returning-a-view-versus-a-copy\n",
      "  df_landuse_suitability_index_2['A_Biomass'].loc[(df_landuse_suitability_index_2['A_Biomass'] > 0) & (df_landuse_suitability_index_2['ADM1_TH'] == i)] = feedstockpergrid\n"
     ]
    },
    {
     "name": "stdout",
     "output_type": "stream",
     "text": [
      "ภูเก็ต 7.46 4697.0 0.0015882478177560145\n"
     ]
    },
    {
     "name": "stderr",
     "output_type": "stream",
     "text": [
      "C:\\Users\\basna\\AppData\\Local\\Temp\\ipykernel_19316\\1662189027.py:5: SettingWithCopyWarning: \n",
      "A value is trying to be set on a copy of a slice from a DataFrame\n",
      "\n",
      "See the caveats in the documentation: https://pandas.pydata.org/pandas-docs/stable/user_guide/indexing.html#returning-a-view-versus-a-copy\n",
      "  df_landuse_suitability_index_2['A_Biomass'].loc[(df_landuse_suitability_index_2['A_Biomass'] > 0) & (df_landuse_suitability_index_2['ADM1_TH'] == i)] = feedstockpergrid\n"
     ]
    },
    {
     "name": "stdout",
     "output_type": "stream",
     "text": [
      "สตูล 144.36 19622.0 0.007357048211191521\n"
     ]
    },
    {
     "name": "stderr",
     "output_type": "stream",
     "text": [
      "C:\\Users\\basna\\AppData\\Local\\Temp\\ipykernel_19316\\1662189027.py:5: SettingWithCopyWarning: \n",
      "A value is trying to be set on a copy of a slice from a DataFrame\n",
      "\n",
      "See the caveats in the documentation: https://pandas.pydata.org/pandas-docs/stable/user_guide/indexing.html#returning-a-view-versus-a-copy\n",
      "  df_landuse_suitability_index_2['A_Biomass'].loc[(df_landuse_suitability_index_2['A_Biomass'] > 0) & (df_landuse_suitability_index_2['ADM1_TH'] == i)] = feedstockpergrid\n"
     ]
    },
    {
     "name": "stdout",
     "output_type": "stream",
     "text": [
      "ยะลา 91.6 16492.0 0.005554208100897405\n"
     ]
    },
    {
     "name": "stderr",
     "output_type": "stream",
     "text": [
      "C:\\Users\\basna\\AppData\\Local\\Temp\\ipykernel_19316\\1662189027.py:5: SettingWithCopyWarning: \n",
      "A value is trying to be set on a copy of a slice from a DataFrame\n",
      "\n",
      "See the caveats in the documentation: https://pandas.pydata.org/pandas-docs/stable/user_guide/indexing.html#returning-a-view-versus-a-copy\n",
      "  df_landuse_suitability_index_2['A_Biomass'].loc[(df_landuse_suitability_index_2['A_Biomass'] > 0) & (df_landuse_suitability_index_2['ADM1_TH'] == i)] = feedstockpergrid\n"
     ]
    },
    {
     "name": "stdout",
     "output_type": "stream",
     "text": [
      "นราธิวาส 136.77 24052.0 0.0056864294029602535\n"
     ]
    },
    {
     "name": "stderr",
     "output_type": "stream",
     "text": [
      "C:\\Users\\basna\\AppData\\Local\\Temp\\ipykernel_19316\\1662189027.py:5: SettingWithCopyWarning: \n",
      "A value is trying to be set on a copy of a slice from a DataFrame\n",
      "\n",
      "See the caveats in the documentation: https://pandas.pydata.org/pandas-docs/stable/user_guide/indexing.html#returning-a-view-versus-a-copy\n",
      "  df_landuse_suitability_index_2['A_Biomass'].loc[(df_landuse_suitability_index_2['A_Biomass'] > 0) & (df_landuse_suitability_index_2['ADM1_TH'] == i)] = feedstockpergrid\n"
     ]
    },
    {
     "name": "stdout",
     "output_type": "stream",
     "text": [
      "สงขลา 265.72 49099.0 0.005411922849752541\n"
     ]
    },
    {
     "name": "stderr",
     "output_type": "stream",
     "text": [
      "C:\\Users\\basna\\AppData\\Local\\Temp\\ipykernel_19316\\1662189027.py:5: SettingWithCopyWarning: \n",
      "A value is trying to be set on a copy of a slice from a DataFrame\n",
      "\n",
      "See the caveats in the documentation: https://pandas.pydata.org/pandas-docs/stable/user_guide/indexing.html#returning-a-view-versus-a-copy\n",
      "  df_landuse_suitability_index_2['A_Biomass'].loc[(df_landuse_suitability_index_2['A_Biomass'] > 0) & (df_landuse_suitability_index_2['ADM1_TH'] == i)] = feedstockpergrid\n"
     ]
    },
    {
     "name": "stdout",
     "output_type": "stream",
     "text": [
      "ปัตตานี 83.78 28225.0 0.0029682905225863598\n"
     ]
    },
    {
     "name": "stderr",
     "output_type": "stream",
     "text": [
      "C:\\Users\\basna\\AppData\\Local\\Temp\\ipykernel_19316\\1662189027.py:5: SettingWithCopyWarning: \n",
      "A value is trying to be set on a copy of a slice from a DataFrame\n",
      "\n",
      "See the caveats in the documentation: https://pandas.pydata.org/pandas-docs/stable/user_guide/indexing.html#returning-a-view-versus-a-copy\n",
      "  df_landuse_suitability_index_2['A_Biomass'].loc[(df_landuse_suitability_index_2['A_Biomass'] > 0) & (df_landuse_suitability_index_2['ADM1_TH'] == i)] = feedstockpergrid\n"
     ]
    },
    {
     "name": "stdout",
     "output_type": "stream",
     "text": [
      "ตรัง 363.89 38011.0 0.00957328141853674\n"
     ]
    },
    {
     "name": "stderr",
     "output_type": "stream",
     "text": [
      "C:\\Users\\basna\\AppData\\Local\\Temp\\ipykernel_19316\\1662189027.py:5: SettingWithCopyWarning: \n",
      "A value is trying to be set on a copy of a slice from a DataFrame\n",
      "\n",
      "See the caveats in the documentation: https://pandas.pydata.org/pandas-docs/stable/user_guide/indexing.html#returning-a-view-versus-a-copy\n",
      "  df_landuse_suitability_index_2['A_Biomass'].loc[(df_landuse_suitability_index_2['A_Biomass'] > 0) & (df_landuse_suitability_index_2['ADM1_TH'] == i)] = feedstockpergrid\n"
     ]
    },
    {
     "name": "stdout",
     "output_type": "stream",
     "text": [
      "พัทลุง 190.69 40917.0 0.004660410098492069\n"
     ]
    },
    {
     "name": "stderr",
     "output_type": "stream",
     "text": [
      "C:\\Users\\basna\\AppData\\Local\\Temp\\ipykernel_19316\\1662189027.py:5: SettingWithCopyWarning: \n",
      "A value is trying to be set on a copy of a slice from a DataFrame\n",
      "\n",
      "See the caveats in the documentation: https://pandas.pydata.org/pandas-docs/stable/user_guide/indexing.html#returning-a-view-versus-a-copy\n",
      "  df_landuse_suitability_index_2['A_Biomass'].loc[(df_landuse_suitability_index_2['A_Biomass'] > 0) & (df_landuse_suitability_index_2['ADM1_TH'] == i)] = feedstockpergrid\n"
     ]
    },
    {
     "name": "stdout",
     "output_type": "stream",
     "text": [
      "กระบี่ 1245.47 46761.0 0.02663480250636214\n"
     ]
    },
    {
     "name": "stderr",
     "output_type": "stream",
     "text": [
      "C:\\Users\\basna\\AppData\\Local\\Temp\\ipykernel_19316\\1662189027.py:5: SettingWithCopyWarning: \n",
      "A value is trying to be set on a copy of a slice from a DataFrame\n",
      "\n",
      "See the caveats in the documentation: https://pandas.pydata.org/pandas-docs/stable/user_guide/indexing.html#returning-a-view-versus-a-copy\n",
      "  df_landuse_suitability_index_2['A_Biomass'].loc[(df_landuse_suitability_index_2['A_Biomass'] > 0) & (df_landuse_suitability_index_2['ADM1_TH'] == i)] = feedstockpergrid\n"
     ]
    },
    {
     "name": "stdout",
     "output_type": "stream",
     "text": [
      "นครศรีธรรมราช 883.0 66787.0 0.013221135849791127\n"
     ]
    },
    {
     "name": "stderr",
     "output_type": "stream",
     "text": [
      "C:\\Users\\basna\\AppData\\Local\\Temp\\ipykernel_19316\\1662189027.py:5: SettingWithCopyWarning: \n",
      "A value is trying to be set on a copy of a slice from a DataFrame\n",
      "\n",
      "See the caveats in the documentation: https://pandas.pydata.org/pandas-docs/stable/user_guide/indexing.html#returning-a-view-versus-a-copy\n",
      "  df_landuse_suitability_index_2['A_Biomass'].loc[(df_landuse_suitability_index_2['A_Biomass'] > 0) & (df_landuse_suitability_index_2['ADM1_TH'] == i)] = feedstockpergrid\n"
     ]
    },
    {
     "name": "stdout",
     "output_type": "stream",
     "text": [
      "พังงา 294.37 23588.0 0.012479650669832119\n"
     ]
    },
    {
     "name": "stderr",
     "output_type": "stream",
     "text": [
      "C:\\Users\\basna\\AppData\\Local\\Temp\\ipykernel_19316\\1662189027.py:5: SettingWithCopyWarning: \n",
      "A value is trying to be set on a copy of a slice from a DataFrame\n",
      "\n",
      "See the caveats in the documentation: https://pandas.pydata.org/pandas-docs/stable/user_guide/indexing.html#returning-a-view-versus-a-copy\n",
      "  df_landuse_suitability_index_2['A_Biomass'].loc[(df_landuse_suitability_index_2['A_Biomass'] > 0) & (df_landuse_suitability_index_2['ADM1_TH'] == i)] = feedstockpergrid\n"
     ]
    },
    {
     "name": "stdout",
     "output_type": "stream",
     "text": [
      "สุราษฎร์ธานี 1601.5 72186.0 0.02218574238772061\n"
     ]
    },
    {
     "name": "stderr",
     "output_type": "stream",
     "text": [
      "C:\\Users\\basna\\AppData\\Local\\Temp\\ipykernel_19316\\1662189027.py:5: SettingWithCopyWarning: \n",
      "A value is trying to be set on a copy of a slice from a DataFrame\n",
      "\n",
      "See the caveats in the documentation: https://pandas.pydata.org/pandas-docs/stable/user_guide/indexing.html#returning-a-view-versus-a-copy\n",
      "  df_landuse_suitability_index_2['A_Biomass'].loc[(df_landuse_suitability_index_2['A_Biomass'] > 0) & (df_landuse_suitability_index_2['ADM1_TH'] == i)] = feedstockpergrid\n"
     ]
    },
    {
     "name": "stdout",
     "output_type": "stream",
     "text": [
      "ตราด 87.52 11326.0 0.0077273529931131905\n"
     ]
    },
    {
     "name": "stderr",
     "output_type": "stream",
     "text": [
      "C:\\Users\\basna\\AppData\\Local\\Temp\\ipykernel_19316\\1662189027.py:5: SettingWithCopyWarning: \n",
      "A value is trying to be set on a copy of a slice from a DataFrame\n",
      "\n",
      "See the caveats in the documentation: https://pandas.pydata.org/pandas-docs/stable/user_guide/indexing.html#returning-a-view-versus-a-copy\n",
      "  df_landuse_suitability_index_2['A_Biomass'].loc[(df_landuse_suitability_index_2['A_Biomass'] > 0) & (df_landuse_suitability_index_2['ADM1_TH'] == i)] = feedstockpergrid\n"
     ]
    },
    {
     "name": "stdout",
     "output_type": "stream",
     "text": [
      "ระนอง 174.89 24809.0 0.0070494578580353896\n"
     ]
    },
    {
     "name": "stderr",
     "output_type": "stream",
     "text": [
      "C:\\Users\\basna\\AppData\\Local\\Temp\\ipykernel_19316\\1662189027.py:5: SettingWithCopyWarning: \n",
      "A value is trying to be set on a copy of a slice from a DataFrame\n",
      "\n",
      "See the caveats in the documentation: https://pandas.pydata.org/pandas-docs/stable/user_guide/indexing.html#returning-a-view-versus-a-copy\n",
      "  df_landuse_suitability_index_2['A_Biomass'].loc[(df_landuse_suitability_index_2['A_Biomass'] > 0) & (df_landuse_suitability_index_2['ADM1_TH'] == i)] = feedstockpergrid\n"
     ]
    },
    {
     "name": "stdout",
     "output_type": "stream",
     "text": [
      "ชุมพร 1099.52 49976.0 0.02200096046102129\n"
     ]
    },
    {
     "name": "stderr",
     "output_type": "stream",
     "text": [
      "C:\\Users\\basna\\AppData\\Local\\Temp\\ipykernel_19316\\1662189027.py:5: SettingWithCopyWarning: \n",
      "A value is trying to be set on a copy of a slice from a DataFrame\n",
      "\n",
      "See the caveats in the documentation: https://pandas.pydata.org/pandas-docs/stable/user_guide/indexing.html#returning-a-view-versus-a-copy\n",
      "  df_landuse_suitability_index_2['A_Biomass'].loc[(df_landuse_suitability_index_2['A_Biomass'] > 0) & (df_landuse_suitability_index_2['ADM1_TH'] == i)] = feedstockpergrid\n"
     ]
    },
    {
     "name": "stdout",
     "output_type": "stream",
     "text": [
      "ประจวบคีรีขันธ์ 465.23 37479.0 0.01241308466074335\n"
     ]
    },
    {
     "name": "stderr",
     "output_type": "stream",
     "text": [
      "C:\\Users\\basna\\AppData\\Local\\Temp\\ipykernel_19316\\1662189027.py:5: SettingWithCopyWarning: \n",
      "A value is trying to be set on a copy of a slice from a DataFrame\n",
      "\n",
      "See the caveats in the documentation: https://pandas.pydata.org/pandas-docs/stable/user_guide/indexing.html#returning-a-view-versus-a-copy\n",
      "  df_landuse_suitability_index_2['A_Biomass'].loc[(df_landuse_suitability_index_2['A_Biomass'] > 0) & (df_landuse_suitability_index_2['ADM1_TH'] == i)] = feedstockpergrid\n"
     ]
    },
    {
     "name": "stdout",
     "output_type": "stream",
     "text": [
      "ระยอง 108.07 36344.0 0.002973530706581554\n"
     ]
    },
    {
     "name": "stderr",
     "output_type": "stream",
     "text": [
      "C:\\Users\\basna\\AppData\\Local\\Temp\\ipykernel_19316\\1662189027.py:5: SettingWithCopyWarning: \n",
      "A value is trying to be set on a copy of a slice from a DataFrame\n",
      "\n",
      "See the caveats in the documentation: https://pandas.pydata.org/pandas-docs/stable/user_guide/indexing.html#returning-a-view-versus-a-copy\n",
      "  df_landuse_suitability_index_2['A_Biomass'].loc[(df_landuse_suitability_index_2['A_Biomass'] > 0) & (df_landuse_suitability_index_2['ADM1_TH'] == i)] = feedstockpergrid\n"
     ]
    },
    {
     "name": "stdout",
     "output_type": "stream",
     "text": [
      "ศรีสะเกษ 909.29 89227.0 0.010190749436829658\n"
     ]
    },
    {
     "name": "stderr",
     "output_type": "stream",
     "text": [
      "C:\\Users\\basna\\AppData\\Local\\Temp\\ipykernel_19316\\1662189027.py:5: SettingWithCopyWarning: \n",
      "A value is trying to be set on a copy of a slice from a DataFrame\n",
      "\n",
      "See the caveats in the documentation: https://pandas.pydata.org/pandas-docs/stable/user_guide/indexing.html#returning-a-view-versus-a-copy\n",
      "  df_landuse_suitability_index_2['A_Biomass'].loc[(df_landuse_suitability_index_2['A_Biomass'] > 0) & (df_landuse_suitability_index_2['ADM1_TH'] == i)] = feedstockpergrid\n"
     ]
    },
    {
     "name": "stdout",
     "output_type": "stream",
     "text": [
      "จันทบุรี 59.96 44087.0 0.0013600381064712954\n"
     ]
    },
    {
     "name": "stderr",
     "output_type": "stream",
     "text": [
      "C:\\Users\\basna\\AppData\\Local\\Temp\\ipykernel_19316\\1662189027.py:5: SettingWithCopyWarning: \n",
      "A value is trying to be set on a copy of a slice from a DataFrame\n",
      "\n",
      "See the caveats in the documentation: https://pandas.pydata.org/pandas-docs/stable/user_guide/indexing.html#returning-a-view-versus-a-copy\n",
      "  df_landuse_suitability_index_2['A_Biomass'].loc[(df_landuse_suitability_index_2['A_Biomass'] > 0) & (df_landuse_suitability_index_2['ADM1_TH'] == i)] = feedstockpergrid\n"
     ]
    },
    {
     "name": "stdout",
     "output_type": "stream",
     "text": [
      "เพชรบุรี 191.54 36413.0 0.0052602092659215114\n"
     ]
    },
    {
     "name": "stderr",
     "output_type": "stream",
     "text": [
      "C:\\Users\\basna\\AppData\\Local\\Temp\\ipykernel_19316\\1662189027.py:5: SettingWithCopyWarning: \n",
      "A value is trying to be set on a copy of a slice from a DataFrame\n",
      "\n",
      "See the caveats in the documentation: https://pandas.pydata.org/pandas-docs/stable/user_guide/indexing.html#returning-a-view-versus-a-copy\n",
      "  df_landuse_suitability_index_2['A_Biomass'].loc[(df_landuse_suitability_index_2['A_Biomass'] > 0) & (df_landuse_suitability_index_2['ADM1_TH'] == i)] = feedstockpergrid\n"
     ]
    },
    {
     "name": "stdout",
     "output_type": "stream",
     "text": [
      "ชลบุรี 333.79 30665.0 0.010885048100440243\n"
     ]
    },
    {
     "name": "stderr",
     "output_type": "stream",
     "text": [
      "C:\\Users\\basna\\AppData\\Local\\Temp\\ipykernel_19316\\1662189027.py:5: SettingWithCopyWarning: \n",
      "A value is trying to be set on a copy of a slice from a DataFrame\n",
      "\n",
      "See the caveats in the documentation: https://pandas.pydata.org/pandas-docs/stable/user_guide/indexing.html#returning-a-view-versus-a-copy\n",
      "  df_landuse_suitability_index_2['A_Biomass'].loc[(df_landuse_suitability_index_2['A_Biomass'] > 0) & (df_landuse_suitability_index_2['ADM1_TH'] == i)] = feedstockpergrid\n"
     ]
    },
    {
     "name": "stdout",
     "output_type": "stream",
     "text": [
      "สมุทรสงคราม 22.53 13571.0 0.001660157689190185\n"
     ]
    },
    {
     "name": "stderr",
     "output_type": "stream",
     "text": [
      "C:\\Users\\basna\\AppData\\Local\\Temp\\ipykernel_19316\\1662189027.py:5: SettingWithCopyWarning: \n",
      "A value is trying to be set on a copy of a slice from a DataFrame\n",
      "\n",
      "See the caveats in the documentation: https://pandas.pydata.org/pandas-docs/stable/user_guide/indexing.html#returning-a-view-versus-a-copy\n",
      "  df_landuse_suitability_index_2['A_Biomass'].loc[(df_landuse_suitability_index_2['A_Biomass'] > 0) & (df_landuse_suitability_index_2['ADM1_TH'] == i)] = feedstockpergrid\n"
     ]
    },
    {
     "name": "stdout",
     "output_type": "stream",
     "text": [
      "สมุทรปราการ 11.87 10924.0 0.0010865983156352983\n"
     ]
    },
    {
     "name": "stderr",
     "output_type": "stream",
     "text": [
      "C:\\Users\\basna\\AppData\\Local\\Temp\\ipykernel_19316\\1662189027.py:5: SettingWithCopyWarning: \n",
      "A value is trying to be set on a copy of a slice from a DataFrame\n",
      "\n",
      "See the caveats in the documentation: https://pandas.pydata.org/pandas-docs/stable/user_guide/indexing.html#returning-a-view-versus-a-copy\n",
      "  df_landuse_suitability_index_2['A_Biomass'].loc[(df_landuse_suitability_index_2['A_Biomass'] > 0) & (df_landuse_suitability_index_2['ADM1_TH'] == i)] = feedstockpergrid\n"
     ]
    },
    {
     "name": "stdout",
     "output_type": "stream",
     "text": [
      "สมุทรสาคร 2.99 7450.0 0.00040134228187919464\n"
     ]
    },
    {
     "name": "stderr",
     "output_type": "stream",
     "text": [
      "C:\\Users\\basna\\AppData\\Local\\Temp\\ipykernel_19316\\1662189027.py:5: SettingWithCopyWarning: \n",
      "A value is trying to be set on a copy of a slice from a DataFrame\n",
      "\n",
      "See the caveats in the documentation: https://pandas.pydata.org/pandas-docs/stable/user_guide/indexing.html#returning-a-view-versus-a-copy\n",
      "  df_landuse_suitability_index_2['A_Biomass'].loc[(df_landuse_suitability_index_2['A_Biomass'] > 0) & (df_landuse_suitability_index_2['ADM1_TH'] == i)] = feedstockpergrid\n"
     ]
    },
    {
     "name": "stdout",
     "output_type": "stream",
     "text": [
      "อุบลราชธานี 295.1 104527.0 0.0028231940072899826\n"
     ]
    },
    {
     "name": "stderr",
     "output_type": "stream",
     "text": [
      "C:\\Users\\basna\\AppData\\Local\\Temp\\ipykernel_19316\\1662189027.py:5: SettingWithCopyWarning: \n",
      "A value is trying to be set on a copy of a slice from a DataFrame\n",
      "\n",
      "See the caveats in the documentation: https://pandas.pydata.org/pandas-docs/stable/user_guide/indexing.html#returning-a-view-versus-a-copy\n",
      "  df_landuse_suitability_index_2['A_Biomass'].loc[(df_landuse_suitability_index_2['A_Biomass'] > 0) & (df_landuse_suitability_index_2['ADM1_TH'] == i)] = feedstockpergrid\n"
     ]
    },
    {
     "name": "stdout",
     "output_type": "stream",
     "text": [
      "กาญจนบุรี 956.01 59602.0 0.016039897990000336\n"
     ]
    },
    {
     "name": "stderr",
     "output_type": "stream",
     "text": [
      "C:\\Users\\basna\\AppData\\Local\\Temp\\ipykernel_19316\\1662189027.py:5: SettingWithCopyWarning: \n",
      "A value is trying to be set on a copy of a slice from a DataFrame\n",
      "\n",
      "See the caveats in the documentation: https://pandas.pydata.org/pandas-docs/stable/user_guide/indexing.html#returning-a-view-versus-a-copy\n",
      "  df_landuse_suitability_index_2['A_Biomass'].loc[(df_landuse_suitability_index_2['A_Biomass'] > 0) & (df_landuse_suitability_index_2['ADM1_TH'] == i)] = feedstockpergrid\n"
     ]
    },
    {
     "name": "stdout",
     "output_type": "stream",
     "text": [
      "ราชบุรี 291.11 55035.0 0.005289543018079404\n"
     ]
    },
    {
     "name": "stderr",
     "output_type": "stream",
     "text": [
      "C:\\Users\\basna\\AppData\\Local\\Temp\\ipykernel_19316\\1662189027.py:5: SettingWithCopyWarning: \n",
      "A value is trying to be set on a copy of a slice from a DataFrame\n",
      "\n",
      "See the caveats in the documentation: https://pandas.pydata.org/pandas-docs/stable/user_guide/indexing.html#returning-a-view-versus-a-copy\n",
      "  df_landuse_suitability_index_2['A_Biomass'].loc[(df_landuse_suitability_index_2['A_Biomass'] > 0) & (df_landuse_suitability_index_2['ADM1_TH'] == i)] = feedstockpergrid\n"
     ]
    },
    {
     "name": "stdout",
     "output_type": "stream",
     "text": [
      "สระแก้ว 625.99 62371.0 0.010036555450449729\n"
     ]
    },
    {
     "name": "stderr",
     "output_type": "stream",
     "text": [
      "C:\\Users\\basna\\AppData\\Local\\Temp\\ipykernel_19316\\1662189027.py:5: SettingWithCopyWarning: \n",
      "A value is trying to be set on a copy of a slice from a DataFrame\n",
      "\n",
      "See the caveats in the documentation: https://pandas.pydata.org/pandas-docs/stable/user_guide/indexing.html#returning-a-view-versus-a-copy\n",
      "  df_landuse_suitability_index_2['A_Biomass'].loc[(df_landuse_suitability_index_2['A_Biomass'] > 0) & (df_landuse_suitability_index_2['ADM1_TH'] == i)] = feedstockpergrid\n"
     ]
    },
    {
     "name": "stdout",
     "output_type": "stream",
     "text": [
      "สุรินทร์ 593.58 90818.0 0.006535929000858861\n"
     ]
    },
    {
     "name": "stderr",
     "output_type": "stream",
     "text": [
      "C:\\Users\\basna\\AppData\\Local\\Temp\\ipykernel_19316\\1662189027.py:5: SettingWithCopyWarning: \n",
      "A value is trying to be set on a copy of a slice from a DataFrame\n",
      "\n",
      "See the caveats in the documentation: https://pandas.pydata.org/pandas-docs/stable/user_guide/indexing.html#returning-a-view-versus-a-copy\n",
      "  df_landuse_suitability_index_2['A_Biomass'].loc[(df_landuse_suitability_index_2['A_Biomass'] > 0) & (df_landuse_suitability_index_2['ADM1_TH'] == i)] = feedstockpergrid\n"
     ]
    },
    {
     "name": "stdout",
     "output_type": "stream",
     "text": [
      "ฉะเชิงเทรา 401.97 43986.0 0.009138589551220844\n"
     ]
    },
    {
     "name": "stderr",
     "output_type": "stream",
     "text": [
      "C:\\Users\\basna\\AppData\\Local\\Temp\\ipykernel_19316\\1662189027.py:5: SettingWithCopyWarning: \n",
      "A value is trying to be set on a copy of a slice from a DataFrame\n",
      "\n",
      "See the caveats in the documentation: https://pandas.pydata.org/pandas-docs/stable/user_guide/indexing.html#returning-a-view-versus-a-copy\n",
      "  df_landuse_suitability_index_2['A_Biomass'].loc[(df_landuse_suitability_index_2['A_Biomass'] > 0) & (df_landuse_suitability_index_2['ADM1_TH'] == i)] = feedstockpergrid\n"
     ]
    },
    {
     "name": "stdout",
     "output_type": "stream",
     "text": [
      "กรุงเทพมหานคร 49.13 3956.0 0.012419110212335693\n"
     ]
    },
    {
     "name": "stderr",
     "output_type": "stream",
     "text": [
      "C:\\Users\\basna\\AppData\\Local\\Temp\\ipykernel_19316\\1662189027.py:5: SettingWithCopyWarning: \n",
      "A value is trying to be set on a copy of a slice from a DataFrame\n",
      "\n",
      "See the caveats in the documentation: https://pandas.pydata.org/pandas-docs/stable/user_guide/indexing.html#returning-a-view-versus-a-copy\n",
      "  df_landuse_suitability_index_2['A_Biomass'].loc[(df_landuse_suitability_index_2['A_Biomass'] > 0) & (df_landuse_suitability_index_2['ADM1_TH'] == i)] = feedstockpergrid\n"
     ]
    },
    {
     "name": "stdout",
     "output_type": "stream",
     "text": [
      "ปราจีนบุรี 199.32 41539.0 0.004798382243193144\n"
     ]
    },
    {
     "name": "stderr",
     "output_type": "stream",
     "text": [
      "C:\\Users\\basna\\AppData\\Local\\Temp\\ipykernel_19316\\1662189027.py:5: SettingWithCopyWarning: \n",
      "A value is trying to be set on a copy of a slice from a DataFrame\n",
      "\n",
      "See the caveats in the documentation: https://pandas.pydata.org/pandas-docs/stable/user_guide/indexing.html#returning-a-view-versus-a-copy\n",
      "  df_landuse_suitability_index_2['A_Biomass'].loc[(df_landuse_suitability_index_2['A_Biomass'] > 0) & (df_landuse_suitability_index_2['ADM1_TH'] == i)] = feedstockpergrid\n"
     ]
    },
    {
     "name": "stdout",
     "output_type": "stream",
     "text": [
      "นครปฐม 245.19 36417.0 0.006732844550621962\n"
     ]
    },
    {
     "name": "stderr",
     "output_type": "stream",
     "text": [
      "C:\\Users\\basna\\AppData\\Local\\Temp\\ipykernel_19316\\1662189027.py:5: SettingWithCopyWarning: \n",
      "A value is trying to be set on a copy of a slice from a DataFrame\n",
      "\n",
      "See the caveats in the documentation: https://pandas.pydata.org/pandas-docs/stable/user_guide/indexing.html#returning-a-view-versus-a-copy\n",
      "  df_landuse_suitability_index_2['A_Biomass'].loc[(df_landuse_suitability_index_2['A_Biomass'] > 0) & (df_landuse_suitability_index_2['ADM1_TH'] == i)] = feedstockpergrid\n"
     ]
    },
    {
     "name": "stdout",
     "output_type": "stream",
     "text": [
      "นนทบุรี 54.46 10610.0 0.005132893496701226\n"
     ]
    },
    {
     "name": "stderr",
     "output_type": "stream",
     "text": [
      "C:\\Users\\basna\\AppData\\Local\\Temp\\ipykernel_19316\\1662189027.py:5: SettingWithCopyWarning: \n",
      "A value is trying to be set on a copy of a slice from a DataFrame\n",
      "\n",
      "See the caveats in the documentation: https://pandas.pydata.org/pandas-docs/stable/user_guide/indexing.html#returning-a-view-versus-a-copy\n",
      "  df_landuse_suitability_index_2['A_Biomass'].loc[(df_landuse_suitability_index_2['A_Biomass'] > 0) & (df_landuse_suitability_index_2['ADM1_TH'] == i)] = feedstockpergrid\n"
     ]
    },
    {
     "name": "stdout",
     "output_type": "stream",
     "text": [
      "นครนายก 144.39 26908.0 0.005366062137654229\n"
     ]
    },
    {
     "name": "stderr",
     "output_type": "stream",
     "text": [
      "C:\\Users\\basna\\AppData\\Local\\Temp\\ipykernel_19316\\1662189027.py:5: SettingWithCopyWarning: \n",
      "A value is trying to be set on a copy of a slice from a DataFrame\n",
      "\n",
      "See the caveats in the documentation: https://pandas.pydata.org/pandas-docs/stable/user_guide/indexing.html#returning-a-view-versus-a-copy\n",
      "  df_landuse_suitability_index_2['A_Biomass'].loc[(df_landuse_suitability_index_2['A_Biomass'] > 0) & (df_landuse_suitability_index_2['ADM1_TH'] == i)] = feedstockpergrid\n"
     ]
    },
    {
     "name": "stdout",
     "output_type": "stream",
     "text": [
      "บุรีรัมย์ 731.48 112568.0 0.006498116693909459\n"
     ]
    },
    {
     "name": "stderr",
     "output_type": "stream",
     "text": [
      "C:\\Users\\basna\\AppData\\Local\\Temp\\ipykernel_19316\\1662189027.py:5: SettingWithCopyWarning: \n",
      "A value is trying to be set on a copy of a slice from a DataFrame\n",
      "\n",
      "See the caveats in the documentation: https://pandas.pydata.org/pandas-docs/stable/user_guide/indexing.html#returning-a-view-versus-a-copy\n",
      "  df_landuse_suitability_index_2['A_Biomass'].loc[(df_landuse_suitability_index_2['A_Biomass'] > 0) & (df_landuse_suitability_index_2['ADM1_TH'] == i)] = feedstockpergrid\n"
     ]
    },
    {
     "name": "stdout",
     "output_type": "stream",
     "text": [
      "ปทุมธานี 181.01 16810.0 0.010767995240928018\n"
     ]
    },
    {
     "name": "stderr",
     "output_type": "stream",
     "text": [
      "C:\\Users\\basna\\AppData\\Local\\Temp\\ipykernel_19316\\1662189027.py:5: SettingWithCopyWarning: \n",
      "A value is trying to be set on a copy of a slice from a DataFrame\n",
      "\n",
      "See the caveats in the documentation: https://pandas.pydata.org/pandas-docs/stable/user_guide/indexing.html#returning-a-view-versus-a-copy\n",
      "  df_landuse_suitability_index_2['A_Biomass'].loc[(df_landuse_suitability_index_2['A_Biomass'] > 0) & (df_landuse_suitability_index_2['ADM1_TH'] == i)] = feedstockpergrid\n"
     ]
    },
    {
     "name": "stdout",
     "output_type": "stream",
     "text": [
      "สุพรรณบุรี 1092.94 56079.0 0.019489291891795504\n"
     ]
    },
    {
     "name": "stderr",
     "output_type": "stream",
     "text": [
      "C:\\Users\\basna\\AppData\\Local\\Temp\\ipykernel_19316\\1662189027.py:5: SettingWithCopyWarning: \n",
      "A value is trying to be set on a copy of a slice from a DataFrame\n",
      "\n",
      "See the caveats in the documentation: https://pandas.pydata.org/pandas-docs/stable/user_guide/indexing.html#returning-a-view-versus-a-copy\n",
      "  df_landuse_suitability_index_2['A_Biomass'].loc[(df_landuse_suitability_index_2['A_Biomass'] > 0) & (df_landuse_suitability_index_2['ADM1_TH'] == i)] = feedstockpergrid\n"
     ]
    },
    {
     "name": "stdout",
     "output_type": "stream",
     "text": [
      "พระนครศรีอยุธยา 419.17 22446.0 0.018674596810122072\n"
     ]
    },
    {
     "name": "stderr",
     "output_type": "stream",
     "text": [
      "C:\\Users\\basna\\AppData\\Local\\Temp\\ipykernel_19316\\1662189027.py:5: SettingWithCopyWarning: \n",
      "A value is trying to be set on a copy of a slice from a DataFrame\n",
      "\n",
      "See the caveats in the documentation: https://pandas.pydata.org/pandas-docs/stable/user_guide/indexing.html#returning-a-view-versus-a-copy\n",
      "  df_landuse_suitability_index_2['A_Biomass'].loc[(df_landuse_suitability_index_2['A_Biomass'] > 0) & (df_landuse_suitability_index_2['ADM1_TH'] == i)] = feedstockpergrid\n"
     ]
    },
    {
     "name": "stdout",
     "output_type": "stream",
     "text": [
      "อ่างทอง 134.19 21947.0 0.006114275299585365\n"
     ]
    },
    {
     "name": "stderr",
     "output_type": "stream",
     "text": [
      "C:\\Users\\basna\\AppData\\Local\\Temp\\ipykernel_19316\\1662189027.py:5: SettingWithCopyWarning: \n",
      "A value is trying to be set on a copy of a slice from a DataFrame\n",
      "\n",
      "See the caveats in the documentation: https://pandas.pydata.org/pandas-docs/stable/user_guide/indexing.html#returning-a-view-versus-a-copy\n",
      "  df_landuse_suitability_index_2['A_Biomass'].loc[(df_landuse_suitability_index_2['A_Biomass'] > 0) & (df_landuse_suitability_index_2['ADM1_TH'] == i)] = feedstockpergrid\n"
     ]
    },
    {
     "name": "stdout",
     "output_type": "stream",
     "text": [
      "สระบุรี 268.81 37918.0 0.007089245213355135\n"
     ]
    },
    {
     "name": "stderr",
     "output_type": "stream",
     "text": [
      "C:\\Users\\basna\\AppData\\Local\\Temp\\ipykernel_19316\\1662189027.py:5: SettingWithCopyWarning: \n",
      "A value is trying to be set on a copy of a slice from a DataFrame\n",
      "\n",
      "See the caveats in the documentation: https://pandas.pydata.org/pandas-docs/stable/user_guide/indexing.html#returning-a-view-versus-a-copy\n",
      "  df_landuse_suitability_index_2['A_Biomass'].loc[(df_landuse_suitability_index_2['A_Biomass'] > 0) & (df_landuse_suitability_index_2['ADM1_TH'] == i)] = feedstockpergrid\n"
     ]
    },
    {
     "name": "stdout",
     "output_type": "stream",
     "text": [
      "นครราชสีมา 1734.57 127849.0 0.013567333338547817\n"
     ]
    },
    {
     "name": "stderr",
     "output_type": "stream",
     "text": [
      "C:\\Users\\basna\\AppData\\Local\\Temp\\ipykernel_19316\\1662189027.py:5: SettingWithCopyWarning: \n",
      "A value is trying to be set on a copy of a slice from a DataFrame\n",
      "\n",
      "See the caveats in the documentation: https://pandas.pydata.org/pandas-docs/stable/user_guide/indexing.html#returning-a-view-versus-a-copy\n",
      "  df_landuse_suitability_index_2['A_Biomass'].loc[(df_landuse_suitability_index_2['A_Biomass'] > 0) & (df_landuse_suitability_index_2['ADM1_TH'] == i)] = feedstockpergrid\n"
     ]
    },
    {
     "name": "stdout",
     "output_type": "stream",
     "text": [
      "สิงห์บุรี 142.56 28992.0 0.004917218543046358\n"
     ]
    },
    {
     "name": "stderr",
     "output_type": "stream",
     "text": [
      "C:\\Users\\basna\\AppData\\Local\\Temp\\ipykernel_19316\\1662189027.py:5: SettingWithCopyWarning: \n",
      "A value is trying to be set on a copy of a slice from a DataFrame\n",
      "\n",
      "See the caveats in the documentation: https://pandas.pydata.org/pandas-docs/stable/user_guide/indexing.html#returning-a-view-versus-a-copy\n",
      "  df_landuse_suitability_index_2['A_Biomass'].loc[(df_landuse_suitability_index_2['A_Biomass'] > 0) & (df_landuse_suitability_index_2['ADM1_TH'] == i)] = feedstockpergrid\n"
     ]
    },
    {
     "name": "stdout",
     "output_type": "stream",
     "text": [
      "ลพบุรี 852.9 81189.0 0.010505117688356796\n"
     ]
    },
    {
     "name": "stderr",
     "output_type": "stream",
     "text": [
      "C:\\Users\\basna\\AppData\\Local\\Temp\\ipykernel_19316\\1662189027.py:5: SettingWithCopyWarning: \n",
      "A value is trying to be set on a copy of a slice from a DataFrame\n",
      "\n",
      "See the caveats in the documentation: https://pandas.pydata.org/pandas-docs/stable/user_guide/indexing.html#returning-a-view-versus-a-copy\n",
      "  df_landuse_suitability_index_2['A_Biomass'].loc[(df_landuse_suitability_index_2['A_Biomass'] > 0) & (df_landuse_suitability_index_2['ADM1_TH'] == i)] = feedstockpergrid\n"
     ]
    },
    {
     "name": "stdout",
     "output_type": "stream",
     "text": [
      "ชัยนาท 415.95 35656.0 0.01166563832174108\n"
     ]
    },
    {
     "name": "stderr",
     "output_type": "stream",
     "text": [
      "C:\\Users\\basna\\AppData\\Local\\Temp\\ipykernel_19316\\1662189027.py:5: SettingWithCopyWarning: \n",
      "A value is trying to be set on a copy of a slice from a DataFrame\n",
      "\n",
      "See the caveats in the documentation: https://pandas.pydata.org/pandas-docs/stable/user_guide/indexing.html#returning-a-view-versus-a-copy\n",
      "  df_landuse_suitability_index_2['A_Biomass'].loc[(df_landuse_suitability_index_2['A_Biomass'] > 0) & (df_landuse_suitability_index_2['ADM1_TH'] == i)] = feedstockpergrid\n"
     ]
    },
    {
     "name": "stdout",
     "output_type": "stream",
     "text": [
      "อุทัยธานี 525.43 49341.0 0.010648953203218417\n"
     ]
    },
    {
     "name": "stderr",
     "output_type": "stream",
     "text": [
      "C:\\Users\\basna\\AppData\\Local\\Temp\\ipykernel_19316\\1662189027.py:5: SettingWithCopyWarning: \n",
      "A value is trying to be set on a copy of a slice from a DataFrame\n",
      "\n",
      "See the caveats in the documentation: https://pandas.pydata.org/pandas-docs/stable/user_guide/indexing.html#returning-a-view-versus-a-copy\n",
      "  df_landuse_suitability_index_2['A_Biomass'].loc[(df_landuse_suitability_index_2['A_Biomass'] > 0) & (df_landuse_suitability_index_2['ADM1_TH'] == i)] = feedstockpergrid\n"
     ]
    },
    {
     "name": "stdout",
     "output_type": "stream",
     "text": [
      "นครสวรรค์ 1480.43 65007.0 0.022773393634531666\n"
     ]
    },
    {
     "name": "stderr",
     "output_type": "stream",
     "text": [
      "C:\\Users\\basna\\AppData\\Local\\Temp\\ipykernel_19316\\1662189027.py:5: SettingWithCopyWarning: \n",
      "A value is trying to be set on a copy of a slice from a DataFrame\n",
      "\n",
      "See the caveats in the documentation: https://pandas.pydata.org/pandas-docs/stable/user_guide/indexing.html#returning-a-view-versus-a-copy\n",
      "  df_landuse_suitability_index_2['A_Biomass'].loc[(df_landuse_suitability_index_2['A_Biomass'] > 0) & (df_landuse_suitability_index_2['ADM1_TH'] == i)] = feedstockpergrid\n"
     ]
    },
    {
     "name": "stdout",
     "output_type": "stream",
     "text": [
      "ร้อยเอ็ด 687.64 67120.0 0.010244934445768772\n"
     ]
    },
    {
     "name": "stderr",
     "output_type": "stream",
     "text": [
      "C:\\Users\\basna\\AppData\\Local\\Temp\\ipykernel_19316\\1662189027.py:5: SettingWithCopyWarning: \n",
      "A value is trying to be set on a copy of a slice from a DataFrame\n",
      "\n",
      "See the caveats in the documentation: https://pandas.pydata.org/pandas-docs/stable/user_guide/indexing.html#returning-a-view-versus-a-copy\n",
      "  df_landuse_suitability_index_2['A_Biomass'].loc[(df_landuse_suitability_index_2['A_Biomass'] > 0) & (df_landuse_suitability_index_2['ADM1_TH'] == i)] = feedstockpergrid\n"
     ]
    },
    {
     "name": "stdout",
     "output_type": "stream",
     "text": [
      "อำนาจเจริญ 359.38 60998.0 0.005891668579297682\n"
     ]
    },
    {
     "name": "stderr",
     "output_type": "stream",
     "text": [
      "C:\\Users\\basna\\AppData\\Local\\Temp\\ipykernel_19316\\1662189027.py:5: SettingWithCopyWarning: \n",
      "A value is trying to be set on a copy of a slice from a DataFrame\n",
      "\n",
      "See the caveats in the documentation: https://pandas.pydata.org/pandas-docs/stable/user_guide/indexing.html#returning-a-view-versus-a-copy\n",
      "  df_landuse_suitability_index_2['A_Biomass'].loc[(df_landuse_suitability_index_2['A_Biomass'] > 0) & (df_landuse_suitability_index_2['ADM1_TH'] == i)] = feedstockpergrid\n"
     ]
    },
    {
     "name": "stdout",
     "output_type": "stream",
     "text": [
      "ยโสธร 333.48 51372.0 0.006491473954683485\n"
     ]
    },
    {
     "name": "stderr",
     "output_type": "stream",
     "text": [
      "C:\\Users\\basna\\AppData\\Local\\Temp\\ipykernel_19316\\1662189027.py:5: SettingWithCopyWarning: \n",
      "A value is trying to be set on a copy of a slice from a DataFrame\n",
      "\n",
      "See the caveats in the documentation: https://pandas.pydata.org/pandas-docs/stable/user_guide/indexing.html#returning-a-view-versus-a-copy\n",
      "  df_landuse_suitability_index_2['A_Biomass'].loc[(df_landuse_suitability_index_2['A_Biomass'] > 0) & (df_landuse_suitability_index_2['ADM1_TH'] == i)] = feedstockpergrid\n"
     ]
    },
    {
     "name": "stdout",
     "output_type": "stream",
     "text": [
      "มหาสารคาม 545.14 95275.0 0.005721752820781947\n"
     ]
    },
    {
     "name": "stderr",
     "output_type": "stream",
     "text": [
      "C:\\Users\\basna\\AppData\\Local\\Temp\\ipykernel_19316\\1662189027.py:5: SettingWithCopyWarning: \n",
      "A value is trying to be set on a copy of a slice from a DataFrame\n",
      "\n",
      "See the caveats in the documentation: https://pandas.pydata.org/pandas-docs/stable/user_guide/indexing.html#returning-a-view-versus-a-copy\n",
      "  df_landuse_suitability_index_2['A_Biomass'].loc[(df_landuse_suitability_index_2['A_Biomass'] > 0) & (df_landuse_suitability_index_2['ADM1_TH'] == i)] = feedstockpergrid\n"
     ]
    },
    {
     "name": "stdout",
     "output_type": "stream",
     "text": [
      "ชัยภูมิ 929.2 98459.0 0.00943743080876304\n"
     ]
    },
    {
     "name": "stderr",
     "output_type": "stream",
     "text": [
      "C:\\Users\\basna\\AppData\\Local\\Temp\\ipykernel_19316\\1662189027.py:5: SettingWithCopyWarning: \n",
      "A value is trying to be set on a copy of a slice from a DataFrame\n",
      "\n",
      "See the caveats in the documentation: https://pandas.pydata.org/pandas-docs/stable/user_guide/indexing.html#returning-a-view-versus-a-copy\n",
      "  df_landuse_suitability_index_2['A_Biomass'].loc[(df_landuse_suitability_index_2['A_Biomass'] > 0) & (df_landuse_suitability_index_2['ADM1_TH'] == i)] = feedstockpergrid\n"
     ]
    },
    {
     "name": "stdout",
     "output_type": "stream",
     "text": [
      "ตาก 298.99 49679.0 0.006018438374363414\n"
     ]
    },
    {
     "name": "stderr",
     "output_type": "stream",
     "text": [
      "C:\\Users\\basna\\AppData\\Local\\Temp\\ipykernel_19316\\1662189027.py:5: SettingWithCopyWarning: \n",
      "A value is trying to be set on a copy of a slice from a DataFrame\n",
      "\n",
      "See the caveats in the documentation: https://pandas.pydata.org/pandas-docs/stable/user_guide/indexing.html#returning-a-view-versus-a-copy\n",
      "  df_landuse_suitability_index_2['A_Biomass'].loc[(df_landuse_suitability_index_2['A_Biomass'] > 0) & (df_landuse_suitability_index_2['ADM1_TH'] == i)] = feedstockpergrid\n"
     ]
    },
    {
     "name": "stdout",
     "output_type": "stream",
     "text": [
      "เพชรบูรณ์ 1064.89 75311.0 0.014139899881823374\n"
     ]
    },
    {
     "name": "stderr",
     "output_type": "stream",
     "text": [
      "C:\\Users\\basna\\AppData\\Local\\Temp\\ipykernel_19316\\1662189027.py:5: SettingWithCopyWarning: \n",
      "A value is trying to be set on a copy of a slice from a DataFrame\n",
      "\n",
      "See the caveats in the documentation: https://pandas.pydata.org/pandas-docs/stable/user_guide/indexing.html#returning-a-view-versus-a-copy\n",
      "  df_landuse_suitability_index_2['A_Biomass'].loc[(df_landuse_suitability_index_2['A_Biomass'] > 0) & (df_landuse_suitability_index_2['ADM1_TH'] == i)] = feedstockpergrid\n"
     ]
    },
    {
     "name": "stdout",
     "output_type": "stream",
     "text": [
      "ขอนแก่น 968.63 88740.0 0.01091537074599955\n"
     ]
    },
    {
     "name": "stderr",
     "output_type": "stream",
     "text": [
      "C:\\Users\\basna\\AppData\\Local\\Temp\\ipykernel_19316\\1662189027.py:5: SettingWithCopyWarning: \n",
      "A value is trying to be set on a copy of a slice from a DataFrame\n",
      "\n",
      "See the caveats in the documentation: https://pandas.pydata.org/pandas-docs/stable/user_guide/indexing.html#returning-a-view-versus-a-copy\n",
      "  df_landuse_suitability_index_2['A_Biomass'].loc[(df_landuse_suitability_index_2['A_Biomass'] > 0) & (df_landuse_suitability_index_2['ADM1_TH'] == i)] = feedstockpergrid\n"
     ]
    },
    {
     "name": "stdout",
     "output_type": "stream",
     "text": [
      "พิจิตร 688.18 72626.0 0.009475669870294384\n"
     ]
    },
    {
     "name": "stderr",
     "output_type": "stream",
     "text": [
      "C:\\Users\\basna\\AppData\\Local\\Temp\\ipykernel_19316\\1662189027.py:5: SettingWithCopyWarning: \n",
      "A value is trying to be set on a copy of a slice from a DataFrame\n",
      "\n",
      "See the caveats in the documentation: https://pandas.pydata.org/pandas-docs/stable/user_guide/indexing.html#returning-a-view-versus-a-copy\n",
      "  df_landuse_suitability_index_2['A_Biomass'].loc[(df_landuse_suitability_index_2['A_Biomass'] > 0) & (df_landuse_suitability_index_2['ADM1_TH'] == i)] = feedstockpergrid\n"
     ]
    },
    {
     "name": "stdout",
     "output_type": "stream",
     "text": [
      "กำแพงเพชร 1273.95 83028.0 0.015343619020089608\n"
     ]
    },
    {
     "name": "stderr",
     "output_type": "stream",
     "text": [
      "C:\\Users\\basna\\AppData\\Local\\Temp\\ipykernel_19316\\1662189027.py:5: SettingWithCopyWarning: \n",
      "A value is trying to be set on a copy of a slice from a DataFrame\n",
      "\n",
      "See the caveats in the documentation: https://pandas.pydata.org/pandas-docs/stable/user_guide/indexing.html#returning-a-view-versus-a-copy\n",
      "  df_landuse_suitability_index_2['A_Biomass'].loc[(df_landuse_suitability_index_2['A_Biomass'] > 0) & (df_landuse_suitability_index_2['ADM1_TH'] == i)] = feedstockpergrid\n"
     ]
    },
    {
     "name": "stdout",
     "output_type": "stream",
     "text": [
      "มุกดาหาร 309.6 50415.0 0.006141029455519191\n"
     ]
    },
    {
     "name": "stderr",
     "output_type": "stream",
     "text": [
      "C:\\Users\\basna\\AppData\\Local\\Temp\\ipykernel_19316\\1662189027.py:5: SettingWithCopyWarning: \n",
      "A value is trying to be set on a copy of a slice from a DataFrame\n",
      "\n",
      "See the caveats in the documentation: https://pandas.pydata.org/pandas-docs/stable/user_guide/indexing.html#returning-a-view-versus-a-copy\n",
      "  df_landuse_suitability_index_2['A_Biomass'].loc[(df_landuse_suitability_index_2['A_Biomass'] > 0) & (df_landuse_suitability_index_2['ADM1_TH'] == i)] = feedstockpergrid\n"
     ]
    },
    {
     "name": "stdout",
     "output_type": "stream",
     "text": [
      "กาฬสินธุ์ 798.02 78360.0 0.010184022460438999\n"
     ]
    },
    {
     "name": "stderr",
     "output_type": "stream",
     "text": [
      "C:\\Users\\basna\\AppData\\Local\\Temp\\ipykernel_19316\\1662189027.py:5: SettingWithCopyWarning: \n",
      "A value is trying to be set on a copy of a slice from a DataFrame\n",
      "\n",
      "See the caveats in the documentation: https://pandas.pydata.org/pandas-docs/stable/user_guide/indexing.html#returning-a-view-versus-a-copy\n",
      "  df_landuse_suitability_index_2['A_Biomass'].loc[(df_landuse_suitability_index_2['A_Biomass'] > 0) & (df_landuse_suitability_index_2['ADM1_TH'] == i)] = feedstockpergrid\n"
     ]
    },
    {
     "name": "stdout",
     "output_type": "stream",
     "text": [
      "พิษณุโลก 809.97 69293.0 0.011689059500959694\n"
     ]
    },
    {
     "name": "stderr",
     "output_type": "stream",
     "text": [
      "C:\\Users\\basna\\AppData\\Local\\Temp\\ipykernel_19316\\1662189027.py:5: SettingWithCopyWarning: \n",
      "A value is trying to be set on a copy of a slice from a DataFrame\n",
      "\n",
      "See the caveats in the documentation: https://pandas.pydata.org/pandas-docs/stable/user_guide/indexing.html#returning-a-view-versus-a-copy\n",
      "  df_landuse_suitability_index_2['A_Biomass'].loc[(df_landuse_suitability_index_2['A_Biomass'] > 0) & (df_landuse_suitability_index_2['ADM1_TH'] == i)] = feedstockpergrid\n"
     ]
    },
    {
     "name": "stdout",
     "output_type": "stream",
     "text": [
      "หนองบัวลำภู 459.03 75156.0 0.006107695992335941\n"
     ]
    },
    {
     "name": "stderr",
     "output_type": "stream",
     "text": [
      "C:\\Users\\basna\\AppData\\Local\\Temp\\ipykernel_19316\\1662189027.py:5: SettingWithCopyWarning: \n",
      "A value is trying to be set on a copy of a slice from a DataFrame\n",
      "\n",
      "See the caveats in the documentation: https://pandas.pydata.org/pandas-docs/stable/user_guide/indexing.html#returning-a-view-versus-a-copy\n",
      "  df_landuse_suitability_index_2['A_Biomass'].loc[(df_landuse_suitability_index_2['A_Biomass'] > 0) & (df_landuse_suitability_index_2['ADM1_TH'] == i)] = feedstockpergrid\n"
     ]
    },
    {
     "name": "stdout",
     "output_type": "stream",
     "text": [
      "เลย 624.02 88850.0 0.007023297692740574\n"
     ]
    },
    {
     "name": "stderr",
     "output_type": "stream",
     "text": [
      "C:\\Users\\basna\\AppData\\Local\\Temp\\ipykernel_19316\\1662189027.py:5: SettingWithCopyWarning: \n",
      "A value is trying to be set on a copy of a slice from a DataFrame\n",
      "\n",
      "See the caveats in the documentation: https://pandas.pydata.org/pandas-docs/stable/user_guide/indexing.html#returning-a-view-versus-a-copy\n",
      "  df_landuse_suitability_index_2['A_Biomass'].loc[(df_landuse_suitability_index_2['A_Biomass'] > 0) & (df_landuse_suitability_index_2['ADM1_TH'] == i)] = feedstockpergrid\n"
     ]
    },
    {
     "name": "stdout",
     "output_type": "stream",
     "text": [
      "สุโขทัย 619.62 85638.0 0.00723533945211238\n"
     ]
    },
    {
     "name": "stderr",
     "output_type": "stream",
     "text": [
      "C:\\Users\\basna\\AppData\\Local\\Temp\\ipykernel_19316\\1662189027.py:5: SettingWithCopyWarning: \n",
      "A value is trying to be set on a copy of a slice from a DataFrame\n",
      "\n",
      "See the caveats in the documentation: https://pandas.pydata.org/pandas-docs/stable/user_guide/indexing.html#returning-a-view-versus-a-copy\n",
      "  df_landuse_suitability_index_2['A_Biomass'].loc[(df_landuse_suitability_index_2['A_Biomass'] > 0) & (df_landuse_suitability_index_2['ADM1_TH'] == i)] = feedstockpergrid\n"
     ]
    },
    {
     "name": "stdout",
     "output_type": "stream",
     "text": [
      "อุดรธานี 1145.18 71575.0 0.01599972057282571\n"
     ]
    },
    {
     "name": "stderr",
     "output_type": "stream",
     "text": [
      "C:\\Users\\basna\\AppData\\Local\\Temp\\ipykernel_19316\\1662189027.py:5: SettingWithCopyWarning: \n",
      "A value is trying to be set on a copy of a slice from a DataFrame\n",
      "\n",
      "See the caveats in the documentation: https://pandas.pydata.org/pandas-docs/stable/user_guide/indexing.html#returning-a-view-versus-a-copy\n",
      "  df_landuse_suitability_index_2['A_Biomass'].loc[(df_landuse_suitability_index_2['A_Biomass'] > 0) & (df_landuse_suitability_index_2['ADM1_TH'] == i)] = feedstockpergrid\n"
     ]
    },
    {
     "name": "stdout",
     "output_type": "stream",
     "text": [
      "สกลนคร 167.25 67865.0 0.002464451484564945\n"
     ]
    },
    {
     "name": "stderr",
     "output_type": "stream",
     "text": [
      "C:\\Users\\basna\\AppData\\Local\\Temp\\ipykernel_19316\\1662189027.py:5: SettingWithCopyWarning: \n",
      "A value is trying to be set on a copy of a slice from a DataFrame\n",
      "\n",
      "See the caveats in the documentation: https://pandas.pydata.org/pandas-docs/stable/user_guide/indexing.html#returning-a-view-versus-a-copy\n",
      "  df_landuse_suitability_index_2['A_Biomass'].loc[(df_landuse_suitability_index_2['A_Biomass'] > 0) & (df_landuse_suitability_index_2['ADM1_TH'] == i)] = feedstockpergrid\n"
     ]
    },
    {
     "name": "stdout",
     "output_type": "stream",
     "text": [
      "นครพนม 523.83 53782.0 0.00973987579487561\n"
     ]
    },
    {
     "name": "stderr",
     "output_type": "stream",
     "text": [
      "C:\\Users\\basna\\AppData\\Local\\Temp\\ipykernel_19316\\1662189027.py:5: SettingWithCopyWarning: \n",
      "A value is trying to be set on a copy of a slice from a DataFrame\n",
      "\n",
      "See the caveats in the documentation: https://pandas.pydata.org/pandas-docs/stable/user_guide/indexing.html#returning-a-view-versus-a-copy\n",
      "  df_landuse_suitability_index_2['A_Biomass'].loc[(df_landuse_suitability_index_2['A_Biomass'] > 0) & (df_landuse_suitability_index_2['ADM1_TH'] == i)] = feedstockpergrid\n"
     ]
    },
    {
     "name": "stdout",
     "output_type": "stream",
     "text": [
      "อุตรดิตถ์ 385.82 49292.0 0.007827233628174958\n"
     ]
    },
    {
     "name": "stderr",
     "output_type": "stream",
     "text": [
      "C:\\Users\\basna\\AppData\\Local\\Temp\\ipykernel_19316\\1662189027.py:5: SettingWithCopyWarning: \n",
      "A value is trying to be set on a copy of a slice from a DataFrame\n",
      "\n",
      "See the caveats in the documentation: https://pandas.pydata.org/pandas-docs/stable/user_guide/indexing.html#returning-a-view-versus-a-copy\n",
      "  df_landuse_suitability_index_2['A_Biomass'].loc[(df_landuse_suitability_index_2['A_Biomass'] > 0) & (df_landuse_suitability_index_2['ADM1_TH'] == i)] = feedstockpergrid\n"
     ]
    },
    {
     "name": "stdout",
     "output_type": "stream",
     "text": [
      "แม่ฮ่องสอน 92.86 23408.0 0.00396701982228298\n"
     ]
    },
    {
     "name": "stderr",
     "output_type": "stream",
     "text": [
      "C:\\Users\\basna\\AppData\\Local\\Temp\\ipykernel_19316\\1662189027.py:5: SettingWithCopyWarning: \n",
      "A value is trying to be set on a copy of a slice from a DataFrame\n",
      "\n",
      "See the caveats in the documentation: https://pandas.pydata.org/pandas-docs/stable/user_guide/indexing.html#returning-a-view-versus-a-copy\n",
      "  df_landuse_suitability_index_2['A_Biomass'].loc[(df_landuse_suitability_index_2['A_Biomass'] > 0) & (df_landuse_suitability_index_2['ADM1_TH'] == i)] = feedstockpergrid\n"
     ]
    },
    {
     "name": "stdout",
     "output_type": "stream",
     "text": [
      "ลำพูน 60.46 52023.0 0.001162178267304846\n"
     ]
    },
    {
     "name": "stderr",
     "output_type": "stream",
     "text": [
      "C:\\Users\\basna\\AppData\\Local\\Temp\\ipykernel_19316\\1662189027.py:5: SettingWithCopyWarning: \n",
      "A value is trying to be set on a copy of a slice from a DataFrame\n",
      "\n",
      "See the caveats in the documentation: https://pandas.pydata.org/pandas-docs/stable/user_guide/indexing.html#returning-a-view-versus-a-copy\n",
      "  df_landuse_suitability_index_2['A_Biomass'].loc[(df_landuse_suitability_index_2['A_Biomass'] > 0) & (df_landuse_suitability_index_2['ADM1_TH'] == i)] = feedstockpergrid\n"
     ]
    },
    {
     "name": "stdout",
     "output_type": "stream",
     "text": [
      "หนองคาย 237.77 44364.0 0.005359525741592282\n"
     ]
    },
    {
     "name": "stderr",
     "output_type": "stream",
     "text": [
      "C:\\Users\\basna\\AppData\\Local\\Temp\\ipykernel_19316\\1662189027.py:5: SettingWithCopyWarning: \n",
      "A value is trying to be set on a copy of a slice from a DataFrame\n",
      "\n",
      "See the caveats in the documentation: https://pandas.pydata.org/pandas-docs/stable/user_guide/indexing.html#returning-a-view-versus-a-copy\n",
      "  df_landuse_suitability_index_2['A_Biomass'].loc[(df_landuse_suitability_index_2['A_Biomass'] > 0) & (df_landuse_suitability_index_2['ADM1_TH'] == i)] = feedstockpergrid\n"
     ]
    },
    {
     "name": "stdout",
     "output_type": "stream",
     "text": [
      "แพร่ 183.95 36055.0 0.0051019276105949245\n"
     ]
    },
    {
     "name": "stderr",
     "output_type": "stream",
     "text": [
      "C:\\Users\\basna\\AppData\\Local\\Temp\\ipykernel_19316\\1662189027.py:5: SettingWithCopyWarning: \n",
      "A value is trying to be set on a copy of a slice from a DataFrame\n",
      "\n",
      "See the caveats in the documentation: https://pandas.pydata.org/pandas-docs/stable/user_guide/indexing.html#returning-a-view-versus-a-copy\n",
      "  df_landuse_suitability_index_2['A_Biomass'].loc[(df_landuse_suitability_index_2['A_Biomass'] > 0) & (df_landuse_suitability_index_2['ADM1_TH'] == i)] = feedstockpergrid\n"
     ]
    },
    {
     "name": "stdout",
     "output_type": "stream",
     "text": [
      "บึงกาฬ 715.45 52136.0 0.01372276354150683\n"
     ]
    },
    {
     "name": "stderr",
     "output_type": "stream",
     "text": [
      "C:\\Users\\basna\\AppData\\Local\\Temp\\ipykernel_19316\\1662189027.py:5: SettingWithCopyWarning: \n",
      "A value is trying to be set on a copy of a slice from a DataFrame\n",
      "\n",
      "See the caveats in the documentation: https://pandas.pydata.org/pandas-docs/stable/user_guide/indexing.html#returning-a-view-versus-a-copy\n",
      "  df_landuse_suitability_index_2['A_Biomass'].loc[(df_landuse_suitability_index_2['A_Biomass'] > 0) & (df_landuse_suitability_index_2['ADM1_TH'] == i)] = feedstockpergrid\n"
     ]
    },
    {
     "name": "stdout",
     "output_type": "stream",
     "text": [
      "ลำปาง 220.04 34285.0 0.00641796704098002\n"
     ]
    },
    {
     "name": "stderr",
     "output_type": "stream",
     "text": [
      "C:\\Users\\basna\\AppData\\Local\\Temp\\ipykernel_19316\\1662189027.py:5: SettingWithCopyWarning: \n",
      "A value is trying to be set on a copy of a slice from a DataFrame\n",
      "\n",
      "See the caveats in the documentation: https://pandas.pydata.org/pandas-docs/stable/user_guide/indexing.html#returning-a-view-versus-a-copy\n",
      "  df_landuse_suitability_index_2['A_Biomass'].loc[(df_landuse_suitability_index_2['A_Biomass'] > 0) & (df_landuse_suitability_index_2['ADM1_TH'] == i)] = feedstockpergrid\n"
     ]
    },
    {
     "name": "stdout",
     "output_type": "stream",
     "text": [
      "น่าน 284.7 48978.0 0.005812813916452285\n"
     ]
    },
    {
     "name": "stderr",
     "output_type": "stream",
     "text": [
      "C:\\Users\\basna\\AppData\\Local\\Temp\\ipykernel_19316\\1662189027.py:5: SettingWithCopyWarning: \n",
      "A value is trying to be set on a copy of a slice from a DataFrame\n",
      "\n",
      "See the caveats in the documentation: https://pandas.pydata.org/pandas-docs/stable/user_guide/indexing.html#returning-a-view-versus-a-copy\n",
      "  df_landuse_suitability_index_2['A_Biomass'].loc[(df_landuse_suitability_index_2['A_Biomass'] > 0) & (df_landuse_suitability_index_2['ADM1_TH'] == i)] = feedstockpergrid\n"
     ]
    },
    {
     "name": "stdout",
     "output_type": "stream",
     "text": [
      "เชียงใหม่ 277.51 43289.0 0.006410635496315461\n"
     ]
    },
    {
     "name": "stderr",
     "output_type": "stream",
     "text": [
      "C:\\Users\\basna\\AppData\\Local\\Temp\\ipykernel_19316\\1662189027.py:5: SettingWithCopyWarning: \n",
      "A value is trying to be set on a copy of a slice from a DataFrame\n",
      "\n",
      "See the caveats in the documentation: https://pandas.pydata.org/pandas-docs/stable/user_guide/indexing.html#returning-a-view-versus-a-copy\n",
      "  df_landuse_suitability_index_2['A_Biomass'].loc[(df_landuse_suitability_index_2['A_Biomass'] > 0) & (df_landuse_suitability_index_2['ADM1_TH'] == i)] = feedstockpergrid\n"
     ]
    },
    {
     "name": "stdout",
     "output_type": "stream",
     "text": [
      "พะเยา 217.59 53841.0 0.004041343957207333\n",
      "เชียงราย 565.66 91047.0 0.006212835129109141\n",
      "total Biomass =  36459.31000000007\n"
     ]
    },
    {
     "name": "stderr",
     "output_type": "stream",
     "text": [
      "C:\\Users\\basna\\AppData\\Local\\Temp\\ipykernel_19316\\1662189027.py:5: SettingWithCopyWarning: \n",
      "A value is trying to be set on a copy of a slice from a DataFrame\n",
      "\n",
      "See the caveats in the documentation: https://pandas.pydata.org/pandas-docs/stable/user_guide/indexing.html#returning-a-view-versus-a-copy\n",
      "  df_landuse_suitability_index_2['A_Biomass'].loc[(df_landuse_suitability_index_2['A_Biomass'] > 0) & (df_landuse_suitability_index_2['ADM1_TH'] == i)] = feedstockpergrid\n"
     ]
    }
   ],
   "source": [
    "## Biomass ###\n",
    "for i in list_province:\n",
    "    totalareaprovince = df_landuse_suitability_index_2['A_Biomass'].loc[(df_landuse_suitability_index_2['A_Biomass'] > 0) &(df_landuse_suitability_index_2['ADM1_TH'] == i)].sum()\n",
    "    feedstockpergrid = (feedstock['ศักยภาพพลังงานทดแทน (ktoe)'].loc[(feedstock['จังหวัด'] == i) & (feedstock['แหล่งพลังงานหลัก'] == 'ชีวมวล')].values[0]) / totalareaprovince\n",
    "    df_landuse_suitability_index_2['A_Biomass'].loc[(df_landuse_suitability_index_2['A_Biomass'] > 0) & (df_landuse_suitability_index_2['ADM1_TH'] == i)] = feedstockpergrid\n",
    "    print(i,(feedstock['ศักยภาพพลังงานทดแทน (ktoe)'].loc[(feedstock['จังหวัด'] == i) & (feedstock['แหล่งพลังงานหลัก'] == 'ชีวมวล')].values[0]), totalareaprovince, feedstockpergrid)\n",
    "\n",
    "print(\"total Biomass = \", df_landuse_suitability_index_2['A_Biomass'].sum())"
   ]
  },
  {
   "cell_type": "code",
   "execution_count": 15,
   "metadata": {},
   "outputs": [
    {
     "name": "stderr",
     "output_type": "stream",
     "text": [
      "C:\\Users\\basna\\AppData\\Local\\Temp\\ipykernel_19316\\3465189343.py:4: RuntimeWarning: divide by zero encountered in scalar divide\n",
      "  feedstockpergrid = (feedstock['ศักยภาพพลังงานทดแทน (ktoe)'].loc[(feedstock['จังหวัด'] == i) & (feedstock['แหล่งพลังงานหลัก'] == 'ก๊าซชีวภาพ')].values[0]) / totalareaprovince\n",
      "C:\\Users\\basna\\AppData\\Local\\Temp\\ipykernel_19316\\3465189343.py:5: SettingWithCopyWarning: \n",
      "A value is trying to be set on a copy of a slice from a DataFrame\n",
      "\n",
      "See the caveats in the documentation: https://pandas.pydata.org/pandas-docs/stable/user_guide/indexing.html#returning-a-view-versus-a-copy\n",
      "  df_landuse_suitability_index_2['A_BGWW'].loc[(df_landuse_suitability_index_2['A_BGWW'] > 0) & (df_landuse_suitability_index_2['ADM1_TH'] == i)] = feedstockpergrid\n",
      "C:\\Users\\basna\\AppData\\Local\\Temp\\ipykernel_19316\\3465189343.py:4: RuntimeWarning: divide by zero encountered in scalar divide\n",
      "  feedstockpergrid = (feedstock['ศักยภาพพลังงานทดแทน (ktoe)'].loc[(feedstock['จังหวัด'] == i) & (feedstock['แหล่งพลังงานหลัก'] == 'ก๊าซชีวภาพ')].values[0]) / totalareaprovince\n",
      "C:\\Users\\basna\\AppData\\Local\\Temp\\ipykernel_19316\\3465189343.py:5: SettingWithCopyWarning: \n",
      "A value is trying to be set on a copy of a slice from a DataFrame\n",
      "\n",
      "See the caveats in the documentation: https://pandas.pydata.org/pandas-docs/stable/user_guide/indexing.html#returning-a-view-versus-a-copy\n",
      "  df_landuse_suitability_index_2['A_BGWW'].loc[(df_landuse_suitability_index_2['A_BGWW'] > 0) & (df_landuse_suitability_index_2['ADM1_TH'] == i)] = feedstockpergrid\n",
      "C:\\Users\\basna\\AppData\\Local\\Temp\\ipykernel_19316\\3465189343.py:4: RuntimeWarning: divide by zero encountered in scalar divide\n",
      "  feedstockpergrid = (feedstock['ศักยภาพพลังงานทดแทน (ktoe)'].loc[(feedstock['จังหวัด'] == i) & (feedstock['แหล่งพลังงานหลัก'] == 'ก๊าซชีวภาพ')].values[0]) / totalareaprovince\n",
      "C:\\Users\\basna\\AppData\\Local\\Temp\\ipykernel_19316\\3465189343.py:5: SettingWithCopyWarning: \n",
      "A value is trying to be set on a copy of a slice from a DataFrame\n",
      "\n",
      "See the caveats in the documentation: https://pandas.pydata.org/pandas-docs/stable/user_guide/indexing.html#returning-a-view-versus-a-copy\n",
      "  df_landuse_suitability_index_2['A_BGWW'].loc[(df_landuse_suitability_index_2['A_BGWW'] > 0) & (df_landuse_suitability_index_2['ADM1_TH'] == i)] = feedstockpergrid\n",
      "C:\\Users\\basna\\AppData\\Local\\Temp\\ipykernel_19316\\3465189343.py:4: RuntimeWarning: divide by zero encountered in scalar divide\n",
      "  feedstockpergrid = (feedstock['ศักยภาพพลังงานทดแทน (ktoe)'].loc[(feedstock['จังหวัด'] == i) & (feedstock['แหล่งพลังงานหลัก'] == 'ก๊าซชีวภาพ')].values[0]) / totalareaprovince\n",
      "C:\\Users\\basna\\AppData\\Local\\Temp\\ipykernel_19316\\3465189343.py:5: SettingWithCopyWarning: \n",
      "A value is trying to be set on a copy of a slice from a DataFrame\n",
      "\n",
      "See the caveats in the documentation: https://pandas.pydata.org/pandas-docs/stable/user_guide/indexing.html#returning-a-view-versus-a-copy\n",
      "  df_landuse_suitability_index_2['A_BGWW'].loc[(df_landuse_suitability_index_2['A_BGWW'] > 0) & (df_landuse_suitability_index_2['ADM1_TH'] == i)] = feedstockpergrid\n",
      "C:\\Users\\basna\\AppData\\Local\\Temp\\ipykernel_19316\\3465189343.py:4: RuntimeWarning: divide by zero encountered in scalar divide\n",
      "  feedstockpergrid = (feedstock['ศักยภาพพลังงานทดแทน (ktoe)'].loc[(feedstock['จังหวัด'] == i) & (feedstock['แหล่งพลังงานหลัก'] == 'ก๊าซชีวภาพ')].values[0]) / totalareaprovince\n",
      "C:\\Users\\basna\\AppData\\Local\\Temp\\ipykernel_19316\\3465189343.py:5: SettingWithCopyWarning: \n",
      "A value is trying to be set on a copy of a slice from a DataFrame\n",
      "\n",
      "See the caveats in the documentation: https://pandas.pydata.org/pandas-docs/stable/user_guide/indexing.html#returning-a-view-versus-a-copy\n",
      "  df_landuse_suitability_index_2['A_BGWW'].loc[(df_landuse_suitability_index_2['A_BGWW'] > 0) & (df_landuse_suitability_index_2['ADM1_TH'] == i)] = feedstockpergrid\n",
      "C:\\Users\\basna\\AppData\\Local\\Temp\\ipykernel_19316\\3465189343.py:4: RuntimeWarning: divide by zero encountered in scalar divide\n",
      "  feedstockpergrid = (feedstock['ศักยภาพพลังงานทดแทน (ktoe)'].loc[(feedstock['จังหวัด'] == i) & (feedstock['แหล่งพลังงานหลัก'] == 'ก๊าซชีวภาพ')].values[0]) / totalareaprovince\n",
      "C:\\Users\\basna\\AppData\\Local\\Temp\\ipykernel_19316\\3465189343.py:5: SettingWithCopyWarning: \n",
      "A value is trying to be set on a copy of a slice from a DataFrame\n",
      "\n",
      "See the caveats in the documentation: https://pandas.pydata.org/pandas-docs/stable/user_guide/indexing.html#returning-a-view-versus-a-copy\n",
      "  df_landuse_suitability_index_2['A_BGWW'].loc[(df_landuse_suitability_index_2['A_BGWW'] > 0) & (df_landuse_suitability_index_2['ADM1_TH'] == i)] = feedstockpergrid\n",
      "C:\\Users\\basna\\AppData\\Local\\Temp\\ipykernel_19316\\3465189343.py:4: RuntimeWarning: divide by zero encountered in scalar divide\n",
      "  feedstockpergrid = (feedstock['ศักยภาพพลังงานทดแทน (ktoe)'].loc[(feedstock['จังหวัด'] == i) & (feedstock['แหล่งพลังงานหลัก'] == 'ก๊าซชีวภาพ')].values[0]) / totalareaprovince\n",
      "C:\\Users\\basna\\AppData\\Local\\Temp\\ipykernel_19316\\3465189343.py:5: SettingWithCopyWarning: \n",
      "A value is trying to be set on a copy of a slice from a DataFrame\n",
      "\n",
      "See the caveats in the documentation: https://pandas.pydata.org/pandas-docs/stable/user_guide/indexing.html#returning-a-view-versus-a-copy\n",
      "  df_landuse_suitability_index_2['A_BGWW'].loc[(df_landuse_suitability_index_2['A_BGWW'] > 0) & (df_landuse_suitability_index_2['ADM1_TH'] == i)] = feedstockpergrid\n",
      "C:\\Users\\basna\\AppData\\Local\\Temp\\ipykernel_19316\\3465189343.py:4: RuntimeWarning: divide by zero encountered in scalar divide\n",
      "  feedstockpergrid = (feedstock['ศักยภาพพลังงานทดแทน (ktoe)'].loc[(feedstock['จังหวัด'] == i) & (feedstock['แหล่งพลังงานหลัก'] == 'ก๊าซชีวภาพ')].values[0]) / totalareaprovince\n",
      "C:\\Users\\basna\\AppData\\Local\\Temp\\ipykernel_19316\\3465189343.py:5: SettingWithCopyWarning: \n",
      "A value is trying to be set on a copy of a slice from a DataFrame\n",
      "\n",
      "See the caveats in the documentation: https://pandas.pydata.org/pandas-docs/stable/user_guide/indexing.html#returning-a-view-versus-a-copy\n",
      "  df_landuse_suitability_index_2['A_BGWW'].loc[(df_landuse_suitability_index_2['A_BGWW'] > 0) & (df_landuse_suitability_index_2['ADM1_TH'] == i)] = feedstockpergrid\n",
      "C:\\Users\\basna\\AppData\\Local\\Temp\\ipykernel_19316\\3465189343.py:4: RuntimeWarning: divide by zero encountered in scalar divide\n",
      "  feedstockpergrid = (feedstock['ศักยภาพพลังงานทดแทน (ktoe)'].loc[(feedstock['จังหวัด'] == i) & (feedstock['แหล่งพลังงานหลัก'] == 'ก๊าซชีวภาพ')].values[0]) / totalareaprovince\n",
      "C:\\Users\\basna\\AppData\\Local\\Temp\\ipykernel_19316\\3465189343.py:5: SettingWithCopyWarning: \n",
      "A value is trying to be set on a copy of a slice from a DataFrame\n",
      "\n",
      "See the caveats in the documentation: https://pandas.pydata.org/pandas-docs/stable/user_guide/indexing.html#returning-a-view-versus-a-copy\n",
      "  df_landuse_suitability_index_2['A_BGWW'].loc[(df_landuse_suitability_index_2['A_BGWW'] > 0) & (df_landuse_suitability_index_2['ADM1_TH'] == i)] = feedstockpergrid\n",
      "C:\\Users\\basna\\AppData\\Local\\Temp\\ipykernel_19316\\3465189343.py:4: RuntimeWarning: divide by zero encountered in scalar divide\n",
      "  feedstockpergrid = (feedstock['ศักยภาพพลังงานทดแทน (ktoe)'].loc[(feedstock['จังหวัด'] == i) & (feedstock['แหล่งพลังงานหลัก'] == 'ก๊าซชีวภาพ')].values[0]) / totalareaprovince\n",
      "C:\\Users\\basna\\AppData\\Local\\Temp\\ipykernel_19316\\3465189343.py:5: SettingWithCopyWarning: \n",
      "A value is trying to be set on a copy of a slice from a DataFrame\n",
      "\n",
      "See the caveats in the documentation: https://pandas.pydata.org/pandas-docs/stable/user_guide/indexing.html#returning-a-view-versus-a-copy\n",
      "  df_landuse_suitability_index_2['A_BGWW'].loc[(df_landuse_suitability_index_2['A_BGWW'] > 0) & (df_landuse_suitability_index_2['ADM1_TH'] == i)] = feedstockpergrid\n",
      "C:\\Users\\basna\\AppData\\Local\\Temp\\ipykernel_19316\\3465189343.py:4: RuntimeWarning: divide by zero encountered in scalar divide\n",
      "  feedstockpergrid = (feedstock['ศักยภาพพลังงานทดแทน (ktoe)'].loc[(feedstock['จังหวัด'] == i) & (feedstock['แหล่งพลังงานหลัก'] == 'ก๊าซชีวภาพ')].values[0]) / totalareaprovince\n",
      "C:\\Users\\basna\\AppData\\Local\\Temp\\ipykernel_19316\\3465189343.py:5: SettingWithCopyWarning: \n",
      "A value is trying to be set on a copy of a slice from a DataFrame\n",
      "\n",
      "See the caveats in the documentation: https://pandas.pydata.org/pandas-docs/stable/user_guide/indexing.html#returning-a-view-versus-a-copy\n",
      "  df_landuse_suitability_index_2['A_BGWW'].loc[(df_landuse_suitability_index_2['A_BGWW'] > 0) & (df_landuse_suitability_index_2['ADM1_TH'] == i)] = feedstockpergrid\n",
      "C:\\Users\\basna\\AppData\\Local\\Temp\\ipykernel_19316\\3465189343.py:4: RuntimeWarning: divide by zero encountered in scalar divide\n",
      "  feedstockpergrid = (feedstock['ศักยภาพพลังงานทดแทน (ktoe)'].loc[(feedstock['จังหวัด'] == i) & (feedstock['แหล่งพลังงานหลัก'] == 'ก๊าซชีวภาพ')].values[0]) / totalareaprovince\n",
      "C:\\Users\\basna\\AppData\\Local\\Temp\\ipykernel_19316\\3465189343.py:5: SettingWithCopyWarning: \n",
      "A value is trying to be set on a copy of a slice from a DataFrame\n",
      "\n",
      "See the caveats in the documentation: https://pandas.pydata.org/pandas-docs/stable/user_guide/indexing.html#returning-a-view-versus-a-copy\n",
      "  df_landuse_suitability_index_2['A_BGWW'].loc[(df_landuse_suitability_index_2['A_BGWW'] > 0) & (df_landuse_suitability_index_2['ADM1_TH'] == i)] = feedstockpergrid\n",
      "C:\\Users\\basna\\AppData\\Local\\Temp\\ipykernel_19316\\3465189343.py:4: RuntimeWarning: divide by zero encountered in scalar divide\n",
      "  feedstockpergrid = (feedstock['ศักยภาพพลังงานทดแทน (ktoe)'].loc[(feedstock['จังหวัด'] == i) & (feedstock['แหล่งพลังงานหลัก'] == 'ก๊าซชีวภาพ')].values[0]) / totalareaprovince\n",
      "C:\\Users\\basna\\AppData\\Local\\Temp\\ipykernel_19316\\3465189343.py:5: SettingWithCopyWarning: \n",
      "A value is trying to be set on a copy of a slice from a DataFrame\n",
      "\n",
      "See the caveats in the documentation: https://pandas.pydata.org/pandas-docs/stable/user_guide/indexing.html#returning-a-view-versus-a-copy\n",
      "  df_landuse_suitability_index_2['A_BGWW'].loc[(df_landuse_suitability_index_2['A_BGWW'] > 0) & (df_landuse_suitability_index_2['ADM1_TH'] == i)] = feedstockpergrid\n",
      "C:\\Users\\basna\\AppData\\Local\\Temp\\ipykernel_19316\\3465189343.py:4: RuntimeWarning: divide by zero encountered in scalar divide\n",
      "  feedstockpergrid = (feedstock['ศักยภาพพลังงานทดแทน (ktoe)'].loc[(feedstock['จังหวัด'] == i) & (feedstock['แหล่งพลังงานหลัก'] == 'ก๊าซชีวภาพ')].values[0]) / totalareaprovince\n",
      "C:\\Users\\basna\\AppData\\Local\\Temp\\ipykernel_19316\\3465189343.py:5: SettingWithCopyWarning: \n",
      "A value is trying to be set on a copy of a slice from a DataFrame\n",
      "\n",
      "See the caveats in the documentation: https://pandas.pydata.org/pandas-docs/stable/user_guide/indexing.html#returning-a-view-versus-a-copy\n",
      "  df_landuse_suitability_index_2['A_BGWW'].loc[(df_landuse_suitability_index_2['A_BGWW'] > 0) & (df_landuse_suitability_index_2['ADM1_TH'] == i)] = feedstockpergrid\n",
      "C:\\Users\\basna\\AppData\\Local\\Temp\\ipykernel_19316\\3465189343.py:4: RuntimeWarning: divide by zero encountered in scalar divide\n",
      "  feedstockpergrid = (feedstock['ศักยภาพพลังงานทดแทน (ktoe)'].loc[(feedstock['จังหวัด'] == i) & (feedstock['แหล่งพลังงานหลัก'] == 'ก๊าซชีวภาพ')].values[0]) / totalareaprovince\n",
      "C:\\Users\\basna\\AppData\\Local\\Temp\\ipykernel_19316\\3465189343.py:5: SettingWithCopyWarning: \n",
      "A value is trying to be set on a copy of a slice from a DataFrame\n",
      "\n",
      "See the caveats in the documentation: https://pandas.pydata.org/pandas-docs/stable/user_guide/indexing.html#returning-a-view-versus-a-copy\n",
      "  df_landuse_suitability_index_2['A_BGWW'].loc[(df_landuse_suitability_index_2['A_BGWW'] > 0) & (df_landuse_suitability_index_2['ADM1_TH'] == i)] = feedstockpergrid\n",
      "C:\\Users\\basna\\AppData\\Local\\Temp\\ipykernel_19316\\3465189343.py:4: RuntimeWarning: divide by zero encountered in scalar divide\n",
      "  feedstockpergrid = (feedstock['ศักยภาพพลังงานทดแทน (ktoe)'].loc[(feedstock['จังหวัด'] == i) & (feedstock['แหล่งพลังงานหลัก'] == 'ก๊าซชีวภาพ')].values[0]) / totalareaprovince\n",
      "C:\\Users\\basna\\AppData\\Local\\Temp\\ipykernel_19316\\3465189343.py:5: SettingWithCopyWarning: \n",
      "A value is trying to be set on a copy of a slice from a DataFrame\n",
      "\n",
      "See the caveats in the documentation: https://pandas.pydata.org/pandas-docs/stable/user_guide/indexing.html#returning-a-view-versus-a-copy\n",
      "  df_landuse_suitability_index_2['A_BGWW'].loc[(df_landuse_suitability_index_2['A_BGWW'] > 0) & (df_landuse_suitability_index_2['ADM1_TH'] == i)] = feedstockpergrid\n",
      "C:\\Users\\basna\\AppData\\Local\\Temp\\ipykernel_19316\\3465189343.py:4: RuntimeWarning: divide by zero encountered in scalar divide\n",
      "  feedstockpergrid = (feedstock['ศักยภาพพลังงานทดแทน (ktoe)'].loc[(feedstock['จังหวัด'] == i) & (feedstock['แหล่งพลังงานหลัก'] == 'ก๊าซชีวภาพ')].values[0]) / totalareaprovince\n",
      "C:\\Users\\basna\\AppData\\Local\\Temp\\ipykernel_19316\\3465189343.py:5: SettingWithCopyWarning: \n",
      "A value is trying to be set on a copy of a slice from a DataFrame\n",
      "\n",
      "See the caveats in the documentation: https://pandas.pydata.org/pandas-docs/stable/user_guide/indexing.html#returning-a-view-versus-a-copy\n",
      "  df_landuse_suitability_index_2['A_BGWW'].loc[(df_landuse_suitability_index_2['A_BGWW'] > 0) & (df_landuse_suitability_index_2['ADM1_TH'] == i)] = feedstockpergrid\n",
      "C:\\Users\\basna\\AppData\\Local\\Temp\\ipykernel_19316\\3465189343.py:4: RuntimeWarning: divide by zero encountered in scalar divide\n",
      "  feedstockpergrid = (feedstock['ศักยภาพพลังงานทดแทน (ktoe)'].loc[(feedstock['จังหวัด'] == i) & (feedstock['แหล่งพลังงานหลัก'] == 'ก๊าซชีวภาพ')].values[0]) / totalareaprovince\n",
      "C:\\Users\\basna\\AppData\\Local\\Temp\\ipykernel_19316\\3465189343.py:5: SettingWithCopyWarning: \n",
      "A value is trying to be set on a copy of a slice from a DataFrame\n",
      "\n",
      "See the caveats in the documentation: https://pandas.pydata.org/pandas-docs/stable/user_guide/indexing.html#returning-a-view-versus-a-copy\n",
      "  df_landuse_suitability_index_2['A_BGWW'].loc[(df_landuse_suitability_index_2['A_BGWW'] > 0) & (df_landuse_suitability_index_2['ADM1_TH'] == i)] = feedstockpergrid\n",
      "C:\\Users\\basna\\AppData\\Local\\Temp\\ipykernel_19316\\3465189343.py:4: RuntimeWarning: divide by zero encountered in scalar divide\n",
      "  feedstockpergrid = (feedstock['ศักยภาพพลังงานทดแทน (ktoe)'].loc[(feedstock['จังหวัด'] == i) & (feedstock['แหล่งพลังงานหลัก'] == 'ก๊าซชีวภาพ')].values[0]) / totalareaprovince\n",
      "C:\\Users\\basna\\AppData\\Local\\Temp\\ipykernel_19316\\3465189343.py:5: SettingWithCopyWarning: \n",
      "A value is trying to be set on a copy of a slice from a DataFrame\n",
      "\n",
      "See the caveats in the documentation: https://pandas.pydata.org/pandas-docs/stable/user_guide/indexing.html#returning-a-view-versus-a-copy\n",
      "  df_landuse_suitability_index_2['A_BGWW'].loc[(df_landuse_suitability_index_2['A_BGWW'] > 0) & (df_landuse_suitability_index_2['ADM1_TH'] == i)] = feedstockpergrid\n",
      "C:\\Users\\basna\\AppData\\Local\\Temp\\ipykernel_19316\\3465189343.py:4: RuntimeWarning: divide by zero encountered in scalar divide\n",
      "  feedstockpergrid = (feedstock['ศักยภาพพลังงานทดแทน (ktoe)'].loc[(feedstock['จังหวัด'] == i) & (feedstock['แหล่งพลังงานหลัก'] == 'ก๊าซชีวภาพ')].values[0]) / totalareaprovince\n",
      "C:\\Users\\basna\\AppData\\Local\\Temp\\ipykernel_19316\\3465189343.py:5: SettingWithCopyWarning: \n",
      "A value is trying to be set on a copy of a slice from a DataFrame\n",
      "\n",
      "See the caveats in the documentation: https://pandas.pydata.org/pandas-docs/stable/user_guide/indexing.html#returning-a-view-versus-a-copy\n",
      "  df_landuse_suitability_index_2['A_BGWW'].loc[(df_landuse_suitability_index_2['A_BGWW'] > 0) & (df_landuse_suitability_index_2['ADM1_TH'] == i)] = feedstockpergrid\n",
      "C:\\Users\\basna\\AppData\\Local\\Temp\\ipykernel_19316\\3465189343.py:4: RuntimeWarning: divide by zero encountered in scalar divide\n",
      "  feedstockpergrid = (feedstock['ศักยภาพพลังงานทดแทน (ktoe)'].loc[(feedstock['จังหวัด'] == i) & (feedstock['แหล่งพลังงานหลัก'] == 'ก๊าซชีวภาพ')].values[0]) / totalareaprovince\n",
      "C:\\Users\\basna\\AppData\\Local\\Temp\\ipykernel_19316\\3465189343.py:5: SettingWithCopyWarning: \n",
      "A value is trying to be set on a copy of a slice from a DataFrame\n",
      "\n",
      "See the caveats in the documentation: https://pandas.pydata.org/pandas-docs/stable/user_guide/indexing.html#returning-a-view-versus-a-copy\n",
      "  df_landuse_suitability_index_2['A_BGWW'].loc[(df_landuse_suitability_index_2['A_BGWW'] > 0) & (df_landuse_suitability_index_2['ADM1_TH'] == i)] = feedstockpergrid\n",
      "C:\\Users\\basna\\AppData\\Local\\Temp\\ipykernel_19316\\3465189343.py:4: RuntimeWarning: divide by zero encountered in scalar divide\n",
      "  feedstockpergrid = (feedstock['ศักยภาพพลังงานทดแทน (ktoe)'].loc[(feedstock['จังหวัด'] == i) & (feedstock['แหล่งพลังงานหลัก'] == 'ก๊าซชีวภาพ')].values[0]) / totalareaprovince\n",
      "C:\\Users\\basna\\AppData\\Local\\Temp\\ipykernel_19316\\3465189343.py:5: SettingWithCopyWarning: \n",
      "A value is trying to be set on a copy of a slice from a DataFrame\n",
      "\n",
      "See the caveats in the documentation: https://pandas.pydata.org/pandas-docs/stable/user_guide/indexing.html#returning-a-view-versus-a-copy\n",
      "  df_landuse_suitability_index_2['A_BGWW'].loc[(df_landuse_suitability_index_2['A_BGWW'] > 0) & (df_landuse_suitability_index_2['ADM1_TH'] == i)] = feedstockpergrid\n",
      "C:\\Users\\basna\\AppData\\Local\\Temp\\ipykernel_19316\\3465189343.py:4: RuntimeWarning: divide by zero encountered in scalar divide\n",
      "  feedstockpergrid = (feedstock['ศักยภาพพลังงานทดแทน (ktoe)'].loc[(feedstock['จังหวัด'] == i) & (feedstock['แหล่งพลังงานหลัก'] == 'ก๊าซชีวภาพ')].values[0]) / totalareaprovince\n",
      "C:\\Users\\basna\\AppData\\Local\\Temp\\ipykernel_19316\\3465189343.py:5: SettingWithCopyWarning: \n",
      "A value is trying to be set on a copy of a slice from a DataFrame\n",
      "\n",
      "See the caveats in the documentation: https://pandas.pydata.org/pandas-docs/stable/user_guide/indexing.html#returning-a-view-versus-a-copy\n",
      "  df_landuse_suitability_index_2['A_BGWW'].loc[(df_landuse_suitability_index_2['A_BGWW'] > 0) & (df_landuse_suitability_index_2['ADM1_TH'] == i)] = feedstockpergrid\n",
      "C:\\Users\\basna\\AppData\\Local\\Temp\\ipykernel_19316\\3465189343.py:4: RuntimeWarning: divide by zero encountered in scalar divide\n",
      "  feedstockpergrid = (feedstock['ศักยภาพพลังงานทดแทน (ktoe)'].loc[(feedstock['จังหวัด'] == i) & (feedstock['แหล่งพลังงานหลัก'] == 'ก๊าซชีวภาพ')].values[0]) / totalareaprovince\n",
      "C:\\Users\\basna\\AppData\\Local\\Temp\\ipykernel_19316\\3465189343.py:5: SettingWithCopyWarning: \n",
      "A value is trying to be set on a copy of a slice from a DataFrame\n",
      "\n",
      "See the caveats in the documentation: https://pandas.pydata.org/pandas-docs/stable/user_guide/indexing.html#returning-a-view-versus-a-copy\n",
      "  df_landuse_suitability_index_2['A_BGWW'].loc[(df_landuse_suitability_index_2['A_BGWW'] > 0) & (df_landuse_suitability_index_2['ADM1_TH'] == i)] = feedstockpergrid\n",
      "C:\\Users\\basna\\AppData\\Local\\Temp\\ipykernel_19316\\3465189343.py:4: RuntimeWarning: divide by zero encountered in scalar divide\n",
      "  feedstockpergrid = (feedstock['ศักยภาพพลังงานทดแทน (ktoe)'].loc[(feedstock['จังหวัด'] == i) & (feedstock['แหล่งพลังงานหลัก'] == 'ก๊าซชีวภาพ')].values[0]) / totalareaprovince\n",
      "C:\\Users\\basna\\AppData\\Local\\Temp\\ipykernel_19316\\3465189343.py:5: SettingWithCopyWarning: \n",
      "A value is trying to be set on a copy of a slice from a DataFrame\n",
      "\n",
      "See the caveats in the documentation: https://pandas.pydata.org/pandas-docs/stable/user_guide/indexing.html#returning-a-view-versus-a-copy\n",
      "  df_landuse_suitability_index_2['A_BGWW'].loc[(df_landuse_suitability_index_2['A_BGWW'] > 0) & (df_landuse_suitability_index_2['ADM1_TH'] == i)] = feedstockpergrid\n",
      "C:\\Users\\basna\\AppData\\Local\\Temp\\ipykernel_19316\\3465189343.py:4: RuntimeWarning: divide by zero encountered in scalar divide\n",
      "  feedstockpergrid = (feedstock['ศักยภาพพลังงานทดแทน (ktoe)'].loc[(feedstock['จังหวัด'] == i) & (feedstock['แหล่งพลังงานหลัก'] == 'ก๊าซชีวภาพ')].values[0]) / totalareaprovince\n",
      "C:\\Users\\basna\\AppData\\Local\\Temp\\ipykernel_19316\\3465189343.py:5: SettingWithCopyWarning: \n",
      "A value is trying to be set on a copy of a slice from a DataFrame\n",
      "\n",
      "See the caveats in the documentation: https://pandas.pydata.org/pandas-docs/stable/user_guide/indexing.html#returning-a-view-versus-a-copy\n",
      "  df_landuse_suitability_index_2['A_BGWW'].loc[(df_landuse_suitability_index_2['A_BGWW'] > 0) & (df_landuse_suitability_index_2['ADM1_TH'] == i)] = feedstockpergrid\n",
      "C:\\Users\\basna\\AppData\\Local\\Temp\\ipykernel_19316\\3465189343.py:4: RuntimeWarning: divide by zero encountered in scalar divide\n",
      "  feedstockpergrid = (feedstock['ศักยภาพพลังงานทดแทน (ktoe)'].loc[(feedstock['จังหวัด'] == i) & (feedstock['แหล่งพลังงานหลัก'] == 'ก๊าซชีวภาพ')].values[0]) / totalareaprovince\n",
      "C:\\Users\\basna\\AppData\\Local\\Temp\\ipykernel_19316\\3465189343.py:5: SettingWithCopyWarning: \n",
      "A value is trying to be set on a copy of a slice from a DataFrame\n",
      "\n",
      "See the caveats in the documentation: https://pandas.pydata.org/pandas-docs/stable/user_guide/indexing.html#returning-a-view-versus-a-copy\n",
      "  df_landuse_suitability_index_2['A_BGWW'].loc[(df_landuse_suitability_index_2['A_BGWW'] > 0) & (df_landuse_suitability_index_2['ADM1_TH'] == i)] = feedstockpergrid\n",
      "C:\\Users\\basna\\AppData\\Local\\Temp\\ipykernel_19316\\3465189343.py:4: RuntimeWarning: divide by zero encountered in scalar divide\n",
      "  feedstockpergrid = (feedstock['ศักยภาพพลังงานทดแทน (ktoe)'].loc[(feedstock['จังหวัด'] == i) & (feedstock['แหล่งพลังงานหลัก'] == 'ก๊าซชีวภาพ')].values[0]) / totalareaprovince\n",
      "C:\\Users\\basna\\AppData\\Local\\Temp\\ipykernel_19316\\3465189343.py:5: SettingWithCopyWarning: \n",
      "A value is trying to be set on a copy of a slice from a DataFrame\n",
      "\n",
      "See the caveats in the documentation: https://pandas.pydata.org/pandas-docs/stable/user_guide/indexing.html#returning-a-view-versus-a-copy\n",
      "  df_landuse_suitability_index_2['A_BGWW'].loc[(df_landuse_suitability_index_2['A_BGWW'] > 0) & (df_landuse_suitability_index_2['ADM1_TH'] == i)] = feedstockpergrid\n",
      "C:\\Users\\basna\\AppData\\Local\\Temp\\ipykernel_19316\\3465189343.py:4: RuntimeWarning: divide by zero encountered in scalar divide\n",
      "  feedstockpergrid = (feedstock['ศักยภาพพลังงานทดแทน (ktoe)'].loc[(feedstock['จังหวัด'] == i) & (feedstock['แหล่งพลังงานหลัก'] == 'ก๊าซชีวภาพ')].values[0]) / totalareaprovince\n",
      "C:\\Users\\basna\\AppData\\Local\\Temp\\ipykernel_19316\\3465189343.py:5: SettingWithCopyWarning: \n",
      "A value is trying to be set on a copy of a slice from a DataFrame\n",
      "\n",
      "See the caveats in the documentation: https://pandas.pydata.org/pandas-docs/stable/user_guide/indexing.html#returning-a-view-versus-a-copy\n",
      "  df_landuse_suitability_index_2['A_BGWW'].loc[(df_landuse_suitability_index_2['A_BGWW'] > 0) & (df_landuse_suitability_index_2['ADM1_TH'] == i)] = feedstockpergrid\n",
      "C:\\Users\\basna\\AppData\\Local\\Temp\\ipykernel_19316\\3465189343.py:4: RuntimeWarning: divide by zero encountered in scalar divide\n",
      "  feedstockpergrid = (feedstock['ศักยภาพพลังงานทดแทน (ktoe)'].loc[(feedstock['จังหวัด'] == i) & (feedstock['แหล่งพลังงานหลัก'] == 'ก๊าซชีวภาพ')].values[0]) / totalareaprovince\n",
      "C:\\Users\\basna\\AppData\\Local\\Temp\\ipykernel_19316\\3465189343.py:5: SettingWithCopyWarning: \n",
      "A value is trying to be set on a copy of a slice from a DataFrame\n",
      "\n",
      "See the caveats in the documentation: https://pandas.pydata.org/pandas-docs/stable/user_guide/indexing.html#returning-a-view-versus-a-copy\n",
      "  df_landuse_suitability_index_2['A_BGWW'].loc[(df_landuse_suitability_index_2['A_BGWW'] > 0) & (df_landuse_suitability_index_2['ADM1_TH'] == i)] = feedstockpergrid\n",
      "C:\\Users\\basna\\AppData\\Local\\Temp\\ipykernel_19316\\3465189343.py:4: RuntimeWarning: divide by zero encountered in scalar divide\n",
      "  feedstockpergrid = (feedstock['ศักยภาพพลังงานทดแทน (ktoe)'].loc[(feedstock['จังหวัด'] == i) & (feedstock['แหล่งพลังงานหลัก'] == 'ก๊าซชีวภาพ')].values[0]) / totalareaprovince\n",
      "C:\\Users\\basna\\AppData\\Local\\Temp\\ipykernel_19316\\3465189343.py:5: SettingWithCopyWarning: \n",
      "A value is trying to be set on a copy of a slice from a DataFrame\n",
      "\n",
      "See the caveats in the documentation: https://pandas.pydata.org/pandas-docs/stable/user_guide/indexing.html#returning-a-view-versus-a-copy\n",
      "  df_landuse_suitability_index_2['A_BGWW'].loc[(df_landuse_suitability_index_2['A_BGWW'] > 0) & (df_landuse_suitability_index_2['ADM1_TH'] == i)] = feedstockpergrid\n",
      "C:\\Users\\basna\\AppData\\Local\\Temp\\ipykernel_19316\\3465189343.py:4: RuntimeWarning: divide by zero encountered in scalar divide\n",
      "  feedstockpergrid = (feedstock['ศักยภาพพลังงานทดแทน (ktoe)'].loc[(feedstock['จังหวัด'] == i) & (feedstock['แหล่งพลังงานหลัก'] == 'ก๊าซชีวภาพ')].values[0]) / totalareaprovince\n",
      "C:\\Users\\basna\\AppData\\Local\\Temp\\ipykernel_19316\\3465189343.py:5: SettingWithCopyWarning: \n",
      "A value is trying to be set on a copy of a slice from a DataFrame\n",
      "\n",
      "See the caveats in the documentation: https://pandas.pydata.org/pandas-docs/stable/user_guide/indexing.html#returning-a-view-versus-a-copy\n",
      "  df_landuse_suitability_index_2['A_BGWW'].loc[(df_landuse_suitability_index_2['A_BGWW'] > 0) & (df_landuse_suitability_index_2['ADM1_TH'] == i)] = feedstockpergrid\n",
      "C:\\Users\\basna\\AppData\\Local\\Temp\\ipykernel_19316\\3465189343.py:4: RuntimeWarning: divide by zero encountered in scalar divide\n",
      "  feedstockpergrid = (feedstock['ศักยภาพพลังงานทดแทน (ktoe)'].loc[(feedstock['จังหวัด'] == i) & (feedstock['แหล่งพลังงานหลัก'] == 'ก๊าซชีวภาพ')].values[0]) / totalareaprovince\n",
      "C:\\Users\\basna\\AppData\\Local\\Temp\\ipykernel_19316\\3465189343.py:5: SettingWithCopyWarning: \n",
      "A value is trying to be set on a copy of a slice from a DataFrame\n",
      "\n",
      "See the caveats in the documentation: https://pandas.pydata.org/pandas-docs/stable/user_guide/indexing.html#returning-a-view-versus-a-copy\n",
      "  df_landuse_suitability_index_2['A_BGWW'].loc[(df_landuse_suitability_index_2['A_BGWW'] > 0) & (df_landuse_suitability_index_2['ADM1_TH'] == i)] = feedstockpergrid\n",
      "C:\\Users\\basna\\AppData\\Local\\Temp\\ipykernel_19316\\3465189343.py:4: RuntimeWarning: divide by zero encountered in scalar divide\n",
      "  feedstockpergrid = (feedstock['ศักยภาพพลังงานทดแทน (ktoe)'].loc[(feedstock['จังหวัด'] == i) & (feedstock['แหล่งพลังงานหลัก'] == 'ก๊าซชีวภาพ')].values[0]) / totalareaprovince\n",
      "C:\\Users\\basna\\AppData\\Local\\Temp\\ipykernel_19316\\3465189343.py:5: SettingWithCopyWarning: \n",
      "A value is trying to be set on a copy of a slice from a DataFrame\n",
      "\n",
      "See the caveats in the documentation: https://pandas.pydata.org/pandas-docs/stable/user_guide/indexing.html#returning-a-view-versus-a-copy\n",
      "  df_landuse_suitability_index_2['A_BGWW'].loc[(df_landuse_suitability_index_2['A_BGWW'] > 0) & (df_landuse_suitability_index_2['ADM1_TH'] == i)] = feedstockpergrid\n",
      "C:\\Users\\basna\\AppData\\Local\\Temp\\ipykernel_19316\\3465189343.py:4: RuntimeWarning: divide by zero encountered in scalar divide\n",
      "  feedstockpergrid = (feedstock['ศักยภาพพลังงานทดแทน (ktoe)'].loc[(feedstock['จังหวัด'] == i) & (feedstock['แหล่งพลังงานหลัก'] == 'ก๊าซชีวภาพ')].values[0]) / totalareaprovince\n",
      "C:\\Users\\basna\\AppData\\Local\\Temp\\ipykernel_19316\\3465189343.py:5: SettingWithCopyWarning: \n",
      "A value is trying to be set on a copy of a slice from a DataFrame\n",
      "\n",
      "See the caveats in the documentation: https://pandas.pydata.org/pandas-docs/stable/user_guide/indexing.html#returning-a-view-versus-a-copy\n",
      "  df_landuse_suitability_index_2['A_BGWW'].loc[(df_landuse_suitability_index_2['A_BGWW'] > 0) & (df_landuse_suitability_index_2['ADM1_TH'] == i)] = feedstockpergrid\n",
      "C:\\Users\\basna\\AppData\\Local\\Temp\\ipykernel_19316\\3465189343.py:4: RuntimeWarning: divide by zero encountered in scalar divide\n",
      "  feedstockpergrid = (feedstock['ศักยภาพพลังงานทดแทน (ktoe)'].loc[(feedstock['จังหวัด'] == i) & (feedstock['แหล่งพลังงานหลัก'] == 'ก๊าซชีวภาพ')].values[0]) / totalareaprovince\n",
      "C:\\Users\\basna\\AppData\\Local\\Temp\\ipykernel_19316\\3465189343.py:5: SettingWithCopyWarning: \n",
      "A value is trying to be set on a copy of a slice from a DataFrame\n",
      "\n",
      "See the caveats in the documentation: https://pandas.pydata.org/pandas-docs/stable/user_guide/indexing.html#returning-a-view-versus-a-copy\n",
      "  df_landuse_suitability_index_2['A_BGWW'].loc[(df_landuse_suitability_index_2['A_BGWW'] > 0) & (df_landuse_suitability_index_2['ADM1_TH'] == i)] = feedstockpergrid\n",
      "C:\\Users\\basna\\AppData\\Local\\Temp\\ipykernel_19316\\3465189343.py:4: RuntimeWarning: divide by zero encountered in scalar divide\n",
      "  feedstockpergrid = (feedstock['ศักยภาพพลังงานทดแทน (ktoe)'].loc[(feedstock['จังหวัด'] == i) & (feedstock['แหล่งพลังงานหลัก'] == 'ก๊าซชีวภาพ')].values[0]) / totalareaprovince\n",
      "C:\\Users\\basna\\AppData\\Local\\Temp\\ipykernel_19316\\3465189343.py:5: SettingWithCopyWarning: \n",
      "A value is trying to be set on a copy of a slice from a DataFrame\n",
      "\n",
      "See the caveats in the documentation: https://pandas.pydata.org/pandas-docs/stable/user_guide/indexing.html#returning-a-view-versus-a-copy\n",
      "  df_landuse_suitability_index_2['A_BGWW'].loc[(df_landuse_suitability_index_2['A_BGWW'] > 0) & (df_landuse_suitability_index_2['ADM1_TH'] == i)] = feedstockpergrid\n",
      "C:\\Users\\basna\\AppData\\Local\\Temp\\ipykernel_19316\\3465189343.py:4: RuntimeWarning: divide by zero encountered in scalar divide\n",
      "  feedstockpergrid = (feedstock['ศักยภาพพลังงานทดแทน (ktoe)'].loc[(feedstock['จังหวัด'] == i) & (feedstock['แหล่งพลังงานหลัก'] == 'ก๊าซชีวภาพ')].values[0]) / totalareaprovince\n",
      "C:\\Users\\basna\\AppData\\Local\\Temp\\ipykernel_19316\\3465189343.py:5: SettingWithCopyWarning: \n",
      "A value is trying to be set on a copy of a slice from a DataFrame\n",
      "\n",
      "See the caveats in the documentation: https://pandas.pydata.org/pandas-docs/stable/user_guide/indexing.html#returning-a-view-versus-a-copy\n",
      "  df_landuse_suitability_index_2['A_BGWW'].loc[(df_landuse_suitability_index_2['A_BGWW'] > 0) & (df_landuse_suitability_index_2['ADM1_TH'] == i)] = feedstockpergrid\n",
      "C:\\Users\\basna\\AppData\\Local\\Temp\\ipykernel_19316\\3465189343.py:4: RuntimeWarning: divide by zero encountered in scalar divide\n",
      "  feedstockpergrid = (feedstock['ศักยภาพพลังงานทดแทน (ktoe)'].loc[(feedstock['จังหวัด'] == i) & (feedstock['แหล่งพลังงานหลัก'] == 'ก๊าซชีวภาพ')].values[0]) / totalareaprovince\n",
      "C:\\Users\\basna\\AppData\\Local\\Temp\\ipykernel_19316\\3465189343.py:5: SettingWithCopyWarning: \n",
      "A value is trying to be set on a copy of a slice from a DataFrame\n",
      "\n",
      "See the caveats in the documentation: https://pandas.pydata.org/pandas-docs/stable/user_guide/indexing.html#returning-a-view-versus-a-copy\n",
      "  df_landuse_suitability_index_2['A_BGWW'].loc[(df_landuse_suitability_index_2['A_BGWW'] > 0) & (df_landuse_suitability_index_2['ADM1_TH'] == i)] = feedstockpergrid\n",
      "C:\\Users\\basna\\AppData\\Local\\Temp\\ipykernel_19316\\3465189343.py:4: RuntimeWarning: divide by zero encountered in scalar divide\n",
      "  feedstockpergrid = (feedstock['ศักยภาพพลังงานทดแทน (ktoe)'].loc[(feedstock['จังหวัด'] == i) & (feedstock['แหล่งพลังงานหลัก'] == 'ก๊าซชีวภาพ')].values[0]) / totalareaprovince\n",
      "C:\\Users\\basna\\AppData\\Local\\Temp\\ipykernel_19316\\3465189343.py:5: SettingWithCopyWarning: \n",
      "A value is trying to be set on a copy of a slice from a DataFrame\n",
      "\n",
      "See the caveats in the documentation: https://pandas.pydata.org/pandas-docs/stable/user_guide/indexing.html#returning-a-view-versus-a-copy\n",
      "  df_landuse_suitability_index_2['A_BGWW'].loc[(df_landuse_suitability_index_2['A_BGWW'] > 0) & (df_landuse_suitability_index_2['ADM1_TH'] == i)] = feedstockpergrid\n",
      "C:\\Users\\basna\\AppData\\Local\\Temp\\ipykernel_19316\\3465189343.py:4: RuntimeWarning: divide by zero encountered in scalar divide\n",
      "  feedstockpergrid = (feedstock['ศักยภาพพลังงานทดแทน (ktoe)'].loc[(feedstock['จังหวัด'] == i) & (feedstock['แหล่งพลังงานหลัก'] == 'ก๊าซชีวภาพ')].values[0]) / totalareaprovince\n",
      "C:\\Users\\basna\\AppData\\Local\\Temp\\ipykernel_19316\\3465189343.py:5: SettingWithCopyWarning: \n",
      "A value is trying to be set on a copy of a slice from a DataFrame\n",
      "\n",
      "See the caveats in the documentation: https://pandas.pydata.org/pandas-docs/stable/user_guide/indexing.html#returning-a-view-versus-a-copy\n",
      "  df_landuse_suitability_index_2['A_BGWW'].loc[(df_landuse_suitability_index_2['A_BGWW'] > 0) & (df_landuse_suitability_index_2['ADM1_TH'] == i)] = feedstockpergrid\n",
      "C:\\Users\\basna\\AppData\\Local\\Temp\\ipykernel_19316\\3465189343.py:4: RuntimeWarning: divide by zero encountered in scalar divide\n",
      "  feedstockpergrid = (feedstock['ศักยภาพพลังงานทดแทน (ktoe)'].loc[(feedstock['จังหวัด'] == i) & (feedstock['แหล่งพลังงานหลัก'] == 'ก๊าซชีวภาพ')].values[0]) / totalareaprovince\n",
      "C:\\Users\\basna\\AppData\\Local\\Temp\\ipykernel_19316\\3465189343.py:5: SettingWithCopyWarning: \n",
      "A value is trying to be set on a copy of a slice from a DataFrame\n",
      "\n",
      "See the caveats in the documentation: https://pandas.pydata.org/pandas-docs/stable/user_guide/indexing.html#returning-a-view-versus-a-copy\n",
      "  df_landuse_suitability_index_2['A_BGWW'].loc[(df_landuse_suitability_index_2['A_BGWW'] > 0) & (df_landuse_suitability_index_2['ADM1_TH'] == i)] = feedstockpergrid\n",
      "C:\\Users\\basna\\AppData\\Local\\Temp\\ipykernel_19316\\3465189343.py:4: RuntimeWarning: divide by zero encountered in scalar divide\n",
      "  feedstockpergrid = (feedstock['ศักยภาพพลังงานทดแทน (ktoe)'].loc[(feedstock['จังหวัด'] == i) & (feedstock['แหล่งพลังงานหลัก'] == 'ก๊าซชีวภาพ')].values[0]) / totalareaprovince\n",
      "C:\\Users\\basna\\AppData\\Local\\Temp\\ipykernel_19316\\3465189343.py:5: SettingWithCopyWarning: \n",
      "A value is trying to be set on a copy of a slice from a DataFrame\n",
      "\n",
      "See the caveats in the documentation: https://pandas.pydata.org/pandas-docs/stable/user_guide/indexing.html#returning-a-view-versus-a-copy\n",
      "  df_landuse_suitability_index_2['A_BGWW'].loc[(df_landuse_suitability_index_2['A_BGWW'] > 0) & (df_landuse_suitability_index_2['ADM1_TH'] == i)] = feedstockpergrid\n",
      "C:\\Users\\basna\\AppData\\Local\\Temp\\ipykernel_19316\\3465189343.py:4: RuntimeWarning: divide by zero encountered in scalar divide\n",
      "  feedstockpergrid = (feedstock['ศักยภาพพลังงานทดแทน (ktoe)'].loc[(feedstock['จังหวัด'] == i) & (feedstock['แหล่งพลังงานหลัก'] == 'ก๊าซชีวภาพ')].values[0]) / totalareaprovince\n",
      "C:\\Users\\basna\\AppData\\Local\\Temp\\ipykernel_19316\\3465189343.py:5: SettingWithCopyWarning: \n",
      "A value is trying to be set on a copy of a slice from a DataFrame\n",
      "\n",
      "See the caveats in the documentation: https://pandas.pydata.org/pandas-docs/stable/user_guide/indexing.html#returning-a-view-versus-a-copy\n",
      "  df_landuse_suitability_index_2['A_BGWW'].loc[(df_landuse_suitability_index_2['A_BGWW'] > 0) & (df_landuse_suitability_index_2['ADM1_TH'] == i)] = feedstockpergrid\n",
      "C:\\Users\\basna\\AppData\\Local\\Temp\\ipykernel_19316\\3465189343.py:4: RuntimeWarning: divide by zero encountered in scalar divide\n",
      "  feedstockpergrid = (feedstock['ศักยภาพพลังงานทดแทน (ktoe)'].loc[(feedstock['จังหวัด'] == i) & (feedstock['แหล่งพลังงานหลัก'] == 'ก๊าซชีวภาพ')].values[0]) / totalareaprovince\n",
      "C:\\Users\\basna\\AppData\\Local\\Temp\\ipykernel_19316\\3465189343.py:5: SettingWithCopyWarning: \n",
      "A value is trying to be set on a copy of a slice from a DataFrame\n",
      "\n",
      "See the caveats in the documentation: https://pandas.pydata.org/pandas-docs/stable/user_guide/indexing.html#returning-a-view-versus-a-copy\n",
      "  df_landuse_suitability_index_2['A_BGWW'].loc[(df_landuse_suitability_index_2['A_BGWW'] > 0) & (df_landuse_suitability_index_2['ADM1_TH'] == i)] = feedstockpergrid\n",
      "C:\\Users\\basna\\AppData\\Local\\Temp\\ipykernel_19316\\3465189343.py:4: RuntimeWarning: divide by zero encountered in scalar divide\n",
      "  feedstockpergrid = (feedstock['ศักยภาพพลังงานทดแทน (ktoe)'].loc[(feedstock['จังหวัด'] == i) & (feedstock['แหล่งพลังงานหลัก'] == 'ก๊าซชีวภาพ')].values[0]) / totalareaprovince\n",
      "C:\\Users\\basna\\AppData\\Local\\Temp\\ipykernel_19316\\3465189343.py:5: SettingWithCopyWarning: \n",
      "A value is trying to be set on a copy of a slice from a DataFrame\n",
      "\n",
      "See the caveats in the documentation: https://pandas.pydata.org/pandas-docs/stable/user_guide/indexing.html#returning-a-view-versus-a-copy\n",
      "  df_landuse_suitability_index_2['A_BGWW'].loc[(df_landuse_suitability_index_2['A_BGWW'] > 0) & (df_landuse_suitability_index_2['ADM1_TH'] == i)] = feedstockpergrid\n",
      "C:\\Users\\basna\\AppData\\Local\\Temp\\ipykernel_19316\\3465189343.py:4: RuntimeWarning: divide by zero encountered in scalar divide\n",
      "  feedstockpergrid = (feedstock['ศักยภาพพลังงานทดแทน (ktoe)'].loc[(feedstock['จังหวัด'] == i) & (feedstock['แหล่งพลังงานหลัก'] == 'ก๊าซชีวภาพ')].values[0]) / totalareaprovince\n",
      "C:\\Users\\basna\\AppData\\Local\\Temp\\ipykernel_19316\\3465189343.py:5: SettingWithCopyWarning: \n",
      "A value is trying to be set on a copy of a slice from a DataFrame\n",
      "\n",
      "See the caveats in the documentation: https://pandas.pydata.org/pandas-docs/stable/user_guide/indexing.html#returning-a-view-versus-a-copy\n",
      "  df_landuse_suitability_index_2['A_BGWW'].loc[(df_landuse_suitability_index_2['A_BGWW'] > 0) & (df_landuse_suitability_index_2['ADM1_TH'] == i)] = feedstockpergrid\n",
      "C:\\Users\\basna\\AppData\\Local\\Temp\\ipykernel_19316\\3465189343.py:4: RuntimeWarning: divide by zero encountered in scalar divide\n",
      "  feedstockpergrid = (feedstock['ศักยภาพพลังงานทดแทน (ktoe)'].loc[(feedstock['จังหวัด'] == i) & (feedstock['แหล่งพลังงานหลัก'] == 'ก๊าซชีวภาพ')].values[0]) / totalareaprovince\n",
      "C:\\Users\\basna\\AppData\\Local\\Temp\\ipykernel_19316\\3465189343.py:5: SettingWithCopyWarning: \n",
      "A value is trying to be set on a copy of a slice from a DataFrame\n",
      "\n",
      "See the caveats in the documentation: https://pandas.pydata.org/pandas-docs/stable/user_guide/indexing.html#returning-a-view-versus-a-copy\n",
      "  df_landuse_suitability_index_2['A_BGWW'].loc[(df_landuse_suitability_index_2['A_BGWW'] > 0) & (df_landuse_suitability_index_2['ADM1_TH'] == i)] = feedstockpergrid\n",
      "C:\\Users\\basna\\AppData\\Local\\Temp\\ipykernel_19316\\3465189343.py:4: RuntimeWarning: divide by zero encountered in scalar divide\n",
      "  feedstockpergrid = (feedstock['ศักยภาพพลังงานทดแทน (ktoe)'].loc[(feedstock['จังหวัด'] == i) & (feedstock['แหล่งพลังงานหลัก'] == 'ก๊าซชีวภาพ')].values[0]) / totalareaprovince\n",
      "C:\\Users\\basna\\AppData\\Local\\Temp\\ipykernel_19316\\3465189343.py:5: SettingWithCopyWarning: \n",
      "A value is trying to be set on a copy of a slice from a DataFrame\n",
      "\n",
      "See the caveats in the documentation: https://pandas.pydata.org/pandas-docs/stable/user_guide/indexing.html#returning-a-view-versus-a-copy\n",
      "  df_landuse_suitability_index_2['A_BGWW'].loc[(df_landuse_suitability_index_2['A_BGWW'] > 0) & (df_landuse_suitability_index_2['ADM1_TH'] == i)] = feedstockpergrid\n",
      "C:\\Users\\basna\\AppData\\Local\\Temp\\ipykernel_19316\\3465189343.py:4: RuntimeWarning: divide by zero encountered in scalar divide\n",
      "  feedstockpergrid = (feedstock['ศักยภาพพลังงานทดแทน (ktoe)'].loc[(feedstock['จังหวัด'] == i) & (feedstock['แหล่งพลังงานหลัก'] == 'ก๊าซชีวภาพ')].values[0]) / totalareaprovince\n",
      "C:\\Users\\basna\\AppData\\Local\\Temp\\ipykernel_19316\\3465189343.py:5: SettingWithCopyWarning: \n",
      "A value is trying to be set on a copy of a slice from a DataFrame\n",
      "\n",
      "See the caveats in the documentation: https://pandas.pydata.org/pandas-docs/stable/user_guide/indexing.html#returning-a-view-versus-a-copy\n",
      "  df_landuse_suitability_index_2['A_BGWW'].loc[(df_landuse_suitability_index_2['A_BGWW'] > 0) & (df_landuse_suitability_index_2['ADM1_TH'] == i)] = feedstockpergrid\n",
      "C:\\Users\\basna\\AppData\\Local\\Temp\\ipykernel_19316\\3465189343.py:4: RuntimeWarning: divide by zero encountered in scalar divide\n",
      "  feedstockpergrid = (feedstock['ศักยภาพพลังงานทดแทน (ktoe)'].loc[(feedstock['จังหวัด'] == i) & (feedstock['แหล่งพลังงานหลัก'] == 'ก๊าซชีวภาพ')].values[0]) / totalareaprovince\n",
      "C:\\Users\\basna\\AppData\\Local\\Temp\\ipykernel_19316\\3465189343.py:5: SettingWithCopyWarning: \n",
      "A value is trying to be set on a copy of a slice from a DataFrame\n",
      "\n",
      "See the caveats in the documentation: https://pandas.pydata.org/pandas-docs/stable/user_guide/indexing.html#returning-a-view-versus-a-copy\n",
      "  df_landuse_suitability_index_2['A_BGWW'].loc[(df_landuse_suitability_index_2['A_BGWW'] > 0) & (df_landuse_suitability_index_2['ADM1_TH'] == i)] = feedstockpergrid\n",
      "C:\\Users\\basna\\AppData\\Local\\Temp\\ipykernel_19316\\3465189343.py:4: RuntimeWarning: divide by zero encountered in scalar divide\n",
      "  feedstockpergrid = (feedstock['ศักยภาพพลังงานทดแทน (ktoe)'].loc[(feedstock['จังหวัด'] == i) & (feedstock['แหล่งพลังงานหลัก'] == 'ก๊าซชีวภาพ')].values[0]) / totalareaprovince\n",
      "C:\\Users\\basna\\AppData\\Local\\Temp\\ipykernel_19316\\3465189343.py:5: SettingWithCopyWarning: \n",
      "A value is trying to be set on a copy of a slice from a DataFrame\n",
      "\n",
      "See the caveats in the documentation: https://pandas.pydata.org/pandas-docs/stable/user_guide/indexing.html#returning-a-view-versus-a-copy\n",
      "  df_landuse_suitability_index_2['A_BGWW'].loc[(df_landuse_suitability_index_2['A_BGWW'] > 0) & (df_landuse_suitability_index_2['ADM1_TH'] == i)] = feedstockpergrid\n",
      "C:\\Users\\basna\\AppData\\Local\\Temp\\ipykernel_19316\\3465189343.py:4: RuntimeWarning: divide by zero encountered in scalar divide\n",
      "  feedstockpergrid = (feedstock['ศักยภาพพลังงานทดแทน (ktoe)'].loc[(feedstock['จังหวัด'] == i) & (feedstock['แหล่งพลังงานหลัก'] == 'ก๊าซชีวภาพ')].values[0]) / totalareaprovince\n",
      "C:\\Users\\basna\\AppData\\Local\\Temp\\ipykernel_19316\\3465189343.py:5: SettingWithCopyWarning: \n",
      "A value is trying to be set on a copy of a slice from a DataFrame\n",
      "\n",
      "See the caveats in the documentation: https://pandas.pydata.org/pandas-docs/stable/user_guide/indexing.html#returning-a-view-versus-a-copy\n",
      "  df_landuse_suitability_index_2['A_BGWW'].loc[(df_landuse_suitability_index_2['A_BGWW'] > 0) & (df_landuse_suitability_index_2['ADM1_TH'] == i)] = feedstockpergrid\n",
      "C:\\Users\\basna\\AppData\\Local\\Temp\\ipykernel_19316\\3465189343.py:4: RuntimeWarning: divide by zero encountered in scalar divide\n",
      "  feedstockpergrid = (feedstock['ศักยภาพพลังงานทดแทน (ktoe)'].loc[(feedstock['จังหวัด'] == i) & (feedstock['แหล่งพลังงานหลัก'] == 'ก๊าซชีวภาพ')].values[0]) / totalareaprovince\n",
      "C:\\Users\\basna\\AppData\\Local\\Temp\\ipykernel_19316\\3465189343.py:5: SettingWithCopyWarning: \n",
      "A value is trying to be set on a copy of a slice from a DataFrame\n",
      "\n",
      "See the caveats in the documentation: https://pandas.pydata.org/pandas-docs/stable/user_guide/indexing.html#returning-a-view-versus-a-copy\n",
      "  df_landuse_suitability_index_2['A_BGWW'].loc[(df_landuse_suitability_index_2['A_BGWW'] > 0) & (df_landuse_suitability_index_2['ADM1_TH'] == i)] = feedstockpergrid\n",
      "C:\\Users\\basna\\AppData\\Local\\Temp\\ipykernel_19316\\3465189343.py:4: RuntimeWarning: divide by zero encountered in scalar divide\n",
      "  feedstockpergrid = (feedstock['ศักยภาพพลังงานทดแทน (ktoe)'].loc[(feedstock['จังหวัด'] == i) & (feedstock['แหล่งพลังงานหลัก'] == 'ก๊าซชีวภาพ')].values[0]) / totalareaprovince\n",
      "C:\\Users\\basna\\AppData\\Local\\Temp\\ipykernel_19316\\3465189343.py:5: SettingWithCopyWarning: \n",
      "A value is trying to be set on a copy of a slice from a DataFrame\n",
      "\n",
      "See the caveats in the documentation: https://pandas.pydata.org/pandas-docs/stable/user_guide/indexing.html#returning-a-view-versus-a-copy\n",
      "  df_landuse_suitability_index_2['A_BGWW'].loc[(df_landuse_suitability_index_2['A_BGWW'] > 0) & (df_landuse_suitability_index_2['ADM1_TH'] == i)] = feedstockpergrid\n",
      "C:\\Users\\basna\\AppData\\Local\\Temp\\ipykernel_19316\\3465189343.py:4: RuntimeWarning: divide by zero encountered in scalar divide\n",
      "  feedstockpergrid = (feedstock['ศักยภาพพลังงานทดแทน (ktoe)'].loc[(feedstock['จังหวัด'] == i) & (feedstock['แหล่งพลังงานหลัก'] == 'ก๊าซชีวภาพ')].values[0]) / totalareaprovince\n",
      "C:\\Users\\basna\\AppData\\Local\\Temp\\ipykernel_19316\\3465189343.py:5: SettingWithCopyWarning: \n",
      "A value is trying to be set on a copy of a slice from a DataFrame\n",
      "\n",
      "See the caveats in the documentation: https://pandas.pydata.org/pandas-docs/stable/user_guide/indexing.html#returning-a-view-versus-a-copy\n",
      "  df_landuse_suitability_index_2['A_BGWW'].loc[(df_landuse_suitability_index_2['A_BGWW'] > 0) & (df_landuse_suitability_index_2['ADM1_TH'] == i)] = feedstockpergrid\n",
      "C:\\Users\\basna\\AppData\\Local\\Temp\\ipykernel_19316\\3465189343.py:4: RuntimeWarning: divide by zero encountered in scalar divide\n",
      "  feedstockpergrid = (feedstock['ศักยภาพพลังงานทดแทน (ktoe)'].loc[(feedstock['จังหวัด'] == i) & (feedstock['แหล่งพลังงานหลัก'] == 'ก๊าซชีวภาพ')].values[0]) / totalareaprovince\n",
      "C:\\Users\\basna\\AppData\\Local\\Temp\\ipykernel_19316\\3465189343.py:5: SettingWithCopyWarning: \n",
      "A value is trying to be set on a copy of a slice from a DataFrame\n",
      "\n",
      "See the caveats in the documentation: https://pandas.pydata.org/pandas-docs/stable/user_guide/indexing.html#returning-a-view-versus-a-copy\n",
      "  df_landuse_suitability_index_2['A_BGWW'].loc[(df_landuse_suitability_index_2['A_BGWW'] > 0) & (df_landuse_suitability_index_2['ADM1_TH'] == i)] = feedstockpergrid\n",
      "C:\\Users\\basna\\AppData\\Local\\Temp\\ipykernel_19316\\3465189343.py:4: RuntimeWarning: divide by zero encountered in scalar divide\n",
      "  feedstockpergrid = (feedstock['ศักยภาพพลังงานทดแทน (ktoe)'].loc[(feedstock['จังหวัด'] == i) & (feedstock['แหล่งพลังงานหลัก'] == 'ก๊าซชีวภาพ')].values[0]) / totalareaprovince\n",
      "C:\\Users\\basna\\AppData\\Local\\Temp\\ipykernel_19316\\3465189343.py:5: SettingWithCopyWarning: \n",
      "A value is trying to be set on a copy of a slice from a DataFrame\n",
      "\n",
      "See the caveats in the documentation: https://pandas.pydata.org/pandas-docs/stable/user_guide/indexing.html#returning-a-view-versus-a-copy\n",
      "  df_landuse_suitability_index_2['A_BGWW'].loc[(df_landuse_suitability_index_2['A_BGWW'] > 0) & (df_landuse_suitability_index_2['ADM1_TH'] == i)] = feedstockpergrid\n",
      "C:\\Users\\basna\\AppData\\Local\\Temp\\ipykernel_19316\\3465189343.py:4: RuntimeWarning: divide by zero encountered in scalar divide\n",
      "  feedstockpergrid = (feedstock['ศักยภาพพลังงานทดแทน (ktoe)'].loc[(feedstock['จังหวัด'] == i) & (feedstock['แหล่งพลังงานหลัก'] == 'ก๊าซชีวภาพ')].values[0]) / totalareaprovince\n",
      "C:\\Users\\basna\\AppData\\Local\\Temp\\ipykernel_19316\\3465189343.py:5: SettingWithCopyWarning: \n",
      "A value is trying to be set on a copy of a slice from a DataFrame\n",
      "\n",
      "See the caveats in the documentation: https://pandas.pydata.org/pandas-docs/stable/user_guide/indexing.html#returning-a-view-versus-a-copy\n",
      "  df_landuse_suitability_index_2['A_BGWW'].loc[(df_landuse_suitability_index_2['A_BGWW'] > 0) & (df_landuse_suitability_index_2['ADM1_TH'] == i)] = feedstockpergrid\n",
      "C:\\Users\\basna\\AppData\\Local\\Temp\\ipykernel_19316\\3465189343.py:4: RuntimeWarning: divide by zero encountered in scalar divide\n",
      "  feedstockpergrid = (feedstock['ศักยภาพพลังงานทดแทน (ktoe)'].loc[(feedstock['จังหวัด'] == i) & (feedstock['แหล่งพลังงานหลัก'] == 'ก๊าซชีวภาพ')].values[0]) / totalareaprovince\n",
      "C:\\Users\\basna\\AppData\\Local\\Temp\\ipykernel_19316\\3465189343.py:5: SettingWithCopyWarning: \n",
      "A value is trying to be set on a copy of a slice from a DataFrame\n",
      "\n",
      "See the caveats in the documentation: https://pandas.pydata.org/pandas-docs/stable/user_guide/indexing.html#returning-a-view-versus-a-copy\n",
      "  df_landuse_suitability_index_2['A_BGWW'].loc[(df_landuse_suitability_index_2['A_BGWW'] > 0) & (df_landuse_suitability_index_2['ADM1_TH'] == i)] = feedstockpergrid\n",
      "C:\\Users\\basna\\AppData\\Local\\Temp\\ipykernel_19316\\3465189343.py:4: RuntimeWarning: divide by zero encountered in scalar divide\n",
      "  feedstockpergrid = (feedstock['ศักยภาพพลังงานทดแทน (ktoe)'].loc[(feedstock['จังหวัด'] == i) & (feedstock['แหล่งพลังงานหลัก'] == 'ก๊าซชีวภาพ')].values[0]) / totalareaprovince\n",
      "C:\\Users\\basna\\AppData\\Local\\Temp\\ipykernel_19316\\3465189343.py:5: SettingWithCopyWarning: \n",
      "A value is trying to be set on a copy of a slice from a DataFrame\n",
      "\n",
      "See the caveats in the documentation: https://pandas.pydata.org/pandas-docs/stable/user_guide/indexing.html#returning-a-view-versus-a-copy\n",
      "  df_landuse_suitability_index_2['A_BGWW'].loc[(df_landuse_suitability_index_2['A_BGWW'] > 0) & (df_landuse_suitability_index_2['ADM1_TH'] == i)] = feedstockpergrid\n",
      "C:\\Users\\basna\\AppData\\Local\\Temp\\ipykernel_19316\\3465189343.py:4: RuntimeWarning: divide by zero encountered in scalar divide\n",
      "  feedstockpergrid = (feedstock['ศักยภาพพลังงานทดแทน (ktoe)'].loc[(feedstock['จังหวัด'] == i) & (feedstock['แหล่งพลังงานหลัก'] == 'ก๊าซชีวภาพ')].values[0]) / totalareaprovince\n",
      "C:\\Users\\basna\\AppData\\Local\\Temp\\ipykernel_19316\\3465189343.py:5: SettingWithCopyWarning: \n",
      "A value is trying to be set on a copy of a slice from a DataFrame\n",
      "\n",
      "See the caveats in the documentation: https://pandas.pydata.org/pandas-docs/stable/user_guide/indexing.html#returning-a-view-versus-a-copy\n",
      "  df_landuse_suitability_index_2['A_BGWW'].loc[(df_landuse_suitability_index_2['A_BGWW'] > 0) & (df_landuse_suitability_index_2['ADM1_TH'] == i)] = feedstockpergrid\n",
      "C:\\Users\\basna\\AppData\\Local\\Temp\\ipykernel_19316\\3465189343.py:4: RuntimeWarning: divide by zero encountered in scalar divide\n",
      "  feedstockpergrid = (feedstock['ศักยภาพพลังงานทดแทน (ktoe)'].loc[(feedstock['จังหวัด'] == i) & (feedstock['แหล่งพลังงานหลัก'] == 'ก๊าซชีวภาพ')].values[0]) / totalareaprovince\n",
      "C:\\Users\\basna\\AppData\\Local\\Temp\\ipykernel_19316\\3465189343.py:5: SettingWithCopyWarning: \n",
      "A value is trying to be set on a copy of a slice from a DataFrame\n",
      "\n",
      "See the caveats in the documentation: https://pandas.pydata.org/pandas-docs/stable/user_guide/indexing.html#returning-a-view-versus-a-copy\n",
      "  df_landuse_suitability_index_2['A_BGWW'].loc[(df_landuse_suitability_index_2['A_BGWW'] > 0) & (df_landuse_suitability_index_2['ADM1_TH'] == i)] = feedstockpergrid\n",
      "C:\\Users\\basna\\AppData\\Local\\Temp\\ipykernel_19316\\3465189343.py:4: RuntimeWarning: divide by zero encountered in scalar divide\n",
      "  feedstockpergrid = (feedstock['ศักยภาพพลังงานทดแทน (ktoe)'].loc[(feedstock['จังหวัด'] == i) & (feedstock['แหล่งพลังงานหลัก'] == 'ก๊าซชีวภาพ')].values[0]) / totalareaprovince\n",
      "C:\\Users\\basna\\AppData\\Local\\Temp\\ipykernel_19316\\3465189343.py:5: SettingWithCopyWarning: \n",
      "A value is trying to be set on a copy of a slice from a DataFrame\n",
      "\n",
      "See the caveats in the documentation: https://pandas.pydata.org/pandas-docs/stable/user_guide/indexing.html#returning-a-view-versus-a-copy\n",
      "  df_landuse_suitability_index_2['A_BGWW'].loc[(df_landuse_suitability_index_2['A_BGWW'] > 0) & (df_landuse_suitability_index_2['ADM1_TH'] == i)] = feedstockpergrid\n",
      "C:\\Users\\basna\\AppData\\Local\\Temp\\ipykernel_19316\\3465189343.py:4: RuntimeWarning: divide by zero encountered in scalar divide\n",
      "  feedstockpergrid = (feedstock['ศักยภาพพลังงานทดแทน (ktoe)'].loc[(feedstock['จังหวัด'] == i) & (feedstock['แหล่งพลังงานหลัก'] == 'ก๊าซชีวภาพ')].values[0]) / totalareaprovince\n",
      "C:\\Users\\basna\\AppData\\Local\\Temp\\ipykernel_19316\\3465189343.py:5: SettingWithCopyWarning: \n",
      "A value is trying to be set on a copy of a slice from a DataFrame\n",
      "\n",
      "See the caveats in the documentation: https://pandas.pydata.org/pandas-docs/stable/user_guide/indexing.html#returning-a-view-versus-a-copy\n",
      "  df_landuse_suitability_index_2['A_BGWW'].loc[(df_landuse_suitability_index_2['A_BGWW'] > 0) & (df_landuse_suitability_index_2['ADM1_TH'] == i)] = feedstockpergrid\n",
      "C:\\Users\\basna\\AppData\\Local\\Temp\\ipykernel_19316\\3465189343.py:4: RuntimeWarning: divide by zero encountered in scalar divide\n",
      "  feedstockpergrid = (feedstock['ศักยภาพพลังงานทดแทน (ktoe)'].loc[(feedstock['จังหวัด'] == i) & (feedstock['แหล่งพลังงานหลัก'] == 'ก๊าซชีวภาพ')].values[0]) / totalareaprovince\n",
      "C:\\Users\\basna\\AppData\\Local\\Temp\\ipykernel_19316\\3465189343.py:5: SettingWithCopyWarning: \n",
      "A value is trying to be set on a copy of a slice from a DataFrame\n",
      "\n",
      "See the caveats in the documentation: https://pandas.pydata.org/pandas-docs/stable/user_guide/indexing.html#returning-a-view-versus-a-copy\n",
      "  df_landuse_suitability_index_2['A_BGWW'].loc[(df_landuse_suitability_index_2['A_BGWW'] > 0) & (df_landuse_suitability_index_2['ADM1_TH'] == i)] = feedstockpergrid\n",
      "C:\\Users\\basna\\AppData\\Local\\Temp\\ipykernel_19316\\3465189343.py:4: RuntimeWarning: divide by zero encountered in scalar divide\n",
      "  feedstockpergrid = (feedstock['ศักยภาพพลังงานทดแทน (ktoe)'].loc[(feedstock['จังหวัด'] == i) & (feedstock['แหล่งพลังงานหลัก'] == 'ก๊าซชีวภาพ')].values[0]) / totalareaprovince\n",
      "C:\\Users\\basna\\AppData\\Local\\Temp\\ipykernel_19316\\3465189343.py:5: SettingWithCopyWarning: \n",
      "A value is trying to be set on a copy of a slice from a DataFrame\n",
      "\n",
      "See the caveats in the documentation: https://pandas.pydata.org/pandas-docs/stable/user_guide/indexing.html#returning-a-view-versus-a-copy\n",
      "  df_landuse_suitability_index_2['A_BGWW'].loc[(df_landuse_suitability_index_2['A_BGWW'] > 0) & (df_landuse_suitability_index_2['ADM1_TH'] == i)] = feedstockpergrid\n",
      "C:\\Users\\basna\\AppData\\Local\\Temp\\ipykernel_19316\\3465189343.py:4: RuntimeWarning: divide by zero encountered in scalar divide\n",
      "  feedstockpergrid = (feedstock['ศักยภาพพลังงานทดแทน (ktoe)'].loc[(feedstock['จังหวัด'] == i) & (feedstock['แหล่งพลังงานหลัก'] == 'ก๊าซชีวภาพ')].values[0]) / totalareaprovince\n",
      "C:\\Users\\basna\\AppData\\Local\\Temp\\ipykernel_19316\\3465189343.py:5: SettingWithCopyWarning: \n",
      "A value is trying to be set on a copy of a slice from a DataFrame\n",
      "\n",
      "See the caveats in the documentation: https://pandas.pydata.org/pandas-docs/stable/user_guide/indexing.html#returning-a-view-versus-a-copy\n",
      "  df_landuse_suitability_index_2['A_BGWW'].loc[(df_landuse_suitability_index_2['A_BGWW'] > 0) & (df_landuse_suitability_index_2['ADM1_TH'] == i)] = feedstockpergrid\n",
      "C:\\Users\\basna\\AppData\\Local\\Temp\\ipykernel_19316\\3465189343.py:4: RuntimeWarning: divide by zero encountered in scalar divide\n",
      "  feedstockpergrid = (feedstock['ศักยภาพพลังงานทดแทน (ktoe)'].loc[(feedstock['จังหวัด'] == i) & (feedstock['แหล่งพลังงานหลัก'] == 'ก๊าซชีวภาพ')].values[0]) / totalareaprovince\n",
      "C:\\Users\\basna\\AppData\\Local\\Temp\\ipykernel_19316\\3465189343.py:5: SettingWithCopyWarning: \n",
      "A value is trying to be set on a copy of a slice from a DataFrame\n",
      "\n",
      "See the caveats in the documentation: https://pandas.pydata.org/pandas-docs/stable/user_guide/indexing.html#returning-a-view-versus-a-copy\n",
      "  df_landuse_suitability_index_2['A_BGWW'].loc[(df_landuse_suitability_index_2['A_BGWW'] > 0) & (df_landuse_suitability_index_2['ADM1_TH'] == i)] = feedstockpergrid\n",
      "C:\\Users\\basna\\AppData\\Local\\Temp\\ipykernel_19316\\3465189343.py:4: RuntimeWarning: divide by zero encountered in scalar divide\n",
      "  feedstockpergrid = (feedstock['ศักยภาพพลังงานทดแทน (ktoe)'].loc[(feedstock['จังหวัด'] == i) & (feedstock['แหล่งพลังงานหลัก'] == 'ก๊าซชีวภาพ')].values[0]) / totalareaprovince\n",
      "C:\\Users\\basna\\AppData\\Local\\Temp\\ipykernel_19316\\3465189343.py:5: SettingWithCopyWarning: \n",
      "A value is trying to be set on a copy of a slice from a DataFrame\n",
      "\n",
      "See the caveats in the documentation: https://pandas.pydata.org/pandas-docs/stable/user_guide/indexing.html#returning-a-view-versus-a-copy\n",
      "  df_landuse_suitability_index_2['A_BGWW'].loc[(df_landuse_suitability_index_2['A_BGWW'] > 0) & (df_landuse_suitability_index_2['ADM1_TH'] == i)] = feedstockpergrid\n",
      "C:\\Users\\basna\\AppData\\Local\\Temp\\ipykernel_19316\\3465189343.py:4: RuntimeWarning: divide by zero encountered in scalar divide\n",
      "  feedstockpergrid = (feedstock['ศักยภาพพลังงานทดแทน (ktoe)'].loc[(feedstock['จังหวัด'] == i) & (feedstock['แหล่งพลังงานหลัก'] == 'ก๊าซชีวภาพ')].values[0]) / totalareaprovince\n",
      "C:\\Users\\basna\\AppData\\Local\\Temp\\ipykernel_19316\\3465189343.py:5: SettingWithCopyWarning: \n",
      "A value is trying to be set on a copy of a slice from a DataFrame\n",
      "\n",
      "See the caveats in the documentation: https://pandas.pydata.org/pandas-docs/stable/user_guide/indexing.html#returning-a-view-versus-a-copy\n",
      "  df_landuse_suitability_index_2['A_BGWW'].loc[(df_landuse_suitability_index_2['A_BGWW'] > 0) & (df_landuse_suitability_index_2['ADM1_TH'] == i)] = feedstockpergrid\n",
      "C:\\Users\\basna\\AppData\\Local\\Temp\\ipykernel_19316\\3465189343.py:4: RuntimeWarning: divide by zero encountered in scalar divide\n",
      "  feedstockpergrid = (feedstock['ศักยภาพพลังงานทดแทน (ktoe)'].loc[(feedstock['จังหวัด'] == i) & (feedstock['แหล่งพลังงานหลัก'] == 'ก๊าซชีวภาพ')].values[0]) / totalareaprovince\n",
      "C:\\Users\\basna\\AppData\\Local\\Temp\\ipykernel_19316\\3465189343.py:5: SettingWithCopyWarning: \n",
      "A value is trying to be set on a copy of a slice from a DataFrame\n",
      "\n",
      "See the caveats in the documentation: https://pandas.pydata.org/pandas-docs/stable/user_guide/indexing.html#returning-a-view-versus-a-copy\n",
      "  df_landuse_suitability_index_2['A_BGWW'].loc[(df_landuse_suitability_index_2['A_BGWW'] > 0) & (df_landuse_suitability_index_2['ADM1_TH'] == i)] = feedstockpergrid\n",
      "C:\\Users\\basna\\AppData\\Local\\Temp\\ipykernel_19316\\3465189343.py:4: RuntimeWarning: divide by zero encountered in scalar divide\n",
      "  feedstockpergrid = (feedstock['ศักยภาพพลังงานทดแทน (ktoe)'].loc[(feedstock['จังหวัด'] == i) & (feedstock['แหล่งพลังงานหลัก'] == 'ก๊าซชีวภาพ')].values[0]) / totalareaprovince\n",
      "C:\\Users\\basna\\AppData\\Local\\Temp\\ipykernel_19316\\3465189343.py:5: SettingWithCopyWarning: \n",
      "A value is trying to be set on a copy of a slice from a DataFrame\n",
      "\n",
      "See the caveats in the documentation: https://pandas.pydata.org/pandas-docs/stable/user_guide/indexing.html#returning-a-view-versus-a-copy\n",
      "  df_landuse_suitability_index_2['A_BGWW'].loc[(df_landuse_suitability_index_2['A_BGWW'] > 0) & (df_landuse_suitability_index_2['ADM1_TH'] == i)] = feedstockpergrid\n",
      "C:\\Users\\basna\\AppData\\Local\\Temp\\ipykernel_19316\\3465189343.py:4: RuntimeWarning: divide by zero encountered in scalar divide\n",
      "  feedstockpergrid = (feedstock['ศักยภาพพลังงานทดแทน (ktoe)'].loc[(feedstock['จังหวัด'] == i) & (feedstock['แหล่งพลังงานหลัก'] == 'ก๊าซชีวภาพ')].values[0]) / totalareaprovince\n",
      "C:\\Users\\basna\\AppData\\Local\\Temp\\ipykernel_19316\\3465189343.py:5: SettingWithCopyWarning: \n",
      "A value is trying to be set on a copy of a slice from a DataFrame\n",
      "\n",
      "See the caveats in the documentation: https://pandas.pydata.org/pandas-docs/stable/user_guide/indexing.html#returning-a-view-versus-a-copy\n",
      "  df_landuse_suitability_index_2['A_BGWW'].loc[(df_landuse_suitability_index_2['A_BGWW'] > 0) & (df_landuse_suitability_index_2['ADM1_TH'] == i)] = feedstockpergrid\n",
      "C:\\Users\\basna\\AppData\\Local\\Temp\\ipykernel_19316\\3465189343.py:4: RuntimeWarning: divide by zero encountered in scalar divide\n",
      "  feedstockpergrid = (feedstock['ศักยภาพพลังงานทดแทน (ktoe)'].loc[(feedstock['จังหวัด'] == i) & (feedstock['แหล่งพลังงานหลัก'] == 'ก๊าซชีวภาพ')].values[0]) / totalareaprovince\n",
      "C:\\Users\\basna\\AppData\\Local\\Temp\\ipykernel_19316\\3465189343.py:5: SettingWithCopyWarning: \n",
      "A value is trying to be set on a copy of a slice from a DataFrame\n",
      "\n",
      "See the caveats in the documentation: https://pandas.pydata.org/pandas-docs/stable/user_guide/indexing.html#returning-a-view-versus-a-copy\n",
      "  df_landuse_suitability_index_2['A_BGWW'].loc[(df_landuse_suitability_index_2['A_BGWW'] > 0) & (df_landuse_suitability_index_2['ADM1_TH'] == i)] = feedstockpergrid\n",
      "C:\\Users\\basna\\AppData\\Local\\Temp\\ipykernel_19316\\3465189343.py:4: RuntimeWarning: divide by zero encountered in scalar divide\n",
      "  feedstockpergrid = (feedstock['ศักยภาพพลังงานทดแทน (ktoe)'].loc[(feedstock['จังหวัด'] == i) & (feedstock['แหล่งพลังงานหลัก'] == 'ก๊าซชีวภาพ')].values[0]) / totalareaprovince\n",
      "C:\\Users\\basna\\AppData\\Local\\Temp\\ipykernel_19316\\3465189343.py:5: SettingWithCopyWarning: \n",
      "A value is trying to be set on a copy of a slice from a DataFrame\n",
      "\n",
      "See the caveats in the documentation: https://pandas.pydata.org/pandas-docs/stable/user_guide/indexing.html#returning-a-view-versus-a-copy\n",
      "  df_landuse_suitability_index_2['A_BGWW'].loc[(df_landuse_suitability_index_2['A_BGWW'] > 0) & (df_landuse_suitability_index_2['ADM1_TH'] == i)] = feedstockpergrid\n",
      "C:\\Users\\basna\\AppData\\Local\\Temp\\ipykernel_19316\\3465189343.py:4: RuntimeWarning: divide by zero encountered in scalar divide\n",
      "  feedstockpergrid = (feedstock['ศักยภาพพลังงานทดแทน (ktoe)'].loc[(feedstock['จังหวัด'] == i) & (feedstock['แหล่งพลังงานหลัก'] == 'ก๊าซชีวภาพ')].values[0]) / totalareaprovince\n",
      "C:\\Users\\basna\\AppData\\Local\\Temp\\ipykernel_19316\\3465189343.py:5: SettingWithCopyWarning: \n",
      "A value is trying to be set on a copy of a slice from a DataFrame\n",
      "\n",
      "See the caveats in the documentation: https://pandas.pydata.org/pandas-docs/stable/user_guide/indexing.html#returning-a-view-versus-a-copy\n",
      "  df_landuse_suitability_index_2['A_BGWW'].loc[(df_landuse_suitability_index_2['A_BGWW'] > 0) & (df_landuse_suitability_index_2['ADM1_TH'] == i)] = feedstockpergrid\n"
     ]
    },
    {
     "name": "stdout",
     "output_type": "stream",
     "text": [
      "total A_BGWW =  0.0\n"
     ]
    },
    {
     "name": "stderr",
     "output_type": "stream",
     "text": [
      "C:\\Users\\basna\\AppData\\Local\\Temp\\ipykernel_19316\\3465189343.py:14: SettingWithCopyWarning: \n",
      "A value is trying to be set on a copy of a slice from a DataFrame\n",
      "\n",
      "See the caveats in the documentation: https://pandas.pydata.org/pandas-docs/stable/user_guide/indexing.html#returning-a-view-versus-a-copy\n",
      "  df_landuse_suitability_index_2['A_MSW'].loc[(df_landuse_suitability_index_2['A_MSW'] > 0) & (df_landuse_suitability_index_2['ADM1_TH'] == i)] = feedstockpergrid\n",
      "C:\\Users\\basna\\AppData\\Local\\Temp\\ipykernel_19316\\3465189343.py:14: SettingWithCopyWarning: \n",
      "A value is trying to be set on a copy of a slice from a DataFrame\n",
      "\n",
      "See the caveats in the documentation: https://pandas.pydata.org/pandas-docs/stable/user_guide/indexing.html#returning-a-view-versus-a-copy\n",
      "  df_landuse_suitability_index_2['A_MSW'].loc[(df_landuse_suitability_index_2['A_MSW'] > 0) & (df_landuse_suitability_index_2['ADM1_TH'] == i)] = feedstockpergrid\n",
      "C:\\Users\\basna\\AppData\\Local\\Temp\\ipykernel_19316\\3465189343.py:14: SettingWithCopyWarning: \n",
      "A value is trying to be set on a copy of a slice from a DataFrame\n",
      "\n",
      "See the caveats in the documentation: https://pandas.pydata.org/pandas-docs/stable/user_guide/indexing.html#returning-a-view-versus-a-copy\n",
      "  df_landuse_suitability_index_2['A_MSW'].loc[(df_landuse_suitability_index_2['A_MSW'] > 0) & (df_landuse_suitability_index_2['ADM1_TH'] == i)] = feedstockpergrid\n",
      "C:\\Users\\basna\\AppData\\Local\\Temp\\ipykernel_19316\\3465189343.py:14: SettingWithCopyWarning: \n",
      "A value is trying to be set on a copy of a slice from a DataFrame\n",
      "\n",
      "See the caveats in the documentation: https://pandas.pydata.org/pandas-docs/stable/user_guide/indexing.html#returning-a-view-versus-a-copy\n",
      "  df_landuse_suitability_index_2['A_MSW'].loc[(df_landuse_suitability_index_2['A_MSW'] > 0) & (df_landuse_suitability_index_2['ADM1_TH'] == i)] = feedstockpergrid\n",
      "C:\\Users\\basna\\AppData\\Local\\Temp\\ipykernel_19316\\3465189343.py:14: SettingWithCopyWarning: \n",
      "A value is trying to be set on a copy of a slice from a DataFrame\n",
      "\n",
      "See the caveats in the documentation: https://pandas.pydata.org/pandas-docs/stable/user_guide/indexing.html#returning-a-view-versus-a-copy\n",
      "  df_landuse_suitability_index_2['A_MSW'].loc[(df_landuse_suitability_index_2['A_MSW'] > 0) & (df_landuse_suitability_index_2['ADM1_TH'] == i)] = feedstockpergrid\n",
      "C:\\Users\\basna\\AppData\\Local\\Temp\\ipykernel_19316\\3465189343.py:14: SettingWithCopyWarning: \n",
      "A value is trying to be set on a copy of a slice from a DataFrame\n",
      "\n",
      "See the caveats in the documentation: https://pandas.pydata.org/pandas-docs/stable/user_guide/indexing.html#returning-a-view-versus-a-copy\n",
      "  df_landuse_suitability_index_2['A_MSW'].loc[(df_landuse_suitability_index_2['A_MSW'] > 0) & (df_landuse_suitability_index_2['ADM1_TH'] == i)] = feedstockpergrid\n",
      "C:\\Users\\basna\\AppData\\Local\\Temp\\ipykernel_19316\\3465189343.py:14: SettingWithCopyWarning: \n",
      "A value is trying to be set on a copy of a slice from a DataFrame\n",
      "\n",
      "See the caveats in the documentation: https://pandas.pydata.org/pandas-docs/stable/user_guide/indexing.html#returning-a-view-versus-a-copy\n",
      "  df_landuse_suitability_index_2['A_MSW'].loc[(df_landuse_suitability_index_2['A_MSW'] > 0) & (df_landuse_suitability_index_2['ADM1_TH'] == i)] = feedstockpergrid\n",
      "C:\\Users\\basna\\AppData\\Local\\Temp\\ipykernel_19316\\3465189343.py:14: SettingWithCopyWarning: \n",
      "A value is trying to be set on a copy of a slice from a DataFrame\n",
      "\n",
      "See the caveats in the documentation: https://pandas.pydata.org/pandas-docs/stable/user_guide/indexing.html#returning-a-view-versus-a-copy\n",
      "  df_landuse_suitability_index_2['A_MSW'].loc[(df_landuse_suitability_index_2['A_MSW'] > 0) & (df_landuse_suitability_index_2['ADM1_TH'] == i)] = feedstockpergrid\n",
      "C:\\Users\\basna\\AppData\\Local\\Temp\\ipykernel_19316\\3465189343.py:14: SettingWithCopyWarning: \n",
      "A value is trying to be set on a copy of a slice from a DataFrame\n",
      "\n",
      "See the caveats in the documentation: https://pandas.pydata.org/pandas-docs/stable/user_guide/indexing.html#returning-a-view-versus-a-copy\n",
      "  df_landuse_suitability_index_2['A_MSW'].loc[(df_landuse_suitability_index_2['A_MSW'] > 0) & (df_landuse_suitability_index_2['ADM1_TH'] == i)] = feedstockpergrid\n",
      "C:\\Users\\basna\\AppData\\Local\\Temp\\ipykernel_19316\\3465189343.py:14: SettingWithCopyWarning: \n",
      "A value is trying to be set on a copy of a slice from a DataFrame\n",
      "\n",
      "See the caveats in the documentation: https://pandas.pydata.org/pandas-docs/stable/user_guide/indexing.html#returning-a-view-versus-a-copy\n",
      "  df_landuse_suitability_index_2['A_MSW'].loc[(df_landuse_suitability_index_2['A_MSW'] > 0) & (df_landuse_suitability_index_2['ADM1_TH'] == i)] = feedstockpergrid\n",
      "C:\\Users\\basna\\AppData\\Local\\Temp\\ipykernel_19316\\3465189343.py:14: SettingWithCopyWarning: \n",
      "A value is trying to be set on a copy of a slice from a DataFrame\n",
      "\n",
      "See the caveats in the documentation: https://pandas.pydata.org/pandas-docs/stable/user_guide/indexing.html#returning-a-view-versus-a-copy\n",
      "  df_landuse_suitability_index_2['A_MSW'].loc[(df_landuse_suitability_index_2['A_MSW'] > 0) & (df_landuse_suitability_index_2['ADM1_TH'] == i)] = feedstockpergrid\n",
      "C:\\Users\\basna\\AppData\\Local\\Temp\\ipykernel_19316\\3465189343.py:14: SettingWithCopyWarning: \n",
      "A value is trying to be set on a copy of a slice from a DataFrame\n",
      "\n",
      "See the caveats in the documentation: https://pandas.pydata.org/pandas-docs/stable/user_guide/indexing.html#returning-a-view-versus-a-copy\n",
      "  df_landuse_suitability_index_2['A_MSW'].loc[(df_landuse_suitability_index_2['A_MSW'] > 0) & (df_landuse_suitability_index_2['ADM1_TH'] == i)] = feedstockpergrid\n",
      "C:\\Users\\basna\\AppData\\Local\\Temp\\ipykernel_19316\\3465189343.py:14: SettingWithCopyWarning: \n",
      "A value is trying to be set on a copy of a slice from a DataFrame\n",
      "\n",
      "See the caveats in the documentation: https://pandas.pydata.org/pandas-docs/stable/user_guide/indexing.html#returning-a-view-versus-a-copy\n",
      "  df_landuse_suitability_index_2['A_MSW'].loc[(df_landuse_suitability_index_2['A_MSW'] > 0) & (df_landuse_suitability_index_2['ADM1_TH'] == i)] = feedstockpergrid\n",
      "C:\\Users\\basna\\AppData\\Local\\Temp\\ipykernel_19316\\3465189343.py:14: SettingWithCopyWarning: \n",
      "A value is trying to be set on a copy of a slice from a DataFrame\n",
      "\n",
      "See the caveats in the documentation: https://pandas.pydata.org/pandas-docs/stable/user_guide/indexing.html#returning-a-view-versus-a-copy\n",
      "  df_landuse_suitability_index_2['A_MSW'].loc[(df_landuse_suitability_index_2['A_MSW'] > 0) & (df_landuse_suitability_index_2['ADM1_TH'] == i)] = feedstockpergrid\n",
      "C:\\Users\\basna\\AppData\\Local\\Temp\\ipykernel_19316\\3465189343.py:14: SettingWithCopyWarning: \n",
      "A value is trying to be set on a copy of a slice from a DataFrame\n",
      "\n",
      "See the caveats in the documentation: https://pandas.pydata.org/pandas-docs/stable/user_guide/indexing.html#returning-a-view-versus-a-copy\n",
      "  df_landuse_suitability_index_2['A_MSW'].loc[(df_landuse_suitability_index_2['A_MSW'] > 0) & (df_landuse_suitability_index_2['ADM1_TH'] == i)] = feedstockpergrid\n",
      "C:\\Users\\basna\\AppData\\Local\\Temp\\ipykernel_19316\\3465189343.py:14: SettingWithCopyWarning: \n",
      "A value is trying to be set on a copy of a slice from a DataFrame\n",
      "\n",
      "See the caveats in the documentation: https://pandas.pydata.org/pandas-docs/stable/user_guide/indexing.html#returning-a-view-versus-a-copy\n",
      "  df_landuse_suitability_index_2['A_MSW'].loc[(df_landuse_suitability_index_2['A_MSW'] > 0) & (df_landuse_suitability_index_2['ADM1_TH'] == i)] = feedstockpergrid\n",
      "C:\\Users\\basna\\AppData\\Local\\Temp\\ipykernel_19316\\3465189343.py:14: SettingWithCopyWarning: \n",
      "A value is trying to be set on a copy of a slice from a DataFrame\n",
      "\n",
      "See the caveats in the documentation: https://pandas.pydata.org/pandas-docs/stable/user_guide/indexing.html#returning-a-view-versus-a-copy\n",
      "  df_landuse_suitability_index_2['A_MSW'].loc[(df_landuse_suitability_index_2['A_MSW'] > 0) & (df_landuse_suitability_index_2['ADM1_TH'] == i)] = feedstockpergrid\n",
      "C:\\Users\\basna\\AppData\\Local\\Temp\\ipykernel_19316\\3465189343.py:14: SettingWithCopyWarning: \n",
      "A value is trying to be set on a copy of a slice from a DataFrame\n",
      "\n",
      "See the caveats in the documentation: https://pandas.pydata.org/pandas-docs/stable/user_guide/indexing.html#returning-a-view-versus-a-copy\n",
      "  df_landuse_suitability_index_2['A_MSW'].loc[(df_landuse_suitability_index_2['A_MSW'] > 0) & (df_landuse_suitability_index_2['ADM1_TH'] == i)] = feedstockpergrid\n",
      "C:\\Users\\basna\\AppData\\Local\\Temp\\ipykernel_19316\\3465189343.py:14: SettingWithCopyWarning: \n",
      "A value is trying to be set on a copy of a slice from a DataFrame\n",
      "\n",
      "See the caveats in the documentation: https://pandas.pydata.org/pandas-docs/stable/user_guide/indexing.html#returning-a-view-versus-a-copy\n",
      "  df_landuse_suitability_index_2['A_MSW'].loc[(df_landuse_suitability_index_2['A_MSW'] > 0) & (df_landuse_suitability_index_2['ADM1_TH'] == i)] = feedstockpergrid\n",
      "C:\\Users\\basna\\AppData\\Local\\Temp\\ipykernel_19316\\3465189343.py:14: SettingWithCopyWarning: \n",
      "A value is trying to be set on a copy of a slice from a DataFrame\n",
      "\n",
      "See the caveats in the documentation: https://pandas.pydata.org/pandas-docs/stable/user_guide/indexing.html#returning-a-view-versus-a-copy\n",
      "  df_landuse_suitability_index_2['A_MSW'].loc[(df_landuse_suitability_index_2['A_MSW'] > 0) & (df_landuse_suitability_index_2['ADM1_TH'] == i)] = feedstockpergrid\n",
      "C:\\Users\\basna\\AppData\\Local\\Temp\\ipykernel_19316\\3465189343.py:14: SettingWithCopyWarning: \n",
      "A value is trying to be set on a copy of a slice from a DataFrame\n",
      "\n",
      "See the caveats in the documentation: https://pandas.pydata.org/pandas-docs/stable/user_guide/indexing.html#returning-a-view-versus-a-copy\n",
      "  df_landuse_suitability_index_2['A_MSW'].loc[(df_landuse_suitability_index_2['A_MSW'] > 0) & (df_landuse_suitability_index_2['ADM1_TH'] == i)] = feedstockpergrid\n",
      "C:\\Users\\basna\\AppData\\Local\\Temp\\ipykernel_19316\\3465189343.py:14: SettingWithCopyWarning: \n",
      "A value is trying to be set on a copy of a slice from a DataFrame\n",
      "\n",
      "See the caveats in the documentation: https://pandas.pydata.org/pandas-docs/stable/user_guide/indexing.html#returning-a-view-versus-a-copy\n",
      "  df_landuse_suitability_index_2['A_MSW'].loc[(df_landuse_suitability_index_2['A_MSW'] > 0) & (df_landuse_suitability_index_2['ADM1_TH'] == i)] = feedstockpergrid\n",
      "C:\\Users\\basna\\AppData\\Local\\Temp\\ipykernel_19316\\3465189343.py:14: SettingWithCopyWarning: \n",
      "A value is trying to be set on a copy of a slice from a DataFrame\n",
      "\n",
      "See the caveats in the documentation: https://pandas.pydata.org/pandas-docs/stable/user_guide/indexing.html#returning-a-view-versus-a-copy\n",
      "  df_landuse_suitability_index_2['A_MSW'].loc[(df_landuse_suitability_index_2['A_MSW'] > 0) & (df_landuse_suitability_index_2['ADM1_TH'] == i)] = feedstockpergrid\n",
      "C:\\Users\\basna\\AppData\\Local\\Temp\\ipykernel_19316\\3465189343.py:14: SettingWithCopyWarning: \n",
      "A value is trying to be set on a copy of a slice from a DataFrame\n",
      "\n",
      "See the caveats in the documentation: https://pandas.pydata.org/pandas-docs/stable/user_guide/indexing.html#returning-a-view-versus-a-copy\n",
      "  df_landuse_suitability_index_2['A_MSW'].loc[(df_landuse_suitability_index_2['A_MSW'] > 0) & (df_landuse_suitability_index_2['ADM1_TH'] == i)] = feedstockpergrid\n",
      "C:\\Users\\basna\\AppData\\Local\\Temp\\ipykernel_19316\\3465189343.py:14: SettingWithCopyWarning: \n",
      "A value is trying to be set on a copy of a slice from a DataFrame\n",
      "\n",
      "See the caveats in the documentation: https://pandas.pydata.org/pandas-docs/stable/user_guide/indexing.html#returning-a-view-versus-a-copy\n",
      "  df_landuse_suitability_index_2['A_MSW'].loc[(df_landuse_suitability_index_2['A_MSW'] > 0) & (df_landuse_suitability_index_2['ADM1_TH'] == i)] = feedstockpergrid\n",
      "C:\\Users\\basna\\AppData\\Local\\Temp\\ipykernel_19316\\3465189343.py:14: SettingWithCopyWarning: \n",
      "A value is trying to be set on a copy of a slice from a DataFrame\n",
      "\n",
      "See the caveats in the documentation: https://pandas.pydata.org/pandas-docs/stable/user_guide/indexing.html#returning-a-view-versus-a-copy\n",
      "  df_landuse_suitability_index_2['A_MSW'].loc[(df_landuse_suitability_index_2['A_MSW'] > 0) & (df_landuse_suitability_index_2['ADM1_TH'] == i)] = feedstockpergrid\n",
      "C:\\Users\\basna\\AppData\\Local\\Temp\\ipykernel_19316\\3465189343.py:14: SettingWithCopyWarning: \n",
      "A value is trying to be set on a copy of a slice from a DataFrame\n",
      "\n",
      "See the caveats in the documentation: https://pandas.pydata.org/pandas-docs/stable/user_guide/indexing.html#returning-a-view-versus-a-copy\n",
      "  df_landuse_suitability_index_2['A_MSW'].loc[(df_landuse_suitability_index_2['A_MSW'] > 0) & (df_landuse_suitability_index_2['ADM1_TH'] == i)] = feedstockpergrid\n",
      "C:\\Users\\basna\\AppData\\Local\\Temp\\ipykernel_19316\\3465189343.py:14: SettingWithCopyWarning: \n",
      "A value is trying to be set on a copy of a slice from a DataFrame\n",
      "\n",
      "See the caveats in the documentation: https://pandas.pydata.org/pandas-docs/stable/user_guide/indexing.html#returning-a-view-versus-a-copy\n",
      "  df_landuse_suitability_index_2['A_MSW'].loc[(df_landuse_suitability_index_2['A_MSW'] > 0) & (df_landuse_suitability_index_2['ADM1_TH'] == i)] = feedstockpergrid\n",
      "C:\\Users\\basna\\AppData\\Local\\Temp\\ipykernel_19316\\3465189343.py:14: SettingWithCopyWarning: \n",
      "A value is trying to be set on a copy of a slice from a DataFrame\n",
      "\n",
      "See the caveats in the documentation: https://pandas.pydata.org/pandas-docs/stable/user_guide/indexing.html#returning-a-view-versus-a-copy\n",
      "  df_landuse_suitability_index_2['A_MSW'].loc[(df_landuse_suitability_index_2['A_MSW'] > 0) & (df_landuse_suitability_index_2['ADM1_TH'] == i)] = feedstockpergrid\n",
      "C:\\Users\\basna\\AppData\\Local\\Temp\\ipykernel_19316\\3465189343.py:14: SettingWithCopyWarning: \n",
      "A value is trying to be set on a copy of a slice from a DataFrame\n",
      "\n",
      "See the caveats in the documentation: https://pandas.pydata.org/pandas-docs/stable/user_guide/indexing.html#returning-a-view-versus-a-copy\n",
      "  df_landuse_suitability_index_2['A_MSW'].loc[(df_landuse_suitability_index_2['A_MSW'] > 0) & (df_landuse_suitability_index_2['ADM1_TH'] == i)] = feedstockpergrid\n",
      "C:\\Users\\basna\\AppData\\Local\\Temp\\ipykernel_19316\\3465189343.py:14: SettingWithCopyWarning: \n",
      "A value is trying to be set on a copy of a slice from a DataFrame\n",
      "\n",
      "See the caveats in the documentation: https://pandas.pydata.org/pandas-docs/stable/user_guide/indexing.html#returning-a-view-versus-a-copy\n",
      "  df_landuse_suitability_index_2['A_MSW'].loc[(df_landuse_suitability_index_2['A_MSW'] > 0) & (df_landuse_suitability_index_2['ADM1_TH'] == i)] = feedstockpergrid\n",
      "C:\\Users\\basna\\AppData\\Local\\Temp\\ipykernel_19316\\3465189343.py:14: SettingWithCopyWarning: \n",
      "A value is trying to be set on a copy of a slice from a DataFrame\n",
      "\n",
      "See the caveats in the documentation: https://pandas.pydata.org/pandas-docs/stable/user_guide/indexing.html#returning-a-view-versus-a-copy\n",
      "  df_landuse_suitability_index_2['A_MSW'].loc[(df_landuse_suitability_index_2['A_MSW'] > 0) & (df_landuse_suitability_index_2['ADM1_TH'] == i)] = feedstockpergrid\n",
      "C:\\Users\\basna\\AppData\\Local\\Temp\\ipykernel_19316\\3465189343.py:14: SettingWithCopyWarning: \n",
      "A value is trying to be set on a copy of a slice from a DataFrame\n",
      "\n",
      "See the caveats in the documentation: https://pandas.pydata.org/pandas-docs/stable/user_guide/indexing.html#returning-a-view-versus-a-copy\n",
      "  df_landuse_suitability_index_2['A_MSW'].loc[(df_landuse_suitability_index_2['A_MSW'] > 0) & (df_landuse_suitability_index_2['ADM1_TH'] == i)] = feedstockpergrid\n",
      "C:\\Users\\basna\\AppData\\Local\\Temp\\ipykernel_19316\\3465189343.py:14: SettingWithCopyWarning: \n",
      "A value is trying to be set on a copy of a slice from a DataFrame\n",
      "\n",
      "See the caveats in the documentation: https://pandas.pydata.org/pandas-docs/stable/user_guide/indexing.html#returning-a-view-versus-a-copy\n",
      "  df_landuse_suitability_index_2['A_MSW'].loc[(df_landuse_suitability_index_2['A_MSW'] > 0) & (df_landuse_suitability_index_2['ADM1_TH'] == i)] = feedstockpergrid\n",
      "C:\\Users\\basna\\AppData\\Local\\Temp\\ipykernel_19316\\3465189343.py:14: SettingWithCopyWarning: \n",
      "A value is trying to be set on a copy of a slice from a DataFrame\n",
      "\n",
      "See the caveats in the documentation: https://pandas.pydata.org/pandas-docs/stable/user_guide/indexing.html#returning-a-view-versus-a-copy\n",
      "  df_landuse_suitability_index_2['A_MSW'].loc[(df_landuse_suitability_index_2['A_MSW'] > 0) & (df_landuse_suitability_index_2['ADM1_TH'] == i)] = feedstockpergrid\n",
      "C:\\Users\\basna\\AppData\\Local\\Temp\\ipykernel_19316\\3465189343.py:14: SettingWithCopyWarning: \n",
      "A value is trying to be set on a copy of a slice from a DataFrame\n",
      "\n",
      "See the caveats in the documentation: https://pandas.pydata.org/pandas-docs/stable/user_guide/indexing.html#returning-a-view-versus-a-copy\n",
      "  df_landuse_suitability_index_2['A_MSW'].loc[(df_landuse_suitability_index_2['A_MSW'] > 0) & (df_landuse_suitability_index_2['ADM1_TH'] == i)] = feedstockpergrid\n",
      "C:\\Users\\basna\\AppData\\Local\\Temp\\ipykernel_19316\\3465189343.py:14: SettingWithCopyWarning: \n",
      "A value is trying to be set on a copy of a slice from a DataFrame\n",
      "\n",
      "See the caveats in the documentation: https://pandas.pydata.org/pandas-docs/stable/user_guide/indexing.html#returning-a-view-versus-a-copy\n",
      "  df_landuse_suitability_index_2['A_MSW'].loc[(df_landuse_suitability_index_2['A_MSW'] > 0) & (df_landuse_suitability_index_2['ADM1_TH'] == i)] = feedstockpergrid\n",
      "C:\\Users\\basna\\AppData\\Local\\Temp\\ipykernel_19316\\3465189343.py:14: SettingWithCopyWarning: \n",
      "A value is trying to be set on a copy of a slice from a DataFrame\n",
      "\n",
      "See the caveats in the documentation: https://pandas.pydata.org/pandas-docs/stable/user_guide/indexing.html#returning-a-view-versus-a-copy\n",
      "  df_landuse_suitability_index_2['A_MSW'].loc[(df_landuse_suitability_index_2['A_MSW'] > 0) & (df_landuse_suitability_index_2['ADM1_TH'] == i)] = feedstockpergrid\n",
      "C:\\Users\\basna\\AppData\\Local\\Temp\\ipykernel_19316\\3465189343.py:14: SettingWithCopyWarning: \n",
      "A value is trying to be set on a copy of a slice from a DataFrame\n",
      "\n",
      "See the caveats in the documentation: https://pandas.pydata.org/pandas-docs/stable/user_guide/indexing.html#returning-a-view-versus-a-copy\n",
      "  df_landuse_suitability_index_2['A_MSW'].loc[(df_landuse_suitability_index_2['A_MSW'] > 0) & (df_landuse_suitability_index_2['ADM1_TH'] == i)] = feedstockpergrid\n",
      "C:\\Users\\basna\\AppData\\Local\\Temp\\ipykernel_19316\\3465189343.py:14: SettingWithCopyWarning: \n",
      "A value is trying to be set on a copy of a slice from a DataFrame\n",
      "\n",
      "See the caveats in the documentation: https://pandas.pydata.org/pandas-docs/stable/user_guide/indexing.html#returning-a-view-versus-a-copy\n",
      "  df_landuse_suitability_index_2['A_MSW'].loc[(df_landuse_suitability_index_2['A_MSW'] > 0) & (df_landuse_suitability_index_2['ADM1_TH'] == i)] = feedstockpergrid\n",
      "C:\\Users\\basna\\AppData\\Local\\Temp\\ipykernel_19316\\3465189343.py:14: SettingWithCopyWarning: \n",
      "A value is trying to be set on a copy of a slice from a DataFrame\n",
      "\n",
      "See the caveats in the documentation: https://pandas.pydata.org/pandas-docs/stable/user_guide/indexing.html#returning-a-view-versus-a-copy\n",
      "  df_landuse_suitability_index_2['A_MSW'].loc[(df_landuse_suitability_index_2['A_MSW'] > 0) & (df_landuse_suitability_index_2['ADM1_TH'] == i)] = feedstockpergrid\n",
      "C:\\Users\\basna\\AppData\\Local\\Temp\\ipykernel_19316\\3465189343.py:14: SettingWithCopyWarning: \n",
      "A value is trying to be set on a copy of a slice from a DataFrame\n",
      "\n",
      "See the caveats in the documentation: https://pandas.pydata.org/pandas-docs/stable/user_guide/indexing.html#returning-a-view-versus-a-copy\n",
      "  df_landuse_suitability_index_2['A_MSW'].loc[(df_landuse_suitability_index_2['A_MSW'] > 0) & (df_landuse_suitability_index_2['ADM1_TH'] == i)] = feedstockpergrid\n",
      "C:\\Users\\basna\\AppData\\Local\\Temp\\ipykernel_19316\\3465189343.py:14: SettingWithCopyWarning: \n",
      "A value is trying to be set on a copy of a slice from a DataFrame\n",
      "\n",
      "See the caveats in the documentation: https://pandas.pydata.org/pandas-docs/stable/user_guide/indexing.html#returning-a-view-versus-a-copy\n",
      "  df_landuse_suitability_index_2['A_MSW'].loc[(df_landuse_suitability_index_2['A_MSW'] > 0) & (df_landuse_suitability_index_2['ADM1_TH'] == i)] = feedstockpergrid\n",
      "C:\\Users\\basna\\AppData\\Local\\Temp\\ipykernel_19316\\3465189343.py:14: SettingWithCopyWarning: \n",
      "A value is trying to be set on a copy of a slice from a DataFrame\n",
      "\n",
      "See the caveats in the documentation: https://pandas.pydata.org/pandas-docs/stable/user_guide/indexing.html#returning-a-view-versus-a-copy\n",
      "  df_landuse_suitability_index_2['A_MSW'].loc[(df_landuse_suitability_index_2['A_MSW'] > 0) & (df_landuse_suitability_index_2['ADM1_TH'] == i)] = feedstockpergrid\n",
      "C:\\Users\\basna\\AppData\\Local\\Temp\\ipykernel_19316\\3465189343.py:14: SettingWithCopyWarning: \n",
      "A value is trying to be set on a copy of a slice from a DataFrame\n",
      "\n",
      "See the caveats in the documentation: https://pandas.pydata.org/pandas-docs/stable/user_guide/indexing.html#returning-a-view-versus-a-copy\n",
      "  df_landuse_suitability_index_2['A_MSW'].loc[(df_landuse_suitability_index_2['A_MSW'] > 0) & (df_landuse_suitability_index_2['ADM1_TH'] == i)] = feedstockpergrid\n",
      "C:\\Users\\basna\\AppData\\Local\\Temp\\ipykernel_19316\\3465189343.py:14: SettingWithCopyWarning: \n",
      "A value is trying to be set on a copy of a slice from a DataFrame\n",
      "\n",
      "See the caveats in the documentation: https://pandas.pydata.org/pandas-docs/stable/user_guide/indexing.html#returning-a-view-versus-a-copy\n",
      "  df_landuse_suitability_index_2['A_MSW'].loc[(df_landuse_suitability_index_2['A_MSW'] > 0) & (df_landuse_suitability_index_2['ADM1_TH'] == i)] = feedstockpergrid\n",
      "C:\\Users\\basna\\AppData\\Local\\Temp\\ipykernel_19316\\3465189343.py:14: SettingWithCopyWarning: \n",
      "A value is trying to be set on a copy of a slice from a DataFrame\n",
      "\n",
      "See the caveats in the documentation: https://pandas.pydata.org/pandas-docs/stable/user_guide/indexing.html#returning-a-view-versus-a-copy\n",
      "  df_landuse_suitability_index_2['A_MSW'].loc[(df_landuse_suitability_index_2['A_MSW'] > 0) & (df_landuse_suitability_index_2['ADM1_TH'] == i)] = feedstockpergrid\n",
      "C:\\Users\\basna\\AppData\\Local\\Temp\\ipykernel_19316\\3465189343.py:14: SettingWithCopyWarning: \n",
      "A value is trying to be set on a copy of a slice from a DataFrame\n",
      "\n",
      "See the caveats in the documentation: https://pandas.pydata.org/pandas-docs/stable/user_guide/indexing.html#returning-a-view-versus-a-copy\n",
      "  df_landuse_suitability_index_2['A_MSW'].loc[(df_landuse_suitability_index_2['A_MSW'] > 0) & (df_landuse_suitability_index_2['ADM1_TH'] == i)] = feedstockpergrid\n",
      "C:\\Users\\basna\\AppData\\Local\\Temp\\ipykernel_19316\\3465189343.py:14: SettingWithCopyWarning: \n",
      "A value is trying to be set on a copy of a slice from a DataFrame\n",
      "\n",
      "See the caveats in the documentation: https://pandas.pydata.org/pandas-docs/stable/user_guide/indexing.html#returning-a-view-versus-a-copy\n",
      "  df_landuse_suitability_index_2['A_MSW'].loc[(df_landuse_suitability_index_2['A_MSW'] > 0) & (df_landuse_suitability_index_2['ADM1_TH'] == i)] = feedstockpergrid\n",
      "C:\\Users\\basna\\AppData\\Local\\Temp\\ipykernel_19316\\3465189343.py:14: SettingWithCopyWarning: \n",
      "A value is trying to be set on a copy of a slice from a DataFrame\n",
      "\n",
      "See the caveats in the documentation: https://pandas.pydata.org/pandas-docs/stable/user_guide/indexing.html#returning-a-view-versus-a-copy\n",
      "  df_landuse_suitability_index_2['A_MSW'].loc[(df_landuse_suitability_index_2['A_MSW'] > 0) & (df_landuse_suitability_index_2['ADM1_TH'] == i)] = feedstockpergrid\n",
      "C:\\Users\\basna\\AppData\\Local\\Temp\\ipykernel_19316\\3465189343.py:14: SettingWithCopyWarning: \n",
      "A value is trying to be set on a copy of a slice from a DataFrame\n",
      "\n",
      "See the caveats in the documentation: https://pandas.pydata.org/pandas-docs/stable/user_guide/indexing.html#returning-a-view-versus-a-copy\n",
      "  df_landuse_suitability_index_2['A_MSW'].loc[(df_landuse_suitability_index_2['A_MSW'] > 0) & (df_landuse_suitability_index_2['ADM1_TH'] == i)] = feedstockpergrid\n",
      "C:\\Users\\basna\\AppData\\Local\\Temp\\ipykernel_19316\\3465189343.py:14: SettingWithCopyWarning: \n",
      "A value is trying to be set on a copy of a slice from a DataFrame\n",
      "\n",
      "See the caveats in the documentation: https://pandas.pydata.org/pandas-docs/stable/user_guide/indexing.html#returning-a-view-versus-a-copy\n",
      "  df_landuse_suitability_index_2['A_MSW'].loc[(df_landuse_suitability_index_2['A_MSW'] > 0) & (df_landuse_suitability_index_2['ADM1_TH'] == i)] = feedstockpergrid\n",
      "C:\\Users\\basna\\AppData\\Local\\Temp\\ipykernel_19316\\3465189343.py:14: SettingWithCopyWarning: \n",
      "A value is trying to be set on a copy of a slice from a DataFrame\n",
      "\n",
      "See the caveats in the documentation: https://pandas.pydata.org/pandas-docs/stable/user_guide/indexing.html#returning-a-view-versus-a-copy\n",
      "  df_landuse_suitability_index_2['A_MSW'].loc[(df_landuse_suitability_index_2['A_MSW'] > 0) & (df_landuse_suitability_index_2['ADM1_TH'] == i)] = feedstockpergrid\n",
      "C:\\Users\\basna\\AppData\\Local\\Temp\\ipykernel_19316\\3465189343.py:14: SettingWithCopyWarning: \n",
      "A value is trying to be set on a copy of a slice from a DataFrame\n",
      "\n",
      "See the caveats in the documentation: https://pandas.pydata.org/pandas-docs/stable/user_guide/indexing.html#returning-a-view-versus-a-copy\n",
      "  df_landuse_suitability_index_2['A_MSW'].loc[(df_landuse_suitability_index_2['A_MSW'] > 0) & (df_landuse_suitability_index_2['ADM1_TH'] == i)] = feedstockpergrid\n",
      "C:\\Users\\basna\\AppData\\Local\\Temp\\ipykernel_19316\\3465189343.py:14: SettingWithCopyWarning: \n",
      "A value is trying to be set on a copy of a slice from a DataFrame\n",
      "\n",
      "See the caveats in the documentation: https://pandas.pydata.org/pandas-docs/stable/user_guide/indexing.html#returning-a-view-versus-a-copy\n",
      "  df_landuse_suitability_index_2['A_MSW'].loc[(df_landuse_suitability_index_2['A_MSW'] > 0) & (df_landuse_suitability_index_2['ADM1_TH'] == i)] = feedstockpergrid\n",
      "C:\\Users\\basna\\AppData\\Local\\Temp\\ipykernel_19316\\3465189343.py:14: SettingWithCopyWarning: \n",
      "A value is trying to be set on a copy of a slice from a DataFrame\n",
      "\n",
      "See the caveats in the documentation: https://pandas.pydata.org/pandas-docs/stable/user_guide/indexing.html#returning-a-view-versus-a-copy\n",
      "  df_landuse_suitability_index_2['A_MSW'].loc[(df_landuse_suitability_index_2['A_MSW'] > 0) & (df_landuse_suitability_index_2['ADM1_TH'] == i)] = feedstockpergrid\n",
      "C:\\Users\\basna\\AppData\\Local\\Temp\\ipykernel_19316\\3465189343.py:14: SettingWithCopyWarning: \n",
      "A value is trying to be set on a copy of a slice from a DataFrame\n",
      "\n",
      "See the caveats in the documentation: https://pandas.pydata.org/pandas-docs/stable/user_guide/indexing.html#returning-a-view-versus-a-copy\n",
      "  df_landuse_suitability_index_2['A_MSW'].loc[(df_landuse_suitability_index_2['A_MSW'] > 0) & (df_landuse_suitability_index_2['ADM1_TH'] == i)] = feedstockpergrid\n",
      "C:\\Users\\basna\\AppData\\Local\\Temp\\ipykernel_19316\\3465189343.py:14: SettingWithCopyWarning: \n",
      "A value is trying to be set on a copy of a slice from a DataFrame\n",
      "\n",
      "See the caveats in the documentation: https://pandas.pydata.org/pandas-docs/stable/user_guide/indexing.html#returning-a-view-versus-a-copy\n",
      "  df_landuse_suitability_index_2['A_MSW'].loc[(df_landuse_suitability_index_2['A_MSW'] > 0) & (df_landuse_suitability_index_2['ADM1_TH'] == i)] = feedstockpergrid\n",
      "C:\\Users\\basna\\AppData\\Local\\Temp\\ipykernel_19316\\3465189343.py:14: SettingWithCopyWarning: \n",
      "A value is trying to be set on a copy of a slice from a DataFrame\n",
      "\n",
      "See the caveats in the documentation: https://pandas.pydata.org/pandas-docs/stable/user_guide/indexing.html#returning-a-view-versus-a-copy\n",
      "  df_landuse_suitability_index_2['A_MSW'].loc[(df_landuse_suitability_index_2['A_MSW'] > 0) & (df_landuse_suitability_index_2['ADM1_TH'] == i)] = feedstockpergrid\n",
      "C:\\Users\\basna\\AppData\\Local\\Temp\\ipykernel_19316\\3465189343.py:14: SettingWithCopyWarning: \n",
      "A value is trying to be set on a copy of a slice from a DataFrame\n",
      "\n",
      "See the caveats in the documentation: https://pandas.pydata.org/pandas-docs/stable/user_guide/indexing.html#returning-a-view-versus-a-copy\n",
      "  df_landuse_suitability_index_2['A_MSW'].loc[(df_landuse_suitability_index_2['A_MSW'] > 0) & (df_landuse_suitability_index_2['ADM1_TH'] == i)] = feedstockpergrid\n",
      "C:\\Users\\basna\\AppData\\Local\\Temp\\ipykernel_19316\\3465189343.py:14: SettingWithCopyWarning: \n",
      "A value is trying to be set on a copy of a slice from a DataFrame\n",
      "\n",
      "See the caveats in the documentation: https://pandas.pydata.org/pandas-docs/stable/user_guide/indexing.html#returning-a-view-versus-a-copy\n",
      "  df_landuse_suitability_index_2['A_MSW'].loc[(df_landuse_suitability_index_2['A_MSW'] > 0) & (df_landuse_suitability_index_2['ADM1_TH'] == i)] = feedstockpergrid\n",
      "C:\\Users\\basna\\AppData\\Local\\Temp\\ipykernel_19316\\3465189343.py:14: SettingWithCopyWarning: \n",
      "A value is trying to be set on a copy of a slice from a DataFrame\n",
      "\n",
      "See the caveats in the documentation: https://pandas.pydata.org/pandas-docs/stable/user_guide/indexing.html#returning-a-view-versus-a-copy\n",
      "  df_landuse_suitability_index_2['A_MSW'].loc[(df_landuse_suitability_index_2['A_MSW'] > 0) & (df_landuse_suitability_index_2['ADM1_TH'] == i)] = feedstockpergrid\n",
      "C:\\Users\\basna\\AppData\\Local\\Temp\\ipykernel_19316\\3465189343.py:14: SettingWithCopyWarning: \n",
      "A value is trying to be set on a copy of a slice from a DataFrame\n",
      "\n",
      "See the caveats in the documentation: https://pandas.pydata.org/pandas-docs/stable/user_guide/indexing.html#returning-a-view-versus-a-copy\n",
      "  df_landuse_suitability_index_2['A_MSW'].loc[(df_landuse_suitability_index_2['A_MSW'] > 0) & (df_landuse_suitability_index_2['ADM1_TH'] == i)] = feedstockpergrid\n",
      "C:\\Users\\basna\\AppData\\Local\\Temp\\ipykernel_19316\\3465189343.py:14: SettingWithCopyWarning: \n",
      "A value is trying to be set on a copy of a slice from a DataFrame\n",
      "\n",
      "See the caveats in the documentation: https://pandas.pydata.org/pandas-docs/stable/user_guide/indexing.html#returning-a-view-versus-a-copy\n",
      "  df_landuse_suitability_index_2['A_MSW'].loc[(df_landuse_suitability_index_2['A_MSW'] > 0) & (df_landuse_suitability_index_2['ADM1_TH'] == i)] = feedstockpergrid\n",
      "C:\\Users\\basna\\AppData\\Local\\Temp\\ipykernel_19316\\3465189343.py:14: SettingWithCopyWarning: \n",
      "A value is trying to be set on a copy of a slice from a DataFrame\n",
      "\n",
      "See the caveats in the documentation: https://pandas.pydata.org/pandas-docs/stable/user_guide/indexing.html#returning-a-view-versus-a-copy\n",
      "  df_landuse_suitability_index_2['A_MSW'].loc[(df_landuse_suitability_index_2['A_MSW'] > 0) & (df_landuse_suitability_index_2['ADM1_TH'] == i)] = feedstockpergrid\n",
      "C:\\Users\\basna\\AppData\\Local\\Temp\\ipykernel_19316\\3465189343.py:14: SettingWithCopyWarning: \n",
      "A value is trying to be set on a copy of a slice from a DataFrame\n",
      "\n",
      "See the caveats in the documentation: https://pandas.pydata.org/pandas-docs/stable/user_guide/indexing.html#returning-a-view-versus-a-copy\n",
      "  df_landuse_suitability_index_2['A_MSW'].loc[(df_landuse_suitability_index_2['A_MSW'] > 0) & (df_landuse_suitability_index_2['ADM1_TH'] == i)] = feedstockpergrid\n",
      "C:\\Users\\basna\\AppData\\Local\\Temp\\ipykernel_19316\\3465189343.py:14: SettingWithCopyWarning: \n",
      "A value is trying to be set on a copy of a slice from a DataFrame\n",
      "\n",
      "See the caveats in the documentation: https://pandas.pydata.org/pandas-docs/stable/user_guide/indexing.html#returning-a-view-versus-a-copy\n",
      "  df_landuse_suitability_index_2['A_MSW'].loc[(df_landuse_suitability_index_2['A_MSW'] > 0) & (df_landuse_suitability_index_2['ADM1_TH'] == i)] = feedstockpergrid\n",
      "C:\\Users\\basna\\AppData\\Local\\Temp\\ipykernel_19316\\3465189343.py:14: SettingWithCopyWarning: \n",
      "A value is trying to be set on a copy of a slice from a DataFrame\n",
      "\n",
      "See the caveats in the documentation: https://pandas.pydata.org/pandas-docs/stable/user_guide/indexing.html#returning-a-view-versus-a-copy\n",
      "  df_landuse_suitability_index_2['A_MSW'].loc[(df_landuse_suitability_index_2['A_MSW'] > 0) & (df_landuse_suitability_index_2['ADM1_TH'] == i)] = feedstockpergrid\n",
      "C:\\Users\\basna\\AppData\\Local\\Temp\\ipykernel_19316\\3465189343.py:14: SettingWithCopyWarning: \n",
      "A value is trying to be set on a copy of a slice from a DataFrame\n",
      "\n",
      "See the caveats in the documentation: https://pandas.pydata.org/pandas-docs/stable/user_guide/indexing.html#returning-a-view-versus-a-copy\n",
      "  df_landuse_suitability_index_2['A_MSW'].loc[(df_landuse_suitability_index_2['A_MSW'] > 0) & (df_landuse_suitability_index_2['ADM1_TH'] == i)] = feedstockpergrid\n",
      "C:\\Users\\basna\\AppData\\Local\\Temp\\ipykernel_19316\\3465189343.py:14: SettingWithCopyWarning: \n",
      "A value is trying to be set on a copy of a slice from a DataFrame\n",
      "\n",
      "See the caveats in the documentation: https://pandas.pydata.org/pandas-docs/stable/user_guide/indexing.html#returning-a-view-versus-a-copy\n",
      "  df_landuse_suitability_index_2['A_MSW'].loc[(df_landuse_suitability_index_2['A_MSW'] > 0) & (df_landuse_suitability_index_2['ADM1_TH'] == i)] = feedstockpergrid\n",
      "C:\\Users\\basna\\AppData\\Local\\Temp\\ipykernel_19316\\3465189343.py:14: SettingWithCopyWarning: \n",
      "A value is trying to be set on a copy of a slice from a DataFrame\n",
      "\n",
      "See the caveats in the documentation: https://pandas.pydata.org/pandas-docs/stable/user_guide/indexing.html#returning-a-view-versus-a-copy\n",
      "  df_landuse_suitability_index_2['A_MSW'].loc[(df_landuse_suitability_index_2['A_MSW'] > 0) & (df_landuse_suitability_index_2['ADM1_TH'] == i)] = feedstockpergrid\n",
      "C:\\Users\\basna\\AppData\\Local\\Temp\\ipykernel_19316\\3465189343.py:14: SettingWithCopyWarning: \n",
      "A value is trying to be set on a copy of a slice from a DataFrame\n",
      "\n",
      "See the caveats in the documentation: https://pandas.pydata.org/pandas-docs/stable/user_guide/indexing.html#returning-a-view-versus-a-copy\n",
      "  df_landuse_suitability_index_2['A_MSW'].loc[(df_landuse_suitability_index_2['A_MSW'] > 0) & (df_landuse_suitability_index_2['ADM1_TH'] == i)] = feedstockpergrid\n",
      "C:\\Users\\basna\\AppData\\Local\\Temp\\ipykernel_19316\\3465189343.py:14: SettingWithCopyWarning: \n",
      "A value is trying to be set on a copy of a slice from a DataFrame\n",
      "\n",
      "See the caveats in the documentation: https://pandas.pydata.org/pandas-docs/stable/user_guide/indexing.html#returning-a-view-versus-a-copy\n",
      "  df_landuse_suitability_index_2['A_MSW'].loc[(df_landuse_suitability_index_2['A_MSW'] > 0) & (df_landuse_suitability_index_2['ADM1_TH'] == i)] = feedstockpergrid\n",
      "C:\\Users\\basna\\AppData\\Local\\Temp\\ipykernel_19316\\3465189343.py:14: SettingWithCopyWarning: \n",
      "A value is trying to be set on a copy of a slice from a DataFrame\n",
      "\n",
      "See the caveats in the documentation: https://pandas.pydata.org/pandas-docs/stable/user_guide/indexing.html#returning-a-view-versus-a-copy\n",
      "  df_landuse_suitability_index_2['A_MSW'].loc[(df_landuse_suitability_index_2['A_MSW'] > 0) & (df_landuse_suitability_index_2['ADM1_TH'] == i)] = feedstockpergrid\n",
      "C:\\Users\\basna\\AppData\\Local\\Temp\\ipykernel_19316\\3465189343.py:14: SettingWithCopyWarning: \n",
      "A value is trying to be set on a copy of a slice from a DataFrame\n",
      "\n",
      "See the caveats in the documentation: https://pandas.pydata.org/pandas-docs/stable/user_guide/indexing.html#returning-a-view-versus-a-copy\n",
      "  df_landuse_suitability_index_2['A_MSW'].loc[(df_landuse_suitability_index_2['A_MSW'] > 0) & (df_landuse_suitability_index_2['ADM1_TH'] == i)] = feedstockpergrid\n",
      "C:\\Users\\basna\\AppData\\Local\\Temp\\ipykernel_19316\\3465189343.py:14: SettingWithCopyWarning: \n",
      "A value is trying to be set on a copy of a slice from a DataFrame\n",
      "\n",
      "See the caveats in the documentation: https://pandas.pydata.org/pandas-docs/stable/user_guide/indexing.html#returning-a-view-versus-a-copy\n",
      "  df_landuse_suitability_index_2['A_MSW'].loc[(df_landuse_suitability_index_2['A_MSW'] > 0) & (df_landuse_suitability_index_2['ADM1_TH'] == i)] = feedstockpergrid\n",
      "C:\\Users\\basna\\AppData\\Local\\Temp\\ipykernel_19316\\3465189343.py:14: SettingWithCopyWarning: \n",
      "A value is trying to be set on a copy of a slice from a DataFrame\n",
      "\n",
      "See the caveats in the documentation: https://pandas.pydata.org/pandas-docs/stable/user_guide/indexing.html#returning-a-view-versus-a-copy\n",
      "  df_landuse_suitability_index_2['A_MSW'].loc[(df_landuse_suitability_index_2['A_MSW'] > 0) & (df_landuse_suitability_index_2['ADM1_TH'] == i)] = feedstockpergrid\n"
     ]
    },
    {
     "name": "stdout",
     "output_type": "stream",
     "text": [
      "total A_MSW =  6477.520000000015\n"
     ]
    },
    {
     "name": "stderr",
     "output_type": "stream",
     "text": [
      "C:\\Users\\basna\\AppData\\Local\\Temp\\ipykernel_19316\\3465189343.py:23: SettingWithCopyWarning: \n",
      "A value is trying to be set on a copy of a slice from a DataFrame\n",
      "\n",
      "See the caveats in the documentation: https://pandas.pydata.org/pandas-docs/stable/user_guide/indexing.html#returning-a-view-versus-a-copy\n",
      "  df_landuse_suitability_index_2['A_IEW'].loc[(df_landuse_suitability_index_2['A_IEW'] > 0) & (df_landuse_suitability_index_2['ADM1_TH'] == i)] = feedstockpergrid\n",
      "C:\\Users\\basna\\AppData\\Local\\Temp\\ipykernel_19316\\3465189343.py:23: SettingWithCopyWarning: \n",
      "A value is trying to be set on a copy of a slice from a DataFrame\n",
      "\n",
      "See the caveats in the documentation: https://pandas.pydata.org/pandas-docs/stable/user_guide/indexing.html#returning-a-view-versus-a-copy\n",
      "  df_landuse_suitability_index_2['A_IEW'].loc[(df_landuse_suitability_index_2['A_IEW'] > 0) & (df_landuse_suitability_index_2['ADM1_TH'] == i)] = feedstockpergrid\n",
      "C:\\Users\\basna\\AppData\\Local\\Temp\\ipykernel_19316\\3465189343.py:23: SettingWithCopyWarning: \n",
      "A value is trying to be set on a copy of a slice from a DataFrame\n",
      "\n",
      "See the caveats in the documentation: https://pandas.pydata.org/pandas-docs/stable/user_guide/indexing.html#returning-a-view-versus-a-copy\n",
      "  df_landuse_suitability_index_2['A_IEW'].loc[(df_landuse_suitability_index_2['A_IEW'] > 0) & (df_landuse_suitability_index_2['ADM1_TH'] == i)] = feedstockpergrid\n",
      "C:\\Users\\basna\\AppData\\Local\\Temp\\ipykernel_19316\\3465189343.py:23: SettingWithCopyWarning: \n",
      "A value is trying to be set on a copy of a slice from a DataFrame\n",
      "\n",
      "See the caveats in the documentation: https://pandas.pydata.org/pandas-docs/stable/user_guide/indexing.html#returning-a-view-versus-a-copy\n",
      "  df_landuse_suitability_index_2['A_IEW'].loc[(df_landuse_suitability_index_2['A_IEW'] > 0) & (df_landuse_suitability_index_2['ADM1_TH'] == i)] = feedstockpergrid\n",
      "C:\\Users\\basna\\AppData\\Local\\Temp\\ipykernel_19316\\3465189343.py:23: SettingWithCopyWarning: \n",
      "A value is trying to be set on a copy of a slice from a DataFrame\n",
      "\n",
      "See the caveats in the documentation: https://pandas.pydata.org/pandas-docs/stable/user_guide/indexing.html#returning-a-view-versus-a-copy\n",
      "  df_landuse_suitability_index_2['A_IEW'].loc[(df_landuse_suitability_index_2['A_IEW'] > 0) & (df_landuse_suitability_index_2['ADM1_TH'] == i)] = feedstockpergrid\n",
      "C:\\Users\\basna\\AppData\\Local\\Temp\\ipykernel_19316\\3465189343.py:23: SettingWithCopyWarning: \n",
      "A value is trying to be set on a copy of a slice from a DataFrame\n",
      "\n",
      "See the caveats in the documentation: https://pandas.pydata.org/pandas-docs/stable/user_guide/indexing.html#returning-a-view-versus-a-copy\n",
      "  df_landuse_suitability_index_2['A_IEW'].loc[(df_landuse_suitability_index_2['A_IEW'] > 0) & (df_landuse_suitability_index_2['ADM1_TH'] == i)] = feedstockpergrid\n",
      "C:\\Users\\basna\\AppData\\Local\\Temp\\ipykernel_19316\\3465189343.py:23: SettingWithCopyWarning: \n",
      "A value is trying to be set on a copy of a slice from a DataFrame\n",
      "\n",
      "See the caveats in the documentation: https://pandas.pydata.org/pandas-docs/stable/user_guide/indexing.html#returning-a-view-versus-a-copy\n",
      "  df_landuse_suitability_index_2['A_IEW'].loc[(df_landuse_suitability_index_2['A_IEW'] > 0) & (df_landuse_suitability_index_2['ADM1_TH'] == i)] = feedstockpergrid\n",
      "C:\\Users\\basna\\AppData\\Local\\Temp\\ipykernel_19316\\3465189343.py:23: SettingWithCopyWarning: \n",
      "A value is trying to be set on a copy of a slice from a DataFrame\n",
      "\n",
      "See the caveats in the documentation: https://pandas.pydata.org/pandas-docs/stable/user_guide/indexing.html#returning-a-view-versus-a-copy\n",
      "  df_landuse_suitability_index_2['A_IEW'].loc[(df_landuse_suitability_index_2['A_IEW'] > 0) & (df_landuse_suitability_index_2['ADM1_TH'] == i)] = feedstockpergrid\n",
      "C:\\Users\\basna\\AppData\\Local\\Temp\\ipykernel_19316\\3465189343.py:23: SettingWithCopyWarning: \n",
      "A value is trying to be set on a copy of a slice from a DataFrame\n",
      "\n",
      "See the caveats in the documentation: https://pandas.pydata.org/pandas-docs/stable/user_guide/indexing.html#returning-a-view-versus-a-copy\n",
      "  df_landuse_suitability_index_2['A_IEW'].loc[(df_landuse_suitability_index_2['A_IEW'] > 0) & (df_landuse_suitability_index_2['ADM1_TH'] == i)] = feedstockpergrid\n",
      "C:\\Users\\basna\\AppData\\Local\\Temp\\ipykernel_19316\\3465189343.py:23: SettingWithCopyWarning: \n",
      "A value is trying to be set on a copy of a slice from a DataFrame\n",
      "\n",
      "See the caveats in the documentation: https://pandas.pydata.org/pandas-docs/stable/user_guide/indexing.html#returning-a-view-versus-a-copy\n",
      "  df_landuse_suitability_index_2['A_IEW'].loc[(df_landuse_suitability_index_2['A_IEW'] > 0) & (df_landuse_suitability_index_2['ADM1_TH'] == i)] = feedstockpergrid\n",
      "C:\\Users\\basna\\AppData\\Local\\Temp\\ipykernel_19316\\3465189343.py:23: SettingWithCopyWarning: \n",
      "A value is trying to be set on a copy of a slice from a DataFrame\n",
      "\n",
      "See the caveats in the documentation: https://pandas.pydata.org/pandas-docs/stable/user_guide/indexing.html#returning-a-view-versus-a-copy\n",
      "  df_landuse_suitability_index_2['A_IEW'].loc[(df_landuse_suitability_index_2['A_IEW'] > 0) & (df_landuse_suitability_index_2['ADM1_TH'] == i)] = feedstockpergrid\n",
      "C:\\Users\\basna\\AppData\\Local\\Temp\\ipykernel_19316\\3465189343.py:23: SettingWithCopyWarning: \n",
      "A value is trying to be set on a copy of a slice from a DataFrame\n",
      "\n",
      "See the caveats in the documentation: https://pandas.pydata.org/pandas-docs/stable/user_guide/indexing.html#returning-a-view-versus-a-copy\n",
      "  df_landuse_suitability_index_2['A_IEW'].loc[(df_landuse_suitability_index_2['A_IEW'] > 0) & (df_landuse_suitability_index_2['ADM1_TH'] == i)] = feedstockpergrid\n",
      "C:\\Users\\basna\\AppData\\Local\\Temp\\ipykernel_19316\\3465189343.py:23: SettingWithCopyWarning: \n",
      "A value is trying to be set on a copy of a slice from a DataFrame\n",
      "\n",
      "See the caveats in the documentation: https://pandas.pydata.org/pandas-docs/stable/user_guide/indexing.html#returning-a-view-versus-a-copy\n",
      "  df_landuse_suitability_index_2['A_IEW'].loc[(df_landuse_suitability_index_2['A_IEW'] > 0) & (df_landuse_suitability_index_2['ADM1_TH'] == i)] = feedstockpergrid\n",
      "C:\\Users\\basna\\AppData\\Local\\Temp\\ipykernel_19316\\3465189343.py:23: SettingWithCopyWarning: \n",
      "A value is trying to be set on a copy of a slice from a DataFrame\n",
      "\n",
      "See the caveats in the documentation: https://pandas.pydata.org/pandas-docs/stable/user_guide/indexing.html#returning-a-view-versus-a-copy\n",
      "  df_landuse_suitability_index_2['A_IEW'].loc[(df_landuse_suitability_index_2['A_IEW'] > 0) & (df_landuse_suitability_index_2['ADM1_TH'] == i)] = feedstockpergrid\n",
      "C:\\Users\\basna\\AppData\\Local\\Temp\\ipykernel_19316\\3465189343.py:23: SettingWithCopyWarning: \n",
      "A value is trying to be set on a copy of a slice from a DataFrame\n",
      "\n",
      "See the caveats in the documentation: https://pandas.pydata.org/pandas-docs/stable/user_guide/indexing.html#returning-a-view-versus-a-copy\n",
      "  df_landuse_suitability_index_2['A_IEW'].loc[(df_landuse_suitability_index_2['A_IEW'] > 0) & (df_landuse_suitability_index_2['ADM1_TH'] == i)] = feedstockpergrid\n",
      "C:\\Users\\basna\\AppData\\Local\\Temp\\ipykernel_19316\\3465189343.py:23: SettingWithCopyWarning: \n",
      "A value is trying to be set on a copy of a slice from a DataFrame\n",
      "\n",
      "See the caveats in the documentation: https://pandas.pydata.org/pandas-docs/stable/user_guide/indexing.html#returning-a-view-versus-a-copy\n",
      "  df_landuse_suitability_index_2['A_IEW'].loc[(df_landuse_suitability_index_2['A_IEW'] > 0) & (df_landuse_suitability_index_2['ADM1_TH'] == i)] = feedstockpergrid\n",
      "C:\\Users\\basna\\AppData\\Local\\Temp\\ipykernel_19316\\3465189343.py:23: SettingWithCopyWarning: \n",
      "A value is trying to be set on a copy of a slice from a DataFrame\n",
      "\n",
      "See the caveats in the documentation: https://pandas.pydata.org/pandas-docs/stable/user_guide/indexing.html#returning-a-view-versus-a-copy\n",
      "  df_landuse_suitability_index_2['A_IEW'].loc[(df_landuse_suitability_index_2['A_IEW'] > 0) & (df_landuse_suitability_index_2['ADM1_TH'] == i)] = feedstockpergrid\n",
      "C:\\Users\\basna\\AppData\\Local\\Temp\\ipykernel_19316\\3465189343.py:23: SettingWithCopyWarning: \n",
      "A value is trying to be set on a copy of a slice from a DataFrame\n",
      "\n",
      "See the caveats in the documentation: https://pandas.pydata.org/pandas-docs/stable/user_guide/indexing.html#returning-a-view-versus-a-copy\n",
      "  df_landuse_suitability_index_2['A_IEW'].loc[(df_landuse_suitability_index_2['A_IEW'] > 0) & (df_landuse_suitability_index_2['ADM1_TH'] == i)] = feedstockpergrid\n",
      "C:\\Users\\basna\\AppData\\Local\\Temp\\ipykernel_19316\\3465189343.py:23: SettingWithCopyWarning: \n",
      "A value is trying to be set on a copy of a slice from a DataFrame\n",
      "\n",
      "See the caveats in the documentation: https://pandas.pydata.org/pandas-docs/stable/user_guide/indexing.html#returning-a-view-versus-a-copy\n",
      "  df_landuse_suitability_index_2['A_IEW'].loc[(df_landuse_suitability_index_2['A_IEW'] > 0) & (df_landuse_suitability_index_2['ADM1_TH'] == i)] = feedstockpergrid\n",
      "C:\\Users\\basna\\AppData\\Local\\Temp\\ipykernel_19316\\3465189343.py:23: SettingWithCopyWarning: \n",
      "A value is trying to be set on a copy of a slice from a DataFrame\n",
      "\n",
      "See the caveats in the documentation: https://pandas.pydata.org/pandas-docs/stable/user_guide/indexing.html#returning-a-view-versus-a-copy\n",
      "  df_landuse_suitability_index_2['A_IEW'].loc[(df_landuse_suitability_index_2['A_IEW'] > 0) & (df_landuse_suitability_index_2['ADM1_TH'] == i)] = feedstockpergrid\n",
      "C:\\Users\\basna\\AppData\\Local\\Temp\\ipykernel_19316\\3465189343.py:23: SettingWithCopyWarning: \n",
      "A value is trying to be set on a copy of a slice from a DataFrame\n",
      "\n",
      "See the caveats in the documentation: https://pandas.pydata.org/pandas-docs/stable/user_guide/indexing.html#returning-a-view-versus-a-copy\n",
      "  df_landuse_suitability_index_2['A_IEW'].loc[(df_landuse_suitability_index_2['A_IEW'] > 0) & (df_landuse_suitability_index_2['ADM1_TH'] == i)] = feedstockpergrid\n",
      "C:\\Users\\basna\\AppData\\Local\\Temp\\ipykernel_19316\\3465189343.py:23: SettingWithCopyWarning: \n",
      "A value is trying to be set on a copy of a slice from a DataFrame\n",
      "\n",
      "See the caveats in the documentation: https://pandas.pydata.org/pandas-docs/stable/user_guide/indexing.html#returning-a-view-versus-a-copy\n",
      "  df_landuse_suitability_index_2['A_IEW'].loc[(df_landuse_suitability_index_2['A_IEW'] > 0) & (df_landuse_suitability_index_2['ADM1_TH'] == i)] = feedstockpergrid\n",
      "C:\\Users\\basna\\AppData\\Local\\Temp\\ipykernel_19316\\3465189343.py:23: SettingWithCopyWarning: \n",
      "A value is trying to be set on a copy of a slice from a DataFrame\n",
      "\n",
      "See the caveats in the documentation: https://pandas.pydata.org/pandas-docs/stable/user_guide/indexing.html#returning-a-view-versus-a-copy\n",
      "  df_landuse_suitability_index_2['A_IEW'].loc[(df_landuse_suitability_index_2['A_IEW'] > 0) & (df_landuse_suitability_index_2['ADM1_TH'] == i)] = feedstockpergrid\n",
      "C:\\Users\\basna\\AppData\\Local\\Temp\\ipykernel_19316\\3465189343.py:23: SettingWithCopyWarning: \n",
      "A value is trying to be set on a copy of a slice from a DataFrame\n",
      "\n",
      "See the caveats in the documentation: https://pandas.pydata.org/pandas-docs/stable/user_guide/indexing.html#returning-a-view-versus-a-copy\n",
      "  df_landuse_suitability_index_2['A_IEW'].loc[(df_landuse_suitability_index_2['A_IEW'] > 0) & (df_landuse_suitability_index_2['ADM1_TH'] == i)] = feedstockpergrid\n",
      "C:\\Users\\basna\\AppData\\Local\\Temp\\ipykernel_19316\\3465189343.py:23: SettingWithCopyWarning: \n",
      "A value is trying to be set on a copy of a slice from a DataFrame\n",
      "\n",
      "See the caveats in the documentation: https://pandas.pydata.org/pandas-docs/stable/user_guide/indexing.html#returning-a-view-versus-a-copy\n",
      "  df_landuse_suitability_index_2['A_IEW'].loc[(df_landuse_suitability_index_2['A_IEW'] > 0) & (df_landuse_suitability_index_2['ADM1_TH'] == i)] = feedstockpergrid\n",
      "C:\\Users\\basna\\AppData\\Local\\Temp\\ipykernel_19316\\3465189343.py:23: SettingWithCopyWarning: \n",
      "A value is trying to be set on a copy of a slice from a DataFrame\n",
      "\n",
      "See the caveats in the documentation: https://pandas.pydata.org/pandas-docs/stable/user_guide/indexing.html#returning-a-view-versus-a-copy\n",
      "  df_landuse_suitability_index_2['A_IEW'].loc[(df_landuse_suitability_index_2['A_IEW'] > 0) & (df_landuse_suitability_index_2['ADM1_TH'] == i)] = feedstockpergrid\n",
      "C:\\Users\\basna\\AppData\\Local\\Temp\\ipykernel_19316\\3465189343.py:23: SettingWithCopyWarning: \n",
      "A value is trying to be set on a copy of a slice from a DataFrame\n",
      "\n",
      "See the caveats in the documentation: https://pandas.pydata.org/pandas-docs/stable/user_guide/indexing.html#returning-a-view-versus-a-copy\n",
      "  df_landuse_suitability_index_2['A_IEW'].loc[(df_landuse_suitability_index_2['A_IEW'] > 0) & (df_landuse_suitability_index_2['ADM1_TH'] == i)] = feedstockpergrid\n",
      "C:\\Users\\basna\\AppData\\Local\\Temp\\ipykernel_19316\\3465189343.py:23: SettingWithCopyWarning: \n",
      "A value is trying to be set on a copy of a slice from a DataFrame\n",
      "\n",
      "See the caveats in the documentation: https://pandas.pydata.org/pandas-docs/stable/user_guide/indexing.html#returning-a-view-versus-a-copy\n",
      "  df_landuse_suitability_index_2['A_IEW'].loc[(df_landuse_suitability_index_2['A_IEW'] > 0) & (df_landuse_suitability_index_2['ADM1_TH'] == i)] = feedstockpergrid\n",
      "C:\\Users\\basna\\AppData\\Local\\Temp\\ipykernel_19316\\3465189343.py:23: SettingWithCopyWarning: \n",
      "A value is trying to be set on a copy of a slice from a DataFrame\n",
      "\n",
      "See the caveats in the documentation: https://pandas.pydata.org/pandas-docs/stable/user_guide/indexing.html#returning-a-view-versus-a-copy\n",
      "  df_landuse_suitability_index_2['A_IEW'].loc[(df_landuse_suitability_index_2['A_IEW'] > 0) & (df_landuse_suitability_index_2['ADM1_TH'] == i)] = feedstockpergrid\n",
      "C:\\Users\\basna\\AppData\\Local\\Temp\\ipykernel_19316\\3465189343.py:23: SettingWithCopyWarning: \n",
      "A value is trying to be set on a copy of a slice from a DataFrame\n",
      "\n",
      "See the caveats in the documentation: https://pandas.pydata.org/pandas-docs/stable/user_guide/indexing.html#returning-a-view-versus-a-copy\n",
      "  df_landuse_suitability_index_2['A_IEW'].loc[(df_landuse_suitability_index_2['A_IEW'] > 0) & (df_landuse_suitability_index_2['ADM1_TH'] == i)] = feedstockpergrid\n",
      "C:\\Users\\basna\\AppData\\Local\\Temp\\ipykernel_19316\\3465189343.py:23: SettingWithCopyWarning: \n",
      "A value is trying to be set on a copy of a slice from a DataFrame\n",
      "\n",
      "See the caveats in the documentation: https://pandas.pydata.org/pandas-docs/stable/user_guide/indexing.html#returning-a-view-versus-a-copy\n",
      "  df_landuse_suitability_index_2['A_IEW'].loc[(df_landuse_suitability_index_2['A_IEW'] > 0) & (df_landuse_suitability_index_2['ADM1_TH'] == i)] = feedstockpergrid\n",
      "C:\\Users\\basna\\AppData\\Local\\Temp\\ipykernel_19316\\3465189343.py:23: SettingWithCopyWarning: \n",
      "A value is trying to be set on a copy of a slice from a DataFrame\n",
      "\n",
      "See the caveats in the documentation: https://pandas.pydata.org/pandas-docs/stable/user_guide/indexing.html#returning-a-view-versus-a-copy\n",
      "  df_landuse_suitability_index_2['A_IEW'].loc[(df_landuse_suitability_index_2['A_IEW'] > 0) & (df_landuse_suitability_index_2['ADM1_TH'] == i)] = feedstockpergrid\n",
      "C:\\Users\\basna\\AppData\\Local\\Temp\\ipykernel_19316\\3465189343.py:23: SettingWithCopyWarning: \n",
      "A value is trying to be set on a copy of a slice from a DataFrame\n",
      "\n",
      "See the caveats in the documentation: https://pandas.pydata.org/pandas-docs/stable/user_guide/indexing.html#returning-a-view-versus-a-copy\n",
      "  df_landuse_suitability_index_2['A_IEW'].loc[(df_landuse_suitability_index_2['A_IEW'] > 0) & (df_landuse_suitability_index_2['ADM1_TH'] == i)] = feedstockpergrid\n",
      "C:\\Users\\basna\\AppData\\Local\\Temp\\ipykernel_19316\\3465189343.py:23: SettingWithCopyWarning: \n",
      "A value is trying to be set on a copy of a slice from a DataFrame\n",
      "\n",
      "See the caveats in the documentation: https://pandas.pydata.org/pandas-docs/stable/user_guide/indexing.html#returning-a-view-versus-a-copy\n",
      "  df_landuse_suitability_index_2['A_IEW'].loc[(df_landuse_suitability_index_2['A_IEW'] > 0) & (df_landuse_suitability_index_2['ADM1_TH'] == i)] = feedstockpergrid\n",
      "C:\\Users\\basna\\AppData\\Local\\Temp\\ipykernel_19316\\3465189343.py:23: SettingWithCopyWarning: \n",
      "A value is trying to be set on a copy of a slice from a DataFrame\n",
      "\n",
      "See the caveats in the documentation: https://pandas.pydata.org/pandas-docs/stable/user_guide/indexing.html#returning-a-view-versus-a-copy\n",
      "  df_landuse_suitability_index_2['A_IEW'].loc[(df_landuse_suitability_index_2['A_IEW'] > 0) & (df_landuse_suitability_index_2['ADM1_TH'] == i)] = feedstockpergrid\n",
      "C:\\Users\\basna\\AppData\\Local\\Temp\\ipykernel_19316\\3465189343.py:23: SettingWithCopyWarning: \n",
      "A value is trying to be set on a copy of a slice from a DataFrame\n",
      "\n",
      "See the caveats in the documentation: https://pandas.pydata.org/pandas-docs/stable/user_guide/indexing.html#returning-a-view-versus-a-copy\n",
      "  df_landuse_suitability_index_2['A_IEW'].loc[(df_landuse_suitability_index_2['A_IEW'] > 0) & (df_landuse_suitability_index_2['ADM1_TH'] == i)] = feedstockpergrid\n",
      "C:\\Users\\basna\\AppData\\Local\\Temp\\ipykernel_19316\\3465189343.py:23: SettingWithCopyWarning: \n",
      "A value is trying to be set on a copy of a slice from a DataFrame\n",
      "\n",
      "See the caveats in the documentation: https://pandas.pydata.org/pandas-docs/stable/user_guide/indexing.html#returning-a-view-versus-a-copy\n",
      "  df_landuse_suitability_index_2['A_IEW'].loc[(df_landuse_suitability_index_2['A_IEW'] > 0) & (df_landuse_suitability_index_2['ADM1_TH'] == i)] = feedstockpergrid\n",
      "C:\\Users\\basna\\AppData\\Local\\Temp\\ipykernel_19316\\3465189343.py:23: SettingWithCopyWarning: \n",
      "A value is trying to be set on a copy of a slice from a DataFrame\n",
      "\n",
      "See the caveats in the documentation: https://pandas.pydata.org/pandas-docs/stable/user_guide/indexing.html#returning-a-view-versus-a-copy\n",
      "  df_landuse_suitability_index_2['A_IEW'].loc[(df_landuse_suitability_index_2['A_IEW'] > 0) & (df_landuse_suitability_index_2['ADM1_TH'] == i)] = feedstockpergrid\n",
      "C:\\Users\\basna\\AppData\\Local\\Temp\\ipykernel_19316\\3465189343.py:23: SettingWithCopyWarning: \n",
      "A value is trying to be set on a copy of a slice from a DataFrame\n",
      "\n",
      "See the caveats in the documentation: https://pandas.pydata.org/pandas-docs/stable/user_guide/indexing.html#returning-a-view-versus-a-copy\n",
      "  df_landuse_suitability_index_2['A_IEW'].loc[(df_landuse_suitability_index_2['A_IEW'] > 0) & (df_landuse_suitability_index_2['ADM1_TH'] == i)] = feedstockpergrid\n",
      "C:\\Users\\basna\\AppData\\Local\\Temp\\ipykernel_19316\\3465189343.py:23: SettingWithCopyWarning: \n",
      "A value is trying to be set on a copy of a slice from a DataFrame\n",
      "\n",
      "See the caveats in the documentation: https://pandas.pydata.org/pandas-docs/stable/user_guide/indexing.html#returning-a-view-versus-a-copy\n",
      "  df_landuse_suitability_index_2['A_IEW'].loc[(df_landuse_suitability_index_2['A_IEW'] > 0) & (df_landuse_suitability_index_2['ADM1_TH'] == i)] = feedstockpergrid\n",
      "C:\\Users\\basna\\AppData\\Local\\Temp\\ipykernel_19316\\3465189343.py:23: SettingWithCopyWarning: \n",
      "A value is trying to be set on a copy of a slice from a DataFrame\n",
      "\n",
      "See the caveats in the documentation: https://pandas.pydata.org/pandas-docs/stable/user_guide/indexing.html#returning-a-view-versus-a-copy\n",
      "  df_landuse_suitability_index_2['A_IEW'].loc[(df_landuse_suitability_index_2['A_IEW'] > 0) & (df_landuse_suitability_index_2['ADM1_TH'] == i)] = feedstockpergrid\n",
      "C:\\Users\\basna\\AppData\\Local\\Temp\\ipykernel_19316\\3465189343.py:23: SettingWithCopyWarning: \n",
      "A value is trying to be set on a copy of a slice from a DataFrame\n",
      "\n",
      "See the caveats in the documentation: https://pandas.pydata.org/pandas-docs/stable/user_guide/indexing.html#returning-a-view-versus-a-copy\n",
      "  df_landuse_suitability_index_2['A_IEW'].loc[(df_landuse_suitability_index_2['A_IEW'] > 0) & (df_landuse_suitability_index_2['ADM1_TH'] == i)] = feedstockpergrid\n",
      "C:\\Users\\basna\\AppData\\Local\\Temp\\ipykernel_19316\\3465189343.py:23: SettingWithCopyWarning: \n",
      "A value is trying to be set on a copy of a slice from a DataFrame\n",
      "\n",
      "See the caveats in the documentation: https://pandas.pydata.org/pandas-docs/stable/user_guide/indexing.html#returning-a-view-versus-a-copy\n",
      "  df_landuse_suitability_index_2['A_IEW'].loc[(df_landuse_suitability_index_2['A_IEW'] > 0) & (df_landuse_suitability_index_2['ADM1_TH'] == i)] = feedstockpergrid\n",
      "C:\\Users\\basna\\AppData\\Local\\Temp\\ipykernel_19316\\3465189343.py:23: SettingWithCopyWarning: \n",
      "A value is trying to be set on a copy of a slice from a DataFrame\n",
      "\n",
      "See the caveats in the documentation: https://pandas.pydata.org/pandas-docs/stable/user_guide/indexing.html#returning-a-view-versus-a-copy\n",
      "  df_landuse_suitability_index_2['A_IEW'].loc[(df_landuse_suitability_index_2['A_IEW'] > 0) & (df_landuse_suitability_index_2['ADM1_TH'] == i)] = feedstockpergrid\n",
      "C:\\Users\\basna\\AppData\\Local\\Temp\\ipykernel_19316\\3465189343.py:23: SettingWithCopyWarning: \n",
      "A value is trying to be set on a copy of a slice from a DataFrame\n",
      "\n",
      "See the caveats in the documentation: https://pandas.pydata.org/pandas-docs/stable/user_guide/indexing.html#returning-a-view-versus-a-copy\n",
      "  df_landuse_suitability_index_2['A_IEW'].loc[(df_landuse_suitability_index_2['A_IEW'] > 0) & (df_landuse_suitability_index_2['ADM1_TH'] == i)] = feedstockpergrid\n",
      "C:\\Users\\basna\\AppData\\Local\\Temp\\ipykernel_19316\\3465189343.py:23: SettingWithCopyWarning: \n",
      "A value is trying to be set on a copy of a slice from a DataFrame\n",
      "\n",
      "See the caveats in the documentation: https://pandas.pydata.org/pandas-docs/stable/user_guide/indexing.html#returning-a-view-versus-a-copy\n",
      "  df_landuse_suitability_index_2['A_IEW'].loc[(df_landuse_suitability_index_2['A_IEW'] > 0) & (df_landuse_suitability_index_2['ADM1_TH'] == i)] = feedstockpergrid\n",
      "C:\\Users\\basna\\AppData\\Local\\Temp\\ipykernel_19316\\3465189343.py:23: SettingWithCopyWarning: \n",
      "A value is trying to be set on a copy of a slice from a DataFrame\n",
      "\n",
      "See the caveats in the documentation: https://pandas.pydata.org/pandas-docs/stable/user_guide/indexing.html#returning-a-view-versus-a-copy\n",
      "  df_landuse_suitability_index_2['A_IEW'].loc[(df_landuse_suitability_index_2['A_IEW'] > 0) & (df_landuse_suitability_index_2['ADM1_TH'] == i)] = feedstockpergrid\n",
      "C:\\Users\\basna\\AppData\\Local\\Temp\\ipykernel_19316\\3465189343.py:23: SettingWithCopyWarning: \n",
      "A value is trying to be set on a copy of a slice from a DataFrame\n",
      "\n",
      "See the caveats in the documentation: https://pandas.pydata.org/pandas-docs/stable/user_guide/indexing.html#returning-a-view-versus-a-copy\n",
      "  df_landuse_suitability_index_2['A_IEW'].loc[(df_landuse_suitability_index_2['A_IEW'] > 0) & (df_landuse_suitability_index_2['ADM1_TH'] == i)] = feedstockpergrid\n",
      "C:\\Users\\basna\\AppData\\Local\\Temp\\ipykernel_19316\\3465189343.py:23: SettingWithCopyWarning: \n",
      "A value is trying to be set on a copy of a slice from a DataFrame\n",
      "\n",
      "See the caveats in the documentation: https://pandas.pydata.org/pandas-docs/stable/user_guide/indexing.html#returning-a-view-versus-a-copy\n",
      "  df_landuse_suitability_index_2['A_IEW'].loc[(df_landuse_suitability_index_2['A_IEW'] > 0) & (df_landuse_suitability_index_2['ADM1_TH'] == i)] = feedstockpergrid\n",
      "C:\\Users\\basna\\AppData\\Local\\Temp\\ipykernel_19316\\3465189343.py:23: SettingWithCopyWarning: \n",
      "A value is trying to be set on a copy of a slice from a DataFrame\n",
      "\n",
      "See the caveats in the documentation: https://pandas.pydata.org/pandas-docs/stable/user_guide/indexing.html#returning-a-view-versus-a-copy\n",
      "  df_landuse_suitability_index_2['A_IEW'].loc[(df_landuse_suitability_index_2['A_IEW'] > 0) & (df_landuse_suitability_index_2['ADM1_TH'] == i)] = feedstockpergrid\n",
      "C:\\Users\\basna\\AppData\\Local\\Temp\\ipykernel_19316\\3465189343.py:23: SettingWithCopyWarning: \n",
      "A value is trying to be set on a copy of a slice from a DataFrame\n",
      "\n",
      "See the caveats in the documentation: https://pandas.pydata.org/pandas-docs/stable/user_guide/indexing.html#returning-a-view-versus-a-copy\n",
      "  df_landuse_suitability_index_2['A_IEW'].loc[(df_landuse_suitability_index_2['A_IEW'] > 0) & (df_landuse_suitability_index_2['ADM1_TH'] == i)] = feedstockpergrid\n",
      "C:\\Users\\basna\\AppData\\Local\\Temp\\ipykernel_19316\\3465189343.py:23: SettingWithCopyWarning: \n",
      "A value is trying to be set on a copy of a slice from a DataFrame\n",
      "\n",
      "See the caveats in the documentation: https://pandas.pydata.org/pandas-docs/stable/user_guide/indexing.html#returning-a-view-versus-a-copy\n",
      "  df_landuse_suitability_index_2['A_IEW'].loc[(df_landuse_suitability_index_2['A_IEW'] > 0) & (df_landuse_suitability_index_2['ADM1_TH'] == i)] = feedstockpergrid\n",
      "C:\\Users\\basna\\AppData\\Local\\Temp\\ipykernel_19316\\3465189343.py:23: SettingWithCopyWarning: \n",
      "A value is trying to be set on a copy of a slice from a DataFrame\n",
      "\n",
      "See the caveats in the documentation: https://pandas.pydata.org/pandas-docs/stable/user_guide/indexing.html#returning-a-view-versus-a-copy\n",
      "  df_landuse_suitability_index_2['A_IEW'].loc[(df_landuse_suitability_index_2['A_IEW'] > 0) & (df_landuse_suitability_index_2['ADM1_TH'] == i)] = feedstockpergrid\n",
      "C:\\Users\\basna\\AppData\\Local\\Temp\\ipykernel_19316\\3465189343.py:23: SettingWithCopyWarning: \n",
      "A value is trying to be set on a copy of a slice from a DataFrame\n",
      "\n",
      "See the caveats in the documentation: https://pandas.pydata.org/pandas-docs/stable/user_guide/indexing.html#returning-a-view-versus-a-copy\n",
      "  df_landuse_suitability_index_2['A_IEW'].loc[(df_landuse_suitability_index_2['A_IEW'] > 0) & (df_landuse_suitability_index_2['ADM1_TH'] == i)] = feedstockpergrid\n",
      "C:\\Users\\basna\\AppData\\Local\\Temp\\ipykernel_19316\\3465189343.py:23: SettingWithCopyWarning: \n",
      "A value is trying to be set on a copy of a slice from a DataFrame\n",
      "\n",
      "See the caveats in the documentation: https://pandas.pydata.org/pandas-docs/stable/user_guide/indexing.html#returning-a-view-versus-a-copy\n",
      "  df_landuse_suitability_index_2['A_IEW'].loc[(df_landuse_suitability_index_2['A_IEW'] > 0) & (df_landuse_suitability_index_2['ADM1_TH'] == i)] = feedstockpergrid\n",
      "C:\\Users\\basna\\AppData\\Local\\Temp\\ipykernel_19316\\3465189343.py:23: SettingWithCopyWarning: \n",
      "A value is trying to be set on a copy of a slice from a DataFrame\n",
      "\n",
      "See the caveats in the documentation: https://pandas.pydata.org/pandas-docs/stable/user_guide/indexing.html#returning-a-view-versus-a-copy\n",
      "  df_landuse_suitability_index_2['A_IEW'].loc[(df_landuse_suitability_index_2['A_IEW'] > 0) & (df_landuse_suitability_index_2['ADM1_TH'] == i)] = feedstockpergrid\n",
      "C:\\Users\\basna\\AppData\\Local\\Temp\\ipykernel_19316\\3465189343.py:23: SettingWithCopyWarning: \n",
      "A value is trying to be set on a copy of a slice from a DataFrame\n",
      "\n",
      "See the caveats in the documentation: https://pandas.pydata.org/pandas-docs/stable/user_guide/indexing.html#returning-a-view-versus-a-copy\n",
      "  df_landuse_suitability_index_2['A_IEW'].loc[(df_landuse_suitability_index_2['A_IEW'] > 0) & (df_landuse_suitability_index_2['ADM1_TH'] == i)] = feedstockpergrid\n",
      "C:\\Users\\basna\\AppData\\Local\\Temp\\ipykernel_19316\\3465189343.py:23: SettingWithCopyWarning: \n",
      "A value is trying to be set on a copy of a slice from a DataFrame\n",
      "\n",
      "See the caveats in the documentation: https://pandas.pydata.org/pandas-docs/stable/user_guide/indexing.html#returning-a-view-versus-a-copy\n",
      "  df_landuse_suitability_index_2['A_IEW'].loc[(df_landuse_suitability_index_2['A_IEW'] > 0) & (df_landuse_suitability_index_2['ADM1_TH'] == i)] = feedstockpergrid\n",
      "C:\\Users\\basna\\AppData\\Local\\Temp\\ipykernel_19316\\3465189343.py:23: SettingWithCopyWarning: \n",
      "A value is trying to be set on a copy of a slice from a DataFrame\n",
      "\n",
      "See the caveats in the documentation: https://pandas.pydata.org/pandas-docs/stable/user_guide/indexing.html#returning-a-view-versus-a-copy\n",
      "  df_landuse_suitability_index_2['A_IEW'].loc[(df_landuse_suitability_index_2['A_IEW'] > 0) & (df_landuse_suitability_index_2['ADM1_TH'] == i)] = feedstockpergrid\n",
      "C:\\Users\\basna\\AppData\\Local\\Temp\\ipykernel_19316\\3465189343.py:23: SettingWithCopyWarning: \n",
      "A value is trying to be set on a copy of a slice from a DataFrame\n",
      "\n",
      "See the caveats in the documentation: https://pandas.pydata.org/pandas-docs/stable/user_guide/indexing.html#returning-a-view-versus-a-copy\n",
      "  df_landuse_suitability_index_2['A_IEW'].loc[(df_landuse_suitability_index_2['A_IEW'] > 0) & (df_landuse_suitability_index_2['ADM1_TH'] == i)] = feedstockpergrid\n",
      "C:\\Users\\basna\\AppData\\Local\\Temp\\ipykernel_19316\\3465189343.py:23: SettingWithCopyWarning: \n",
      "A value is trying to be set on a copy of a slice from a DataFrame\n",
      "\n",
      "See the caveats in the documentation: https://pandas.pydata.org/pandas-docs/stable/user_guide/indexing.html#returning-a-view-versus-a-copy\n",
      "  df_landuse_suitability_index_2['A_IEW'].loc[(df_landuse_suitability_index_2['A_IEW'] > 0) & (df_landuse_suitability_index_2['ADM1_TH'] == i)] = feedstockpergrid\n",
      "C:\\Users\\basna\\AppData\\Local\\Temp\\ipykernel_19316\\3465189343.py:23: SettingWithCopyWarning: \n",
      "A value is trying to be set on a copy of a slice from a DataFrame\n",
      "\n",
      "See the caveats in the documentation: https://pandas.pydata.org/pandas-docs/stable/user_guide/indexing.html#returning-a-view-versus-a-copy\n",
      "  df_landuse_suitability_index_2['A_IEW'].loc[(df_landuse_suitability_index_2['A_IEW'] > 0) & (df_landuse_suitability_index_2['ADM1_TH'] == i)] = feedstockpergrid\n",
      "C:\\Users\\basna\\AppData\\Local\\Temp\\ipykernel_19316\\3465189343.py:23: SettingWithCopyWarning: \n",
      "A value is trying to be set on a copy of a slice from a DataFrame\n",
      "\n",
      "See the caveats in the documentation: https://pandas.pydata.org/pandas-docs/stable/user_guide/indexing.html#returning-a-view-versus-a-copy\n",
      "  df_landuse_suitability_index_2['A_IEW'].loc[(df_landuse_suitability_index_2['A_IEW'] > 0) & (df_landuse_suitability_index_2['ADM1_TH'] == i)] = feedstockpergrid\n",
      "C:\\Users\\basna\\AppData\\Local\\Temp\\ipykernel_19316\\3465189343.py:23: SettingWithCopyWarning: \n",
      "A value is trying to be set on a copy of a slice from a DataFrame\n",
      "\n",
      "See the caveats in the documentation: https://pandas.pydata.org/pandas-docs/stable/user_guide/indexing.html#returning-a-view-versus-a-copy\n",
      "  df_landuse_suitability_index_2['A_IEW'].loc[(df_landuse_suitability_index_2['A_IEW'] > 0) & (df_landuse_suitability_index_2['ADM1_TH'] == i)] = feedstockpergrid\n",
      "C:\\Users\\basna\\AppData\\Local\\Temp\\ipykernel_19316\\3465189343.py:23: SettingWithCopyWarning: \n",
      "A value is trying to be set on a copy of a slice from a DataFrame\n",
      "\n",
      "See the caveats in the documentation: https://pandas.pydata.org/pandas-docs/stable/user_guide/indexing.html#returning-a-view-versus-a-copy\n",
      "  df_landuse_suitability_index_2['A_IEW'].loc[(df_landuse_suitability_index_2['A_IEW'] > 0) & (df_landuse_suitability_index_2['ADM1_TH'] == i)] = feedstockpergrid\n",
      "C:\\Users\\basna\\AppData\\Local\\Temp\\ipykernel_19316\\3465189343.py:23: SettingWithCopyWarning: \n",
      "A value is trying to be set on a copy of a slice from a DataFrame\n",
      "\n",
      "See the caveats in the documentation: https://pandas.pydata.org/pandas-docs/stable/user_guide/indexing.html#returning-a-view-versus-a-copy\n",
      "  df_landuse_suitability_index_2['A_IEW'].loc[(df_landuse_suitability_index_2['A_IEW'] > 0) & (df_landuse_suitability_index_2['ADM1_TH'] == i)] = feedstockpergrid\n",
      "C:\\Users\\basna\\AppData\\Local\\Temp\\ipykernel_19316\\3465189343.py:23: SettingWithCopyWarning: \n",
      "A value is trying to be set on a copy of a slice from a DataFrame\n",
      "\n",
      "See the caveats in the documentation: https://pandas.pydata.org/pandas-docs/stable/user_guide/indexing.html#returning-a-view-versus-a-copy\n",
      "  df_landuse_suitability_index_2['A_IEW'].loc[(df_landuse_suitability_index_2['A_IEW'] > 0) & (df_landuse_suitability_index_2['ADM1_TH'] == i)] = feedstockpergrid\n",
      "C:\\Users\\basna\\AppData\\Local\\Temp\\ipykernel_19316\\3465189343.py:23: SettingWithCopyWarning: \n",
      "A value is trying to be set on a copy of a slice from a DataFrame\n",
      "\n",
      "See the caveats in the documentation: https://pandas.pydata.org/pandas-docs/stable/user_guide/indexing.html#returning-a-view-versus-a-copy\n",
      "  df_landuse_suitability_index_2['A_IEW'].loc[(df_landuse_suitability_index_2['A_IEW'] > 0) & (df_landuse_suitability_index_2['ADM1_TH'] == i)] = feedstockpergrid\n",
      "C:\\Users\\basna\\AppData\\Local\\Temp\\ipykernel_19316\\3465189343.py:23: SettingWithCopyWarning: \n",
      "A value is trying to be set on a copy of a slice from a DataFrame\n",
      "\n",
      "See the caveats in the documentation: https://pandas.pydata.org/pandas-docs/stable/user_guide/indexing.html#returning-a-view-versus-a-copy\n",
      "  df_landuse_suitability_index_2['A_IEW'].loc[(df_landuse_suitability_index_2['A_IEW'] > 0) & (df_landuse_suitability_index_2['ADM1_TH'] == i)] = feedstockpergrid\n",
      "C:\\Users\\basna\\AppData\\Local\\Temp\\ipykernel_19316\\3465189343.py:23: SettingWithCopyWarning: \n",
      "A value is trying to be set on a copy of a slice from a DataFrame\n",
      "\n",
      "See the caveats in the documentation: https://pandas.pydata.org/pandas-docs/stable/user_guide/indexing.html#returning-a-view-versus-a-copy\n",
      "  df_landuse_suitability_index_2['A_IEW'].loc[(df_landuse_suitability_index_2['A_IEW'] > 0) & (df_landuse_suitability_index_2['ADM1_TH'] == i)] = feedstockpergrid\n",
      "C:\\Users\\basna\\AppData\\Local\\Temp\\ipykernel_19316\\3465189343.py:23: SettingWithCopyWarning: \n",
      "A value is trying to be set on a copy of a slice from a DataFrame\n",
      "\n",
      "See the caveats in the documentation: https://pandas.pydata.org/pandas-docs/stable/user_guide/indexing.html#returning-a-view-versus-a-copy\n",
      "  df_landuse_suitability_index_2['A_IEW'].loc[(df_landuse_suitability_index_2['A_IEW'] > 0) & (df_landuse_suitability_index_2['ADM1_TH'] == i)] = feedstockpergrid\n",
      "C:\\Users\\basna\\AppData\\Local\\Temp\\ipykernel_19316\\3465189343.py:23: SettingWithCopyWarning: \n",
      "A value is trying to be set on a copy of a slice from a DataFrame\n",
      "\n",
      "See the caveats in the documentation: https://pandas.pydata.org/pandas-docs/stable/user_guide/indexing.html#returning-a-view-versus-a-copy\n",
      "  df_landuse_suitability_index_2['A_IEW'].loc[(df_landuse_suitability_index_2['A_IEW'] > 0) & (df_landuse_suitability_index_2['ADM1_TH'] == i)] = feedstockpergrid\n",
      "C:\\Users\\basna\\AppData\\Local\\Temp\\ipykernel_19316\\3465189343.py:23: SettingWithCopyWarning: \n",
      "A value is trying to be set on a copy of a slice from a DataFrame\n",
      "\n",
      "See the caveats in the documentation: https://pandas.pydata.org/pandas-docs/stable/user_guide/indexing.html#returning-a-view-versus-a-copy\n",
      "  df_landuse_suitability_index_2['A_IEW'].loc[(df_landuse_suitability_index_2['A_IEW'] > 0) & (df_landuse_suitability_index_2['ADM1_TH'] == i)] = feedstockpergrid\n",
      "C:\\Users\\basna\\AppData\\Local\\Temp\\ipykernel_19316\\3465189343.py:23: SettingWithCopyWarning: \n",
      "A value is trying to be set on a copy of a slice from a DataFrame\n",
      "\n",
      "See the caveats in the documentation: https://pandas.pydata.org/pandas-docs/stable/user_guide/indexing.html#returning-a-view-versus-a-copy\n",
      "  df_landuse_suitability_index_2['A_IEW'].loc[(df_landuse_suitability_index_2['A_IEW'] > 0) & (df_landuse_suitability_index_2['ADM1_TH'] == i)] = feedstockpergrid\n",
      "C:\\Users\\basna\\AppData\\Local\\Temp\\ipykernel_19316\\3465189343.py:23: SettingWithCopyWarning: \n",
      "A value is trying to be set on a copy of a slice from a DataFrame\n",
      "\n",
      "See the caveats in the documentation: https://pandas.pydata.org/pandas-docs/stable/user_guide/indexing.html#returning-a-view-versus-a-copy\n",
      "  df_landuse_suitability_index_2['A_IEW'].loc[(df_landuse_suitability_index_2['A_IEW'] > 0) & (df_landuse_suitability_index_2['ADM1_TH'] == i)] = feedstockpergrid\n",
      "C:\\Users\\basna\\AppData\\Local\\Temp\\ipykernel_19316\\3465189343.py:23: SettingWithCopyWarning: \n",
      "A value is trying to be set on a copy of a slice from a DataFrame\n",
      "\n",
      "See the caveats in the documentation: https://pandas.pydata.org/pandas-docs/stable/user_guide/indexing.html#returning-a-view-versus-a-copy\n",
      "  df_landuse_suitability_index_2['A_IEW'].loc[(df_landuse_suitability_index_2['A_IEW'] > 0) & (df_landuse_suitability_index_2['ADM1_TH'] == i)] = feedstockpergrid\n"
     ]
    },
    {
     "name": "stdout",
     "output_type": "stream",
     "text": [
      "total A_IEW =  6477.520000000015\n"
     ]
    },
    {
     "name": "stderr",
     "output_type": "stream",
     "text": [
      "C:\\Users\\basna\\AppData\\Local\\Temp\\ipykernel_19316\\3465189343.py:23: SettingWithCopyWarning: \n",
      "A value is trying to be set on a copy of a slice from a DataFrame\n",
      "\n",
      "See the caveats in the documentation: https://pandas.pydata.org/pandas-docs/stable/user_guide/indexing.html#returning-a-view-versus-a-copy\n",
      "  df_landuse_suitability_index_2['A_IEW'].loc[(df_landuse_suitability_index_2['A_IEW'] > 0) & (df_landuse_suitability_index_2['ADM1_TH'] == i)] = feedstockpergrid\n"
     ]
    }
   ],
   "source": [
    "## A_BGWW ###\n",
    "for i in list_province:\n",
    "    totalareaprovince = df_landuse_suitability_index_2['A_BGWW'].loc[(df_landuse_suitability_index_2['A_BGWW'] > 0) &(df_landuse_suitability_index_2['ADM1_TH'] == i)].sum()\n",
    "    feedstockpergrid = (feedstock['ศักยภาพพลังงานทดแทน (ktoe)'].loc[(feedstock['จังหวัด'] == i) & (feedstock['แหล่งพลังงานหลัก'] == 'ก๊าซชีวภาพ')].values[0]) / totalareaprovince\n",
    "    df_landuse_suitability_index_2['A_BGWW'].loc[(df_landuse_suitability_index_2['A_BGWW'] > 0) & (df_landuse_suitability_index_2['ADM1_TH'] == i)] = feedstockpergrid\n",
    "    # print(i, totalareaprovince, feedstockpergrid)\n",
    "\n",
    "print(\"total A_BGWW = \", df_landuse_suitability_index_2['A_BGWW'].sum())\n",
    "\n",
    "## A_MSW ###\n",
    "for i in list_province:\n",
    "    totalareaprovince = df_landuse_suitability_index_2['A_MSW'].loc[(df_landuse_suitability_index_2['A_MSW'] > 0) &(df_landuse_suitability_index_2['ADM1_TH'] == i)].sum()\n",
    "    feedstockpergrid = (feedstock['ศักยภาพพลังงานทดแทน (ktoe)'].loc[(feedstock['จังหวัด'] == i) & (feedstock['แหล่งพลังงานหลัก'] == 'ขยะ')].values[0]) / totalareaprovince\n",
    "    df_landuse_suitability_index_2['A_MSW'].loc[(df_landuse_suitability_index_2['A_MSW'] > 0) & (df_landuse_suitability_index_2['ADM1_TH'] == i)] = feedstockpergrid\n",
    "    # print(i, totalareaprovince, feedstockpergrid)\n",
    "\n",
    "print(\"total A_MSW = \", df_landuse_suitability_index_2['A_MSW'].sum())\n",
    "\n",
    "## A_IEW ###\n",
    "for i in list_province:\n",
    "    totalareaprovince = df_landuse_suitability_index_2['A_IEW'].loc[(df_landuse_suitability_index_2['A_IEW'] > 0) &(df_landuse_suitability_index_2['ADM1_TH'] == i)].sum()\n",
    "    feedstockpergrid = (feedstock['ศักยภาพพลังงานทดแทน (ktoe)'].loc[(feedstock['จังหวัด'] == i) & (feedstock['แหล่งพลังงานหลัก'] == 'ขยะ')].values[0]) / totalareaprovince\n",
    "    df_landuse_suitability_index_2['A_IEW'].loc[(df_landuse_suitability_index_2['A_IEW'] > 0) & (df_landuse_suitability_index_2['ADM1_TH'] == i)] = feedstockpergrid\n",
    "    # print(i, totalareaprovince, feedstockpergrid)\n",
    "\n",
    "print(\"total A_IEW = \", df_landuse_suitability_index_2['A_IEW'].sum())"
   ]
  },
  {
   "cell_type": "code",
   "execution_count": 16,
   "metadata": {},
   "outputs": [
    {
     "name": "stdout",
     "output_type": "stream",
     "text": [
      "                lat         lon  lccs_class  SI_BGEC  SI_Biomass  SI_Solar  \\\n",
      "0          5.615278   97.345833           0        0           0         0   \n",
      "1          5.615278   97.348611           0        0           0         0   \n",
      "2          5.615278   97.351389           0        0           0         0   \n",
      "3          5.615278   97.354167           0        0           0         0   \n",
      "4          5.615278   97.356944           0        0           0         0   \n",
      "...             ...         ...         ...      ...         ...       ...   \n",
      "15957805  20.462500  105.623611           0        0           0         0   \n",
      "15957806  20.462500  105.626389           0        0           0         0   \n",
      "15957807  20.462500  105.629167           0        0           0         0   \n",
      "15957808  20.462500  105.631944           0        0           0         0   \n",
      "15957809  20.462500  105.634722           0        0           0         0   \n",
      "\n",
      "          SI_Wind  SI_BGWW  SI_MSW  SI_IEW    ADM1_EN ADM1_TH  A_BGEC  \\\n",
      "0               0        0       0       0     Phuket  ภูเก็ต     0.0   \n",
      "1               0        0       0       0     Phuket  ภูเก็ต     0.0   \n",
      "2               0        0       0       0     Phuket  ภูเก็ต     0.0   \n",
      "3               0        0       0       0     Phuket  ภูเก็ต     0.0   \n",
      "4               0        0       0       0     Phuket  ภูเก็ต     0.0   \n",
      "...           ...      ...     ...     ...        ...     ...     ...   \n",
      "15957805        0        0       0       0  Bueng Kan  บึงกาฬ     0.0   \n",
      "15957806        0        0       0       0  Bueng Kan  บึงกาฬ     0.0   \n",
      "15957807        0        0       0       0  Bueng Kan  บึงกาฬ     0.0   \n",
      "15957808        0        0       0       0  Bueng Kan  บึงกาฬ     0.0   \n",
      "15957809        0        0       0       0  Bueng Kan  บึงกาฬ     0.0   \n",
      "\n",
      "          A_Biomass  A_BGWW  A_MSW  A_IEW  \n",
      "0               0.0     0.0    0.0    0.0  \n",
      "1               0.0     0.0    0.0    0.0  \n",
      "2               0.0     0.0    0.0    0.0  \n",
      "3               0.0     0.0    0.0    0.0  \n",
      "4               0.0     0.0    0.0    0.0  \n",
      "...             ...     ...    ...    ...  \n",
      "15957805        0.0     0.0    0.0    0.0  \n",
      "15957806        0.0     0.0    0.0    0.0  \n",
      "15957807        0.0     0.0    0.0    0.0  \n",
      "15957808        0.0     0.0    0.0    0.0  \n",
      "15957809        0.0     0.0    0.0    0.0  \n",
      "\n",
      "[15957810 rows x 17 columns]\n"
     ]
    }
   ],
   "source": [
    "print(df_landuse_suitability_index_2)"
   ]
  },
  {
   "cell_type": "code",
   "execution_count": 17,
   "metadata": {},
   "outputs": [
    {
     "ename": "PermissionError",
     "evalue": "[Errno 13] Permission denied: 'c:\\\\Workstation\\\\REPowerPlant_Siting\\\\Output\\\\xr_SI_Landcover.nc'",
     "output_type": "error",
     "traceback": [
      "\u001b[1;31m---------------------------------------------------------------------------\u001b[0m",
      "\u001b[1;31mKeyError\u001b[0m                                  Traceback (most recent call last)",
      "File \u001b[1;32m~\\AppData\\Roaming\\Python\\Python311\\site-packages\\xarray\\backends\\file_manager.py:211\u001b[0m, in \u001b[0;36mCachingFileManager._acquire_with_cache_info\u001b[1;34m(self, needs_lock)\u001b[0m\n\u001b[0;32m    210\u001b[0m \u001b[38;5;28;01mtry\u001b[39;00m:\n\u001b[1;32m--> 211\u001b[0m     file \u001b[38;5;241m=\u001b[39m \u001b[38;5;28;43mself\u001b[39;49m\u001b[38;5;241;43m.\u001b[39;49m\u001b[43m_cache\u001b[49m\u001b[43m[\u001b[49m\u001b[38;5;28;43mself\u001b[39;49m\u001b[38;5;241;43m.\u001b[39;49m\u001b[43m_key\u001b[49m\u001b[43m]\u001b[49m\n\u001b[0;32m    212\u001b[0m \u001b[38;5;28;01mexcept\u001b[39;00m \u001b[38;5;167;01mKeyError\u001b[39;00m:\n",
      "File \u001b[1;32m~\\AppData\\Roaming\\Python\\Python311\\site-packages\\xarray\\backends\\lru_cache.py:56\u001b[0m, in \u001b[0;36mLRUCache.__getitem__\u001b[1;34m(self, key)\u001b[0m\n\u001b[0;32m     55\u001b[0m \u001b[38;5;28;01mwith\u001b[39;00m \u001b[38;5;28mself\u001b[39m\u001b[38;5;241m.\u001b[39m_lock:\n\u001b[1;32m---> 56\u001b[0m     value \u001b[38;5;241m=\u001b[39m \u001b[38;5;28;43mself\u001b[39;49m\u001b[38;5;241;43m.\u001b[39;49m\u001b[43m_cache\u001b[49m\u001b[43m[\u001b[49m\u001b[43mkey\u001b[49m\u001b[43m]\u001b[49m\n\u001b[0;32m     57\u001b[0m     \u001b[38;5;28mself\u001b[39m\u001b[38;5;241m.\u001b[39m_cache\u001b[38;5;241m.\u001b[39mmove_to_end(key)\n",
      "\u001b[1;31mKeyError\u001b[0m: [<class 'netCDF4._netCDF4.Dataset'>, ('c:\\\\Workstation\\\\REPowerPlant_Siting\\\\Output\\\\xr_SI_Landcover.nc',), 'a', (('clobber', True), ('diskless', False), ('format', 'NETCDF4'), ('persist', False)), '4d11fc05-cc1c-48fe-bf2f-13e0fc6bb81c']",
      "\nDuring handling of the above exception, another exception occurred:\n",
      "\u001b[1;31mPermissionError\u001b[0m                           Traceback (most recent call last)",
      "Cell \u001b[1;32mIn[17], line 4\u001b[0m\n\u001b[0;32m      2\u001b[0m df_landuse_suitability_index_2 \u001b[38;5;241m=\u001b[39m df_landuse_suitability_index_2\u001b[38;5;241m.\u001b[39mset_index([\u001b[38;5;124m'\u001b[39m\u001b[38;5;124mlat\u001b[39m\u001b[38;5;124m'\u001b[39m, \u001b[38;5;124m'\u001b[39m\u001b[38;5;124mlon\u001b[39m\u001b[38;5;124m'\u001b[39m])\n\u001b[0;32m      3\u001b[0m xr_areafeedstock \u001b[38;5;241m=\u001b[39m xr\u001b[38;5;241m.\u001b[39mDataset\u001b[38;5;241m.\u001b[39mfrom_dataframe(df_landuse_suitability_index_2)\n\u001b[1;32m----> 4\u001b[0m \u001b[43mxr_areafeedstock\u001b[49m\u001b[38;5;241;43m.\u001b[39;49m\u001b[43mto_netcdf\u001b[49m\u001b[43m(\u001b[49m\u001b[43mpath\u001b[49m\u001b[38;5;241;43m=\u001b[39;49m\u001b[38;5;124;43m'\u001b[39;49m\u001b[38;5;124;43mOutput\u001b[39;49m\u001b[38;5;130;43;01m\\\\\u001b[39;49;00m\u001b[38;5;124;43mxr_SI_Landcover.nc\u001b[39;49m\u001b[38;5;124;43m'\u001b[39;49m\u001b[43m)\u001b[49m\n\u001b[0;32m      5\u001b[0m \u001b[38;5;28mprint\u001b[39m(xr_areafeedstock)\n",
      "File \u001b[1;32m~\\AppData\\Roaming\\Python\\Python311\\site-packages\\xarray\\core\\dataset.py:2252\u001b[0m, in \u001b[0;36mDataset.to_netcdf\u001b[1;34m(self, path, mode, format, group, engine, encoding, unlimited_dims, compute, invalid_netcdf)\u001b[0m\n\u001b[0;32m   2249\u001b[0m     encoding \u001b[38;5;241m=\u001b[39m {}\n\u001b[0;32m   2250\u001b[0m \u001b[38;5;28;01mfrom\u001b[39;00m \u001b[38;5;21;01mxarray\u001b[39;00m\u001b[38;5;21;01m.\u001b[39;00m\u001b[38;5;21;01mbackends\u001b[39;00m\u001b[38;5;21;01m.\u001b[39;00m\u001b[38;5;21;01mapi\u001b[39;00m \u001b[38;5;28;01mimport\u001b[39;00m to_netcdf\n\u001b[1;32m-> 2252\u001b[0m \u001b[38;5;28;01mreturn\u001b[39;00m \u001b[43mto_netcdf\u001b[49m\u001b[43m(\u001b[49m\u001b[43m  \u001b[49m\u001b[38;5;66;43;03m# type: ignore  # mypy cannot resolve the overloads:(\u001b[39;49;00m\n\u001b[0;32m   2253\u001b[0m \u001b[43m    \u001b[49m\u001b[38;5;28;43mself\u001b[39;49m\u001b[43m,\u001b[49m\n\u001b[0;32m   2254\u001b[0m \u001b[43m    \u001b[49m\u001b[43mpath\u001b[49m\u001b[43m,\u001b[49m\n\u001b[0;32m   2255\u001b[0m \u001b[43m    \u001b[49m\u001b[43mmode\u001b[49m\u001b[38;5;241;43m=\u001b[39;49m\u001b[43mmode\u001b[49m\u001b[43m,\u001b[49m\n\u001b[0;32m   2256\u001b[0m \u001b[43m    \u001b[49m\u001b[38;5;28;43mformat\u001b[39;49m\u001b[38;5;241;43m=\u001b[39;49m\u001b[38;5;28;43mformat\u001b[39;49m\u001b[43m,\u001b[49m\n\u001b[0;32m   2257\u001b[0m \u001b[43m    \u001b[49m\u001b[43mgroup\u001b[49m\u001b[38;5;241;43m=\u001b[39;49m\u001b[43mgroup\u001b[49m\u001b[43m,\u001b[49m\n\u001b[0;32m   2258\u001b[0m \u001b[43m    \u001b[49m\u001b[43mengine\u001b[49m\u001b[38;5;241;43m=\u001b[39;49m\u001b[43mengine\u001b[49m\u001b[43m,\u001b[49m\n\u001b[0;32m   2259\u001b[0m \u001b[43m    \u001b[49m\u001b[43mencoding\u001b[49m\u001b[38;5;241;43m=\u001b[39;49m\u001b[43mencoding\u001b[49m\u001b[43m,\u001b[49m\n\u001b[0;32m   2260\u001b[0m \u001b[43m    \u001b[49m\u001b[43munlimited_dims\u001b[49m\u001b[38;5;241;43m=\u001b[39;49m\u001b[43munlimited_dims\u001b[49m\u001b[43m,\u001b[49m\n\u001b[0;32m   2261\u001b[0m \u001b[43m    \u001b[49m\u001b[43mcompute\u001b[49m\u001b[38;5;241;43m=\u001b[39;49m\u001b[43mcompute\u001b[49m\u001b[43m,\u001b[49m\n\u001b[0;32m   2262\u001b[0m \u001b[43m    \u001b[49m\u001b[43mmultifile\u001b[49m\u001b[38;5;241;43m=\u001b[39;49m\u001b[38;5;28;43;01mFalse\u001b[39;49;00m\u001b[43m,\u001b[49m\n\u001b[0;32m   2263\u001b[0m \u001b[43m    \u001b[49m\u001b[43minvalid_netcdf\u001b[49m\u001b[38;5;241;43m=\u001b[39;49m\u001b[43minvalid_netcdf\u001b[49m\u001b[43m,\u001b[49m\n\u001b[0;32m   2264\u001b[0m \u001b[43m\u001b[49m\u001b[43m)\u001b[49m\n",
      "File \u001b[1;32m~\\AppData\\Roaming\\Python\\Python311\\site-packages\\xarray\\backends\\api.py:1229\u001b[0m, in \u001b[0;36mto_netcdf\u001b[1;34m(dataset, path_or_file, mode, format, group, engine, encoding, unlimited_dims, compute, multifile, invalid_netcdf)\u001b[0m\n\u001b[0;32m   1225\u001b[0m     \u001b[38;5;28;01melse\u001b[39;00m:\n\u001b[0;32m   1226\u001b[0m         \u001b[38;5;28;01mraise\u001b[39;00m \u001b[38;5;167;01mValueError\u001b[39;00m(\n\u001b[0;32m   1227\u001b[0m             \u001b[38;5;124mf\u001b[39m\u001b[38;5;124m\"\u001b[39m\u001b[38;5;124munrecognized option \u001b[39m\u001b[38;5;124m'\u001b[39m\u001b[38;5;124minvalid_netcdf\u001b[39m\u001b[38;5;124m'\u001b[39m\u001b[38;5;124m for engine \u001b[39m\u001b[38;5;132;01m{\u001b[39;00mengine\u001b[38;5;132;01m}\u001b[39;00m\u001b[38;5;124m\"\u001b[39m\n\u001b[0;32m   1228\u001b[0m         )\n\u001b[1;32m-> 1229\u001b[0m store \u001b[38;5;241m=\u001b[39m \u001b[43mstore_open\u001b[49m\u001b[43m(\u001b[49m\u001b[43mtarget\u001b[49m\u001b[43m,\u001b[49m\u001b[43m \u001b[49m\u001b[43mmode\u001b[49m\u001b[43m,\u001b[49m\u001b[43m \u001b[49m\u001b[38;5;28;43mformat\u001b[39;49m\u001b[43m,\u001b[49m\u001b[43m \u001b[49m\u001b[43mgroup\u001b[49m\u001b[43m,\u001b[49m\u001b[43m \u001b[49m\u001b[38;5;241;43m*\u001b[39;49m\u001b[38;5;241;43m*\u001b[39;49m\u001b[43mkwargs\u001b[49m\u001b[43m)\u001b[49m\n\u001b[0;32m   1231\u001b[0m \u001b[38;5;28;01mif\u001b[39;00m unlimited_dims \u001b[38;5;129;01mis\u001b[39;00m \u001b[38;5;28;01mNone\u001b[39;00m:\n\u001b[0;32m   1232\u001b[0m     unlimited_dims \u001b[38;5;241m=\u001b[39m dataset\u001b[38;5;241m.\u001b[39mencoding\u001b[38;5;241m.\u001b[39mget(\u001b[38;5;124m\"\u001b[39m\u001b[38;5;124munlimited_dims\u001b[39m\u001b[38;5;124m\"\u001b[39m, \u001b[38;5;28;01mNone\u001b[39;00m)\n",
      "File \u001b[1;32m~\\AppData\\Roaming\\Python\\Python311\\site-packages\\xarray\\backends\\netCDF4_.py:400\u001b[0m, in \u001b[0;36mNetCDF4DataStore.open\u001b[1;34m(cls, filename, mode, format, group, clobber, diskless, persist, lock, lock_maker, autoclose)\u001b[0m\n\u001b[0;32m    394\u001b[0m kwargs \u001b[38;5;241m=\u001b[39m \u001b[38;5;28mdict\u001b[39m(\n\u001b[0;32m    395\u001b[0m     clobber\u001b[38;5;241m=\u001b[39mclobber, diskless\u001b[38;5;241m=\u001b[39mdiskless, persist\u001b[38;5;241m=\u001b[39mpersist, \u001b[38;5;28mformat\u001b[39m\u001b[38;5;241m=\u001b[39m\u001b[38;5;28mformat\u001b[39m\n\u001b[0;32m    396\u001b[0m )\n\u001b[0;32m    397\u001b[0m manager \u001b[38;5;241m=\u001b[39m CachingFileManager(\n\u001b[0;32m    398\u001b[0m     netCDF4\u001b[38;5;241m.\u001b[39mDataset, filename, mode\u001b[38;5;241m=\u001b[39mmode, kwargs\u001b[38;5;241m=\u001b[39mkwargs\n\u001b[0;32m    399\u001b[0m )\n\u001b[1;32m--> 400\u001b[0m \u001b[38;5;28;01mreturn\u001b[39;00m \u001b[38;5;28;43mcls\u001b[39;49m\u001b[43m(\u001b[49m\u001b[43mmanager\u001b[49m\u001b[43m,\u001b[49m\u001b[43m \u001b[49m\u001b[43mgroup\u001b[49m\u001b[38;5;241;43m=\u001b[39;49m\u001b[43mgroup\u001b[49m\u001b[43m,\u001b[49m\u001b[43m \u001b[49m\u001b[43mmode\u001b[49m\u001b[38;5;241;43m=\u001b[39;49m\u001b[43mmode\u001b[49m\u001b[43m,\u001b[49m\u001b[43m \u001b[49m\u001b[43mlock\u001b[49m\u001b[38;5;241;43m=\u001b[39;49m\u001b[43mlock\u001b[49m\u001b[43m,\u001b[49m\u001b[43m \u001b[49m\u001b[43mautoclose\u001b[49m\u001b[38;5;241;43m=\u001b[39;49m\u001b[43mautoclose\u001b[49m\u001b[43m)\u001b[49m\n",
      "File \u001b[1;32m~\\AppData\\Roaming\\Python\\Python311\\site-packages\\xarray\\backends\\netCDF4_.py:347\u001b[0m, in \u001b[0;36mNetCDF4DataStore.__init__\u001b[1;34m(self, manager, group, mode, lock, autoclose)\u001b[0m\n\u001b[0;32m    345\u001b[0m \u001b[38;5;28mself\u001b[39m\u001b[38;5;241m.\u001b[39m_group \u001b[38;5;241m=\u001b[39m group\n\u001b[0;32m    346\u001b[0m \u001b[38;5;28mself\u001b[39m\u001b[38;5;241m.\u001b[39m_mode \u001b[38;5;241m=\u001b[39m mode\n\u001b[1;32m--> 347\u001b[0m \u001b[38;5;28mself\u001b[39m\u001b[38;5;241m.\u001b[39mformat \u001b[38;5;241m=\u001b[39m \u001b[38;5;28;43mself\u001b[39;49m\u001b[38;5;241;43m.\u001b[39;49m\u001b[43mds\u001b[49m\u001b[38;5;241m.\u001b[39mdata_model\n\u001b[0;32m    348\u001b[0m \u001b[38;5;28mself\u001b[39m\u001b[38;5;241m.\u001b[39m_filename \u001b[38;5;241m=\u001b[39m \u001b[38;5;28mself\u001b[39m\u001b[38;5;241m.\u001b[39mds\u001b[38;5;241m.\u001b[39mfilepath()\n\u001b[0;32m    349\u001b[0m \u001b[38;5;28mself\u001b[39m\u001b[38;5;241m.\u001b[39mis_remote \u001b[38;5;241m=\u001b[39m is_remote_uri(\u001b[38;5;28mself\u001b[39m\u001b[38;5;241m.\u001b[39m_filename)\n",
      "File \u001b[1;32m~\\AppData\\Roaming\\Python\\Python311\\site-packages\\xarray\\backends\\netCDF4_.py:409\u001b[0m, in \u001b[0;36mNetCDF4DataStore.ds\u001b[1;34m(self)\u001b[0m\n\u001b[0;32m    407\u001b[0m \u001b[38;5;129m@property\u001b[39m\n\u001b[0;32m    408\u001b[0m \u001b[38;5;28;01mdef\u001b[39;00m \u001b[38;5;21mds\u001b[39m(\u001b[38;5;28mself\u001b[39m):\n\u001b[1;32m--> 409\u001b[0m     \u001b[38;5;28;01mreturn\u001b[39;00m \u001b[38;5;28;43mself\u001b[39;49m\u001b[38;5;241;43m.\u001b[39;49m\u001b[43m_acquire\u001b[49m\u001b[43m(\u001b[49m\u001b[43m)\u001b[49m\n",
      "File \u001b[1;32m~\\AppData\\Roaming\\Python\\Python311\\site-packages\\xarray\\backends\\netCDF4_.py:403\u001b[0m, in \u001b[0;36mNetCDF4DataStore._acquire\u001b[1;34m(self, needs_lock)\u001b[0m\n\u001b[0;32m    402\u001b[0m \u001b[38;5;28;01mdef\u001b[39;00m \u001b[38;5;21m_acquire\u001b[39m(\u001b[38;5;28mself\u001b[39m, needs_lock\u001b[38;5;241m=\u001b[39m\u001b[38;5;28;01mTrue\u001b[39;00m):\n\u001b[1;32m--> 403\u001b[0m \u001b[43m    \u001b[49m\u001b[38;5;28;43;01mwith\u001b[39;49;00m\u001b[43m \u001b[49m\u001b[38;5;28;43mself\u001b[39;49m\u001b[38;5;241;43m.\u001b[39;49m\u001b[43m_manager\u001b[49m\u001b[38;5;241;43m.\u001b[39;49m\u001b[43macquire_context\u001b[49m\u001b[43m(\u001b[49m\u001b[43mneeds_lock\u001b[49m\u001b[43m)\u001b[49m\u001b[43m \u001b[49m\u001b[38;5;28;43;01mas\u001b[39;49;00m\u001b[43m \u001b[49m\u001b[43mroot\u001b[49m\u001b[43m:\u001b[49m\n\u001b[0;32m    404\u001b[0m \u001b[43m        \u001b[49m\u001b[43mds\u001b[49m\u001b[43m \u001b[49m\u001b[38;5;241;43m=\u001b[39;49m\u001b[43m \u001b[49m\u001b[43m_nc4_require_group\u001b[49m\u001b[43m(\u001b[49m\u001b[43mroot\u001b[49m\u001b[43m,\u001b[49m\u001b[43m \u001b[49m\u001b[38;5;28;43mself\u001b[39;49m\u001b[38;5;241;43m.\u001b[39;49m\u001b[43m_group\u001b[49m\u001b[43m,\u001b[49m\u001b[43m \u001b[49m\u001b[38;5;28;43mself\u001b[39;49m\u001b[38;5;241;43m.\u001b[39;49m\u001b[43m_mode\u001b[49m\u001b[43m)\u001b[49m\n\u001b[0;32m    405\u001b[0m     \u001b[38;5;28;01mreturn\u001b[39;00m ds\n",
      "File \u001b[1;32mc:\\Program Files\\Python311\\Lib\\contextlib.py:137\u001b[0m, in \u001b[0;36m_GeneratorContextManager.__enter__\u001b[1;34m(self)\u001b[0m\n\u001b[0;32m    135\u001b[0m \u001b[38;5;28;01mdel\u001b[39;00m \u001b[38;5;28mself\u001b[39m\u001b[38;5;241m.\u001b[39margs, \u001b[38;5;28mself\u001b[39m\u001b[38;5;241m.\u001b[39mkwds, \u001b[38;5;28mself\u001b[39m\u001b[38;5;241m.\u001b[39mfunc\n\u001b[0;32m    136\u001b[0m \u001b[38;5;28;01mtry\u001b[39;00m:\n\u001b[1;32m--> 137\u001b[0m     \u001b[38;5;28;01mreturn\u001b[39;00m \u001b[38;5;28mnext\u001b[39m(\u001b[38;5;28mself\u001b[39m\u001b[38;5;241m.\u001b[39mgen)\n\u001b[0;32m    138\u001b[0m \u001b[38;5;28;01mexcept\u001b[39;00m \u001b[38;5;167;01mStopIteration\u001b[39;00m:\n\u001b[0;32m    139\u001b[0m     \u001b[38;5;28;01mraise\u001b[39;00m \u001b[38;5;167;01mRuntimeError\u001b[39;00m(\u001b[38;5;124m\"\u001b[39m\u001b[38;5;124mgenerator didn\u001b[39m\u001b[38;5;124m'\u001b[39m\u001b[38;5;124mt yield\u001b[39m\u001b[38;5;124m\"\u001b[39m) \u001b[38;5;28;01mfrom\u001b[39;00m \u001b[38;5;28;01mNone\u001b[39;00m\n",
      "File \u001b[1;32m~\\AppData\\Roaming\\Python\\Python311\\site-packages\\xarray\\backends\\file_manager.py:199\u001b[0m, in \u001b[0;36mCachingFileManager.acquire_context\u001b[1;34m(self, needs_lock)\u001b[0m\n\u001b[0;32m    196\u001b[0m \u001b[38;5;129m@contextlib\u001b[39m\u001b[38;5;241m.\u001b[39mcontextmanager\n\u001b[0;32m    197\u001b[0m \u001b[38;5;28;01mdef\u001b[39;00m \u001b[38;5;21macquire_context\u001b[39m(\u001b[38;5;28mself\u001b[39m, needs_lock\u001b[38;5;241m=\u001b[39m\u001b[38;5;28;01mTrue\u001b[39;00m):\n\u001b[0;32m    198\u001b[0m \u001b[38;5;250m    \u001b[39m\u001b[38;5;124;03m\"\"\"Context manager for acquiring a file.\"\"\"\u001b[39;00m\n\u001b[1;32m--> 199\u001b[0m     file, cached \u001b[38;5;241m=\u001b[39m \u001b[38;5;28;43mself\u001b[39;49m\u001b[38;5;241;43m.\u001b[39;49m\u001b[43m_acquire_with_cache_info\u001b[49m\u001b[43m(\u001b[49m\u001b[43mneeds_lock\u001b[49m\u001b[43m)\u001b[49m\n\u001b[0;32m    200\u001b[0m     \u001b[38;5;28;01mtry\u001b[39;00m:\n\u001b[0;32m    201\u001b[0m         \u001b[38;5;28;01myield\u001b[39;00m file\n",
      "File \u001b[1;32m~\\AppData\\Roaming\\Python\\Python311\\site-packages\\xarray\\backends\\file_manager.py:217\u001b[0m, in \u001b[0;36mCachingFileManager._acquire_with_cache_info\u001b[1;34m(self, needs_lock)\u001b[0m\n\u001b[0;32m    215\u001b[0m     kwargs \u001b[38;5;241m=\u001b[39m kwargs\u001b[38;5;241m.\u001b[39mcopy()\n\u001b[0;32m    216\u001b[0m     kwargs[\u001b[38;5;124m\"\u001b[39m\u001b[38;5;124mmode\u001b[39m\u001b[38;5;124m\"\u001b[39m] \u001b[38;5;241m=\u001b[39m \u001b[38;5;28mself\u001b[39m\u001b[38;5;241m.\u001b[39m_mode\n\u001b[1;32m--> 217\u001b[0m file \u001b[38;5;241m=\u001b[39m \u001b[38;5;28;43mself\u001b[39;49m\u001b[38;5;241;43m.\u001b[39;49m\u001b[43m_opener\u001b[49m\u001b[43m(\u001b[49m\u001b[38;5;241;43m*\u001b[39;49m\u001b[38;5;28;43mself\u001b[39;49m\u001b[38;5;241;43m.\u001b[39;49m\u001b[43m_args\u001b[49m\u001b[43m,\u001b[49m\u001b[43m \u001b[49m\u001b[38;5;241;43m*\u001b[39;49m\u001b[38;5;241;43m*\u001b[39;49m\u001b[43mkwargs\u001b[49m\u001b[43m)\u001b[49m\n\u001b[0;32m    218\u001b[0m \u001b[38;5;28;01mif\u001b[39;00m \u001b[38;5;28mself\u001b[39m\u001b[38;5;241m.\u001b[39m_mode \u001b[38;5;241m==\u001b[39m \u001b[38;5;124m\"\u001b[39m\u001b[38;5;124mw\u001b[39m\u001b[38;5;124m\"\u001b[39m:\n\u001b[0;32m    219\u001b[0m     \u001b[38;5;66;03m# ensure file doesn't get overridden when opened again\u001b[39;00m\n\u001b[0;32m    220\u001b[0m     \u001b[38;5;28mself\u001b[39m\u001b[38;5;241m.\u001b[39m_mode \u001b[38;5;241m=\u001b[39m \u001b[38;5;124m\"\u001b[39m\u001b[38;5;124ma\u001b[39m\u001b[38;5;124m\"\u001b[39m\n",
      "File \u001b[1;32msrc\\netCDF4\\_netCDF4.pyx:2464\u001b[0m, in \u001b[0;36mnetCDF4._netCDF4.Dataset.__init__\u001b[1;34m()\u001b[0m\n",
      "File \u001b[1;32msrc\\netCDF4\\_netCDF4.pyx:2027\u001b[0m, in \u001b[0;36mnetCDF4._netCDF4._ensure_nc_success\u001b[1;34m()\u001b[0m\n",
      "\u001b[1;31mPermissionError\u001b[0m: [Errno 13] Permission denied: 'c:\\\\Workstation\\\\REPowerPlant_Siting\\\\Output\\\\xr_SI_Landcover.nc'"
     ]
    }
   ],
   "source": [
    "df_landuse_suitability_index_2 = df_landuse_suitability_index_2.drop(columns='ADM1_TH')\n",
    "df_landuse_suitability_index_2 = df_landuse_suitability_index_2.set_index(['lat', 'lon'])\n",
    "xr_areafeedstock = xr.Dataset.from_dataframe(df_landuse_suitability_index_2)\n",
    "print(xr_areafeedstock)"
   ]
  },
  {
   "cell_type": "code",
   "execution_count": 22,
   "metadata": {},
   "outputs": [],
   "source": [
    "xr_areafeedstock.to_netcdf(path='Output\\\\xr_SI_Landcover.nc')"
   ]
  },
  {
   "cell_type": "code",
   "execution_count": 23,
   "metadata": {},
   "outputs": [
    {
     "data": {
      "text/plain": [
       "<matplotlib.collections.QuadMesh at 0x2783a0f5310>"
      ]
     },
     "execution_count": 23,
     "metadata": {},
     "output_type": "execute_result"
    },
    {
     "data": {
      "image/png": "[encoded data removed]",
      "text/plain": [
       "<Figure size 640x480 with 2 Axes>"
      ]
     },
     "metadata": {},
     "output_type": "display_data"
    }
   ],
   "source": [
    "xr_areafeedstock['A_BGEC'].plot()"
   ]
  },
  {
   "cell_type": "code",
   "execution_count": 24,
   "metadata": {},
   "outputs": [
    {
     "name": "stderr",
     "output_type": "stream",
     "text": [
      "C:\\Users\\basna\\AppData\\Roaming\\Python\\Python311\\site-packages\\pyproj\\crs\\crs.py:141: FutureWarning: '+init=<authority>:<code>' syntax is deprecated. '<authority>:<code>' is the preferred initialization method. When making the change, be mindful of axis order changes: https://pyproj4.github.io/pyproj/stable/gotchas.html#axis-order-changes-in-proj-6\n",
      "  in_crs_string = _prepare_from_proj_string(in_crs_string)\n"
     ]
    },
    {
     "name": "stdout",
     "output_type": "stream",
     "text": [
      "(101.74962536000004, 15.63262508400004, 103.18446939800003, 17.08820429900004)\n",
      "<xarray.Dataset>\n",
      "Dimensions:     (lat: 524, lon: 516)\n",
      "Coordinates:\n",
      "  * lat         (lat) float64 15.63 15.64 15.64 15.64 ... 17.08 17.08 17.09\n",
      "  * lon         (lon) float64 101.8 101.8 101.8 101.8 ... 103.2 103.2 103.2\n",
      "Data variables: (12/14)\n",
      "    lccs_class  (lat, lon) uint8 10 10 10 10 10 10 10 ... 10 10 10 10 10 10 10\n",
      "    SI_BGEC     (lat, lon) int64 0 0 0 0 0 2 2 2 2 2 2 ... 0 0 0 0 0 0 0 0 0 2 2\n",
      "    SI_Biomass  (lat, lon) int64 0 0 0 0 0 2 2 2 2 2 2 ... 0 0 0 0 0 0 0 0 0 2 2\n",
      "    SI_Solar    (lat, lon) int64 0 0 0 0 0 2 2 2 2 2 2 ... 0 0 0 0 0 0 0 0 0 2 2\n",
      "    SI_Wind     (lat, lon) int64 0 0 0 0 0 2 2 2 2 2 2 ... 0 0 0 0 0 0 0 0 0 2 2\n",
      "    SI_BGWW     (lat, lon) int64 0 0 0 0 0 2 2 2 2 2 2 ... 0 0 0 0 0 0 0 0 0 2 2\n",
      "    ...          ...\n",
      "    ADM1_EN     (lat, lon) object 'Chaiyaphum' 'Chaiyaphum' ... 'Udon Thani'\n",
      "    A_BGEC      (lat, lon) float64 0.0007224 0.0007224 ... 0.0005473 0.0005473\n",
      "    A_Biomass   (lat, lon) float64 0.009437 0.009437 0.009437 ... 0.016 0.016\n",
      "    A_BGWW      (lat, lon) float64 0.0 0.0 0.0 0.0 0.0 ... 0.0 0.0 0.0 0.0 0.0\n",
      "    A_MSW       (lat, lon) float64 0.0 0.0 0.0 0.0 0.0 ... 0.0 0.0 0.0 0.0 0.0\n",
      "    A_IEW       (lat, lon) float64 0.0 0.0 0.0 0.0 0.0 ... 0.0 0.0 0.0 0.0 0.0\n"
     ]
    },
    {
     "data": {
      "text/plain": [
       "<matplotlib.collections.QuadMesh at 0x2782e028690>"
      ]
     },
     "execution_count": 24,
     "metadata": {},
     "output_type": "execute_result"
    },
    {
     "data": {
      "image/png": "[encoded data removed]",
      "text/plain": [
       "<Figure size 1000x1000 with 2 Axes>"
      ]
     },
     "metadata": {},
     "output_type": "display_data"
    }
   ],
   "source": [
    "thailandmap = gpd.read_file('Data\\\\tha_admbnda_adm1_rtsd_20220121\\\\tha_admbnda_adm1_rtsd_20220121.shp')\n",
    "thailandmap.crs = {'init': 'epsg:4326'}\n",
    "\n",
    "province = 'Khon Kaen'\n",
    "province = thailandmap.loc[thailandmap['ADM1_EN'] == province]\n",
    "print(province.unary_union.bounds)\n",
    "min_lon = province.unary_union.bounds[0]\n",
    "max_lon = province.unary_union.bounds[2]\n",
    "max_lat = province.unary_union.bounds[3]\n",
    "min_lat = province.unary_union.bounds[1]\n",
    "\n",
    "xr_buffer = xr_areafeedstock.sel(lat=slice(min_lat,max_lat), lon=slice(min_lon,max_lon))\n",
    "print(xr_buffer)\n",
    "\n",
    "fig, ax = plt.subplots(figsize=(10,10))\n",
    "province.plot(ax = ax, color='none', edgecolor = 'black', zorder = 0)\n",
    "xr_buffer['A_MSW'].plot(ax = ax,zorder = 1,cmap=\"Blues\")"
   ]
  }
 ],
 "metadata": {
  "kernelspec": {
   "display_name": "Python 3",
   "language": "python",
   "name": "python3"
  },
  "language_info": {
   "codemirror_mode": {
    "name": "ipython",
    "version": 3
   },
   "file_extension": ".py",
   "mimetype": "text/x-python",
   "name": "python",
   "nbconvert_exporter": "python",
   "pygments_lexer": "ipython3",
   "version": "3.11.5"
  }
 },
 "nbformat": 4,
 "nbformat_minor": 2
}
